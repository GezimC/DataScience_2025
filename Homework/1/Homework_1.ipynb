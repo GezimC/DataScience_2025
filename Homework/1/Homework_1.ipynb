{
 "cells": [
  {
   "cell_type": "markdown",
   "id": "c6cdff87",
   "metadata": {},
   "source": "# 🔥 Homework 1: Python & NumPy"
  },
  {
   "metadata": {},
   "cell_type": "markdown",
   "source": "### 0️⃣ Data Structures, Basics",
   "id": "fb88a268b9d62514"
  },
  {
   "metadata": {},
   "cell_type": "code",
   "outputs": [],
   "execution_count": null,
   "source": [
    "# Given this nest dictionary grab the word \"hello\"\n",
    "d = {'k1':[1,2,3,{'tricky':['test','apple','inception',{'target':[1,2,3,'hello']}]}]}"
   ],
   "id": "e4d3af1c2f47045c"
  },
  {
   "metadata": {},
   "cell_type": "code",
   "outputs": [],
   "execution_count": null,
   "source": "",
   "id": "b02d7f3428d5f92a"
  },
  {
   "cell_type": "markdown",
   "id": "b71b2b70",
   "metadata": {},
   "source": "### 1️⃣ Functions , Function Scope & Variable Shadowing"
  },
  {
   "metadata": {},
   "cell_type": "code",
   "outputs": [],
   "execution_count": null,
   "source": [
    "# Task 1: Fix the issue in the following function so that the `modify()` function does NOT modify the global `x`.\n",
    "x = 10\n",
    "\n",
    "def modify():\n",
    "    x = x + 5  # Fix this\n",
    "    print(x)\n",
    "\n",
    "modify()\n",
    "print(x)  # Should still print 10"
   ],
   "id": "d2ceab2e95f6b95f"
  },
  {
   "metadata": {},
   "cell_type": "code",
   "outputs": [],
   "execution_count": null,
   "source": "",
   "id": "f2566d87c4e3ca85"
  },
  {
   "metadata": {},
   "cell_type": "code",
   "outputs": [],
   "execution_count": null,
   "source": [
    "# Task 2:\n",
    "# Create a function which takes as parameter a list, and a target value\n",
    "# it returns the combination of two list numbers which sums to target value\n",
    "# if list = [1,2,3] and target = 4, it should return (1,3)"
   ],
   "id": "bc2d5eaf26ccf905"
  },
  {
   "metadata": {},
   "cell_type": "code",
   "outputs": [],
   "execution_count": null,
   "source": "",
   "id": "9047a3a112f645f8"
  },
  {
   "cell_type": "markdown",
   "id": "78c6c7a8",
   "metadata": {},
   "source": [
    "### 2️⃣ Working with `datetime`"
   ]
  },
  {
   "cell_type": "code",
   "execution_count": null,
   "id": "e66f7b63",
   "metadata": {},
   "outputs": [],
   "source": [
    "# Task:\n",
    "# 1. Convert the string \"2024-03-11 14:30:00\" to a `datetime` object\n",
    "# 2. Add 5 days, 3 hours, and 45 minutes\n",
    "# 3. Extract and print only the day of the week\n"
   ]
  },
  {
   "metadata": {},
   "cell_type": "code",
   "outputs": [],
   "execution_count": null,
   "source": "",
   "id": "966d376c819b8a79"
  },
  {
   "metadata": {},
   "cell_type": "markdown",
   "source": "### 3️⃣ map(), filter()",
   "id": "af9a4806d0277065"
  },
  {
   "metadata": {},
   "cell_type": "code",
   "outputs": [],
   "execution_count": null,
   "source": [
    "# 1. Create a list of integers: [5, 15, 25, 35, 45]\n",
    "# 2. Use the filter() function to remove numbers that are not divisible by 5.\n",
    "# 3. Then, use map() to subtract 2 from each remaining number.\n",
    "# 4. Convert the result back into a list and print it."
   ],
   "id": "2459e9304e3f06ed"
  },
  {
   "metadata": {},
   "cell_type": "code",
   "outputs": [],
   "execution_count": null,
   "source": "",
   "id": "1dfcf643a9dd40d2"
  },
  {
   "metadata": {},
   "cell_type": "code",
   "outputs": [],
   "execution_count": null,
   "source": "",
   "id": "f4d4713f95626c54"
  },
  {
   "cell_type": "markdown",
   "id": "afe3f480",
   "metadata": {},
   "source": [
    "### 4️⃣ NumPy Fancy Indexing & Selection"
   ]
  },
  {
   "cell_type": "code",
   "execution_count": null,
   "id": "d49b549c",
   "metadata": {},
   "outputs": [],
   "source": [
    "# Task: Given the matrix below, extract:\n",
    "# 1. Rows 4, 3, 1\n",
    "# 2. Columns 4 and 2\n",
    "# 3. The elements at positions (0,0), (1,2), (3,4).\n",
    "# 4. All values greater than 5\n",
    "\n",
    "import numpy as np\n",
    "\n",
    "matrix = np.array([\n",
    "    [1,  5,  9,  4],\n",
    "    [7,  2,  8,  6],\n",
    "    [3,  8,  5,  9],\n",
    "    [6,  7,  2,  3],\n",
    "    [4,  9,  6,  1]\n",
    "])\n",
    "\n"
   ]
  },
  {
   "cell_type": "markdown",
   "id": "b446c4e7",
   "metadata": {},
   "source": [
    "### 5️⃣ NumPy Broadcasting & Operations"
   ]
  },
  {
   "cell_type": "code",
   "execution_count": null,
   "id": "2228503a",
   "metadata": {},
   "outputs": [],
   "source": [
    "# Task: Create a 5x5 matrix filled with random integers between 10 and 50\n",
    "# Subtract the row-wise mean from each row\n",
    "# Divide all even numbers by 2 and multiply odd numbers by 3  hint: use np.where()\n",
    "# p.s row-wise (mesatarja per rresht, tu iteru neper kolona axis=1)"
   ]
  },
  {
   "cell_type": "markdown",
   "id": "f38f20cf",
   "metadata": {},
   "source": [
    "### 6️⃣ Handling Missing Data (`np.nan`)"
   ]
  },
  {
   "cell_type": "code",
   "execution_count": null,
   "id": "ea720be4",
   "metadata": {},
   "outputs": [],
   "source": [
    "\n",
    "# Task:\n",
    "# 1. Create an array: [3, np.nan, 7, 2, np.nan, 9]\n",
    "# 2. Replace NaNs with the mean of non-NaN values\n",
    "# 3. Count how many NaNs were in the array\n",
    "\n",
    "array = np.array([3, np.nan, 7, 2, np.nan, 9])\n"
   ]
  },
  {
   "cell_type": "markdown",
   "id": "2f304d49",
   "metadata": {},
   "source": [
    "### 7️⃣ Using `np.where()` for Conditional Selection"
   ]
  },
  {
   "cell_type": "code",
   "execution_count": null,
   "id": "f4ecd4b2",
   "metadata": {},
   "outputs": [],
   "source": [
    "\n",
    "# Task: Replace all values above 30°C with \"HOT\", below 20°C with \"COLD\", otherwise \"NORMAL\"\n",
    "temps = np.array([25, 30, 33, 20, 18, 15, 29, 35])\n"
   ]
  },
  {
   "cell_type": "markdown",
   "id": "bab66aee",
   "metadata": {},
   "source": [
    "### 8️⃣ Sorting and Searching"
   ]
  },
  {
   "cell_type": "code",
   "execution_count": null,
   "id": "64811b91",
   "metadata": {},
   "outputs": [],
   "source": [
    "# Task:\n",
    "# Generate an array of 20 random numbers between 1 and 100\n",
    "# Sort the array in descending order   (hint. [::-1] or np.flip())\n",
    "# Find the index of the largest even number\n",
    "\n"
   ]
  },
  {
   "cell_type": "markdown",
   "id": "f059761d",
   "metadata": {},
   "source": [
    "## 🔹 PART 3: Real-World NumPy Problem"
   ]
  },
  {
   "cell_type": "markdown",
   "id": "f523fe61",
   "metadata": {},
   "source": [
    "### 9️⃣ Advanced: Energy Consumption Anomaly Detection\n",
    "- [What is standard deviation](https://www.nlm.nih.gov/oet/ed/stats/02-900.html#:~:text=A%20standard%20deviation%20(or%20%CF%83,data%20are%20more%20spread%20out.)\n",
    "- [What is normalization formula](https://ca.indeed.com/career-advice/career-development/normalization-formula)"
   ]
  },
  {
   "cell_type": "code",
   "execution_count": null,
   "id": "9357511b",
   "metadata": {},
   "outputs": [],
   "source": [
    "# Task: You have a dataset representing daily energy consumption (kWh) for 30 days:\n",
    "# 1.Find days where consumption is above the (mean + 1.5*std) (potential anomalies)\n",
    "# 2.Replace those anomalies with the mean consumption\n",
    "# 3.Normalize the data to range [0, 1]\n",
    "\n",
    "np.random.seed(42)\n",
    "energy_data = np.random.randint(200, 600, size=30)\n",
    "\n",
    "# find mean and std\n",
    "\n",
    "\n",
    "# Anomalies: above mean + 1.5 * std\n",
    "\n",
    "\n",
    "# Replace with mean value\n",
    "\n",
    "\n",
    "# Normalize the data to range [0, 1]\n",
    "\n",
    "\n"
   ]
  }
 ],
 "metadata": {
  "kernelspec": {
   "name": "python3",
   "language": "python",
   "display_name": "Python 3 (ipykernel)"
  }
 },
 "nbformat": 4,
 "nbformat_minor": 5
}

{
 "cells": [
  {
   "metadata": {},
   "cell_type": "markdown",
   "source": [
    "## Python Scope\n",
    "- In Python, scope refers to the region where a variable or function is accessible"
   ],
   "id": "757bb6674e002769"
  },
  {
   "metadata": {},
   "cell_type": "markdown",
   "source": [
    "### 1. Local Scope\n",
    "- Variables declared inside a function are local to that function and cannot be accessed outside it."
   ],
   "id": "92c1eb08fbd08a80"
  },
  {
   "metadata": {
    "ExecuteTime": {
     "end_time": "2025-03-11T15:55:03.246135Z",
     "start_time": "2025-03-11T15:55:03.237572Z"
    }
   },
   "cell_type": "code",
   "source": [
    "def my_function():\n",
    "    x = 10  # Local variable\n",
    "    print(x)  # Accessible inside the function\n",
    "\n",
    "my_function()"
   ],
   "id": "943cd006b05247ce",
   "outputs": [
    {
     "name": "stdout",
     "output_type": "stream",
     "text": [
      "10\n"
     ]
    }
   ],
   "execution_count": 1
  },
  {
   "metadata": {},
   "cell_type": "markdown",
   "source": [
    "### 2. Enclosing (Nonlocal) Scope\n",
    "- When you have a function inside another function, the inner function can access variables from the outer function using nonlocal."
   ],
   "id": "ab36a7a63cb75d82"
  },
  {
   "metadata": {
    "ExecuteTime": {
     "end_time": "2025-03-11T15:55:50.784311Z",
     "start_time": "2025-03-11T15:55:50.777714Z"
    }
   },
   "cell_type": "code",
   "source": [
    "def outer_function():\n",
    "    y = 20  # Enclosing variable\n",
    "\n",
    "    def inner_function():\n",
    "        nonlocal y\n",
    "        y += 5  # Modifies y from the enclosing scope\n",
    "        print(y)\n",
    "\n",
    "    inner_function()\n",
    "\n",
    "outer_function()"
   ],
   "id": "44fd14bbbccf5dca",
   "outputs": [
    {
     "name": "stdout",
     "output_type": "stream",
     "text": [
      "25\n"
     ]
    }
   ],
   "execution_count": 2
  },
  {
   "metadata": {},
   "cell_type": "markdown",
   "source": [
    "### 3. Global Scope\n",
    "- Variables declared outside functions are global and accessible throughout the module."
   ],
   "id": "bb06a032130a610d"
  },
  {
   "metadata": {
    "ExecuteTime": {
     "end_time": "2025-03-11T15:56:14.122195Z",
     "start_time": "2025-03-11T15:56:14.117551Z"
    }
   },
   "cell_type": "code",
   "source": [
    "z = 30  # Global variable\n",
    "\n",
    "def my_function():\n",
    "    print(z)  # Accessible inside the function\n",
    "\n",
    "my_function()\n",
    "print(z)  # Accessible outside too"
   ],
   "id": "c6f4faf83956408a",
   "outputs": [
    {
     "name": "stdout",
     "output_type": "stream",
     "text": [
      "30\n",
      "30\n"
     ]
    }
   ],
   "execution_count": 3
  },
  {
   "metadata": {},
   "cell_type": "markdown",
   "source": "Modifying global variables inside a function requires global keyword:",
   "id": "a81979095e2c8500"
  },
  {
   "metadata": {
    "ExecuteTime": {
     "end_time": "2025-03-11T15:56:30.473345Z",
     "start_time": "2025-03-11T15:56:30.467144Z"
    }
   },
   "cell_type": "code",
   "source": [
    "a = 100\n",
    "\n",
    "def modify_global():\n",
    "    global a\n",
    "    a += 50  # Changes the global variable\n",
    "    print(a)\n",
    "\n",
    "modify_global()\n",
    "print(a)  # 150"
   ],
   "id": "20d0a92f52df4d37",
   "outputs": [
    {
     "name": "stdout",
     "output_type": "stream",
     "text": [
      "150\n",
      "150\n"
     ]
    }
   ],
   "execution_count": 4
  },
  {
   "metadata": {},
   "cell_type": "markdown",
   "source": [
    "### 4. Built-in Scope\n",
    "- Python has many built-in functions like len(), print(), etc., which are accessible from anywhere."
   ],
   "id": "b4e339aced8d98c8"
  },
  {
   "metadata": {
    "ExecuteTime": {
     "end_time": "2025-03-11T15:57:06.548786Z",
     "start_time": "2025-03-11T15:57:06.543657Z"
    }
   },
   "cell_type": "code",
   "source": "print(len(\"Hello\"))  # len() is a built-in function",
   "id": "1353274044948b23",
   "outputs": [
    {
     "name": "stdout",
     "output_type": "stream",
     "text": [
      "5\n"
     ]
    }
   ],
   "execution_count": 5
  },
  {
   "metadata": {},
   "cell_type": "markdown",
   "source": [
    "Do not overide built in functions!\n",
    "- len = 5,  will overide len(function)\n",
    "- than you will need to restart app, or \"del len\" in order to get back built in function len()"
   ],
   "id": "2d5ff63e619545fa"
  },
  {
   "metadata": {},
   "cell_type": "markdown",
   "source": [
    "## Python modules\n",
    "A module in Python is simply a .py file that contains functions, classes, and variables that can be reused in other programs. Python has built-in modules, and we can also create your own modules."
   ],
   "id": "48d78cdb99cc3263"
  },
  {
   "metadata": {},
   "cell_type": "markdown",
   "source": "### 1. Importing modules using import statement",
   "id": "bd6a33fa960fb699"
  },
  {
   "metadata": {},
   "cell_type": "markdown",
   "source": [
    "#### 1.1 Importing a Built-in Module\n",
    "Python provides many built-in modules, such as math, random, datetime, etc."
   ],
   "id": "2ae3cb31fffd5bb"
  },
  {
   "metadata": {
    "ExecuteTime": {
     "end_time": "2025-03-11T16:05:55.202137Z",
     "start_time": "2025-03-11T16:05:55.196683Z"
    }
   },
   "cell_type": "code",
   "source": [
    "import math\n",
    "\n",
    "print(math.sqrt(16))\n",
    "print(math.pi)"
   ],
   "id": "f7f49dfe27e7c50b",
   "outputs": [
    {
     "name": "stdout",
     "output_type": "stream",
     "text": [
      "4.0\n",
      "3.141592653589793\n"
     ]
    }
   ],
   "execution_count": 8
  },
  {
   "metadata": {},
   "cell_type": "markdown",
   "source": "Or we can import specific function from a module:",
   "id": "9a0ff5ff0961c679"
  },
  {
   "metadata": {
    "ExecuteTime": {
     "end_time": "2025-03-11T16:05:56.781269Z",
     "start_time": "2025-03-11T16:05:56.775137Z"
    }
   },
   "cell_type": "code",
   "source": [
    "from math import sqrt, pi\n",
    "\n",
    "print(sqrt(25))\n",
    "print(pi)"
   ],
   "id": "b09869e3831c73ff",
   "outputs": [
    {
     "name": "stdout",
     "output_type": "stream",
     "text": [
      "5.0\n",
      "3.141592653589793\n"
     ]
    }
   ],
   "execution_count": 9
  },
  {
   "metadata": {},
   "cell_type": "markdown",
   "source": "You can rename a module using as:",
   "id": "a636a1128224a805"
  },
  {
   "metadata": {
    "ExecuteTime": {
     "end_time": "2025-03-11T16:05:58.747113Z",
     "start_time": "2025-03-11T16:05:58.742770Z"
    }
   },
   "cell_type": "code",
   "source": [
    "import math as m\n",
    "\n",
    "print(m.sqrt(9))"
   ],
   "id": "68f9a398ba8b4cf9",
   "outputs": [
    {
     "name": "stdout",
     "output_type": "stream",
     "text": [
      "3.0\n"
     ]
    }
   ],
   "execution_count": 10
  },
  {
   "metadata": {},
   "cell_type": "markdown",
   "source": [
    "### 2. Creating a Custom Module\n",
    "You can create your own module by simply making a .py file. <br>\n",
    "**Example: Creating math_circle.py**"
   ],
   "id": "5997160e46d8ce24"
  },
  {
   "metadata": {
    "ExecuteTime": {
     "end_time": "2025-03-11T16:12:08.311630Z",
     "start_time": "2025-03-11T16:12:08.292009Z"
    }
   },
   "cell_type": "code",
   "source": [
    "import math_circle as mc\n",
    "\n",
    "r = 10\n",
    "circle_area = mc.area(r)\n",
    "circle_perimeter = mc.perimeter(r)\n",
    "\n",
    "print(f'Circle with radius {r}, has area of {circle_area} and perimeter: {circle_perimeter} ')"
   ],
   "id": "641d84ccaa05533",
   "outputs": [
    {
     "name": "stdout",
     "output_type": "stream",
     "text": [
      "Circle with radius 10, has area of 314.0 and perimeter: 62.800000000000004 \n"
     ]
    }
   ],
   "execution_count": 11
  },
  {
   "metadata": {},
   "cell_type": "markdown",
   "source": [
    "### 3. Finding Available Functions in a Module\n",
    "You can use dir() to list all attributes and methods of a module."
   ],
   "id": "343b7701ce6fdd4a"
  },
  {
   "metadata": {
    "ExecuteTime": {
     "end_time": "2025-03-11T16:12:47.801936Z",
     "start_time": "2025-03-11T16:12:47.796990Z"
    }
   },
   "cell_type": "code",
   "source": "print(dir(mc))",
   "id": "1ea0bdff1e064b22",
   "outputs": [
    {
     "name": "stdout",
     "output_type": "stream",
     "text": [
      "['__builtins__', '__cached__', '__doc__', '__file__', '__loader__', '__name__', '__package__', '__spec__', 'area', 'perimeter', 'pi']\n"
     ]
    }
   ],
   "execution_count": 12
  },
  {
   "metadata": {},
   "cell_type": "markdown",
   "source": [
    "### 4. Installing and Using External Modules\n",
    "Python has third-party modules that you can install using pip."
   ],
   "id": "8e631c507c367440"
  },
  {
   "metadata": {
    "ExecuteTime": {
     "end_time": "2025-03-11T16:14:57.450512Z",
     "start_time": "2025-03-11T16:14:56.447894Z"
    }
   },
   "cell_type": "code",
   "source": [
    "# Example of installing numpy\n",
    "# in console write: pip install numpy\n",
    "# then import\n",
    "import numpy as np\n",
    "array = np.array([1,2,3,4])\n",
    "print(array*2)"
   ],
   "id": "1e7f4927e89fe460",
   "outputs": [
    {
     "name": "stdout",
     "output_type": "stream",
     "text": [
      "[2 4 6 8]\n"
     ]
    }
   ],
   "execution_count": 13
  },
  {
   "metadata": {},
   "cell_type": "markdown",
   "source": [
    "## Date and Time in Python (datetime Module)\n",
    "Python's datetime module provides powerful tools for working with dates and times."
   ],
   "id": "30fc8a7fe86c732f"
  },
  {
   "metadata": {
    "ExecuteTime": {
     "end_time": "2025-03-11T20:17:44.232448Z",
     "start_time": "2025-03-11T20:17:44.227552Z"
    }
   },
   "cell_type": "code",
   "source": [
    "# Import the datetime module and display the current date:\n",
    "import datetime as d\n",
    "\n",
    "now = d.datetime.now()\n",
    "print(now)"
   ],
   "id": "34086702eb356d0c",
   "outputs": [
    {
     "name": "stdout",
     "output_type": "stream",
     "text": [
      "2025-03-11 21:17:44.230543\n"
     ]
    }
   ],
   "execution_count": 14
  },
  {
   "metadata": {
    "ExecuteTime": {
     "end_time": "2025-03-11T20:18:12.547529Z",
     "start_time": "2025-03-11T20:18:12.541538Z"
    }
   },
   "cell_type": "code",
   "source": [
    "# date part\n",
    "print(now.date())\n",
    "\n",
    "# time part\n",
    "print(now.time())"
   ],
   "id": "fa2b6c94e83378de",
   "outputs": [
    {
     "name": "stdout",
     "output_type": "stream",
     "text": [
      "2025-03-11\n",
      "21:17:44.230543\n"
     ]
    }
   ],
   "execution_count": 16
  },
  {
   "metadata": {},
   "cell_type": "markdown",
   "source": [
    "### Creating Date Objects\n",
    "- To create a date, we can use the datetime() class (constructor) of the datetime module.\n",
    "- The datetime() class requires three parameters to create a date: year, month, day.\n"
   ],
   "id": "c43e721fae7d9939"
  },
  {
   "metadata": {
    "ExecuteTime": {
     "end_time": "2025-03-11T20:21:35.878292Z",
     "start_time": "2025-03-11T20:21:35.872758Z"
    }
   },
   "cell_type": "code",
   "source": [
    "# we already imported datetime and names shortly as \"d\"\n",
    "\n",
    "date_from_parts  = d.date(2025,5,21)\n",
    "print(f'Date: {date_from_parts}')\n",
    "\n",
    "# to create a datetime object we use method datetime instead of date\n",
    "\n",
    "date_time = d.datetime(2025,5,21,10,30,30)\n",
    "print(f'Datetime: {date_time}')"
   ],
   "id": "6b66decc3db2d514",
   "outputs": [
    {
     "name": "stdout",
     "output_type": "stream",
     "text": [
      "Date: 2025-05-21\n",
      "Datetime: 2025-05-21 10:30:30\n"
     ]
    }
   ],
   "execution_count": 20
  },
  {
   "metadata": {},
   "cell_type": "markdown",
   "source": [
    "### Formating date using strftime()\n",
    "- The datetime object has a method for formatting date objects into readable strings.\n",
    "- The method is called strftime(), and takes one parameter, format, to specify the format of the returned string:\n"
   ],
   "id": "7fd27aeb609f8311"
  },
  {
   "metadata": {
    "ExecuteTime": {
     "end_time": "2025-03-11T20:26:59.799782Z",
     "start_time": "2025-03-11T20:26:59.793567Z"
    }
   },
   "cell_type": "code",
   "source": [
    "# using previously created date\n",
    "print(f'Not formated date : {date_from_parts}')\n",
    "\n",
    "print(date_from_parts.strftime('Today is year: %Y, month %m (%B) and day %d, %A '))\n",
    "\n",
    "print(date_from_parts.strftime(f'{date_from_parts} converted to: %d.%m.%Y'))"
   ],
   "id": "315d0e53e8b3a29c",
   "outputs": [
    {
     "name": "stdout",
     "output_type": "stream",
     "text": [
      "Not formated date : 2025-05-21\n",
      "Today is year: 2025, month 05 (May) and day 21, Wednesday \n",
      "2025-05-21 converted to: 21.05.2025\n"
     ]
    }
   ],
   "execution_count": 22
  },
  {
   "metadata": {},
   "cell_type": "markdown",
   "source": [
    "#### strftime() common codes    [https://strftime.org/ ]\n",
    "- %Y    ->  Year (4 digits)\n",
    "- %m    ->  Month (2 digits)\n",
    "- %d    ->  Day (2 digits)\n",
    "- %H    ->  Hour(24- hour format)\n",
    "- %M    ->  Minutes\n",
    "- %S    ->  Seconds\n",
    "- %A    ->  Full weekday name\n"
   ],
   "id": "47de8bcdd4b93193"
  },
  {
   "metadata": {},
   "cell_type": "markdown",
   "source": "### Parsing Strings into datetime (strptime)",
   "id": "1c183e9f9885ade6"
  },
  {
   "metadata": {
    "ExecuteTime": {
     "end_time": "2025-03-11T20:29:53.130009Z",
     "start_time": "2025-03-11T20:29:53.125025Z"
    }
   },
   "cell_type": "code",
   "source": [
    "date_str = \"2025-03-11 15:30:00\"\n",
    "date_obj = d.datetime.strptime(date_str, \"%Y-%m-%d %H:%M:%S\")\n",
    "\n",
    "print(date_obj)\n",
    "print(type(date_obj))"
   ],
   "id": "4a2f249ca5f20a81",
   "outputs": [
    {
     "name": "stdout",
     "output_type": "stream",
     "text": [
      "2025-03-11 15:30:00\n",
      "<class 'datetime.datetime'>\n"
     ]
    }
   ],
   "execution_count": 23
  },
  {
   "metadata": {
    "ExecuteTime": {
     "end_time": "2025-03-11T20:31:53.091494Z",
     "start_time": "2025-03-11T20:31:53.086504Z"
    }
   },
   "cell_type": "code",
   "source": [
    "# even if we have unformated string of date, we can convert it to date time\n",
    "\n",
    "unformated_date_string = '2025-03/27'\n",
    "formated_date = d.datetime.strptime(unformated_date_string, '%Y-%m/%d')\n",
    "\n",
    "print(unformated_date_string)\n",
    "print(formated_date.date())"
   ],
   "id": "eb3a44e080756bb6",
   "outputs": [
    {
     "name": "stdout",
     "output_type": "stream",
     "text": [
      "2025-03/27\n",
      "2025-03-27\n"
     ]
    }
   ],
   "execution_count": 25
  },
  {
   "metadata": {},
   "cell_type": "markdown",
   "source": [
    "### Finding the Difference Between Two Dates\n",
    "Use timedelta to find the difference between two dates."
   ],
   "id": "69c9f763699fd15b"
  },
  {
   "metadata": {
    "ExecuteTime": {
     "end_time": "2025-03-11T20:33:06.496928Z",
     "start_time": "2025-03-11T20:33:06.491059Z"
    }
   },
   "cell_type": "code",
   "source": [
    "date1 = d.datetime(2025, 3, 15)\n",
    "date2 = d.datetime(2025, 1, 1)\n",
    "\n",
    "difference = date1 - date2\n",
    "print(\"Difference in days:\", difference.days)"
   ],
   "id": "8883242a0c8feef2",
   "outputs": [
    {
     "name": "stdout",
     "output_type": "stream",
     "text": [
      "Difference in days: 73\n"
     ]
    }
   ],
   "execution_count": 27
  },
  {
   "metadata": {},
   "cell_type": "markdown",
   "source": [
    "###  Getting the Current Timestamp\n",
    "A timestamp is the number of seconds since January 1, 1970 (Unix Epoch)."
   ],
   "id": "2bc18f317998c32"
  },
  {
   "metadata": {
    "ExecuteTime": {
     "end_time": "2025-03-11T20:34:39.226057Z",
     "start_time": "2025-03-11T20:34:39.220315Z"
    }
   },
   "cell_type": "code",
   "source": [
    "current_timestamp = d.datetime.now().timestamp()\n",
    "print(\"Current timestamp:\", current_timestamp)"
   ],
   "id": "cdbe46c137ab8861",
   "outputs": [
    {
     "name": "stdout",
     "output_type": "stream",
     "text": [
      "Current timestamp: 1741725279.22435\n"
     ]
    }
   ],
   "execution_count": 28
  },
  {
   "metadata": {},
   "cell_type": "markdown",
   "source": "### Converting Timestamp Back to Datetime (fromtimestamp)",
   "id": "3de3697ea0b66503"
  },
  {
   "metadata": {
    "ExecuteTime": {
     "end_time": "2025-03-11T20:35:47.840463Z",
     "start_time": "2025-03-11T20:35:47.834310Z"
    }
   },
   "cell_type": "code",
   "source": [
    "from_timestamp = d.datetime.fromtimestamp(current_timestamp)\n",
    "print(from_timestamp)"
   ],
   "id": "f6bed541532326a1",
   "outputs": [
    {
     "name": "stdout",
     "output_type": "stream",
     "text": [
      "2025-03-11 21:34:39.224350\n"
     ]
    }
   ],
   "execution_count": 29
  }
 ],
 "metadata": {
  "kernelspec": {
   "display_name": "Python 3",
   "language": "python",
   "name": "python3"
  },
  "language_info": {
   "codemirror_mode": {
    "name": "ipython",
    "version": 2
   },
   "file_extension": ".py",
   "mimetype": "text/x-python",
   "name": "python",
   "nbconvert_exporter": "python",
   "pygments_lexer": "ipython2",
   "version": "2.7.6"
  }
 },
 "nbformat": 4,
 "nbformat_minor": 5
}

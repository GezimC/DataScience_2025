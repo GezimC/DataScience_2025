{
 "cells": [
  {
   "metadata": {},
   "cell_type": "markdown",
   "source": [
    "## Python Scope\n",
    "- In Python, scope refers to the region where a variable or function is accessible"
   ],
   "id": "757bb6674e002769"
  },
  {
   "metadata": {},
   "cell_type": "markdown",
   "source": [
    "### 1. Local Scope\n",
    "- Variables declared inside a function are local to that function and cannot be accessed outside it."
   ],
   "id": "92c1eb08fbd08a80"
  },
  {
   "metadata": {
    "ExecuteTime": {
     "end_time": "2025-03-11T15:55:03.246135Z",
     "start_time": "2025-03-11T15:55:03.237572Z"
    }
   },
   "cell_type": "code",
   "source": [
    "def my_function():\n",
    "    x = 10  # Local variable\n",
    "    print(x)  # Accessible inside the function\n",
    "\n",
    "my_function()"
   ],
   "id": "943cd006b05247ce",
   "outputs": [
    {
     "name": "stdout",
     "output_type": "stream",
     "text": [
      "10\n"
     ]
    }
   ],
   "execution_count": 1
  },
  {
   "metadata": {},
   "cell_type": "markdown",
   "source": [
    "### 2. Enclosing (Nonlocal) Scope\n",
    "- When you have a function inside another function, the inner function can access variables from the outer function using nonlocal."
   ],
   "id": "ab36a7a63cb75d82"
  },
  {
   "metadata": {
    "ExecuteTime": {
     "end_time": "2025-03-11T15:55:50.784311Z",
     "start_time": "2025-03-11T15:55:50.777714Z"
    }
   },
   "cell_type": "code",
   "source": [
    "def outer_function():\n",
    "    y = 20  # Enclosing variable\n",
    "\n",
    "    def inner_function():\n",
    "        nonlocal y\n",
    "        y += 5  # Modifies y from the enclosing scope\n",
    "        print(y)\n",
    "\n",
    "    inner_function()\n",
    "\n",
    "outer_function()"
   ],
   "id": "44fd14bbbccf5dca",
   "outputs": [
    {
     "name": "stdout",
     "output_type": "stream",
     "text": [
      "25\n"
     ]
    }
   ],
   "execution_count": 2
  },
  {
   "metadata": {},
   "cell_type": "markdown",
   "source": [
    "### 3. Global Scope\n",
    "- Variables declared outside functions are global and accessible throughout the module."
   ],
   "id": "bb06a032130a610d"
  },
  {
   "metadata": {
    "ExecuteTime": {
     "end_time": "2025-03-11T15:56:14.122195Z",
     "start_time": "2025-03-11T15:56:14.117551Z"
    }
   },
   "cell_type": "code",
   "source": [
    "z = 30  # Global variable\n",
    "\n",
    "def my_function():\n",
    "    print(z)  # Accessible inside the function\n",
    "\n",
    "my_function()\n",
    "print(z)  # Accessible outside too"
   ],
   "id": "c6f4faf83956408a",
   "outputs": [
    {
     "name": "stdout",
     "output_type": "stream",
     "text": [
      "30\n",
      "30\n"
     ]
    }
   ],
   "execution_count": 3
  },
  {
   "metadata": {},
   "cell_type": "markdown",
   "source": "Modifying global variables inside a function requires global keyword:",
   "id": "a81979095e2c8500"
  },
  {
   "metadata": {
    "ExecuteTime": {
     "end_time": "2025-03-11T15:56:30.473345Z",
     "start_time": "2025-03-11T15:56:30.467144Z"
    }
   },
   "cell_type": "code",
   "source": [
    "a = 100\n",
    "\n",
    "def modify_global():\n",
    "    global a\n",
    "    a += 50  # Changes the global variable\n",
    "    print(a)\n",
    "\n",
    "modify_global()\n",
    "print(a)  # 150"
   ],
   "id": "20d0a92f52df4d37",
   "outputs": [
    {
     "name": "stdout",
     "output_type": "stream",
     "text": [
      "150\n",
      "150\n"
     ]
    }
   ],
   "execution_count": 4
  },
  {
   "metadata": {},
   "cell_type": "markdown",
   "source": [
    "### 4. Built-in Scope\n",
    "- Python has many built-in functions like len(), print(), etc., which are accessible from anywhere."
   ],
   "id": "b4e339aced8d98c8"
  },
  {
   "metadata": {
    "ExecuteTime": {
     "end_time": "2025-03-11T15:57:06.548786Z",
     "start_time": "2025-03-11T15:57:06.543657Z"
    }
   },
   "cell_type": "code",
   "source": "print(len(\"Hello\"))  # len() is a built-in function",
   "id": "1353274044948b23",
   "outputs": [
    {
     "name": "stdout",
     "output_type": "stream",
     "text": [
      "5\n"
     ]
    }
   ],
   "execution_count": 5
  },
  {
   "metadata": {},
   "cell_type": "markdown",
   "source": [
    "Do not overide built in functions!\n",
    "- len = 5,  will overide len(function)\n",
    "- than you will need to restart app, or \"del len\" in order to get back built in function len()"
   ],
   "id": "2d5ff63e619545fa"
  },
  {
   "metadata": {},
   "cell_type": "markdown",
   "source": [
    "## Python modules\n",
    "A module in Python is simply a .py file that contains functions, classes, and variables that can be reused in other programs. Python has built-in modules, and we can also create your own modules."
   ],
   "id": "48d78cdb99cc3263"
  },
  {
   "metadata": {},
   "cell_type": "markdown",
   "source": "### 1. Importing modules using import statement",
   "id": "bd6a33fa960fb699"
  },
  {
   "metadata": {},
   "cell_type": "markdown",
   "source": [
    "#### 1.1 Importing a Built-in Module\n",
    "Python provides many built-in modules, such as math, random, datetime, etc."
   ],
   "id": "2ae3cb31fffd5bb"
  },
  {
   "metadata": {
    "ExecuteTime": {
     "end_time": "2025-03-11T16:05:55.202137Z",
     "start_time": "2025-03-11T16:05:55.196683Z"
    }
   },
   "cell_type": "code",
   "source": [
    "import math\n",
    "\n",
    "print(math.sqrt(16))\n",
    "print(math.pi)"
   ],
   "id": "f7f49dfe27e7c50b",
   "outputs": [
    {
     "name": "stdout",
     "output_type": "stream",
     "text": [
      "4.0\n",
      "3.141592653589793\n"
     ]
    }
   ],
   "execution_count": 8
  },
  {
   "metadata": {},
   "cell_type": "markdown",
   "source": "Or we can import specific function from a module:",
   "id": "9a0ff5ff0961c679"
  },
  {
   "metadata": {
    "ExecuteTime": {
     "end_time": "2025-03-11T16:05:56.781269Z",
     "start_time": "2025-03-11T16:05:56.775137Z"
    }
   },
   "cell_type": "code",
   "source": [
    "from math import sqrt, pi\n",
    "\n",
    "print(sqrt(25))\n",
    "print(pi)"
   ],
   "id": "b09869e3831c73ff",
   "outputs": [
    {
     "name": "stdout",
     "output_type": "stream",
     "text": [
      "5.0\n",
      "3.141592653589793\n"
     ]
    }
   ],
   "execution_count": 9
  },
  {
   "metadata": {},
   "cell_type": "markdown",
   "source": "You can rename a module using as:",
   "id": "a636a1128224a805"
  },
  {
   "metadata": {
    "ExecuteTime": {
     "end_time": "2025-03-11T16:05:58.747113Z",
     "start_time": "2025-03-11T16:05:58.742770Z"
    }
   },
   "cell_type": "code",
   "source": [
    "import math as m\n",
    "\n",
    "print(m.sqrt(9))"
   ],
   "id": "68f9a398ba8b4cf9",
   "outputs": [
    {
     "name": "stdout",
     "output_type": "stream",
     "text": [
      "3.0\n"
     ]
    }
   ],
   "execution_count": 10
  },
  {
   "metadata": {},
   "cell_type": "markdown",
   "source": [
    "### 2. Creating a Custom Module\n",
    "You can create your own module by simply making a .py file. <br>\n",
    "**Example: Creating math_circle.py**"
   ],
   "id": "5997160e46d8ce24"
  },
  {
   "metadata": {
    "ExecuteTime": {
     "end_time": "2025-03-11T16:12:08.311630Z",
     "start_time": "2025-03-11T16:12:08.292009Z"
    }
   },
   "cell_type": "code",
   "source": [
    "import math_circle as mc\n",
    "\n",
    "r = 10\n",
    "circle_area = mc.area(r)\n",
    "circle_perimeter = mc.perimeter(r)\n",
    "\n",
    "print(f'Circle with radius {r}, has area of {circle_area} and perimeter: {circle_perimeter} ')"
   ],
   "id": "641d84ccaa05533",
   "outputs": [
    {
     "name": "stdout",
     "output_type": "stream",
     "text": [
      "Circle with radius 10, has area of 314.0 and perimeter: 62.800000000000004 \n"
     ]
    }
   ],
   "execution_count": 11
  },
  {
   "metadata": {},
   "cell_type": "markdown",
   "source": [
    "### 3. Finding Available Functions in a Module\n",
    "You can use dir() to list all attributes and methods of a module."
   ],
   "id": "343b7701ce6fdd4a"
  },
  {
   "metadata": {
    "ExecuteTime": {
     "end_time": "2025-03-11T16:12:47.801936Z",
     "start_time": "2025-03-11T16:12:47.796990Z"
    }
   },
   "cell_type": "code",
   "source": "print(dir(mc))",
   "id": "1ea0bdff1e064b22",
   "outputs": [
    {
     "name": "stdout",
     "output_type": "stream",
     "text": [
      "['__builtins__', '__cached__', '__doc__', '__file__', '__loader__', '__name__', '__package__', '__spec__', 'area', 'perimeter', 'pi']\n"
     ]
    }
   ],
   "execution_count": 12
  },
  {
   "metadata": {},
   "cell_type": "markdown",
   "source": [
    "### 4. Installing and Using External Modules\n",
    "Python has third-party modules that you can install using pip."
   ],
   "id": "8e631c507c367440"
  },
  {
   "metadata": {
    "ExecuteTime": {
     "end_time": "2025-03-11T16:14:57.450512Z",
     "start_time": "2025-03-11T16:14:56.447894Z"
    }
   },
   "cell_type": "code",
   "source": [
    "# Example of installing numpy\n",
    "# in console write: pip install numpy\n",
    "# then import\n",
    "import numpy as np\n",
    "array = np.array([1,2,3,4])\n",
    "print(array*2)"
   ],
   "id": "1e7f4927e89fe460",
   "outputs": [
    {
     "name": "stdout",
     "output_type": "stream",
     "text": [
      "[2 4 6 8]\n"
     ]
    }
   ],
   "execution_count": 13
  },
  {
   "metadata": {},
   "cell_type": "markdown",
   "source": [
    "## Date and Time in Python (datetime Module)\n",
    "Python's datetime module provides powerful tools for working with dates and times."
   ],
   "id": "30fc8a7fe86c732f"
  },
  {
   "metadata": {
    "ExecuteTime": {
     "end_time": "2025-03-11T20:17:44.232448Z",
     "start_time": "2025-03-11T20:17:44.227552Z"
    }
   },
   "cell_type": "code",
   "source": [
    "# Import the datetime module and display the current date:\n",
    "import datetime as d\n",
    "\n",
    "now = d.datetime.now()\n",
    "print(now)"
   ],
   "id": "34086702eb356d0c",
   "outputs": [
    {
     "name": "stdout",
     "output_type": "stream",
     "text": [
      "2025-03-11 21:17:44.230543\n"
     ]
    }
   ],
   "execution_count": 14
  },
  {
   "metadata": {
    "ExecuteTime": {
     "end_time": "2025-03-11T20:18:12.547529Z",
     "start_time": "2025-03-11T20:18:12.541538Z"
    }
   },
   "cell_type": "code",
   "source": [
    "# date part\n",
    "print(now.date())\n",
    "\n",
    "# time part\n",
    "print(now.time())"
   ],
   "id": "fa2b6c94e83378de",
   "outputs": [
    {
     "name": "stdout",
     "output_type": "stream",
     "text": [
      "2025-03-11\n",
      "21:17:44.230543\n"
     ]
    }
   ],
   "execution_count": 16
  },
  {
   "metadata": {},
   "cell_type": "markdown",
   "source": [
    "### Creating Date Objects\n",
    "- To create a date, we can use the datetime() class (constructor) of the datetime module.\n",
    "- The datetime() class requires three parameters to create a date: year, month, day.\n"
   ],
   "id": "c43e721fae7d9939"
  },
  {
   "metadata": {
    "ExecuteTime": {
     "end_time": "2025-03-11T20:21:35.878292Z",
     "start_time": "2025-03-11T20:21:35.872758Z"
    }
   },
   "cell_type": "code",
   "source": [
    "# we already imported datetime and names shortly as \"d\"\n",
    "\n",
    "date_from_parts  = d.date(2025,5,21)\n",
    "print(f'Date: {date_from_parts}')\n",
    "\n",
    "# to create a datetime object we use method datetime instead of date\n",
    "\n",
    "date_time = d.datetime(2025,5,21,10,30,30)\n",
    "print(f'Datetime: {date_time}')"
   ],
   "id": "6b66decc3db2d514",
   "outputs": [
    {
     "name": "stdout",
     "output_type": "stream",
     "text": [
      "Date: 2025-05-21\n",
      "Datetime: 2025-05-21 10:30:30\n"
     ]
    }
   ],
   "execution_count": 20
  },
  {
   "metadata": {},
   "cell_type": "markdown",
   "source": [
    "### Formating date using strftime()\n",
    "- The datetime object has a method for formatting date objects into readable strings.\n",
    "- The method is called strftime(), and takes one parameter, format, to specify the format of the returned string:\n"
   ],
   "id": "7fd27aeb609f8311"
  },
  {
   "metadata": {
    "ExecuteTime": {
     "end_time": "2025-03-11T20:26:59.799782Z",
     "start_time": "2025-03-11T20:26:59.793567Z"
    }
   },
   "cell_type": "code",
   "source": [
    "# using previously created date\n",
    "print(f'Not formated date : {date_from_parts}')\n",
    "\n",
    "print(date_from_parts.strftime('Today is year: %Y, month %m (%B) and day %d, %A '))\n",
    "\n",
    "print(date_from_parts.strftime(f'{date_from_parts} converted to: %d.%m.%Y'))"
   ],
   "id": "315d0e53e8b3a29c",
   "outputs": [
    {
     "name": "stdout",
     "output_type": "stream",
     "text": [
      "Not formated date : 2025-05-21\n",
      "Today is year: 2025, month 05 (May) and day 21, Wednesday \n",
      "2025-05-21 converted to: 21.05.2025\n"
     ]
    }
   ],
   "execution_count": 22
  },
  {
   "metadata": {},
   "cell_type": "markdown",
   "source": [
    "#### strftime() common codes    [https://strftime.org/ ]\n",
    "- %Y    ->  Year (4 digits)\n",
    "- %m    ->  Month (2 digits)\n",
    "- %d    ->  Day (2 digits)\n",
    "- %H    ->  Hour(24- hour format)\n",
    "- %M    ->  Minutes\n",
    "- %S    ->  Seconds\n",
    "- %A    ->  Full weekday name\n"
   ],
   "id": "47de8bcdd4b93193"
  },
  {
   "metadata": {},
   "cell_type": "markdown",
   "source": "### Parsing Strings into datetime (strptime)",
   "id": "1c183e9f9885ade6"
  },
  {
   "metadata": {
    "ExecuteTime": {
     "end_time": "2025-03-11T20:29:53.130009Z",
     "start_time": "2025-03-11T20:29:53.125025Z"
    }
   },
   "cell_type": "code",
   "source": [
    "date_str = \"2025-03-11 15:30:00\"\n",
    "date_obj = d.datetime.strptime(date_str, \"%Y-%m-%d %H:%M:%S\")\n",
    "\n",
    "print(date_obj)\n",
    "print(type(date_obj))"
   ],
   "id": "4a2f249ca5f20a81",
   "outputs": [
    {
     "name": "stdout",
     "output_type": "stream",
     "text": [
      "2025-03-11 15:30:00\n",
      "<class 'datetime.datetime'>\n"
     ]
    }
   ],
   "execution_count": 23
  },
  {
   "metadata": {
    "ExecuteTime": {
     "end_time": "2025-03-11T20:31:53.091494Z",
     "start_time": "2025-03-11T20:31:53.086504Z"
    }
   },
   "cell_type": "code",
   "source": [
    "# even if we have unformated string of date, we can convert it to date time\n",
    "\n",
    "unformated_date_string = '2025-03/27'\n",
    "formated_date = d.datetime.strptime(unformated_date_string, '%Y-%m/%d')\n",
    "\n",
    "print(unformated_date_string)\n",
    "print(formated_date.date())"
   ],
   "id": "eb3a44e080756bb6",
   "outputs": [
    {
     "name": "stdout",
     "output_type": "stream",
     "text": [
      "2025-03/27\n",
      "2025-03-27\n"
     ]
    }
   ],
   "execution_count": 25
  },
  {
   "metadata": {},
   "cell_type": "markdown",
   "source": [
    "### Finding the Difference Between Two Dates\n",
    "Use timedelta to find the difference between two dates."
   ],
   "id": "69c9f763699fd15b"
  },
  {
   "metadata": {
    "ExecuteTime": {
     "end_time": "2025-03-11T20:33:06.496928Z",
     "start_time": "2025-03-11T20:33:06.491059Z"
    }
   },
   "cell_type": "code",
   "source": [
    "date1 = d.datetime(2025, 3, 15)\n",
    "date2 = d.datetime(2025, 1, 1)\n",
    "\n",
    "difference = date1 - date2\n",
    "print(\"Difference in days:\", difference.days)"
   ],
   "id": "8883242a0c8feef2",
   "outputs": [
    {
     "name": "stdout",
     "output_type": "stream",
     "text": [
      "Difference in days: 73\n"
     ]
    }
   ],
   "execution_count": 27
  },
  {
   "metadata": {},
   "cell_type": "markdown",
   "source": [
    "###  Getting the Current Timestamp\n",
    "A timestamp is the number of seconds since January 1, 1970 (Unix Epoch)."
   ],
   "id": "2bc18f317998c32"
  },
  {
   "metadata": {
    "ExecuteTime": {
     "end_time": "2025-03-11T20:34:39.226057Z",
     "start_time": "2025-03-11T20:34:39.220315Z"
    }
   },
   "cell_type": "code",
   "source": [
    "current_timestamp = d.datetime.now().timestamp()\n",
    "print(\"Current timestamp:\", current_timestamp)"
   ],
   "id": "cdbe46c137ab8861",
   "outputs": [
    {
     "name": "stdout",
     "output_type": "stream",
     "text": [
      "Current timestamp: 1741725279.22435\n"
     ]
    }
   ],
   "execution_count": 28
  },
  {
   "metadata": {},
   "cell_type": "markdown",
   "source": "### Converting Timestamp Back to Datetime (fromtimestamp)",
   "id": "3de3697ea0b66503"
  },
  {
   "metadata": {
    "ExecuteTime": {
     "end_time": "2025-03-11T20:35:47.840463Z",
     "start_time": "2025-03-11T20:35:47.834310Z"
    }
   },
   "cell_type": "code",
   "source": [
    "from_timestamp = d.datetime.fromtimestamp(current_timestamp)\n",
    "print(from_timestamp)"
   ],
   "id": "f6bed541532326a1",
   "outputs": [
    {
     "name": "stdout",
     "output_type": "stream",
     "text": [
      "2025-03-11 21:34:39.224350\n"
     ]
    }
   ],
   "execution_count": 29
  },
  {
   "metadata": {},
   "cell_type": "markdown",
   "source": "## Python Math - Built-in Math Functions",
   "id": "829bb4b823ae3e14"
  },
  {
   "metadata": {
    "ExecuteTime": {
     "end_time": "2025-03-16T19:05:28.226953Z",
     "start_time": "2025-03-16T19:05:28.218474Z"
    }
   },
   "cell_type": "code",
   "source": [
    "# The min() and max() functions can be used to find the lowest or highest value in an iterable\n",
    "# The abs() function returns the absolute (positive) value of the specified number\n",
    "\n",
    "print('Min value from [5,6,7] is: ',  min(5,6,7))\n",
    "print('Max value from [5,6,7] is: ',  max(5,6,7))\n",
    "print('Absolute value of (-2.57) is: ',  abs(-2.57))"
   ],
   "id": "9c095e665254d671",
   "outputs": [
    {
     "name": "stdout",
     "output_type": "stream",
     "text": [
      "Min value from [5,6,7] is:  5\n",
      "Max value from [5,6,7] is:  7\n",
      "Absolute value of (-2.57) is:  2.57\n"
     ]
    }
   ],
   "execution_count": 1
  },
  {
   "metadata": {},
   "cell_type": "markdown",
   "source": [
    "### The Math Module\n",
    "\n",
    "- Python has also a built-in module called math, which extends the list of mathematical functions.\n",
    "- The math.sqrt() method for example, returns the square root of a number\n",
    "- The math.ceil() method rounds a number upwards to its nearest integer\n",
    "- The math.floor() method rounds a number downwards to its nearest integer, and returns the result:\n"
   ],
   "id": "74a7807cec1a7d36"
  },
  {
   "metadata": {
    "ExecuteTime": {
     "end_time": "2025-03-16T19:07:34.525688Z",
     "start_time": "2025-03-16T19:07:34.520555Z"
    }
   },
   "cell_type": "code",
   "source": [
    "import math\n",
    "\n",
    "print('Square root of 64 is: ', math.sqrt(64))\n",
    "print('Upward nearest integer of 2.6 is: ', math.ceil(2.6))\n",
    "print('Downward nearest integer of 2.6 is: ', math.floor(2.6))"
   ],
   "id": "99366cc03a634a53",
   "outputs": [
    {
     "name": "stdout",
     "output_type": "stream",
     "text": [
      "Square root of 64 is:  8.0\n",
      "Upward nearest integer of 2.6 is:  3\n",
      "Downward nearest integer of 2.6 is:  2\n"
     ]
    }
   ],
   "execution_count": 2
  },
  {
   "metadata": {},
   "cell_type": "markdown",
   "source": "## Python OOP Concepts: Classes, Objects, and More",
   "id": "ad10518267659a22"
  },
  {
   "metadata": {},
   "cell_type": "markdown",
   "source": [
    "###  Classes and Objects\n",
    "A class is a blueprint for creating objects. An object is an instance of a class."
   ],
   "id": "3aa8b92076e3fac6"
  },
  {
   "metadata": {
    "ExecuteTime": {
     "end_time": "2025-03-16T19:12:56.200008Z",
     "start_time": "2025-03-16T19:12:56.194436Z"
    }
   },
   "cell_type": "code",
   "source": [
    "# creating the class\n",
    "# init is constructor\n",
    "# self parameter is like \"this\" in java, and needs to be first parameter of every method in class\n",
    "# str is like 'toString' in java, and defines how an object is represented as a string.\n",
    "class Car:\n",
    "    def __init__(self, brand, model):\n",
    "        self.brand = brand  # Instance variable\n",
    "        self.model = model\n",
    "\n",
    "    def __str__(self):\n",
    "        return f\"Car: {self.brand} {self.model}\"\n"
   ],
   "id": "f7483194483fd10f",
   "outputs": [],
   "execution_count": 8
  },
  {
   "metadata": {
    "ExecuteTime": {
     "end_time": "2025-03-16T19:12:58.428405Z",
     "start_time": "2025-03-16T19:12:58.423057Z"
    }
   },
   "cell_type": "code",
   "source": [
    "#Creating an object\n",
    "my_car = Car(\"Toyota\", \"Corolla\")\n",
    "print(my_car)"
   ],
   "id": "bf9f6670d654f663",
   "outputs": [
    {
     "name": "stdout",
     "output_type": "stream",
     "text": [
      "Car: Toyota Corolla\n"
     ]
    }
   ],
   "execution_count": 9
  },
  {
   "metadata": {},
   "cell_type": "markdown",
   "source": [
    "## Inheritance (Reusing Code) and Polymorphism (Method Overriding)\n",
    "Inheritance allows a class to inherit attributes and methods from another class.\n",
    "<br> Polymorphism allows different classes to define methods with the same name but different behavior."
   ],
   "id": "77b63999961c3ed1"
  },
  {
   "metadata": {
    "ExecuteTime": {
     "end_time": "2025-03-16T19:19:48.580593Z",
     "start_time": "2025-03-16T19:19:48.574829Z"
    }
   },
   "cell_type": "code",
   "source": [
    "# Parent class\n",
    "class Animal:\n",
    "    def __init__(self, name):\n",
    "        self.name = name\n",
    "\n",
    "    def sound(self):\n",
    "        return \"Some sound\""
   ],
   "id": "a029754e1db9468d",
   "outputs": [],
   "execution_count": 20
  },
  {
   "metadata": {
    "ExecuteTime": {
     "end_time": "2025-03-16T19:19:49.924083Z",
     "start_time": "2025-03-16T19:19:49.917460Z"
    }
   },
   "cell_type": "code",
   "source": [
    "# Child class inheriting from Animal\n",
    "class Dog(Animal):\n",
    "    def sound(self):\n",
    "        return \"Woof!\""
   ],
   "id": "d3bdbaf45a9151d1",
   "outputs": [],
   "execution_count": 21
  },
  {
   "metadata": {
    "ExecuteTime": {
     "end_time": "2025-03-16T19:19:51.305233Z",
     "start_time": "2025-03-16T19:19:51.300553Z"
    }
   },
   "cell_type": "code",
   "source": [
    "# Another child class inheriting from Animal\n",
    "class Cat(Animal):\n",
    "    def sound(self):\n",
    "        return \"Meow!\""
   ],
   "id": "66debdaf02838783",
   "outputs": [],
   "execution_count": 22
  },
  {
   "metadata": {
    "ExecuteTime": {
     "end_time": "2025-03-16T19:19:55.718360Z",
     "start_time": "2025-03-16T19:19:55.712722Z"
    }
   },
   "cell_type": "code",
   "source": [
    "# Creating objects of child classes\n",
    "dog = Dog(\"Max\")\n",
    "cat = Cat(\"Bob\")"
   ],
   "id": "8c5ecafde4661c25",
   "outputs": [],
   "execution_count": 23
  },
  {
   "metadata": {
    "ExecuteTime": {
     "end_time": "2025-03-16T19:20:55.599024Z",
     "start_time": "2025-03-16T19:20:55.594690Z"
    }
   },
   "cell_type": "code",
   "source": [
    "# Polymorphism in action\n",
    "for animal in [dog, cat]:\n",
    "    print( f'{animal.name} says {animal.sound()}')"
   ],
   "id": "f57357820a9821e0",
   "outputs": [
    {
     "name": "stdout",
     "output_type": "stream",
     "text": [
      "Max says Woof!\n",
      "Bob says Meow!\n"
     ]
    }
   ],
   "execution_count": 26
  },
  {
   "metadata": {},
   "cell_type": "markdown",
   "source": [
    "## Exceptions handling in python\n",
    "\n",
    "The **try block** allows you to test code that may cause an error.\n",
    "<br>The **except block** handles the error.\n",
    "<br>The **else block** runs if there is no error.\n",
    "<br>The **finally block** always runs, regardless of errors."
   ],
   "id": "b0c4f9947bbef64d"
  },
  {
   "metadata": {
    "ExecuteTime": {
     "end_time": "2025-03-16T19:24:38.156477Z",
     "start_time": "2025-03-16T19:24:34.363669Z"
    }
   },
   "cell_type": "code",
   "source": [
    "try:\n",
    "    num = int(input(\"Enter a number: \"))  # Might raise ValueError\n",
    "    result = 10 / num  # Might raise ZeroDivisionError\n",
    "except ValueError:\n",
    "    print(\"Invalid input! Please enter a valid number.\")\n",
    "except ZeroDivisionError:\n",
    "    print(\"Cannot divide by zero!\")\n",
    "else:\n",
    "    print(f\"Result: {result}\")  # Runs only if no exception occurs\n",
    "finally:\n",
    "    print(\"Execution completed.\")  # Always runs"
   ],
   "id": "e62fa330e9a94735",
   "outputs": [
    {
     "name": "stdout",
     "output_type": "stream",
     "text": [
      "Result: 1.0\n",
      "Execution completed.\n"
     ]
    }
   ],
   "execution_count": 27
  },
  {
   "metadata": {},
   "cell_type": "markdown",
   "source": [
    "## Python JSON Handling: Conversion & Error Handling\n",
    "Python's json module allows working with JSON data (convert between Python objects and JSON format)."
   ],
   "id": "84c18c1ab3210648"
  },
  {
   "metadata": {},
   "cell_type": "markdown",
   "source": [
    "### Converting Python to JSON (dumps)\n",
    "Convert Python dictionaries, lists, or other serializable objects into a JSON string."
   ],
   "id": "50f00ca377acf5fa"
  },
  {
   "metadata": {
    "ExecuteTime": {
     "end_time": "2025-03-16T19:48:41.310054Z",
     "start_time": "2025-03-16T19:48:41.304850Z"
    }
   },
   "cell_type": "code",
   "source": [
    "import json\n",
    "\n",
    "data = {\"name\": \"Gezim\", \"age\": 27, \"city\": \"Prishtine\"}\n",
    "\n",
    "json_string = json.dumps(data)  # Convert dictioanry to JSON string\n",
    "print(json_string)"
   ],
   "id": "29bf6f87bfca1f4d",
   "outputs": [
    {
     "name": "stdout",
     "output_type": "stream",
     "text": [
      "{\"name\": \"Gezim\", \"age\": 27, \"city\": \"Prishtine\"}\n"
     ]
    }
   ],
   "execution_count": 28
  },
  {
   "metadata": {},
   "cell_type": "markdown",
   "source": [
    "### Converting JSON to Python (loads)\n",
    "Convert a JSON string back into a Python object."
   ],
   "id": "300d63336ece2bb"
  },
  {
   "metadata": {
    "ExecuteTime": {
     "end_time": "2025-03-16T19:49:19.395383Z",
     "start_time": "2025-03-16T19:49:19.389402Z"
    }
   },
   "cell_type": "code",
   "source": [
    "json_data = '{\"name\": \"Sokol\", \"age\": 26, \"city\": \"Prizren\"}'\n",
    "\n",
    "python_dict = json.loads(json_data)  # Convert JSON string to Python dict\n",
    "print(python_dict[\"name\"])"
   ],
   "id": "bbd0547a14c70f01",
   "outputs": [
    {
     "name": "stdout",
     "output_type": "stream",
     "text": [
      "Sokol\n"
     ]
    }
   ],
   "execution_count": 29
  },
  {
   "metadata": {},
   "cell_type": "markdown",
   "source": "### Handling JSON Errors with try-except",
   "id": "50af4d333dd6a114"
  },
  {
   "metadata": {
    "ExecuteTime": {
     "end_time": "2025-03-16T19:50:11.514526Z",
     "start_time": "2025-03-16T19:50:11.508471Z"
    }
   },
   "cell_type": "code",
   "source": [
    "invalid_json = '{\"name\": \"Bob\", \"age\": 30, \"city\": \"Paris\"'  # Missing closing }\n",
    "\n",
    "try:\n",
    "    parsed_data = json.loads(invalid_json)\n",
    "except json.JSONDecodeError as e:\n",
    "    print(\"Error loading JSON:\", e)"
   ],
   "id": "e4019eabf7d93612",
   "outputs": [
    {
     "name": "stdout",
     "output_type": "stream",
     "text": [
      "Error loading JSON: Expecting ',' delimiter: line 1 column 43 (char 42)\n"
     ]
    }
   ],
   "execution_count": 30
  },
  {
   "metadata": {},
   "cell_type": "markdown",
   "source": [
    "🔹 Summary\n",
    "<br>✅ dumps() → Python to JSON (string)\n",
    "<br>✅ loads() → JSON (string) to Python\n",
    "<br>✅ dump() → Save Python data to a JSON file\n",
    "<br>✅ load() → Load JSON data from a file\n",
    "<br>✅ Error Handling → try-except with json.JSONDecodeError"
   ],
   "id": "14da3932428225c0"
  },
  {
   "metadata": {},
   "cell_type": "markdown",
   "source": [
    "## Python File Handling\n",
    "Python provides built-in functions to work with files, allowing us to read, write, and manipulate file content."
   ],
   "id": "775123eedc885e78"
  },
  {
   "metadata": {},
   "cell_type": "markdown",
   "source": [
    "### Opening a File (open())\n",
    "The open() function is used to open a file. It takes two main arguments:\n",
    "<br>✅ Filename – The name of the file\n",
    "<br>✅ Mode – The mode in which to open the file\n",
    "\n",
    "### Modes in open()\n",
    "- \"r\"\tRead (default), error if file does not exist\n",
    "- \"w\"\tWrite (creates new file or overwrites existing)\n",
    "- \"a\"\tAppend (adds content without removing existing data)\n",
    "- \"x\"\tCreate (fails if file exists)\n",
    "- \"b\"\tBinary mode (for images, PDFs, etc.)\n",
    "- \"t\"\tText mode (default)\n"
   ],
   "id": "c36c46a12c05157f"
  },
  {
   "metadata": {},
   "cell_type": "markdown",
   "source": "###  Writing to a File (write())",
   "id": "d58859dd73e5cacb"
  },
  {
   "metadata": {
    "ExecuteTime": {
     "end_time": "2025-03-16T19:55:26.866816Z",
     "start_time": "2025-03-16T19:55:26.860185Z"
    }
   },
   "cell_type": "code",
   "source": [
    "# Open file in write mode\n",
    "with open(\"example.txt\", \"w\") as file:\n",
    "    file.write(\"Hello, World!\\n\")  # Overwrites existing content"
   ],
   "id": "47997c71fd5836e7",
   "outputs": [],
   "execution_count": 31
  },
  {
   "metadata": {
    "ExecuteTime": {
     "end_time": "2025-03-16T19:55:47.788486Z",
     "start_time": "2025-03-16T19:55:47.781664Z"
    }
   },
   "cell_type": "code",
   "source": [
    "# appending to a file\n",
    "with open(\"example.txt\", \"a\") as file:\n",
    "    file.write(\"This is an appended line.\\n\")"
   ],
   "id": "8dc13366594da94d",
   "outputs": [],
   "execution_count": 32
  },
  {
   "metadata": {},
   "cell_type": "markdown",
   "source": "### Reading from a File (read(), readline(), readlines())",
   "id": "1766605ba3ea8396"
  },
  {
   "metadata": {
    "ExecuteTime": {
     "end_time": "2025-03-16T19:56:16.208480Z",
     "start_time": "2025-03-16T19:56:16.201270Z"
    }
   },
   "cell_type": "code",
   "source": [
    "# Open file in read mode\n",
    "with open(\"example.txt\", \"r\") as file:\n",
    "    content = file.read()  # Reads entire file\n",
    "    print(content)"
   ],
   "id": "83ba9d7b61f32f09",
   "outputs": [
    {
     "name": "stdout",
     "output_type": "stream",
     "text": [
      "Hello, World!\n",
      "This is an appended line.\n",
      "\n"
     ]
    }
   ],
   "execution_count": 33
  },
  {
   "metadata": {
    "ExecuteTime": {
     "end_time": "2025-03-16T19:56:26.218270Z",
     "start_time": "2025-03-16T19:56:26.212330Z"
    }
   },
   "cell_type": "code",
   "source": [
    "# read line reads just one line\n",
    "with open(\"example.txt\", \"r\") as file:\n",
    "    first_line = file.readline()  # Reads one line\n",
    "    print(first_line)"
   ],
   "id": "ff4f6d31b915c0ab",
   "outputs": [
    {
     "name": "stdout",
     "output_type": "stream",
     "text": [
      "Hello, World!\n",
      "\n"
     ]
    }
   ],
   "execution_count": 34
  },
  {
   "metadata": {
    "ExecuteTime": {
     "end_time": "2025-03-16T19:57:04.734799Z",
     "start_time": "2025-03-16T19:57:04.728323Z"
    }
   },
   "cell_type": "code",
   "source": [
    "# Reading All Lines as a List (readlines())\n",
    "with open(\"example.txt\", \"r\") as file:\n",
    "    lines = file.readlines()  # Reads all lines into a list\n",
    "    print(lines)"
   ],
   "id": "59525c9a932d7573",
   "outputs": [
    {
     "name": "stdout",
     "output_type": "stream",
     "text": [
      "['Hello, World!\\n', 'This is an appended line.\\n']\n"
     ]
    }
   ],
   "execution_count": 35
  },
  {
   "metadata": {},
   "cell_type": "markdown",
   "source": "### Checking if a File Exists (os.path.exists)",
   "id": "8f904a6368959e1f"
  },
  {
   "metadata": {
    "ExecuteTime": {
     "end_time": "2025-03-16T19:57:26.680856Z",
     "start_time": "2025-03-16T19:57:26.675051Z"
    }
   },
   "cell_type": "code",
   "source": [
    "import os\n",
    "# os, library for operations with operating system\n",
    "if os.path.exists(\"example.txt\"):\n",
    "    print(\"File exists\")\n",
    "else:\n",
    "    print(\"File not found\")"
   ],
   "id": "3f05c1cf7c33f32e",
   "outputs": [
    {
     "name": "stdout",
     "output_type": "stream",
     "text": [
      "File exists\n"
     ]
    }
   ],
   "execution_count": 36
  },
  {
   "metadata": {},
   "cell_type": "markdown",
   "source": "### Example: Creating and Writing to a JSON File in Python",
   "id": "6567841c95dd9e83"
  },
  {
   "metadata": {
    "ExecuteTime": {
     "end_time": "2025-03-16T20:00:49.421833Z",
     "start_time": "2025-03-16T20:00:49.414300Z"
    }
   },
   "cell_type": "code",
   "source": [
    "# Sample data to write to JSON file\n",
    "data = {\n",
    "    \"name\": \"Gezim Ciriku\",\n",
    "    \"age\": 27,\n",
    "    \"city\": \"Prishtine\",\n",
    "    \"skills\": [\"Python\", \"Math\", \"Teaching\", ]\n",
    "}\n",
    "\n",
    "# Writing data to a JSON file\n",
    "with open(\"data.json\", \"w\") as file:\n",
    "    json.dump(data, file, indent=4)  # indent=4 makes it readable, lets 4 spaces\n",
    "\n",
    "#dump without 's' in the end, converts dict to json format, and saves it in file\n",
    "\n",
    "print(\"JSON file created successfully!\")"
   ],
   "id": "e1f2641e1dbbf3c",
   "outputs": [
    {
     "name": "stdout",
     "output_type": "stream",
     "text": [
      "JSON file created successfully!\n"
     ]
    }
   ],
   "execution_count": 37
  },
  {
   "metadata": {},
   "cell_type": "markdown",
   "source": "### Example: Reading from a JSON File in Python",
   "id": "4a5c96352ec6843d"
  },
  {
   "metadata": {
    "ExecuteTime": {
     "end_time": "2025-03-16T20:02:31.032557Z",
     "start_time": "2025-03-16T20:02:31.025932Z"
    }
   },
   "cell_type": "code",
   "source": [
    "with open(\"data.json\", \"r\") as file:\n",
    "    data = json.load(file)  # Convert JSON file content to Python dictionary\n",
    "\n",
    "# Print the loaded data\n",
    "print(data)\n",
    "print(f\"Name: {data['name']}\")\n",
    "print(f\"Skills: {', '.join(data['skills'])}\")\n",
    "\n",
    "# join method, insert ', ' between each element of data[skills]"
   ],
   "id": "8615bdc1af2293c9",
   "outputs": [
    {
     "name": "stdout",
     "output_type": "stream",
     "text": [
      "{'name': 'Gezim Ciriku', 'age': 27, 'city': 'Prishtine', 'skills': ['Python', 'Math', 'Teaching']}\n",
      "Name: Gezim Ciriku\n",
      "Skills: Python, Math, Teaching\n"
     ]
    }
   ],
   "execution_count": 38
  },
  {
   "metadata": {},
   "cell_type": "markdown",
   "source": "### Example: Updating/Modifying JSON Data in a File",
   "id": "90cbb86ffa8fe92"
  },
  {
   "metadata": {
    "ExecuteTime": {
     "end_time": "2025-03-16T20:05:59.818844Z",
     "start_time": "2025-03-16T20:05:59.810051Z"
    }
   },
   "cell_type": "code",
   "source": [
    "# Step 1: Read the existing JSON data\n",
    "with open(\"data.json\", \"r\") as file:\n",
    "    data = json.load(file)  # Convert JSON to Python dictionary\n",
    "\n",
    "# Step 2: Modify the data (add a new skill)\n",
    "data[\"skills\"].append(\"C#\")  # Add a new skill\n",
    "\n",
    "# Step 3: Write the updated data back to the JSON file\n",
    "with open(\"data.json\", \"w\") as file:\n",
    "    json.dump(data, file, indent=4)  # Save changes\n",
    "\n",
    "print(\"Updated JSON file successfully!\")"
   ],
   "id": "65e28ebd8ab3d489",
   "outputs": [
    {
     "name": "stdout",
     "output_type": "stream",
     "text": [
      "Updated JSON file successfully!\n"
     ]
    }
   ],
   "execution_count": 39
  }
 ],
 "metadata": {
  "kernelspec": {
   "display_name": "Python 3",
   "language": "python",
   "name": "python3"
  },
  "language_info": {
   "codemirror_mode": {
    "name": "ipython",
    "version": 2
   },
   "file_extension": ".py",
   "mimetype": "text/x-python",
   "name": "python",
   "nbconvert_exporter": "python",
   "pygments_lexer": "ipython2",
   "version": "2.7.6"
  }
 },
 "nbformat": 4,
 "nbformat_minor": 5
}

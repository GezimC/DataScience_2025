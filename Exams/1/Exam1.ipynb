{
 "cells": [
  {
   "metadata": {},
   "cell_type": "markdown",
   "source": [
    "# 🐼 Python, NumPy & Pandas - Exam 1\n",
    "- Change the name of file to your name\n",
    "- Every cell should have you name, surname initials.\n",
    "- Exam Duration: 2h\n",
    "- Exam Points: 20\n"
   ],
   "id": "67dd326f72b5c698"
  },
  {
   "metadata": {},
   "cell_type": "markdown",
   "source": [
    "**1:** Write a function that accepts arbitrary integer numbers using *args, and returns the result of:\n",
    "<br>(sum of all numbers except the last one) multiplied by the last number, divided by the number of parameters\n",
    "<br>Example: calculate_value(2, 4, 5)\n",
    "<br>returns ((2 + 4) * 5) / 3 = (6 * 5) / 3 = 30 / 3 = 10"
   ],
   "id": "3db1259dc7eceb78"
  },
  {
   "metadata": {},
   "cell_type": "code",
   "outputs": [],
   "execution_count": null,
   "source": "# GC",
   "id": "d04004e82b47ef14"
  },
  {
   "metadata": {},
   "cell_type": "markdown",
   "source": [
    "**2:** Write a function find_duplicate_words(text) that takes a string and checks if any word appears more than once.\n",
    "<br>The function should return a list of duplicate words\n",
    "<br> Test with this: find_duplicates('This is a simple test to test your knowledge')\n",
    "<br> should return 'test'\n",
    "<br> hint, create empty array, fill if duplicates found, split, iterate, slice"
   ],
   "id": "9c4ce1e46f6b4259"
  },
  {
   "metadata": {},
   "cell_type": "code",
   "outputs": [],
   "execution_count": null,
   "source": "",
   "id": "b2b02409e41e9e42"
  },
  {
   "metadata": {},
   "cell_type": "markdown",
   "source": "**3:** Using indexes, show the word 'rainy' from below data structure:",
   "id": "2f49f0f2068e9c38"
  },
  {
   "metadata": {},
   "cell_type": "code",
   "outputs": [],
   "execution_count": null,
   "source": [
    "data = {\n",
    "    'outer_list': [\n",
    "        {'inner_dict':\n",
    "         {'key1': [1, 2, 3, ('apple', 'banana',\n",
    "                             {'nested_key': ['rain', 'shine', {'final_key': 'sunshine'}]})]}},\n",
    "        {'inner_tuple':\n",
    "         ('cat', 'dog', {'another_key': {'inside_tuple': ['moon', 'stars', 'clouds']}})}\n",
    "    ],\n",
    "    'middle_dict': {\n",
    "        'keyA': {'nested_list': [[4, 5, 6], {'keyB': ('ocean', 'beach', {'inner_list': ['wind', 'storm', 'rainy', {'last_key': 'sunny'}]})}]}\n",
    "    }\n",
    "}"
   ],
   "id": "12ed455e2cd2a07d"
  },
  {
   "metadata": {},
   "cell_type": "code",
   "outputs": [],
   "execution_count": null,
   "source": "",
   "id": "80db5997d790fb58"
  },
  {
   "metadata": {},
   "cell_type": "markdown",
   "source": [
    "**4:** You are given a list of names. Use `filter()` to select names longer than 4 characters ending whith 'a',\n",
    "then use `map()` to transform the filtered names into uppercase using a `lambda` function."
   ],
   "id": "e9ec0091721e4940"
  },
  {
   "metadata": {},
   "cell_type": "code",
   "outputs": [],
   "execution_count": null,
   "source": "names = [\"Ana\", \"John\", \"Elizabeth\", \"Bob\", \"Catherine\", \"Aurora\"]",
   "id": "37ccfbfd2bb75152"
  },
  {
   "metadata": {},
   "cell_type": "code",
   "outputs": [],
   "execution_count": null,
   "source": "",
   "id": "dad6f1705fe3d5e1"
  },
  {
   "metadata": {},
   "cell_type": "code",
   "outputs": [],
   "execution_count": null,
   "source": "",
   "id": "67c2256ea84617de"
  },
  {
   "metadata": {},
   "cell_type": "markdown",
   "source": [
    "**5:** You are given a list of date strings in the format `\"DD/MM/YYYY\"`.\n",
    "Write a function that parses these strings into `datetime` objects, then returns a new list where each date is formatted as `\"Month_Name DD, YYYY\"` (e.g., \"April 12, 2025\")."
   ],
   "id": "288f0e05015bb36c"
  },
  {
   "metadata": {},
   "cell_type": "code",
   "outputs": [],
   "execution_count": null,
   "source": [
    "import datetime as d\n",
    "dates_str = ['10/02/2025', '27/03/2025', '12/04/2025']"
   ],
   "id": "6b1ed74005737d13"
  },
  {
   "metadata": {},
   "cell_type": "code",
   "outputs": [],
   "execution_count": null,
   "source": [
    "dates_obj = []\n",
    "# fill"
   ],
   "id": "8afeab7dbdffd5ae"
  },
  {
   "metadata": {},
   "cell_type": "code",
   "outputs": [],
   "execution_count": null,
   "source": "#print each date in requested format",
   "id": "e34c7a912d9c8032"
  },
  {
   "metadata": {},
   "cell_type": "markdown",
   "source": [
    "**6:** You are given a 3x4 NumPy array that contains some `np.nan` values.\n",
    "- Replace each `np.nan` with the **mean of its row**\n",
    "- Use **boolean masking** to select and print all values greater than 5.\n",
    "- Find maximum value for each column"
   ],
   "id": "ca63ed8190f4901c"
  },
  {
   "metadata": {},
   "cell_type": "code",
   "outputs": [],
   "execution_count": null,
   "source": [
    "import numpy as np\n",
    "arr = np.array([\n",
    "    [1.0, 2.0, np.nan, 4.0],\n",
    "    [5.0, np.nan, 7.0, 8.0],\n",
    "    [9.0, 10.0, 11.0, np.nan]\n",
    "])"
   ],
   "id": "d6ac63386e452db3"
  },
  {
   "metadata": {},
   "cell_type": "code",
   "outputs": [],
   "execution_count": null,
   "source": "",
   "id": "46b577457f05e18a"
  },
  {
   "metadata": {},
   "cell_type": "markdown",
   "source": "### You are given a hr_data, start by importing csv, and answer following questions",
   "id": "5cc6889532e1c5e2"
  },
  {
   "metadata": {},
   "cell_type": "code",
   "outputs": [],
   "execution_count": null,
   "source": [
    "import pandas as pd\n",
    "\n",
    "# Load the dataset\n",
    "df = pd.read_csv('hr_data.csv')\n",
    "df.head()"
   ],
   "id": "87c3dfed2df8c9e0"
  },
  {
   "metadata": {},
   "cell_type": "markdown",
   "source": "**7:** Filter and show all employees from the Finance department older than 30 years, and sort by age, descending",
   "id": "4917d1734cfeff68"
  },
  {
   "metadata": {},
   "cell_type": "code",
   "outputs": [],
   "execution_count": null,
   "source": "",
   "id": "e14b1f8c3de72435"
  },
  {
   "metadata": {},
   "cell_type": "markdown",
   "source": [
    "**8:**\n",
    "- Find how many values are missing in bonus column\n",
    "- Replace with zero missing values in bonus column\n",
    "- After replacing bonus values, drop all rows that conatins null values"
   ],
   "id": "17da280f3a5e439b"
  },
  {
   "metadata": {},
   "cell_type": "code",
   "outputs": [],
   "execution_count": null,
   "source": "",
   "id": "82f6895c7d35ffc5"
  },
  {
   "metadata": {},
   "cell_type": "code",
   "outputs": [],
   "execution_count": null,
   "source": "",
   "id": "e6d54993da25f74"
  },
  {
   "metadata": {},
   "cell_type": "code",
   "outputs": [],
   "execution_count": null,
   "source": "",
   "id": "14dce3d59f312d8"
  },
  {
   "metadata": {},
   "cell_type": "markdown",
   "source": [
    "**9:** Apply a function to categorize employee based on YearsAtCompany\n",
    "<br>'Junior' (<2), 'Mid' (3-5), 'Senior' (>5).\n",
    "<br> In which category falls most of the employees"
   ],
   "id": "e5964e9eb955b655"
  },
  {
   "metadata": {},
   "cell_type": "code",
   "outputs": [],
   "execution_count": null,
   "source": "",
   "id": "6b6ba3e9605acb1"
  },
  {
   "metadata": {},
   "cell_type": "code",
   "outputs": [],
   "execution_count": null,
   "source": "",
   "id": "a9767586b69b4a8f"
  },
  {
   "metadata": {},
   "cell_type": "markdown",
   "source": [
    "**10:** Using apply function\n",
    "- extract just number part from EmpID, example: EMP1001, extract 1001\n",
    "- save to a newcolumn named 'EmployeeId'\n",
    "- make that column index column"
   ],
   "id": "9749598df73707b6"
  },
  {
   "metadata": {},
   "cell_type": "code",
   "outputs": [],
   "execution_count": null,
   "source": "",
   "id": "6c9b2067a59c7567"
  },
  {
   "metadata": {},
   "cell_type": "code",
   "outputs": [],
   "execution_count": null,
   "source": "",
   "id": "11ce2a0f2ef2e7c5"
  },
  {
   "metadata": {},
   "cell_type": "markdown",
   "source": [
    "**11:**\n",
    "- Find average Salary by PerformanceScore\n",
    "- Find average Salary by YearsAtCompany\n",
    "- Is there any correlation between them"
   ],
   "id": "9a08e0a9c3c62d6e"
  },
  {
   "metadata": {},
   "cell_type": "code",
   "outputs": [],
   "execution_count": null,
   "source": "",
   "id": "9a23d1dda59482bb"
  },
  {
   "metadata": {},
   "cell_type": "markdown",
   "source": [
    "**12:** Find employees who: (Identify Potential Promotions)\n",
    "- Have a `PerformanceScore` of `\"Excellent\"`\n",
    "- Have `YearsAtCompany` > 5\n",
    "- Earn less than the **average salary of their department**\n",
    "\n",
    "Return a filtered DataFrame with columns: `EmpID`, `Name`, `Department`, `Salary`, `YearsAtCompany`, `PerformanceScore`."
   ],
   "id": "8f122cf3484c7cd8"
  },
  {
   "metadata": {},
   "cell_type": "code",
   "outputs": [],
   "execution_count": null,
   "source": "# approach using transform('mean') instead of mean()",
   "id": "6a38f83786721a67"
  },
  {
   "metadata": {},
   "cell_type": "code",
   "outputs": [],
   "execution_count": null,
   "source": "",
   "id": "9d195aa74d7adef"
  },
  {
   "metadata": {},
   "cell_type": "markdown",
   "source": [
    "**13:** Create a new column `ScoreValue` that encodes `PerformanceScore` using the following logic:\n",
    "- \"Excellent\" → 4\n",
    "- \"Good\" → 3\n",
    "- \"Average\" → 2\n",
    "- \"Poor\" → 1\n",
    "\n",
    "Use a **custom function with `apply()`** (not `.map()`), and then compute the **average `ScoreValue` per Department**."
   ],
   "id": "c891031dfcf66510"
  },
  {
   "metadata": {},
   "cell_type": "code",
   "outputs": [],
   "execution_count": null,
   "source": "",
   "id": "1df9c4b3382fd72b"
  },
  {
   "metadata": {},
   "cell_type": "code",
   "outputs": [],
   "execution_count": null,
   "source": "",
   "id": "b2ffd7f1e60aa76f"
  },
  {
   "metadata": {},
   "cell_type": "code",
   "outputs": [],
   "execution_count": null,
   "source": "",
   "id": "eb33a78fcbf8fe8b"
  }
 ],
 "metadata": {
  "kernelspec": {
   "display_name": "Python 3",
   "language": "python",
   "name": "python3"
  },
  "language_info": {
   "codemirror_mode": {
    "name": "ipython",
    "version": 2
   },
   "file_extension": ".py",
   "mimetype": "text/x-python",
   "name": "python",
   "nbconvert_exporter": "python",
   "pygments_lexer": "ipython2",
   "version": "2.7.6"
  }
 },
 "nbformat": 4,
 "nbformat_minor": 5
}

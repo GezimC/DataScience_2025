{
 "cells": [
  {
   "cell_type": "markdown",
   "id": "04ba6458",
   "metadata": {},
   "source": [
    "# 🧠 Python, NumPy & Pandas Practice Exercises\n",
    "This notebook includes a variety of exercises to help you prepare for your exam. Topics include Python functions, NumPy, and Pandas data manipulation."
   ]
  },
  {
   "cell_type": "markdown",
   "id": "ee00ffdc",
   "metadata": {},
   "source": [
    "## Part 1: Python Basics & Functions"
   ]
  },
  {
   "cell_type": "markdown",
   "id": "c1728836",
   "metadata": {},
   "source": [
    "### 1. Subtract Sum of All from Last Number\n",
    "**Task:** Write a function that accepts arbitrary integer numbers using `*args`, and returns the result of:<br>\n",
    "**last number - sum of all previous numbers**"
   ]
  },
  {
   "cell_type": "code",
   "id": "970568ad",
   "metadata": {},
   "source": "",
   "outputs": [],
   "execution_count": null
  },
  {
   "cell_type": "markdown",
   "id": "f17845a6",
   "metadata": {},
   "source": [
    "_Hint: Use parameters to pass values into functions._"
   ]
  },
  {
   "cell_type": "markdown",
   "id": "990945b5",
   "metadata": {},
   "source": [
    "### 2. Count vowels in a string\n",
    "**Task:** Return the number of vowels in a string.\n",
    "**Given:**"
   ]
  },
  {
   "cell_type": "code",
   "id": "12bef0ef",
   "metadata": {},
   "source": "text = \"Kosova is best country\"",
   "outputs": [],
   "execution_count": null
  },
  {
   "metadata": {},
   "cell_type": "markdown",
   "source": "### 3. Tuples, loops, string formating\n",
   "id": "4719f8a7af15e7d2"
  },
  {
   "metadata": {},
   "cell_type": "markdown",
   "source": [
    "Task: Print Student Details from Tuples\n",
    "**Task:** A list of tuples is provided, where each tuple contains information about a student (`name`, `age`, and `grade`).\n",
    "Write code that prints the details of each student in the following format:<br> Student: Alice, Age: 18, Grade: 90"
   ],
   "id": "bd642fd59d415be8"
  },
  {
   "metadata": {},
   "cell_type": "code",
   "source": "students = [(\"Alice\", 18, 90), (\"Bob\", 20, 85), (\"Clara\", 19, 92)]",
   "id": "d1e3bcfdaa520c47",
   "outputs": [],
   "execution_count": null
  },
  {
   "cell_type": "markdown",
   "id": "513461e5",
   "metadata": {},
   "source": [
    "### 4. Filter long words\n",
    "**Task:** Return only words longer than 5 characters.\n",
    "**Given:**"
   ]
  },
  {
   "cell_type": "code",
   "id": "6bf4c2df",
   "metadata": {},
   "source": [
    "words = [\"apple\", \"banana\", \"kiwi\", \"strawberry\", \"fig\"]"
   ],
   "outputs": [],
   "execution_count": null
  },
  {
   "cell_type": "markdown",
   "id": "b454e7db",
   "metadata": {},
   "source": [
    "### 5. Square numbers using map\n",
    "**Given:**"
   ]
  },
  {
   "cell_type": "code",
   "id": "cd3657a0",
   "metadata": {},
   "source": [
    "nums = [1, 3, 5, 7, 9]"
   ],
   "outputs": [],
   "execution_count": null
  },
  {
   "cell_type": "markdown",
   "id": "8379f7c6",
   "metadata": {},
   "source": [
    "### 6. Extract even numbers with filter\n",
    "**Given:**"
   ]
  },
  {
   "cell_type": "code",
   "id": "9ace2b73",
   "metadata": {},
   "source": [
    "numbers = [12, 15, 22, 31, 44, 57]"
   ],
   "outputs": [],
   "execution_count": null
  },
  {
   "cell_type": "markdown",
   "id": "9ac50e41",
   "metadata": {},
   "source": [
    "### 7. Extract values from nested dict\n",
    "**Given:**"
   ]
  },
  {
   "cell_type": "code",
   "id": "45f6d942",
   "metadata": {},
   "source": [
    "# return 2nd points of student3 in history subject\n",
    "data = {\n",
    "    \"student1\": {\"math\": (80,90), \"science\": (85,90), \"history\": (100,90)},\n",
    "    \"student2\": {\"math\": (90,85), \"science\": (85,65), \"history\": (78,88)},\n",
    "    \"student3\": {\"math\": (70,65), \"science\": (80,90), \"history\": (68,78)}\n",
    "}"
   ],
   "outputs": [],
   "execution_count": null
  },
  {
   "cell_type": "markdown",
   "id": "842129c3",
   "metadata": {},
   "source": [
    "### 8. Sort tuples by second value\n",
    "**Given:**"
   ]
  },
  {
   "cell_type": "code",
   "id": "183dc643",
   "metadata": {},
   "source": [
    "items = [(\"apple\", 5), (\"banana\", 2), (\"cherry\", 10)]"
   ],
   "outputs": [],
   "execution_count": null
  },
  {
   "cell_type": "markdown",
   "id": "d91bf357",
   "metadata": {},
   "source": [
    "### 9. Highest average scorer\n",
    "**Given:**"
   ]
  },
  {
   "cell_type": "code",
   "id": "030723f6",
   "metadata": {},
   "source": [
    "scores = {\"Arta\": [88, 90, 92], \"Blendi\": [75, 78, 74], \"Drita\": [85, 87, 90]}"
   ],
   "outputs": [],
   "execution_count": null
  },
  {
   "cell_type": "markdown",
   "id": "72dc33b3",
   "metadata": {},
   "source": [
    "### 10. Return day of date\n",
    "**Given:**"
   ]
  },
  {
   "cell_type": "code",
   "id": "fb7a0321",
   "metadata": {},
   "source": [
    "date_str = \"15-04-2025\"\n",
    "\n",
    "# bonus: format to return \"April, 15, year:2025\""
   ],
   "outputs": [],
   "execution_count": null
  },
  {
   "cell_type": "markdown",
   "id": "ffa26c48",
   "metadata": {},
   "source": [
    "## Part 2: NumPy Exercises"
   ]
  },
  {
   "cell_type": "markdown",
   "id": "502a3c12",
   "metadata": {},
   "source": [
    "### 11. Create 5x5 random integers"
   ]
  },
  {
   "cell_type": "code",
   "id": "32e2d985",
   "metadata": {},
   "source": [
    "np.random.randint(10, 100, (5, 5))\n",
    "\n",
    "#bonus\n",
    "# 1. find avg per columns\n",
    "# 2. find avg per rows"
   ],
   "outputs": [],
   "execution_count": null
  },
  {
   "cell_type": "markdown",
   "id": "88d52343",
   "metadata": {},
   "source": "### 12. Replace evens with 0"
  },
  {
   "cell_type": "code",
   "id": "c18d5cd9",
   "metadata": {},
   "source": [
    "arr = np.array([10, 21, 32, 43, 54, 65])"
   ],
   "outputs": [],
   "execution_count": null
  },
  {
   "cell_type": "markdown",
   "id": "ad0b5f81",
   "metadata": {},
   "source": [
    "### 13. Use `np.where()` for Temperature Labels\n",
    "**Task:** You are given an array of 30 daily temperature readings (in °C).\n",
    "Write a program that categorizes each temperature into:\n",
    "- `\"COLD\"` if it's below 20°C\n",
    "- `\"NORMAL\"` if it's between 20°C and 30°C (inclusive)\n",
    "- `\"HOT\"` if it's above 30°C\n",
    "\n",
    "You should use NumPy’s `np.where()` function to perform this efficiently without writing a loop.\n",
    "**Given:**"
   ]
  },
  {
   "metadata": {},
   "cell_type": "code",
   "source": [
    "temps = np.array([12, 18, 22, 25, 31, 35, 28, 17, 21, 30,\n",
    "                  33, 19, 15, 20, 27, 32, 16, 29, 31, 24,\n",
    "                  23, 18, 26, 34, 30, 20, 19, 22, 36, 14])\n",
    "\n",
    "#expected result\n",
    "# ['COLD' 'COLD' 'NORMAL' ... 'HOT']"
   ],
   "id": "ec3c6b7b497b8dc2",
   "outputs": [],
   "execution_count": null
  },
  {
   "cell_type": "markdown",
   "id": "5a3e551d",
   "metadata": {},
   "source": "## Part 3: Pandas"
  },
  {
   "cell_type": "markdown",
   "id": "58a19708",
   "metadata": {},
   "source": "📁 **Dataset:** `sales_data.csv` must be in the same directory."
  },
  {
   "cell_type": "code",
   "id": "d92693b9",
   "metadata": {},
   "source": [
    "import pandas as pd\n",
    "df = pd.read_csv(\"sales_data.csv\")"
   ],
   "outputs": [],
   "execution_count": null
  },
  {
   "cell_type": "markdown",
   "id": "eb91f204",
   "metadata": {},
   "source": "### 14. Display first 5 rows of the dataset."
  },
  {
   "cell_type": "markdown",
   "id": "a5f9a199",
   "metadata": {},
   "source": "### 15. Add `TotalPrice` column = Quantity * PriceUSD"
  },
  {
   "cell_type": "markdown",
   "id": "7db92665",
   "metadata": {},
   "source": "### 16. Add `TaxAmount` column = TotalPrice * TaxPercentage"
  },
  {
   "cell_type": "markdown",
   "id": "49cf92f4",
   "metadata": {},
   "source": "### 17. Add `FinalAmount` column = TotalPrice + TaxAmount"
  },
  {
   "cell_type": "markdown",
   "id": "f7fb6365",
   "metadata": {},
   "source": "### 18. Find the most frequently purchased product."
  },
  {
   "cell_type": "markdown",
   "id": "72fd0d16",
   "metadata": {},
   "source": "### 19. Group by Card and get average FinalAmount."
  },
  {
   "cell_type": "markdown",
   "id": "357460f0",
   "metadata": {},
   "source": "### 20. Find Job category with highest avg. spending."
  },
  {
   "cell_type": "markdown",
   "id": "075260be",
   "metadata": {},
   "source": "### 21. Find all Laptop purchases over $500."
  },
  {
   "cell_type": "markdown",
   "id": "cc92f732",
   "metadata": {},
   "source": "### 22. Count how many bought more than 2 items."
  },
  {
   "cell_type": "markdown",
   "id": "e55bfbd1",
   "metadata": {},
   "source": "### 23. Count .edu email users per Job title."
  },
  {
   "metadata": {},
   "cell_type": "code",
   "source": "",
   "id": "a02c537270e7c969",
   "outputs": [],
   "execution_count": null
  }
 ],
 "metadata": {
  "kernelspec": {
   "name": "python3",
   "language": "python",
   "display_name": "Python 3 (ipykernel)"
  }
 },
 "nbformat": 4,
 "nbformat_minor": 5
}

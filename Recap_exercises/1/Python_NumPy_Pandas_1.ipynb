{
 "cells": [
  {
   "cell_type": "markdown",
   "id": "04ba6458",
   "metadata": {},
   "source": [
    "# 🧠 Python, NumPy & Pandas Practice Exercises 1\n",
    "This notebook includes a variety of exercises to help you prepare for your exam. Topics include Python functions, NumPy, and Pandas data manipulation."
   ]
  },
  {
   "cell_type": "markdown",
   "id": "ee00ffdc",
   "metadata": {},
   "source": [
    "## Part 1: Python Basics & Functions"
   ]
  },
  {
   "cell_type": "markdown",
   "id": "c1728836",
   "metadata": {},
   "source": [
    "### 1. Subtract Sum of All from Last Number\n",
    "**Task:** Write a function that accepts arbitrary integer numbers using `*args`, and returns the result of:<br>\n",
    "**last number - sum of all previous numbers**"
   ]
  },
  {
   "cell_type": "code",
   "id": "970568ad",
   "metadata": {
    "ExecuteTime": {
     "end_time": "2025-04-10T18:26:32.755078Z",
     "start_time": "2025-04-10T18:26:32.746784Z"
    }
   },
   "source": [
    "from fontTools.misc.cython import returns\n",
    "\n",
    "\n",
    "# calculate_smth(1,2,3,20)\n",
    "# returns 10-6 = 4\n",
    "\n",
    "def calculate_sum_sub(*numbers):\n",
    "    return numbers[-1] - sum(numbers[0:-1])\n",
    "\n",
    "\n",
    "calculate_sum_sub(1,2,3,20)"
   ],
   "outputs": [
    {
     "data": {
      "text/plain": [
       "14"
      ]
     },
     "execution_count": 4,
     "metadata": {},
     "output_type": "execute_result"
    }
   ],
   "execution_count": 4
  },
  {
   "cell_type": "markdown",
   "id": "f17845a6",
   "metadata": {},
   "source": [
    "_Hint: Use parameters to pass values into functions._"
   ]
  },
  {
   "cell_type": "markdown",
   "id": "990945b5",
   "metadata": {},
   "source": [
    "### 2. Count vowels in a string\n",
    "**Task:** Return the number of vowels in a string.\n",
    "**Given:**"
   ]
  },
  {
   "cell_type": "code",
   "id": "12bef0ef",
   "metadata": {
    "ExecuteTime": {
     "end_time": "2025-04-10T18:28:32.847784Z",
     "start_time": "2025-04-10T18:28:32.843104Z"
    }
   },
   "source": [
    "text = \"Kosova is best country\"\n",
    "\n",
    "vowels = ['a','e','i','o','u']\n",
    "counter = 0\n",
    "for shkronje in text:\n",
    "    if shkronje.lower() in vowels:\n",
    "        counter+=1\n",
    "\n",
    "print(counter)\n"
   ],
   "outputs": [
    {
     "name": "stdout",
     "output_type": "stream",
     "text": [
      "7\n"
     ]
    }
   ],
   "execution_count": 8
  },
  {
   "metadata": {},
   "cell_type": "markdown",
   "source": "### 3. Tuples, loops, string formating\n",
   "id": "4719f8a7af15e7d2"
  },
  {
   "metadata": {},
   "cell_type": "markdown",
   "source": [
    "Task: Print Student Details from Tuples\n",
    "**Task:** A list of tuples is provided, where each tuple contains information about a student (`name`, `age`, and `grade`).\n",
    "Write code that prints the details of each student in the following format:<br> Student: Alice, Age: 18, Grade: 90"
   ],
   "id": "bd642fd59d415be8"
  },
  {
   "metadata": {
    "ExecuteTime": {
     "end_time": "2025-04-10T18:30:17.018211Z",
     "start_time": "2025-04-10T18:30:17.012347Z"
    }
   },
   "cell_type": "code",
   "source": [
    "students = [(\"Alice\", 18, 90), (\"Bob\", 20, 85), (\"Clara\", 19, 92)]\n",
    "\n",
    "for student in students:\n",
    "    print(f'Student: {student[0]}, Age: {student[1]}, Grade: {student[2]}')\n"
   ],
   "id": "d1e3bcfdaa520c47",
   "outputs": [
    {
     "name": "stdout",
     "output_type": "stream",
     "text": [
      "Student: Alice, Age: 18, Grade: 90\n",
      "Student: Bob, Age: 20, Grade: 85\n",
      "Student: Clara, Age: 19, Grade: 92\n"
     ]
    }
   ],
   "execution_count": 10
  },
  {
   "cell_type": "markdown",
   "id": "513461e5",
   "metadata": {},
   "source": [
    "### 4. Filter long words\n",
    "**Task:** Return only words longer than 5 characters.\n",
    "**Given:**"
   ]
  },
  {
   "cell_type": "code",
   "id": "6bf4c2df",
   "metadata": {
    "ExecuteTime": {
     "end_time": "2025-04-10T18:32:13.703149Z",
     "start_time": "2025-04-10T18:32:13.697378Z"
    }
   },
   "source": [
    "words = [\"chicken\", \"banana\", \"kiwi\", \"strawberry\", \"fig\"]\n",
    "\n",
    "for word in words:\n",
    "    if len(word)>5:\n",
    "        print(word)"
   ],
   "outputs": [
    {
     "name": "stdout",
     "output_type": "stream",
     "text": [
      "chicken\n",
      "banana\n",
      "strawberry\n"
     ]
    }
   ],
   "execution_count": 13
  },
  {
   "metadata": {
    "ExecuteTime": {
     "end_time": "2025-04-10T18:33:18.597167Z",
     "start_time": "2025-04-10T18:33:18.592271Z"
    }
   },
   "cell_type": "code",
   "source": "list(filter( lambda word: len(word)>5 , words ))",
   "id": "bd86ad7aba729ec8",
   "outputs": [
    {
     "data": {
      "text/plain": [
       "['chicken', 'banana', 'strawberry']"
      ]
     },
     "execution_count": 15,
     "metadata": {},
     "output_type": "execute_result"
    }
   ],
   "execution_count": 15
  },
  {
   "cell_type": "markdown",
   "id": "b454e7db",
   "metadata": {},
   "source": [
    "### 5. Square numbers using map\n",
    "**Given:**"
   ]
  },
  {
   "cell_type": "code",
   "id": "cd3657a0",
   "metadata": {
    "ExecuteTime": {
     "end_time": "2025-04-10T18:34:48.058660Z",
     "start_time": "2025-04-10T18:34:48.053848Z"
    }
   },
   "source": [
    "nums = [1, 3, 5, 7, 9]\n",
    "\n",
    "list(map(lambda num: pow(num,2) ,  nums))"
   ],
   "outputs": [
    {
     "data": {
      "text/plain": [
       "[1, 9, 25, 49, 81]"
      ]
     },
     "execution_count": 16,
     "metadata": {},
     "output_type": "execute_result"
    }
   ],
   "execution_count": 16
  },
  {
   "cell_type": "markdown",
   "id": "8379f7c6",
   "metadata": {},
   "source": [
    "### 6. Extract even numbers with filter\n",
    "**Given:**"
   ]
  },
  {
   "cell_type": "code",
   "id": "9ace2b73",
   "metadata": {},
   "source": [
    "numbers = [12, 15, 22, 31, 44, 57]"
   ],
   "outputs": [],
   "execution_count": null
  },
  {
   "cell_type": "markdown",
   "id": "9ac50e41",
   "metadata": {},
   "source": [
    "### 7. Extract values from nested dict\n",
    "**Given:**"
   ]
  },
  {
   "cell_type": "code",
   "id": "45f6d942",
   "metadata": {
    "ExecuteTime": {
     "end_time": "2025-04-10T18:36:31.480297Z",
     "start_time": "2025-04-10T18:36:31.474202Z"
    }
   },
   "source": [
    "# return 2nd points of student3 in history subject\n",
    "data = {\n",
    "    \"student1\": {\"math\": (80,90), \"science\": (85,90), \"history\": (100,90)},\n",
    "    \"student2\": {\"math\": (90,85), \"science\": (85,65), \"history\": (78,88)},\n",
    "    \"student3\": {\"math\": (70,65), \"science\": (80,90), \"history\": (68,78)}\n",
    "}\n",
    "\n",
    "\n",
    "data['student3']['history'][1]"
   ],
   "outputs": [
    {
     "data": {
      "text/plain": [
       "78"
      ]
     },
     "execution_count": 19,
     "metadata": {},
     "output_type": "execute_result"
    }
   ],
   "execution_count": 19
  },
  {
   "cell_type": "markdown",
   "id": "842129c3",
   "metadata": {},
   "source": [
    "### 8. Sort tuples by second value\n",
    "**Given:**"
   ]
  },
  {
   "cell_type": "code",
   "id": "183dc643",
   "metadata": {
    "ExecuteTime": {
     "end_time": "2025-04-10T18:38:40.090451Z",
     "start_time": "2025-04-10T18:38:40.085206Z"
    }
   },
   "source": [
    "items = [(\"apple\", 5), (\"banana\", 2), (\"cherry\", 10)]\n",
    "\n",
    "sorted(items, key= lambda item : item[1])"
   ],
   "outputs": [
    {
     "data": {
      "text/plain": [
       "[('banana', 2), ('apple', 5), ('cherry', 10)]"
      ]
     },
     "execution_count": 20,
     "metadata": {},
     "output_type": "execute_result"
    }
   ],
   "execution_count": 20
  },
  {
   "cell_type": "markdown",
   "id": "d91bf357",
   "metadata": {},
   "source": [
    "### 9. Highest average scorer\n",
    "**Given:**"
   ]
  },
  {
   "cell_type": "code",
   "id": "030723f6",
   "metadata": {
    "ExecuteTime": {
     "end_time": "2025-04-10T18:44:42.465460Z",
     "start_time": "2025-04-10T18:44:42.458705Z"
    }
   },
   "source": [
    "scores = {\"Arta\": [88, 90, 92], \"Blendi\": [75, 78, 74], \"Drita\": [85, 87, 90]}\n",
    "lista = []\n",
    "import numpy as np\n",
    "for score in scores.items():\n",
    "    print(f'{score[0]}:{np.mean(score[1])}')\n",
    "\n",
    "\n",
    "#max(scores, key=lambda score: np.mean(scores[score]))"
   ],
   "outputs": [
    {
     "name": "stdout",
     "output_type": "stream",
     "text": [
      "Arta:90.0\n",
      "Blendi:75.66666666666667\n",
      "Drita:87.33333333333333\n"
     ]
    },
    {
     "data": {
      "text/plain": [
       "'Arta'"
      ]
     },
     "execution_count": 31,
     "metadata": {},
     "output_type": "execute_result"
    }
   ],
   "execution_count": 31
  },
  {
   "cell_type": "markdown",
   "id": "72dc33b3",
   "metadata": {},
   "source": [
    "### 10. Return day of date\n",
    "**Given:**"
   ]
  },
  {
   "cell_type": "code",
   "id": "fb7a0321",
   "metadata": {
    "ExecuteTime": {
     "end_time": "2025-04-10T18:47:42.608199Z",
     "start_time": "2025-04-10T18:47:42.602711Z"
    }
   },
   "source": [
    "date_str = \"15-04-2025\"\n",
    "\n",
    "import datetime as d\n",
    "\n",
    "date = d.datetime.strptime(date_str, '%d-%m-%Y')\n",
    "print(date.day)\n",
    "# bonus: format to return \"April, 15, year:2025\""
   ],
   "outputs": [
    {
     "name": "stdout",
     "output_type": "stream",
     "text": [
      "15\n"
     ]
    }
   ],
   "execution_count": 38
  },
  {
   "cell_type": "markdown",
   "id": "ffa26c48",
   "metadata": {},
   "source": [
    "## Part 2: NumPy Exercises"
   ]
  },
  {
   "cell_type": "markdown",
   "id": "502a3c12",
   "metadata": {},
   "source": [
    "### 11. Create 5x5 random integers"
   ]
  },
  {
   "cell_type": "code",
   "id": "32e2d985",
   "metadata": {},
   "source": [
    "np.random.randint(10, 100, (5, 5))\n",
    "\n",
    "#bonus\n",
    "# 1. find avg per columns\n",
    "# 2. find avg per rows"
   ],
   "outputs": [],
   "execution_count": null
  },
  {
   "cell_type": "markdown",
   "id": "88d52343",
   "metadata": {},
   "source": "### 12. Replace evens with 0"
  },
  {
   "cell_type": "code",
   "id": "c18d5cd9",
   "metadata": {},
   "source": [
    "arr = np.array([10, 21, 32, 43, 54, 65])"
   ],
   "outputs": [],
   "execution_count": null
  },
  {
   "cell_type": "markdown",
   "id": "ad0b5f81",
   "metadata": {},
   "source": [
    "### 13. Use `np.where()` for Temperature Labels\n",
    "**Task:** You are given an array of 30 daily temperature readings (in °C).\n",
    "Write a program that categorizes each temperature into:\n",
    "- `\"COLD\"` if it's below 20°C\n",
    "- `\"NORMAL\"` if it's between 20°C and 30°C (inclusive)\n",
    "- `\"HOT\"` if it's above 30°C\n",
    "\n",
    "You should use NumPy’s `np.where()` function to perform this efficiently without writing a loop.\n",
    "**Given:**"
   ]
  },
  {
   "metadata": {
    "ExecuteTime": {
     "end_time": "2025-04-10T18:48:50.341454Z",
     "start_time": "2025-04-10T18:48:50.334981Z"
    }
   },
   "cell_type": "code",
   "source": [
    "temps = np.array([12, 18, 22, 25, 31, 35, 28, 17, 21, 30,\n",
    "                  33, 19, 15, 20, 27, 32, 16, 29, 31, 24,\n",
    "                  23, 18, 26, 34, 30, 20, 19, 22, 36, 14])\n",
    "\n",
    "np.where(temps>20, 'Normal','Cold')\n",
    "\n",
    "#expected result\n",
    "# ['COLD' 'COLD' 'NORMAL' ... 'HOT']"
   ],
   "id": "ec3c6b7b497b8dc2",
   "outputs": [
    {
     "data": {
      "text/plain": [
       "array(['Cold', 'Cold', 'Normal', 'Normal', 'Normal', 'Normal', 'Normal',\n",
       "       'Cold', 'Normal', 'Normal', 'Normal', 'Cold', 'Cold', 'Cold',\n",
       "       'Normal', 'Normal', 'Cold', 'Normal', 'Normal', 'Normal', 'Normal',\n",
       "       'Cold', 'Normal', 'Normal', 'Normal', 'Cold', 'Cold', 'Normal',\n",
       "       'Normal', 'Cold'], dtype='<U6')"
      ]
     },
     "execution_count": 40,
     "metadata": {},
     "output_type": "execute_result"
    }
   ],
   "execution_count": 40
  },
  {
   "cell_type": "markdown",
   "id": "5a3e551d",
   "metadata": {},
   "source": "## Part 3: Pandas"
  },
  {
   "cell_type": "markdown",
   "id": "58a19708",
   "metadata": {},
   "source": "📁 **Dataset:** `sales_data.csv` must be in the same directory."
  },
  {
   "cell_type": "code",
   "id": "d92693b9",
   "metadata": {
    "ExecuteTime": {
     "end_time": "2025-04-10T18:49:26.883938Z",
     "start_time": "2025-04-10T18:49:22.312517Z"
    }
   },
   "source": [
    "import pandas as pd\n",
    "df = pd.read_csv(\"sales_data.csv\")"
   ],
   "outputs": [],
   "execution_count": 41
  },
  {
   "cell_type": "markdown",
   "id": "eb91f204",
   "metadata": {},
   "source": "### 14. Display first 5 rows of the dataset."
  },
  {
   "cell_type": "markdown",
   "id": "a5f9a199",
   "metadata": {},
   "source": "### 15. Add `TotalPrice` column = Quantity * PriceUSD"
  },
  {
   "cell_type": "markdown",
   "id": "7db92665",
   "metadata": {},
   "source": "### 16. Add `TaxAmount` column = TotalPrice * TaxPercentage"
  },
  {
   "cell_type": "markdown",
   "id": "49cf92f4",
   "metadata": {},
   "source": "### 17. Add `FinalAmount` column = TotalPrice + TaxAmount"
  },
  {
   "cell_type": "markdown",
   "id": "f7fb6365",
   "metadata": {},
   "source": "### 18. Find the most frequently purchased product."
  },
  {
   "cell_type": "markdown",
   "id": "72fd0d16",
   "metadata": {},
   "source": "### 19. Group by Card and get average FinalAmount."
  },
  {
   "cell_type": "markdown",
   "id": "357460f0",
   "metadata": {},
   "source": "### 20. Find Job category with highest avg. spending."
  },
  {
   "cell_type": "markdown",
   "id": "075260be",
   "metadata": {},
   "source": "### 21. Find all Laptop purchases over $500."
  },
  {
   "metadata": {
    "ExecuteTime": {
     "end_time": "2025-04-10T18:50:50.517846Z",
     "start_time": "2025-04-10T18:50:50.510917Z"
    }
   },
   "cell_type": "code",
   "source": "df[df['Product'] =='Laptop']['PriceUSD']>500",
   "id": "6d617691ace124b2",
   "outputs": [
    {
     "data": {
      "text/plain": [
       "0     False\n",
       "31    False\n",
       "37    False\n",
       "39    False\n",
       "42    False\n",
       "66    False\n",
       "68    False\n",
       "87    False\n",
       "89    False\n",
       "98    False\n",
       "Name: PriceUSD, dtype: bool"
      ]
     },
     "execution_count": 47,
     "metadata": {},
     "output_type": "execute_result"
    }
   ],
   "execution_count": 47
  },
  {
   "cell_type": "markdown",
   "id": "cc92f732",
   "metadata": {},
   "source": "### 22. Count how many bought more than 2 items."
  },
  {
   "cell_type": "markdown",
   "id": "e55bfbd1",
   "metadata": {},
   "source": "### 23. Count .edu email users per Job title."
  },
  {
   "metadata": {},
   "cell_type": "code",
   "source": "",
   "id": "a02c537270e7c969",
   "outputs": [],
   "execution_count": null
  }
 ],
 "metadata": {
  "kernelspec": {
   "name": "python3",
   "language": "python",
   "display_name": "Python 3 (ipykernel)"
  }
 },
 "nbformat": 4,
 "nbformat_minor": 5
}

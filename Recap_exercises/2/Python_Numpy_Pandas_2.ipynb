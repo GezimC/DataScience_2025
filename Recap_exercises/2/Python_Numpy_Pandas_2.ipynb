{
 "cells": [
  {
   "metadata": {},
   "cell_type": "markdown",
   "source": [
    "# 🐼 Python, NumPy & Pandas Practice Exercises 2\n",
    "This notebook includes a variety of exercises to help you prepare for your exam. Topics include Python functions, NumPy, and Pandas data manipulation.\n"
   ],
   "id": "3cba0d2af8c9df36"
  },
  {
   "metadata": {},
   "cell_type": "markdown",
   "source": [
    "### 🟢 Exercise 1 – Name Length Dictionary\n",
    "You are given a list of student names. Create a dictionary where each student's name is the key, and the value is the length of their name.\n",
    "Only include names that are longer than 5 characters."
   ],
   "id": "48d41f7d433d4750"
  },
  {
   "metadata": {},
   "cell_type": "code",
   "outputs": [],
   "execution_count": null,
   "source": "students = [\"Anna\", \"Jonathan\", \"Leo\", \"Catherine\"]",
   "id": "3a6a0dccdf2d8b48"
  },
  {
   "metadata": {},
   "cell_type": "code",
   "outputs": [],
   "execution_count": null,
   "source": "",
   "id": "61a6ae5353583af1"
  },
  {
   "metadata": {},
   "cell_type": "markdown",
   "source": [
    "### 🟡 Exercise 2 – Price Tag Dictionary\n",
    "Given a list of tuples where each tuple contains a product name and its price, create a dictionary where:\n",
    "- The key is the product name\n",
    "- The value is `\"expensive\"` if price > 100, otherwise `\"cheap\"`\n",
    "\n"
   ],
   "id": "ed7d83669afd7576"
  },
  {
   "metadata": {},
   "cell_type": "code",
   "outputs": [],
   "execution_count": null,
   "source": "products = [(\"Laptop\", 999), (\"Mouse\", 25), (\"Keyboard\", 75), (\"Monitor\", 150)]",
   "id": "18e35b49fe799dc0"
  },
  {
   "metadata": {},
   "cell_type": "code",
   "outputs": [],
   "execution_count": null,
   "source": "",
   "id": "a0fa8d4a2c8ea63e"
  },
  {
   "metadata": {},
   "cell_type": "markdown",
   "source": [
    "### 🟢 Exercise 3 – Sum of All Numbers (Dynamic Parameters)\n",
    "Create a function called `sum_all` that takes any number of arguments using `*args` and returns their total sum.\n",
    "\n",
    "**Example:**\n",
    "```python\n",
    "sum_all(1, 2, 3)       → 6\n",
    "sum_all(10, 20, 30, 5) → 65"
   ],
   "id": "ef74ceedfbfd996a"
  },
  {
   "metadata": {},
   "cell_type": "code",
   "outputs": [],
   "execution_count": null,
   "source": "",
   "id": "aa44fca5f5beee85"
  },
  {
   "metadata": {
    "ExecuteTime": {
     "end_time": "2025-04-12T16:28:46.113384Z",
     "start_time": "2025-04-12T16:28:46.110316Z"
    }
   },
   "cell_type": "code",
   "source": "",
   "id": "f6327030aac61228",
   "outputs": [],
   "execution_count": null
  },
  {
   "metadata": {},
   "cell_type": "markdown",
   "source": [
    "### 🟡 Exercise 4 – Sort by Last Character (Lambda Function)\n",
    "Given a list of words, sort the list **by the last character** of each word using a lambda function.\n",
    "\n"
   ],
   "id": "5c0863f805648197"
  },
  {
   "metadata": {},
   "cell_type": "code",
   "outputs": [],
   "execution_count": null,
   "source": "# hint: sorted(words , key = lambda ...)",
   "id": "8d81dbfc0945dfb9"
  },
  {
   "metadata": {},
   "cell_type": "code",
   "outputs": [],
   "execution_count": null,
   "source": "words = [\"chicken\", \"banana\", \"kiwi\", \"grape\"]",
   "id": "ae412c53949bac5e"
  },
  {
   "metadata": {},
   "cell_type": "code",
   "outputs": [],
   "execution_count": null,
   "source": "",
   "id": "fcbbb3559deb1fe1"
  },
  {
   "metadata": {},
   "cell_type": "markdown",
   "source": [
    "### 🔴 Exercise 5 – Filter and Transform Names\n",
    "You are given a list of names. Use `filter()` to select names longer than 4 characters,\n",
    "then use `map()` to transform the filtered names into uppercase using a `lambda` function.\n"
   ],
   "id": "33f26a8526a2461d"
  },
  {
   "metadata": {},
   "cell_type": "code",
   "outputs": [],
   "execution_count": null,
   "source": "names = [\"Ana\", \"John\", \"Elizabeth\", \"Bob\", \"Catherine\"]",
   "id": "cdd6c14436c535f5"
  },
  {
   "metadata": {},
   "cell_type": "code",
   "outputs": [],
   "execution_count": null,
   "source": "",
   "id": "8e05c2f592672c0b"
  },
  {
   "metadata": {},
   "cell_type": "code",
   "outputs": [],
   "execution_count": null,
   "source": "",
   "id": "4c0e2858451ded1d"
  },
  {
   "metadata": {},
   "cell_type": "code",
   "outputs": [],
   "execution_count": null,
   "source": "",
   "id": "3d26e19a859e08f3"
  },
  {
   "metadata": {},
   "cell_type": "markdown",
   "source": [
    "### 🔴 Exercise 6 – Email Domain Filter with List Comprehension\n",
    "You are given a list of email addresses.\n",
    "Use **list comprehension** to extract only the usernames (the part before `@`) **for emails that belong to the domain `example.com`**.\n"
   ],
   "id": "319f4c430549910"
  },
  {
   "metadata": {},
   "cell_type": "code",
   "outputs": [],
   "execution_count": null,
   "source": [
    "emails = [\n",
    "    \"alice@example.com\",\n",
    "    \"bob@gmail.com\",\n",
    "    \"charlie@example.com\",\n",
    "    \"dana@yahoo.com\"\n",
    "]"
   ],
   "id": "34c57702fec75faf"
  },
  {
   "metadata": {},
   "cell_type": "code",
   "outputs": [],
   "execution_count": null,
   "source": "",
   "id": "3cfbe672b062a389"
  },
  {
   "metadata": {},
   "cell_type": "code",
   "outputs": [],
   "execution_count": null,
   "source": "",
   "id": "c4f3bf2246474720"
  },
  {
   "metadata": {},
   "cell_type": "markdown",
   "source": [
    "### 🟡 Exercise 7 – Convert and Reformat Dates\n",
    "You are given a list of date strings in the format `\"DD/MM/YYYY\"`.\n",
    "Write a function that parses these strings into `datetime` objects, then returns a new list where each date is formatted as `\"Month_Name DD, YYYY\"` (e.g., \"April 12, 2025\").\n"
   ],
   "id": "a8afca659a2d548f"
  },
  {
   "metadata": {},
   "cell_type": "code",
   "outputs": [],
   "execution_count": null,
   "source": "dates = [\"12/04/2025\", \"01/01/2024\", \"25/12/2023\"]",
   "id": "997d27c3ab9dcc35"
  },
  {
   "metadata": {},
   "cell_type": "code",
   "outputs": [],
   "execution_count": null,
   "source": "",
   "id": "b4fc1406c6fc45ac"
  },
  {
   "metadata": {},
   "cell_type": "code",
   "outputs": [],
   "execution_count": null,
   "source": "",
   "id": "61f7a51b9a186f37"
  },
  {
   "metadata": {},
   "cell_type": "markdown",
   "source": [
    "### 🟡 Exercise 8 – Expiration Date Calculator\n",
    "You are given a list of issue dates in the format `\"YYYY-MM-DD\"`.\n",
    "Each item has a 30-day validity period.\n",
    "Write a function that returns a list of expiration dates in the same format by **adding 30 days** using `timedelta`."
   ],
   "id": "65de864d6cb414f5"
  },
  {
   "metadata": {},
   "cell_type": "code",
   "outputs": [],
   "execution_count": null,
   "source": [
    "# timedelta(days=30)\n",
    "issue_dates = [\"2025-03-01\", \"2025-04-10\", \"2025-12-25\"]"
   ],
   "id": "7de5760313fb024a"
  },
  {
   "metadata": {},
   "cell_type": "code",
   "outputs": [],
   "execution_count": null,
   "source": "",
   "id": "167b4885825971cf"
  },
  {
   "metadata": {},
   "cell_type": "code",
   "outputs": [],
   "execution_count": null,
   "source": "",
   "id": "ae7f01600015227d"
  },
  {
   "metadata": {},
   "cell_type": "code",
   "outputs": [],
   "execution_count": null,
   "source": "",
   "id": "5e14916025f710c2"
  },
  {
   "metadata": {},
   "cell_type": "markdown",
   "source": [
    "### 🟡 Exercise 9 – Find Maximum in Random Matrix (Row & Column)\n",
    "1. Generate a **4x5 NumPy matrix** with **random integers between 1 and 99** (inclusive).\n",
    "2. Set `seed = 42` for reproducibility.\n",
    "3. Find the **maximum value in each row** and **each column**.\n",
    "4. Print:\n",
    "   - The row-wise max values and their indexes\n",
    "   - The column-wise max values and their indexes"
   ],
   "id": "cf5ca1328e31d38f"
  },
  {
   "metadata": {},
   "cell_type": "code",
   "outputs": [],
   "execution_count": null,
   "source": "import numpy as np",
   "id": "51fe5c24bfc402b8"
  },
  {
   "metadata": {},
   "cell_type": "code",
   "outputs": [],
   "execution_count": null,
   "source": "",
   "id": "bd5ca22ab93b2bea"
  },
  {
   "metadata": {},
   "cell_type": "code",
   "outputs": [],
   "execution_count": null,
   "source": "",
   "id": "d5cef118520305f2"
  },
  {
   "metadata": {},
   "cell_type": "code",
   "outputs": [],
   "execution_count": null,
   "source": "",
   "id": "c9ef7f1697e0de64"
  },
  {
   "metadata": {},
   "cell_type": "markdown",
   "source": [
    "### 🟡 Exercise 10 – Select All Values Greater Than 50\n",
    "Create a NumPy array of shape `(4, 4)` filled with random integers between `10` and `99`,\n",
    "<br>\n",
    "- use **boolean masking** to select and print all values greater than 50.\n",
    "- replace even numbers with value 100 and print matrix\n"
   ],
   "id": "ec824e5e0eb6f3e7"
  },
  {
   "metadata": {},
   "cell_type": "code",
   "outputs": [],
   "execution_count": null,
   "source": "",
   "id": "b423c0177f41e963"
  },
  {
   "metadata": {},
   "cell_type": "code",
   "outputs": [],
   "execution_count": null,
   "source": "",
   "id": "7520915125372238"
  },
  {
   "metadata": {},
   "cell_type": "markdown",
   "source": [
    "### 🟡 Exercise 11 – Assign Grade Labels Using `np.where()`\n",
    "You are given a NumPy array of student scores (out of 100).\n",
    "Use `np.where()` to label the students as `\"Pass\"` if score ≥ 60, otherwise `\"Fail\"`.\n",
    "\n"
   ],
   "id": "b3e4bc871afc4fce"
  },
  {
   "metadata": {},
   "cell_type": "code",
   "outputs": [],
   "execution_count": null,
   "source": "scores = np.array([55, 67, 45, 89, 73, 38, 91])",
   "id": "eed4d98bbc2b8931"
  },
  {
   "metadata": {},
   "cell_type": "code",
   "outputs": [],
   "execution_count": null,
   "source": "",
   "id": "e059ff1056200442"
  },
  {
   "metadata": {},
   "cell_type": "code",
   "outputs": [],
   "execution_count": null,
   "source": "",
   "id": "3f550b207a2b92f7"
  },
  {
   "metadata": {},
   "cell_type": "code",
   "outputs": [],
   "execution_count": null,
   "source": "",
   "id": "4960cdafc6d31bb4"
  },
  {
   "metadata": {},
   "cell_type": "markdown",
   "source": [
    "### 🟡 Exercise 12 – Fill NaNs with Column Means\n",
    "You are given a 3x4 NumPy array that contains some `np.nan` values.\n",
    "Replace each `np.nan` with the **mean of its column** (ignoring `nan` when calculating the mean).\n"
   ],
   "id": "ed145f62d0830f13"
  },
  {
   "metadata": {},
   "cell_type": "code",
   "outputs": [],
   "execution_count": null,
   "source": [
    "# np.where\n",
    "# np.nanmean()\n",
    "arr = np.array([\n",
    "    [1.0, 2.0, np.nan, 4.0],\n",
    "    [5.0, np.nan, 7.0, 8.0],\n",
    "    [9.0, 10.0, 11.0, np.nan]\n",
    "])"
   ],
   "id": "938c6fb29769d004"
  },
  {
   "metadata": {},
   "cell_type": "markdown",
   "source": "### You are given a hr_data, start by importing csv, and answer following questions",
   "id": "11c390b88ee0bd9"
  },
  {
   "metadata": {
    "ExecuteTime": {
     "end_time": "2025-04-12T17:27:16.661636Z",
     "start_time": "2025-04-12T17:27:16.635167Z"
    }
   },
   "cell_type": "code",
   "source": [
    "import pandas as pd\n",
    "\n",
    "# Load the dataset\n",
    "df = pd.read_csv('hr_data.csv')\n",
    "df.head()"
   ],
   "id": "5c315ecb389c3a76",
   "outputs": [
    {
     "data": {
      "text/plain": [
       "     EmpID   Name  Surname Department  Age   Salary   Bonus  YearsAtCompany  \\\n",
       "0  EMP1000  Frank   Garcia  Marketing   59  93335.0   500.0               2   \n",
       "1  EMP1001  Alice    Jones    Finance   49  40965.0     NaN               1   \n",
       "2  EMP1002  Alice  Johnson    Finance   35  54538.0  1500.0               8   \n",
       "3  EMP1003   Dana    Davis         IT   28  38110.0  1500.0               7   \n",
       "4  EMP1004    Bob    Brown  Marketing   41  57266.0     NaN              12   \n",
       "\n",
       "  PerformanceScore  \n",
       "0             Poor  \n",
       "1             Poor  \n",
       "2             Good  \n",
       "3          Average  \n",
       "4        Excellent  "
      ],
      "text/html": [
       "<div>\n",
       "<style scoped>\n",
       "    .dataframe tbody tr th:only-of-type {\n",
       "        vertical-align: middle;\n",
       "    }\n",
       "\n",
       "    .dataframe tbody tr th {\n",
       "        vertical-align: top;\n",
       "    }\n",
       "\n",
       "    .dataframe thead th {\n",
       "        text-align: right;\n",
       "    }\n",
       "</style>\n",
       "<table border=\"1\" class=\"dataframe\">\n",
       "  <thead>\n",
       "    <tr style=\"text-align: right;\">\n",
       "      <th></th>\n",
       "      <th>EmpID</th>\n",
       "      <th>Name</th>\n",
       "      <th>Surname</th>\n",
       "      <th>Department</th>\n",
       "      <th>Age</th>\n",
       "      <th>Salary</th>\n",
       "      <th>Bonus</th>\n",
       "      <th>YearsAtCompany</th>\n",
       "      <th>PerformanceScore</th>\n",
       "    </tr>\n",
       "  </thead>\n",
       "  <tbody>\n",
       "    <tr>\n",
       "      <th>0</th>\n",
       "      <td>EMP1000</td>\n",
       "      <td>Frank</td>\n",
       "      <td>Garcia</td>\n",
       "      <td>Marketing</td>\n",
       "      <td>59</td>\n",
       "      <td>93335.0</td>\n",
       "      <td>500.0</td>\n",
       "      <td>2</td>\n",
       "      <td>Poor</td>\n",
       "    </tr>\n",
       "    <tr>\n",
       "      <th>1</th>\n",
       "      <td>EMP1001</td>\n",
       "      <td>Alice</td>\n",
       "      <td>Jones</td>\n",
       "      <td>Finance</td>\n",
       "      <td>49</td>\n",
       "      <td>40965.0</td>\n",
       "      <td>NaN</td>\n",
       "      <td>1</td>\n",
       "      <td>Poor</td>\n",
       "    </tr>\n",
       "    <tr>\n",
       "      <th>2</th>\n",
       "      <td>EMP1002</td>\n",
       "      <td>Alice</td>\n",
       "      <td>Johnson</td>\n",
       "      <td>Finance</td>\n",
       "      <td>35</td>\n",
       "      <td>54538.0</td>\n",
       "      <td>1500.0</td>\n",
       "      <td>8</td>\n",
       "      <td>Good</td>\n",
       "    </tr>\n",
       "    <tr>\n",
       "      <th>3</th>\n",
       "      <td>EMP1003</td>\n",
       "      <td>Dana</td>\n",
       "      <td>Davis</td>\n",
       "      <td>IT</td>\n",
       "      <td>28</td>\n",
       "      <td>38110.0</td>\n",
       "      <td>1500.0</td>\n",
       "      <td>7</td>\n",
       "      <td>Average</td>\n",
       "    </tr>\n",
       "    <tr>\n",
       "      <th>4</th>\n",
       "      <td>EMP1004</td>\n",
       "      <td>Bob</td>\n",
       "      <td>Brown</td>\n",
       "      <td>Marketing</td>\n",
       "      <td>41</td>\n",
       "      <td>57266.0</td>\n",
       "      <td>NaN</td>\n",
       "      <td>12</td>\n",
       "      <td>Excellent</td>\n",
       "    </tr>\n",
       "  </tbody>\n",
       "</table>\n",
       "</div>"
      ]
     },
     "execution_count": 2,
     "metadata": {},
     "output_type": "execute_result"
    }
   ],
   "execution_count": 2
  },
  {
   "metadata": {},
   "cell_type": "markdown",
   "source": "### 🟢 Q1. Show basic info (column names, non-null counts, data types).",
   "id": "fa294f3572ffd549"
  },
  {
   "metadata": {},
   "cell_type": "code",
   "outputs": [],
   "execution_count": null,
   "source": "",
   "id": "a68c82ddef527133"
  },
  {
   "metadata": {},
   "cell_type": "code",
   "outputs": [],
   "execution_count": null,
   "source": "",
   "id": "875ef66a2db94d3a"
  },
  {
   "metadata": {},
   "cell_type": "code",
   "outputs": [],
   "execution_count": null,
   "source": "",
   "id": "2e4e375798055209"
  },
  {
   "metadata": {},
   "cell_type": "markdown",
   "source": "### 🟢 Q2. Filter and show all employees from the IT department.",
   "id": "707486cf09b4114d"
  },
  {
   "metadata": {},
   "cell_type": "code",
   "outputs": [],
   "execution_count": null,
   "source": "",
   "id": "291442eec2b42043"
  },
  {
   "metadata": {},
   "cell_type": "code",
   "outputs": [],
   "execution_count": null,
   "source": "",
   "id": "ff61fcb05314698"
  },
  {
   "metadata": {},
   "cell_type": "markdown",
   "source": [
    "### 🟡 Q3. Working with nan values.\n",
    "- Find how many values are missing in bonus column\n",
    "- Replace with zero\n",
    "- Last step after replacing bonus values, drop all rows that conatin null values"
   ],
   "id": "91757da14f663a10"
  },
  {
   "metadata": {},
   "cell_type": "code",
   "outputs": [],
   "execution_count": null,
   "source": "",
   "id": "416772a9d7065a98"
  },
  {
   "metadata": {},
   "cell_type": "code",
   "outputs": [],
   "execution_count": null,
   "source": "",
   "id": "7c97dd57c8b077d7"
  },
  {
   "metadata": {},
   "cell_type": "markdown",
   "source": "### 🟡 Q4. Create a new column 'TotalCompensation' as the sum of Salary and Bonus.",
   "id": "f90fe38a96e682b2"
  },
  {
   "metadata": {},
   "cell_type": "code",
   "outputs": [],
   "execution_count": null,
   "source": "",
   "id": "ad797422f3c1a6c0"
  },
  {
   "metadata": {},
   "cell_type": "code",
   "outputs": [],
   "execution_count": null,
   "source": "",
   "id": "941ef8170d0955b7"
  },
  {
   "metadata": {},
   "cell_type": "markdown",
   "source": "### 🟡 Q5. Apply a function to categorize Age into 'Young' (<30), 'Mid' (30-45), 'Senior' (>45).",
   "id": "a217bd2e76a8a019"
  },
  {
   "metadata": {},
   "cell_type": "code",
   "outputs": [],
   "execution_count": null,
   "source": "",
   "id": "2a6f9ca46f2a72ae"
  },
  {
   "metadata": {},
   "cell_type": "code",
   "outputs": [],
   "execution_count": null,
   "source": "",
   "id": "811688a453e12191"
  },
  {
   "metadata": {},
   "cell_type": "markdown",
   "source": [
    "### 🟡 Q6. For each department find average Salary and average Bonus.\n",
    "- then find which department has highest Salary"
   ],
   "id": "c56401e9538c52b0"
  },
  {
   "metadata": {},
   "cell_type": "code",
   "outputs": [],
   "execution_count": null,
   "source": "",
   "id": "c3f6bf2ca51679c2"
  },
  {
   "metadata": {},
   "cell_type": "code",
   "outputs": [],
   "execution_count": null,
   "source": "",
   "id": "e8258436f9540367"
  },
  {
   "metadata": {},
   "cell_type": "markdown",
   "source": [
    "### 🟡 Q7. Using apply function\n",
    "- extract just number part from EmpId, example: EMP1001, extract 1001\n",
    "- save to a newcolumn\n",
    "- make that column index column"
   ],
   "id": "595dc75c30fc2e8"
  },
  {
   "metadata": {},
   "cell_type": "code",
   "outputs": [],
   "execution_count": null,
   "source": "",
   "id": "b52c6b41a847fa34"
  },
  {
   "metadata": {},
   "cell_type": "code",
   "outputs": [],
   "execution_count": null,
   "source": "",
   "id": "824a34e485a50454"
  },
  {
   "metadata": {},
   "cell_type": "markdown",
   "source": "### 🟡 Q7. Which department has younger employees (mean)",
   "id": "b82250931a5fd4af"
  },
  {
   "metadata": {},
   "cell_type": "code",
   "outputs": [],
   "execution_count": null,
   "source": "",
   "id": "34b18a4be2276e52"
  },
  {
   "metadata": {},
   "cell_type": "code",
   "outputs": [],
   "execution_count": null,
   "source": "",
   "id": "b1ab0d39a79ddd64"
  },
  {
   "metadata": {},
   "cell_type": "code",
   "outputs": [],
   "execution_count": null,
   "source": "",
   "id": "81c36a16984f5f3a"
  },
  {
   "metadata": {},
   "cell_type": "markdown",
   "source": [
    "### 🟡 Q8. Find average Salary by PerformanceScore\n",
    "- Is there any relation between salary and performance\n",
    "- Do the same for Salary and YearsAtCompany"
   ],
   "id": "a74e1ce7250a459b"
  },
  {
   "metadata": {},
   "cell_type": "code",
   "outputs": [],
   "execution_count": null,
   "source": "",
   "id": "631324025ac655b"
  },
  {
   "metadata": {},
   "cell_type": "code",
   "outputs": [],
   "execution_count": null,
   "source": "",
   "id": "2534264cc127de7f"
  },
  {
   "metadata": {},
   "cell_type": "code",
   "outputs": [],
   "execution_count": null,
   "source": "",
   "id": "b36c4576ea920889"
  },
  {
   "metadata": {},
   "cell_type": "markdown",
   "source": "### 🟠 Q9. For each PerformanceScore category, count how many employees fall under each Department.",
   "id": "935f35a89a1eab0d"
  },
  {
   "metadata": {},
   "cell_type": "markdown",
   "source": "Sample of Expected Results",
   "id": "f1c58ecc5aef8b02"
  },
  {
   "metadata": {},
   "cell_type": "markdown",
   "source": [
    "| PerformanceScore | Department | EmpID |\n",
    "|------------------|------------|--------|\n",
    "| Average          | Finance    | 3      |\n",
    "| Average          | HR         | 5      |\n",
    "| Average          | IT         | 2      |\n",
    "| Average          | Marketing  | 5      |\n",
    "| Average          | Sales      | 5      |\n",
    "| Excellent        | Finance    | 3      |\n",
    "| Excellent        | HR         | 5      |"
   ],
   "id": "6ea340592c97bb51"
  },
  {
   "metadata": {},
   "cell_type": "code",
   "outputs": [],
   "execution_count": null,
   "source": "",
   "id": "83933c3476bd0b49"
  },
  {
   "metadata": {},
   "cell_type": "markdown",
   "source": "### 🟠 Q10. For each department, find the most paid employee name and surname.",
   "id": "8c37fc7868c5585e"
  },
  {
   "metadata": {},
   "cell_type": "code",
   "outputs": [],
   "execution_count": null,
   "source": "# longest approach, using transform('max') instead of max()",
   "id": "3899bd5e0c93a08c"
  },
  {
   "metadata": {},
   "cell_type": "code",
   "outputs": [],
   "execution_count": null,
   "source": "",
   "id": "2b32ca454a9f15f7"
  },
  {
   "metadata": {},
   "cell_type": "code",
   "outputs": [],
   "execution_count": null,
   "source": "",
   "id": "aabd696af14c7d68"
  },
  {
   "metadata": {},
   "cell_type": "code",
   "outputs": [],
   "execution_count": null,
   "source": "",
   "id": "c934f45f97e332b5"
  },
  {
   "metadata": {},
   "cell_type": "code",
   "outputs": [],
   "execution_count": null,
   "source": "",
   "id": "844a0525771df910"
  },
  {
   "metadata": {},
   "cell_type": "markdown",
   "source": [
    "### 🔴 Q11. Identify Potential Promotions\n",
    "Find employees who:\n",
    "- Have a `PerformanceScore` of `\"Excellent\"`\n",
    "- Have `YearsAtCompany` > 5\n",
    "- Earn less than the **average salary of their department**\n",
    "\n",
    "Return a filtered DataFrame with columns: `EmpID`, `Name`, `Department`, `Salary`, `YearsAtCompany`, `PerformanceScore`.\n"
   ],
   "id": "da94168a1a1eef7a"
  },
  {
   "metadata": {},
   "cell_type": "code",
   "outputs": [],
   "execution_count": null,
   "source": "",
   "id": "6ae7736f2c1f56e7"
  },
  {
   "metadata": {},
   "cell_type": "code",
   "outputs": [],
   "execution_count": null,
   "source": "",
   "id": "3264269b9759deb1"
  },
  {
   "metadata": {},
   "cell_type": "code",
   "outputs": [],
   "execution_count": null,
   "source": "",
   "id": "4b067a43a6fcd5c3"
  },
  {
   "metadata": {},
   "cell_type": "markdown",
   "source": [
    "### 🔴 Q12. Custom Score Encoding using `apply()`\n",
    "Create a new column `ScoreValue` that encodes `PerformanceScore` using the following logic:\n",
    "- \"Excellent\" → 4\n",
    "- \"Good\" → 3\n",
    "- \"Average\" → 2\n",
    "- \"Poor\" → 1\n",
    "- NaN → 0\n",
    "\n",
    "Use a **custom function with `apply()`** (not `.map()`), and then compute the **average `ScoreValue` per Department**.\n"
   ],
   "id": "54efed89f5bc4fd1"
  },
  {
   "metadata": {},
   "cell_type": "code",
   "outputs": [],
   "execution_count": null,
   "source": "",
   "id": "8c1d5a2d083870fd"
  },
  {
   "metadata": {},
   "cell_type": "code",
   "outputs": [],
   "execution_count": null,
   "source": "",
   "id": "733b1d3464b4e787"
  },
  {
   "metadata": {},
   "cell_type": "code",
   "outputs": [],
   "execution_count": null,
   "source": "",
   "id": "bc7c8561a6a29808"
  },
  {
   "metadata": {},
   "cell_type": "markdown",
   "source": [
    "### 🔴 Q13. Top 3 Longest-Serving Employees per Department\n",
    "For each Department, find the top 3 employees with the **highest `YearsAtCompany`**.\n",
    "\n",
    "Return a DataFrame sorted by Department, then by YearsAtCompany (descending).\n",
    "Include columns: `EmpID`, `Name`, `Surname`, `Department`, `YearsAtCompany`.\n"
   ],
   "id": "a0c84c1530825585"
  },
  {
   "metadata": {},
   "cell_type": "code",
   "outputs": [],
   "execution_count": null,
   "source": "#hint: transform('max')",
   "id": "b146939ccfd5073a"
  },
  {
   "metadata": {},
   "cell_type": "code",
   "outputs": [],
   "execution_count": null,
   "source": "",
   "id": "3d0eeae6172bb71b"
  }
 ],
 "metadata": {
  "kernelspec": {
   "display_name": "Python 3",
   "language": "python",
   "name": "python3"
  },
  "language_info": {
   "codemirror_mode": {
    "name": "ipython",
    "version": 2
   },
   "file_extension": ".py",
   "mimetype": "text/x-python",
   "name": "python",
   "nbconvert_exporter": "python",
   "pygments_lexer": "ipython2",
   "version": "2.7.6"
  }
 },
 "nbformat": 4,
 "nbformat_minor": 5
}

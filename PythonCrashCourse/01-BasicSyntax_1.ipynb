{
 "cells": [
  {
   "cell_type": "markdown",
   "metadata": {},
   "source": [
    "## Data types\n",
    "\n",
    "### Numbers"
   ]
  },
  {
   "cell_type": "code",
   "metadata": {
    "ExecuteTime": {
     "end_time": "2025-03-09T16:01:05.641165Z",
     "start_time": "2025-03-09T16:01:05.633959Z"
    }
   },
   "source": [
    "1 + 1"
   ],
   "outputs": [
    {
     "data": {
      "text/plain": [
       "2"
      ]
     },
     "execution_count": 1,
     "metadata": {},
     "output_type": "execute_result"
    }
   ],
   "execution_count": 1
  },
  {
   "cell_type": "code",
   "metadata": {
    "ExecuteTime": {
     "end_time": "2025-03-09T16:01:08.269400Z",
     "start_time": "2025-03-09T16:01:08.262204Z"
    }
   },
   "source": [
    "1 * 3"
   ],
   "outputs": [
    {
     "data": {
      "text/plain": [
       "3"
      ]
     },
     "execution_count": 2,
     "metadata": {},
     "output_type": "execute_result"
    }
   ],
   "execution_count": 2
  },
  {
   "cell_type": "code",
   "metadata": {
    "ExecuteTime": {
     "end_time": "2025-03-09T16:01:10.535938Z",
     "start_time": "2025-03-09T16:01:10.529825Z"
    }
   },
   "source": [
    "1 / 2"
   ],
   "outputs": [
    {
     "data": {
      "text/plain": [
       "0.5"
      ]
     },
     "execution_count": 3,
     "metadata": {},
     "output_type": "execute_result"
    }
   ],
   "execution_count": 3
  },
  {
   "cell_type": "code",
   "metadata": {
    "ExecuteTime": {
     "end_time": "2025-03-09T16:01:12.233694Z",
     "start_time": "2025-03-09T16:01:12.227316Z"
    }
   },
   "source": [
    "# pow(2,4)\n",
    "2 ** 4"
   ],
   "outputs": [
    {
     "data": {
      "text/plain": [
       "16"
      ]
     },
     "execution_count": 4,
     "metadata": {},
     "output_type": "execute_result"
    }
   ],
   "execution_count": 4
  },
  {
   "cell_type": "code",
   "metadata": {
    "ExecuteTime": {
     "end_time": "2025-03-09T16:01:14.064722Z",
     "start_time": "2025-03-09T16:01:14.060061Z"
    }
   },
   "source": [
    "# modulus\n",
    "4 % 2"
   ],
   "outputs": [
    {
     "data": {
      "text/plain": [
       "0"
      ]
     },
     "execution_count": 5,
     "metadata": {},
     "output_type": "execute_result"
    }
   ],
   "execution_count": 5
  },
  {
   "cell_type": "code",
   "metadata": {
    "ExecuteTime": {
     "end_time": "2025-03-09T16:01:15.723176Z",
     "start_time": "2025-03-09T16:01:15.716218Z"
    }
   },
   "source": [
    "5 % 2"
   ],
   "outputs": [
    {
     "data": {
      "text/plain": [
       "1"
      ]
     },
     "execution_count": 6,
     "metadata": {},
     "output_type": "execute_result"
    }
   ],
   "execution_count": 6
  },
  {
   "cell_type": "code",
   "metadata": {
    "ExecuteTime": {
     "end_time": "2025-03-09T16:01:17.313016Z",
     "start_time": "2025-03-09T16:01:17.306710Z"
    }
   },
   "source": [
    "(2 + 3) * (5 + 5)"
   ],
   "outputs": [
    {
     "data": {
      "text/plain": [
       "50"
      ]
     },
     "execution_count": 7,
     "metadata": {},
     "output_type": "execute_result"
    }
   ],
   "execution_count": 7
  },
  {
   "cell_type": "markdown",
   "metadata": {},
   "source": "## Variable Assignment"
  },
  {
   "cell_type": "code",
   "execution_count": null,
   "metadata": {},
   "outputs": [],
   "source": [
    "# Can not start with number or special characters\n",
    "name_of_var = 2"
   ]
  },
  {
   "cell_type": "code",
   "execution_count": null,
   "metadata": {},
   "outputs": [],
   "source": [
    "x = 2\n",
    "y = 3"
   ]
  },
  {
   "cell_type": "code",
   "execution_count": null,
   "metadata": {},
   "outputs": [],
   "source": [
    "z = x + y"
   ]
  },
  {
   "cell_type": "code",
   "execution_count": null,
   "metadata": {},
   "outputs": [],
   "source": [
    "z"
   ]
  },
  {
   "cell_type": "markdown",
   "metadata": {},
   "source": "## Strings"
  },
  {
   "cell_type": "code",
   "metadata": {
    "ExecuteTime": {
     "end_time": "2025-03-09T16:02:42.073790Z",
     "start_time": "2025-03-09T16:02:42.067757Z"
    }
   },
   "source": [
    "'single quotes'"
   ],
   "outputs": [
    {
     "data": {
      "text/plain": [
       "'single quotes'"
      ]
     },
     "execution_count": 8,
     "metadata": {},
     "output_type": "execute_result"
    }
   ],
   "execution_count": 8
  },
  {
   "cell_type": "code",
   "metadata": {
    "ExecuteTime": {
     "end_time": "2025-03-09T16:02:43.909950Z",
     "start_time": "2025-03-09T16:02:43.904748Z"
    }
   },
   "source": [
    "\"double quotes\""
   ],
   "outputs": [
    {
     "data": {
      "text/plain": [
       "'double quotes'"
      ]
     },
     "execution_count": 9,
     "metadata": {},
     "output_type": "execute_result"
    }
   ],
   "execution_count": 9
  },
  {
   "cell_type": "code",
   "metadata": {
    "ExecuteTime": {
     "end_time": "2025-03-09T16:02:45.592355Z",
     "start_time": "2025-03-09T16:02:45.585972Z"
    }
   },
   "source": [
    "\" wrap lot's of other quotes\""
   ],
   "outputs": [
    {
     "data": {
      "text/plain": [
       "\" wrap lot's of other quotes\""
      ]
     },
     "execution_count": 10,
     "metadata": {},
     "output_type": "execute_result"
    }
   ],
   "execution_count": 10
  },
  {
   "metadata": {
    "ExecuteTime": {
     "end_time": "2025-03-09T17:36:52.585839Z",
     "start_time": "2025-03-09T17:36:52.580121Z"
    }
   },
   "cell_type": "code",
   "source": [
    "text = 'THIS is RandOM TeXT'\n",
    "print(text.split())  #splits text when 'space' occurs"
   ],
   "outputs": [
    {
     "name": "stdout",
     "output_type": "stream",
     "text": [
      "['THIS', 'is', 'RandOM', 'TeXT']\n"
     ]
    }
   ],
   "execution_count": 72
  },
  {
   "metadata": {
    "ExecuteTime": {
     "end_time": "2025-03-09T17:38:13.227820Z",
     "start_time": "2025-03-09T17:38:13.222324Z"
    }
   },
   "cell_type": "code",
   "source": [
    "email = 'gezim.ciriku@faculty.cacttus.eduaction'\n",
    "# get domain, after @\n",
    "print(email.split('@'))\n",
    "\n",
    "domain = email.split('@')[-1]\n",
    "\n",
    "print(f'Domain is: {domain}')"
   ],
   "outputs": [
    {
     "name": "stdout",
     "output_type": "stream",
     "text": [
      "['gezim.ciriku', 'faculty.cacttus.eduaction']\n",
      "Domain is: faculty.cacttus.eduaction\n"
     ]
    }
   ],
   "execution_count": 73
  },
  {
   "metadata": {
    "ExecuteTime": {
     "end_time": "2025-03-09T17:39:41.006574Z",
     "start_time": "2025-03-09T17:39:41.001069Z"
    }
   },
   "cell_type": "code",
   "source": [
    "# convert all letters to lower, does not change text\n",
    "print(text.lower())\n",
    "\n",
    "# convert all letter to upper, does not change text\n",
    "print(text.upper())"
   ],
   "outputs": [
    {
     "name": "stdout",
     "output_type": "stream",
     "text": [
      "this is random text\n",
      "THIS IS RANDOM TEXT\n"
     ]
    }
   ],
   "execution_count": 76
  },
  {
   "cell_type": "markdown",
   "metadata": {},
   "source": "## Printing"
  },
  {
   "cell_type": "code",
   "metadata": {
    "ExecuteTime": {
     "end_time": "2025-03-09T16:02:50.332892Z",
     "start_time": "2025-03-09T16:02:50.327625Z"
    }
   },
   "source": [
    "x = 'hello'"
   ],
   "outputs": [],
   "execution_count": 11
  },
  {
   "cell_type": "code",
   "metadata": {
    "ExecuteTime": {
     "end_time": "2025-03-09T16:02:52.072174Z",
     "start_time": "2025-03-09T16:02:52.065834Z"
    }
   },
   "source": [
    "x"
   ],
   "outputs": [
    {
     "data": {
      "text/plain": [
       "'hello'"
      ]
     },
     "execution_count": 12,
     "metadata": {},
     "output_type": "execute_result"
    }
   ],
   "execution_count": 12
  },
  {
   "cell_type": "code",
   "metadata": {
    "ExecuteTime": {
     "end_time": "2025-03-09T16:02:56.099026Z",
     "start_time": "2025-03-09T16:02:56.093676Z"
    }
   },
   "source": [
    "print(x)"
   ],
   "outputs": [
    {
     "name": "stdout",
     "output_type": "stream",
     "text": [
      "hello\n"
     ]
    }
   ],
   "execution_count": 13
  },
  {
   "cell_type": "code",
   "metadata": {
    "ExecuteTime": {
     "end_time": "2025-03-09T16:02:59.165150Z",
     "start_time": "2025-03-09T16:02:59.160069Z"
    }
   },
   "source": [
    "num = 12\n",
    "name = 'Sam'"
   ],
   "outputs": [],
   "execution_count": 14
  },
  {
   "cell_type": "code",
   "metadata": {
    "ExecuteTime": {
     "end_time": "2025-03-09T16:03:04.918476Z",
     "start_time": "2025-03-09T16:03:04.912281Z"
    }
   },
   "source": [
    "print('My number is: {one}, and my name is: {two}'.format(one=num,two=name))"
   ],
   "outputs": [
    {
     "name": "stdout",
     "output_type": "stream",
     "text": [
      "My number is: 12, and my name is: Sam\n"
     ]
    }
   ],
   "execution_count": 15
  },
  {
   "cell_type": "code",
   "metadata": {
    "ExecuteTime": {
     "end_time": "2025-03-09T16:03:10.788952Z",
     "start_time": "2025-03-09T16:03:10.784538Z"
    }
   },
   "source": [
    "print('My number is: {}, and my name is: {}'.format(num,name))"
   ],
   "outputs": [
    {
     "name": "stdout",
     "output_type": "stream",
     "text": [
      "My number is: 12, and my name is: Sam\n"
     ]
    }
   ],
   "execution_count": 16
  },
  {
   "metadata": {
    "ExecuteTime": {
     "end_time": "2025-03-09T16:03:58.280275Z",
     "start_time": "2025-03-09T16:03:58.275581Z"
    }
   },
   "cell_type": "code",
   "source": [
    "# we can use 'f' for formating\n",
    "print(f'My number is {num}, and my name is: {name}')"
   ],
   "outputs": [
    {
     "name": "stdout",
     "output_type": "stream",
     "text": [
      "My number is 12, and my name is: Sam\n"
     ]
    }
   ],
   "execution_count": 17
  },
  {
   "metadata": {
    "ExecuteTime": {
     "end_time": "2025-03-09T16:05:41.326641Z",
     "start_time": "2025-03-09T16:05:41.321980Z"
    }
   },
   "cell_type": "code",
   "source": [
    "# we can change the order of placeholders using indexes\n",
    "print('My number is {1}, and my name is: {0}'.format(name,num))"
   ],
   "outputs": [
    {
     "name": "stdout",
     "output_type": "stream",
     "text": [
      "My number is 12, and my name is: Sam\n"
     ]
    }
   ],
   "execution_count": 18
  },
  {
   "cell_type": "markdown",
   "metadata": {},
   "source": [
    "## Lists\n",
    "* A list in Python is a built-in data structure that allows you to store multiple items in a single variable. Lists are ordered, mutable (modifiable), and allow duplicate values."
   ]
  },
  {
   "metadata": {},
   "cell_type": "markdown",
   "source": "- We can create a list in python using [] brackets"
  },
  {
   "cell_type": "code",
   "metadata": {
    "ExecuteTime": {
     "end_time": "2025-03-09T16:09:46.260838Z",
     "start_time": "2025-03-09T16:09:46.254726Z"
    }
   },
   "source": [
    "[1,2,3]"
   ],
   "outputs": [
    {
     "data": {
      "text/plain": [
       "[1, 2, 3]"
      ]
     },
     "execution_count": 19,
     "metadata": {},
     "output_type": "execute_result"
    }
   ],
   "execution_count": 19
  },
  {
   "cell_type": "code",
   "metadata": {
    "ExecuteTime": {
     "end_time": "2025-03-09T16:09:46.951398Z",
     "start_time": "2025-03-09T16:09:46.943964Z"
    }
   },
   "source": [
    "['hi',1,[1,2]]"
   ],
   "outputs": [
    {
     "data": {
      "text/plain": [
       "['hi', 1, [1, 2]]"
      ]
     },
     "execution_count": 20,
     "metadata": {},
     "output_type": "execute_result"
    }
   ],
   "execution_count": 20
  },
  {
   "cell_type": "code",
   "metadata": {
    "ExecuteTime": {
     "end_time": "2025-03-09T16:09:49.246691Z",
     "start_time": "2025-03-09T16:09:49.241903Z"
    }
   },
   "source": [
    "my_list = ['a','b','c']"
   ],
   "outputs": [],
   "execution_count": 21
  },
  {
   "metadata": {},
   "cell_type": "markdown",
   "source": [
    "### Accesing list elements\n",
    "- By index"
   ]
  },
  {
   "metadata": {
    "ExecuteTime": {
     "end_time": "2025-03-09T16:11:12.034859Z",
     "start_time": "2025-03-09T16:11:12.027915Z"
    }
   },
   "cell_type": "code",
   "source": "my_list",
   "outputs": [
    {
     "data": {
      "text/plain": [
       "['a', 'b', 'c']"
      ]
     },
     "execution_count": 23,
     "metadata": {},
     "output_type": "execute_result"
    }
   ],
   "execution_count": 23
  },
  {
   "metadata": {
    "ExecuteTime": {
     "end_time": "2025-03-09T16:11:20.859583Z",
     "start_time": "2025-03-09T16:11:20.853409Z"
    }
   },
   "cell_type": "code",
   "source": "my_list[1]",
   "outputs": [
    {
     "data": {
      "text/plain": [
       "'b'"
      ]
     },
     "execution_count": 24,
     "metadata": {},
     "output_type": "execute_result"
    }
   ],
   "execution_count": 24
  },
  {
   "metadata": {
    "ExecuteTime": {
     "end_time": "2025-03-09T16:11:28.047068Z",
     "start_time": "2025-03-09T16:11:28.040861Z"
    }
   },
   "cell_type": "code",
   "source": "my_list[-1]",
   "outputs": [
    {
     "data": {
      "text/plain": [
       "'c'"
      ]
     },
     "execution_count": 25,
     "metadata": {},
     "output_type": "execute_result"
    }
   ],
   "execution_count": 25
  },
  {
   "metadata": {},
   "cell_type": "markdown",
   "source": "### Slicing lists"
  },
  {
   "metadata": {
    "ExecuteTime": {
     "end_time": "2025-03-09T16:12:24.016087Z",
     "start_time": "2025-03-09T16:12:24.010685Z"
    }
   },
   "cell_type": "code",
   "source": [
    "# this take all elements\n",
    "my_list[:]"
   ],
   "outputs": [
    {
     "data": {
      "text/plain": [
       "['a', 'b', 'c']"
      ]
     },
     "execution_count": 26,
     "metadata": {},
     "output_type": "execute_result"
    }
   ],
   "execution_count": 26
  },
  {
   "metadata": {
    "ExecuteTime": {
     "end_time": "2025-03-09T16:15:01.233803Z",
     "start_time": "2025-03-09T16:15:01.226636Z"
    }
   },
   "cell_type": "code",
   "source": [
    "# my_list[a:b]\n",
    "# a - represents begining index of slice\n",
    "# b - represents last index of slice (exclusive = last - 1)\n",
    "\n",
    "my_list[0:2]"
   ],
   "outputs": [
    {
     "data": {
      "text/plain": [
       "['a', 'b']"
      ]
     },
     "execution_count": 28,
     "metadata": {},
     "output_type": "execute_result"
    }
   ],
   "execution_count": 28
  },
  {
   "metadata": {},
   "cell_type": "markdown",
   "source": "#### Modifying a list"
  },
  {
   "metadata": {
    "ExecuteTime": {
     "end_time": "2025-03-09T16:16:36.463791Z",
     "start_time": "2025-03-09T16:16:36.457612Z"
    }
   },
   "cell_type": "code",
   "source": "my_list",
   "outputs": [
    {
     "data": {
      "text/plain": [
       "['a', 'b', 'c']"
      ]
     },
     "execution_count": 29,
     "metadata": {},
     "output_type": "execute_result"
    }
   ],
   "execution_count": 29
  },
  {
   "metadata": {
    "ExecuteTime": {
     "end_time": "2025-03-09T16:16:45.978329Z",
     "start_time": "2025-03-09T16:16:45.973015Z"
    }
   },
   "cell_type": "code",
   "source": "my_list[1] = 99",
   "outputs": [],
   "execution_count": 30
  },
  {
   "metadata": {
    "ExecuteTime": {
     "end_time": "2025-03-09T16:16:50.899124Z",
     "start_time": "2025-03-09T16:16:50.893155Z"
    }
   },
   "cell_type": "code",
   "source": "print(my_list)",
   "outputs": [
    {
     "name": "stdout",
     "output_type": "stream",
     "text": [
      "['a', 99, 'c']\n"
     ]
    }
   ],
   "execution_count": 31
  },
  {
   "metadata": {},
   "cell_type": "markdown",
   "source": [
    "### List methods\n",
    "1. Adding elements\n",
    "    - append()\n",
    "    - insert()\n",
    "    - extend()\n",
    "2. Removing elements\n",
    "    - remove()\n",
    "    - pop()\n",
    "    - clear()\n",
    "3. Searching\n",
    "    - index()\n",
    "    - count()\n",
    "4. Sorting and reversing\n",
    "    - sort()\n",
    "    - sorted()\n",
    "    - reverse()\n",
    "5.  Copying a list\n",
    "    - Using slicing: new_list = old_list[:]\n",
    "    - Using copy() method: new_list = old_list.copy()\n",
    "    - Using list() constructor: new_list = list(old_list)\n"
   ]
  },
  {
   "metadata": {
    "ExecuteTime": {
     "end_time": "2025-03-09T16:21:07.142218Z",
     "start_time": "2025-03-09T16:21:07.137270Z"
    }
   },
   "cell_type": "code",
   "source": [
    "# 1. Adding elements\n",
    "numbers = [1,2,3,4,5,6]"
   ],
   "outputs": [],
   "execution_count": 32
  },
  {
   "metadata": {
    "ExecuteTime": {
     "end_time": "2025-03-09T16:21:33.442661Z",
     "start_time": "2025-03-09T16:21:33.437365Z"
    }
   },
   "cell_type": "code",
   "source": [
    "# append() - appends element at the end of the list\n",
    "numbers.append(7)"
   ],
   "outputs": [],
   "execution_count": 34
  },
  {
   "metadata": {
    "ExecuteTime": {
     "end_time": "2025-03-09T16:21:41.060336Z",
     "start_time": "2025-03-09T16:21:41.055353Z"
    }
   },
   "cell_type": "code",
   "source": "print(numbers)",
   "outputs": [
    {
     "name": "stdout",
     "output_type": "stream",
     "text": [
      "[1, 2, 3, 4, 5, 6, 7]\n"
     ]
    }
   ],
   "execution_count": 35
  },
  {
   "metadata": {
    "ExecuteTime": {
     "end_time": "2025-03-09T16:23:27.713271Z",
     "start_time": "2025-03-09T16:23:27.707689Z"
    }
   },
   "cell_type": "code",
   "source": [
    "# insert() - Adds an element at a specific index\n",
    "numbers.insert(1, -2)"
   ],
   "outputs": [],
   "execution_count": 36
  },
  {
   "metadata": {
    "ExecuteTime": {
     "end_time": "2025-03-09T16:23:34.367583Z",
     "start_time": "2025-03-09T16:23:34.362802Z"
    }
   },
   "cell_type": "code",
   "source": "print(numbers)",
   "outputs": [
    {
     "name": "stdout",
     "output_type": "stream",
     "text": [
      "[1, -2, 2, 3, 4, 5, 6, 7]\n"
     ]
    }
   ],
   "execution_count": 37
  },
  {
   "metadata": {
    "ExecuteTime": {
     "end_time": "2025-03-09T16:24:59.803631Z",
     "start_time": "2025-03-09T16:24:59.799324Z"
    }
   },
   "cell_type": "code",
   "source": [
    "# extends() - merges two list\n",
    "\n",
    "list_1 = [1,2,3]\n",
    "list_2 = [4,5,6]\n",
    "\n",
    "list_1.extend(list_2)\n",
    "# its like appending multiple elements in the end of a list"
   ],
   "outputs": [
    {
     "name": "stdout",
     "output_type": "stream",
     "text": [
      "None\n"
     ]
    }
   ],
   "execution_count": 39
  },
  {
   "metadata": {
    "ExecuteTime": {
     "end_time": "2025-03-09T16:25:35.174998Z",
     "start_time": "2025-03-09T16:25:35.171021Z"
    }
   },
   "cell_type": "code",
   "source": "print(list_1)",
   "outputs": [
    {
     "name": "stdout",
     "output_type": "stream",
     "text": [
      "[1, 2, 3, 4, 5, 6]\n"
     ]
    }
   ],
   "execution_count": 42
  },
  {
   "metadata": {
    "ExecuteTime": {
     "end_time": "2025-03-09T16:26:44.397010Z",
     "start_time": "2025-03-09T16:26:44.391955Z"
    }
   },
   "cell_type": "code",
   "source": [
    "# Removing elements\n",
    "new_list = [1,2,'3','a','b']"
   ],
   "outputs": [],
   "execution_count": 43
  },
  {
   "metadata": {
    "ExecuteTime": {
     "end_time": "2025-03-09T16:27:48.805382Z",
     "start_time": "2025-03-09T16:27:48.799822Z"
    }
   },
   "cell_type": "code",
   "source": [
    "new_list.remove(2)   # [1,'3','a','b']\n",
    "new_list.pop()       # removes last element [1,'3','a']"
   ],
   "outputs": [
    {
     "data": {
      "text/plain": [
       "'b'"
      ]
     },
     "execution_count": 44,
     "metadata": {},
     "output_type": "execute_result"
    }
   ],
   "execution_count": 44
  },
  {
   "metadata": {
    "ExecuteTime": {
     "end_time": "2025-03-09T16:27:56.822618Z",
     "start_time": "2025-03-09T16:27:56.817790Z"
    }
   },
   "cell_type": "code",
   "source": "print(new_list)",
   "outputs": [
    {
     "name": "stdout",
     "output_type": "stream",
     "text": [
      "[1, '3', 'a']\n"
     ]
    }
   ],
   "execution_count": 45
  },
  {
   "metadata": {},
   "cell_type": "code",
   "outputs": [],
   "execution_count": null,
   "source": "new_list.clear()  # clears the list, []"
  },
  {
   "metadata": {
    "ExecuteTime": {
     "end_time": "2025-03-09T16:29:16.405466Z",
     "start_time": "2025-03-09T16:29:16.400823Z"
    }
   },
   "cell_type": "code",
   "source": [
    "# Searchin in list\n",
    "print(list_1)"
   ],
   "outputs": [
    {
     "name": "stdout",
     "output_type": "stream",
     "text": [
      "[1, 2, 3, 4, 5, 6]\n"
     ]
    }
   ],
   "execution_count": 46
  },
  {
   "metadata": {
    "ExecuteTime": {
     "end_time": "2025-03-09T16:30:14.308123Z",
     "start_time": "2025-03-09T16:30:14.302395Z"
    }
   },
   "cell_type": "code",
   "source": [
    "print(list_1.index(1))  # returns index 0, first occurence\n",
    "print(list_1.count(1))  # counts how many '1' in list\n"
   ],
   "outputs": [
    {
     "name": "stdout",
     "output_type": "stream",
     "text": [
      "0\n",
      "1\n"
     ]
    }
   ],
   "execution_count": 48
  },
  {
   "metadata": {
    "ExecuteTime": {
     "end_time": "2025-03-09T16:32:37.452407Z",
     "start_time": "2025-03-09T16:32:37.447109Z"
    }
   },
   "cell_type": "code",
   "source": [
    "# Sorting and reversing\n",
    "unsorted_list = [1,2,-4,10, 5, 12, 8, 22, 17]"
   ],
   "outputs": [],
   "execution_count": 51
  },
  {
   "metadata": {
    "ExecuteTime": {
     "end_time": "2025-03-09T16:33:23.729376Z",
     "start_time": "2025-03-09T16:33:23.725507Z"
    }
   },
   "cell_type": "code",
   "source": [
    "unsorted_list.sort() #modifies actual list, sorts ascending by default\n",
    "print(unsorted_list)"
   ],
   "outputs": [
    {
     "name": "stdout",
     "output_type": "stream",
     "text": [
      "[-4, 1, 2, 5, 8, 10, 12, 17, 22]\n"
     ]
    }
   ],
   "execution_count": 53
  },
  {
   "metadata": {
    "ExecuteTime": {
     "end_time": "2025-03-09T16:33:50.002757Z",
     "start_time": "2025-03-09T16:33:49.998075Z"
    }
   },
   "cell_type": "code",
   "source": [
    "unsorted_list.sort(reverse=True) # descending order\n",
    "print(unsorted_list)"
   ],
   "outputs": [
    {
     "name": "stdout",
     "output_type": "stream",
     "text": [
      "[22, 17, 12, 10, 8, 5, 2, 1, -4]\n"
     ]
    }
   ],
   "execution_count": 54
  },
  {
   "metadata": {
    "ExecuteTime": {
     "end_time": "2025-03-09T16:36:33.300011Z",
     "start_time": "2025-03-09T16:36:33.294892Z"
    }
   },
   "cell_type": "code",
   "source": [
    "# if we want to sort a list but not modify it, we can use sorted()\n",
    "lista_a = [-10, 5, 7, 2, 5, 22, 18, -10]\n",
    "sorted_list_a = sorted(lista_a)"
   ],
   "outputs": [],
   "execution_count": 55
  },
  {
   "metadata": {
    "ExecuteTime": {
     "end_time": "2025-03-09T16:37:12.057023Z",
     "start_time": "2025-03-09T16:37:12.051986Z"
    }
   },
   "cell_type": "code",
   "source": [
    "print(f'Unchanged list: {lista_a}')\n",
    "print(f'New list sorted: {sorted_list_a}')"
   ],
   "outputs": [
    {
     "name": "stdout",
     "output_type": "stream",
     "text": [
      "Unchanged list: [-10, 5, 7, 2, 5, 22, 18, -10]\n",
      "New list sorted: [-10, -10, 2, 5, 5, 7, 18, 22]\n"
     ]
    }
   ],
   "execution_count": 56
  },
  {
   "metadata": {
    "ExecuteTime": {
     "end_time": "2025-03-09T16:38:25.044365Z",
     "start_time": "2025-03-09T16:38:25.038980Z"
    }
   },
   "cell_type": "code",
   "source": [
    "# reverse(), changes first element with last, second with last-1 ...\n",
    "normal_list = [1,2,3,4,-4,-3,-2,-1]\n",
    "print(normal_list)"
   ],
   "outputs": [
    {
     "name": "stdout",
     "output_type": "stream",
     "text": [
      "[1, 2, 3, 4, -4, -3, -2, -1]\n"
     ]
    }
   ],
   "execution_count": 57
  },
  {
   "metadata": {
    "ExecuteTime": {
     "end_time": "2025-03-09T16:38:43.338759Z",
     "start_time": "2025-03-09T16:38:43.333336Z"
    }
   },
   "cell_type": "code",
   "source": [
    "normal_list.reverse()\n",
    "print(normal_list)"
   ],
   "outputs": [
    {
     "name": "stdout",
     "output_type": "stream",
     "text": [
      "[-1, -2, -3, -4, 4, 3, 2, 1]\n"
     ]
    }
   ],
   "execution_count": 58
  },
  {
   "metadata": {
    "ExecuteTime": {
     "end_time": "2025-03-09T17:27:58.504217Z",
     "start_time": "2025-03-09T17:27:58.499245Z"
    }
   },
   "cell_type": "code",
   "source": [
    "# copying lists\n",
    "list_3 = [1,2,3]\n",
    "lista_3_new =  list_3  #reference type, changes to 3_new will effect list_3\n",
    "\n",
    "lista_3_new.append(4)\n",
    "\n",
    "print(f'List_3: {list_3}')\n",
    "print(f'List_3_new: {lista_3_new}')"
   ],
   "outputs": [
    {
     "name": "stdout",
     "output_type": "stream",
     "text": [
      "List_3: [1, 2, 3, 4]\n",
      "List_3_new: [1, 2, 3, 4]\n"
     ]
    }
   ],
   "execution_count": 66
  },
  {
   "metadata": {
    "ExecuteTime": {
     "end_time": "2025-03-09T17:29:53.425621Z",
     "start_time": "2025-03-09T17:29:53.420501Z"
    }
   },
   "cell_type": "code",
   "source": [
    "# to create a copy of list, not a reference, we can use those three methods:\n",
    "\n",
    "# 1. using slice [:]\n",
    "original_list = [5,6,7]\n",
    "copy_list = original_list[:]\n",
    "\n",
    "copy_list.append(8)  #it will only add '8' tp copy_list\n",
    "\n",
    "print(f'Original list: {original_list}')\n",
    "print(f'Copy list: {copy_list}')"
   ],
   "outputs": [
    {
     "name": "stdout",
     "output_type": "stream",
     "text": [
      "Original list: [5, 6, 7]\n",
      "Copy list: [5, 6, 7, 8]\n"
     ]
    }
   ],
   "execution_count": 67
  },
  {
   "metadata": {
    "ExecuteTime": {
     "end_time": "2025-03-09T17:31:06.876981Z",
     "start_time": "2025-03-09T17:31:06.872586Z"
    }
   },
   "cell_type": "code",
   "source": [
    "# two other ways\n",
    "copy2 = original_list.copy()        #using copy(method)\n",
    "copy3 = list(original_list)         # using list() constructor"
   ],
   "outputs": [],
   "execution_count": 68
  },
  {
   "metadata": {},
   "cell_type": "markdown",
   "source": [
    "### Nested List\n",
    "   - A list can contain inside other lists"
   ]
  },
  {
   "metadata": {
    "ExecuteTime": {
     "end_time": "2025-03-09T17:32:58.513544Z",
     "start_time": "2025-03-09T17:32:58.507874Z"
    }
   },
   "cell_type": "code",
   "source": [
    "nested_list = [1,2,3,'a', ['b','c','hello']]\n",
    "\n",
    "# to get element \"hello\" we use indexes\n",
    "print(nested_list[-1])\n",
    "print(nested_list[-1][-1])"
   ],
   "outputs": [
    {
     "name": "stdout",
     "output_type": "stream",
     "text": [
      "['b', 'c', 'hello']\n",
      "hello\n"
     ]
    }
   ],
   "execution_count": 70
  },
  {
   "metadata": {
    "ExecuteTime": {
     "end_time": "2025-03-09T21:44:22.603884Z",
     "start_time": "2025-03-09T21:44:22.599719Z"
    }
   },
   "cell_type": "code",
   "source": [
    "matrix = [[1, 2, 3], [4, 5, 6], [7, 8, 9]]\n",
    "print(matrix[1][0]) #print 4"
   ],
   "outputs": [
    {
     "name": "stdout",
     "output_type": "stream",
     "text": [
      "4\n"
     ]
    }
   ],
   "execution_count": 77
  },
  {
   "metadata": {},
   "cell_type": "markdown",
   "source": "### Booleans"
  },
  {
   "metadata": {
    "ExecuteTime": {
     "end_time": "2025-03-09T21:51:24.526631Z",
     "start_time": "2025-03-09T21:51:24.520651Z"
    }
   },
   "cell_type": "code",
   "outputs": [
    {
     "data": {
      "text/plain": [
       "True"
      ]
     },
     "execution_count": 80,
     "metadata": {},
     "output_type": "execute_result"
    }
   ],
   "execution_count": 80,
   "source": "True"
  },
  {
   "metadata": {
    "ExecuteTime": {
     "end_time": "2025-03-09T21:51:38.496964Z",
     "start_time": "2025-03-09T21:51:38.491952Z"
    }
   },
   "cell_type": "code",
   "source": "False",
   "outputs": [
    {
     "data": {
      "text/plain": [
       "False"
      ]
     },
     "execution_count": 81,
     "metadata": {},
     "output_type": "execute_result"
    }
   ],
   "execution_count": 81
  },
  {
   "metadata": {},
   "cell_type": "markdown",
   "source": [
    "## if,elif, else Statements\n",
    "   - Conditional statements allow us to execute different blocks of code based on certain conditions."
   ]
  },
  {
   "metadata": {
    "ExecuteTime": {
     "end_time": "2025-03-09T21:48:36.311030Z",
     "start_time": "2025-03-09T21:48:36.304888Z"
    }
   },
   "cell_type": "code",
   "source": [
    "# basic if, elif, else statement\n",
    "\n",
    "x = 5\n",
    "y = 10\n",
    "if x > y:\n",
    "    print('x is greater than y!')\n",
    "elif x == y:\n",
    "    print('x is equal with y!')\n",
    "else:\n",
    "    print('y is grerater than x')"
   ],
   "outputs": [
    {
     "name": "stdout",
     "output_type": "stream",
     "text": [
      "y is grerater than x\n"
     ]
    }
   ],
   "execution_count": 78
  },
  {
   "metadata": {
    "ExecuteTime": {
     "end_time": "2025-03-09T21:50:46.717016Z",
     "start_time": "2025-03-09T21:50:46.711498Z"
    }
   },
   "cell_type": "code",
   "source": [
    "# Nested if statements (if inside if)\n",
    "z = 10\n",
    "\n",
    "if z > 5:\n",
    "    print('z is greater than 5')\n",
    "    if z % 2 ==0:\n",
    "        print('also is even number')\n",
    "    else:\n",
    "        print(\"but it's odd number\")\n",
    "else:\n",
    "    print('z is not greater than 5')"
   ],
   "outputs": [
    {
     "name": "stdout",
     "output_type": "stream",
     "text": [
      "z is greater than 5\n",
      "also is even number\n"
     ]
    }
   ],
   "execution_count": 79
  },
  {
   "metadata": {},
   "cell_type": "markdown",
   "source": "## Using Logical Operators (and, or, not)"
  },
  {
   "metadata": {
    "ExecuteTime": {
     "end_time": "2025-03-09T21:58:14.599675Z",
     "start_time": "2025-03-09T21:58:14.595219Z"
    }
   },
   "cell_type": "code",
   "source": [
    "number = 15\n",
    "if number > 10 and number%2==0:\n",
    "    print(f'Number {number} is even and greater than 10')"
   ],
   "outputs": [],
   "execution_count": 82
  },
  {
   "metadata": {
    "ExecuteTime": {
     "end_time": "2025-03-09T22:01:40.868796Z",
     "start_time": "2025-03-09T22:01:40.863912Z"
    }
   },
   "cell_type": "code",
   "source": [
    "# check if its integer and greater than 10\n",
    "\n",
    "# num_1 = '1'\n",
    "num_1 = 5\n",
    "\n",
    "if type(num_1) is int and num_1 > 10:\n",
    "    print(f'Number {num_1} is integer and greater than 10')\n",
    "elif type(num_1) is int and num_1<10:\n",
    "    print(f'Number {num_1} is integer, but smaller than 10')\n",
    "else:\n",
    "    print('Its not integer')"
   ],
   "outputs": [
    {
     "name": "stdout",
     "output_type": "stream",
     "text": [
      "Number 5 is integer, but smaller than 10\n"
     ]
    }
   ],
   "execution_count": 86
  },
  {
   "metadata": {},
   "cell_type": "markdown",
   "source": [
    "### Ternary (Short-hand if-else)\n",
    "   - value_if_true if condition else value_if_false"
   ]
  },
  {
   "metadata": {
    "ExecuteTime": {
     "end_time": "2025-03-09T22:03:43.691884Z",
     "start_time": "2025-03-09T22:03:43.686457Z"
    }
   },
   "cell_type": "code",
   "source": [
    "num_2 = 23\n",
    "\n",
    "result = 'Positive' if num_2 >=0 else 'Negative'\n",
    "print(result)"
   ],
   "outputs": [
    {
     "name": "stdout",
     "output_type": "stream",
     "text": [
      "Positive\n"
     ]
    }
   ],
   "execution_count": 87
  },
  {
   "metadata": {},
   "cell_type": "markdown",
   "source": "### Using if with Lists"
  },
  {
   "metadata": {
    "ExecuteTime": {
     "end_time": "2025-03-09T22:08:31.608600Z",
     "start_time": "2025-03-09T22:08:29.612259Z"
    }
   },
   "cell_type": "code",
   "source": [
    "list_of_numbers = [1,2,3,4,5,6]\n",
    "\n",
    "#take input using input() method and check if its in list\n",
    "\n",
    "input_num = int(input('Write a number: '))\n",
    "\n",
    "# check if number 1 is in list\n",
    "if input_num in list_of_numbers:\n",
    "    print(f'{input_num} is in list')\n",
    "else:\n",
    "    print(f'{input_num} is not in list')"
   ],
   "outputs": [
    {
     "name": "stdout",
     "output_type": "stream",
     "text": [
      "1 is in list\n"
     ]
    }
   ],
   "execution_count": 89
  },
  {
   "metadata": {},
   "cell_type": "markdown",
   "source": [
    "## for Loops\n",
    "  - A for loop in Python is used to iterate over sequences like lists, tuples, dictionaries, sets, and strings."
   ]
  },
  {
   "metadata": {},
   "cell_type": "markdown",
   "source": "###  Basic for Loop Syntax"
  },
  {
   "metadata": {
    "ExecuteTime": {
     "end_time": "2025-03-09T22:10:45.432038Z",
     "start_time": "2025-03-09T22:10:45.426656Z"
    }
   },
   "cell_type": "code",
   "source": "seq = [1,2,3,4,5]",
   "outputs": [],
   "execution_count": 90
  },
  {
   "metadata": {
    "ExecuteTime": {
     "end_time": "2025-03-09T22:10:47.426505Z",
     "start_time": "2025-03-09T22:10:47.421090Z"
    }
   },
   "cell_type": "code",
   "source": [
    "for item in seq:\n",
    "    print(item)"
   ],
   "outputs": [
    {
     "name": "stdout",
     "output_type": "stream",
     "text": [
      "1\n",
      "2\n",
      "3\n",
      "4\n",
      "5\n"
     ]
    }
   ],
   "execution_count": 91
  },
  {
   "metadata": {
    "ExecuteTime": {
     "end_time": "2025-03-09T22:10:49.503001Z",
     "start_time": "2025-03-09T22:10:49.497729Z"
    }
   },
   "cell_type": "code",
   "source": [
    "for item in seq:\n",
    "    print('Yep')"
   ],
   "outputs": [
    {
     "name": "stdout",
     "output_type": "stream",
     "text": [
      "Yep\n",
      "Yep\n",
      "Yep\n",
      "Yep\n",
      "Yep\n"
     ]
    }
   ],
   "execution_count": 92
  },
  {
   "metadata": {
    "ExecuteTime": {
     "end_time": "2025-03-09T22:10:51.509595Z",
     "start_time": "2025-03-09T22:10:51.505615Z"
    }
   },
   "cell_type": "code",
   "source": [
    "for jelly in seq:\n",
    "    print(jelly+jelly)"
   ],
   "outputs": [
    {
     "name": "stdout",
     "output_type": "stream",
     "text": [
      "2\n",
      "4\n",
      "6\n",
      "8\n",
      "10\n"
     ]
    }
   ],
   "execution_count": 93
  },
  {
   "metadata": {},
   "cell_type": "markdown",
   "source": "### Looping Through a String"
  },
  {
   "metadata": {
    "ExecuteTime": {
     "end_time": "2025-03-09T22:11:33.165925Z",
     "start_time": "2025-03-09T22:11:33.159945Z"
    }
   },
   "cell_type": "code",
   "source": [
    "word = \"Python\"\n",
    "for letter in word:\n",
    "    print(letter)"
   ],
   "outputs": [
    {
     "name": "stdout",
     "output_type": "stream",
     "text": [
      "P\n",
      "y\n",
      "t\n",
      "h\n",
      "o\n",
      "n\n"
     ]
    }
   ],
   "execution_count": 94
  },
  {
   "metadata": {},
   "cell_type": "markdown",
   "source": [
    "###  Using range() in a Loop\n",
    "   - The range(start, stop, step) function generates numbers for iteration.\n",
    "      -  start is included\n",
    "      -  stop is excluded"
   ]
  },
  {
   "metadata": {
    "ExecuteTime": {
     "end_time": "2025-03-09T22:15:42.986724Z",
     "start_time": "2025-03-09T22:15:42.981586Z"
    }
   },
   "cell_type": "code",
   "source": [
    "# Loop from 0 to 4\n",
    "for i in range(5):\n",
    "    print(i)\n",
    "# Output: 0 1 2 3 4"
   ],
   "outputs": [
    {
     "name": "stdout",
     "output_type": "stream",
     "text": [
      "0\n",
      "1\n",
      "2\n",
      "3\n",
      "4\n"
     ]
    }
   ],
   "execution_count": 96
  },
  {
   "metadata": {
    "ExecuteTime": {
     "end_time": "2025-03-09T22:16:32.949286Z",
     "start_time": "2025-03-09T22:16:32.944308Z"
    }
   },
   "cell_type": "code",
   "source": [
    "# Loop from 2 to 8 with step 2\n",
    "for i in range(2, 10, 2):\n",
    "    print(i)\n",
    "# Output: 2 4 6 8"
   ],
   "outputs": [
    {
     "name": "stdout",
     "output_type": "stream",
     "text": [
      "2\n",
      "4\n",
      "6\n",
      "8\n"
     ]
    }
   ],
   "execution_count": 100
  },
  {
   "metadata": {
    "ExecuteTime": {
     "end_time": "2025-03-09T22:17:21.665774Z",
     "start_time": "2025-03-09T22:17:21.661258Z"
    }
   },
   "cell_type": "code",
   "source": [
    "# nested for loops\n",
    "for i in range(1, 4):\n",
    "    for j in range(1, 4):\n",
    "        print(f\"({i}, {j})\")"
   ],
   "outputs": [
    {
     "name": "stdout",
     "output_type": "stream",
     "text": [
      "(1, 1)\n",
      "(1, 2)\n",
      "(1, 3)\n",
      "(2, 1)\n",
      "(2, 2)\n",
      "(2, 3)\n",
      "(3, 1)\n",
      "(3, 2)\n",
      "(3, 3)\n"
     ]
    }
   ],
   "execution_count": 101
  },
  {
   "metadata": {},
   "cell_type": "markdown",
   "source": [
    "###  Using break and continue\n",
    "   - break → Exits the loop completely\n",
    "   - continue → Skips the current iteration and moves to the next one"
   ]
  },
  {
   "metadata": {
    "ExecuteTime": {
     "end_time": "2025-03-09T22:18:36.242597Z",
     "start_time": "2025-03-09T22:18:36.237151Z"
    }
   },
   "cell_type": "code",
   "source": [
    "# Using break\n",
    "for num in range(1, 6):\n",
    "    if num == 3:\n",
    "        break\n",
    "    print(num)"
   ],
   "outputs": [
    {
     "name": "stdout",
     "output_type": "stream",
     "text": [
      "1\n",
      "2\n"
     ]
    }
   ],
   "execution_count": 102
  },
  {
   "metadata": {
    "ExecuteTime": {
     "end_time": "2025-03-09T22:18:54.095258Z",
     "start_time": "2025-03-09T22:18:54.089713Z"
    }
   },
   "cell_type": "code",
   "source": [
    "# Using continue\n",
    "for num in range(1, 6):\n",
    "    if num == 3:\n",
    "        continue\n",
    "    print(num)"
   ],
   "outputs": [
    {
     "name": "stdout",
     "output_type": "stream",
     "text": [
      "1\n",
      "2\n",
      "4\n",
      "5\n"
     ]
    }
   ],
   "execution_count": 103
  },
  {
   "metadata": {},
   "cell_type": "markdown",
   "source": "### List Comprehension (Shorter for Loop)"
  },
  {
   "metadata": {
    "ExecuteTime": {
     "end_time": "2025-03-09T23:02:23.124342Z",
     "start_time": "2025-03-09T23:02:23.113402Z"
    }
   },
   "cell_type": "code",
   "source": [
    "# long way using for\n",
    "e = [1,2,3,4]\n",
    "out = []\n",
    "for item in e:\n",
    "    out.append(item**2)\n",
    "print(out)"
   ],
   "outputs": [
    {
     "name": "stdout",
     "output_type": "stream",
     "text": [
      "[1, 4, 9, 16]\n"
     ]
    }
   ],
   "execution_count": 114
  },
  {
   "metadata": {
    "ExecuteTime": {
     "end_time": "2025-03-09T23:02:31.990806Z",
     "start_time": "2025-03-09T23:02:31.975152Z"
    }
   },
   "cell_type": "code",
   "source": [
    "# short way using list comprehensions\n",
    "[item**2 for item in e]"
   ],
   "outputs": [
    {
     "data": {
      "text/plain": [
       "[1, 4, 9, 16]"
      ]
     },
     "execution_count": 116,
     "metadata": {},
     "output_type": "execute_result"
    }
   ],
   "execution_count": 116
  },
  {
   "metadata": {
    "ExecuteTime": {
     "end_time": "2025-03-09T22:45:08.827571Z",
     "start_time": "2025-03-09T22:45:08.815256Z"
    }
   },
   "cell_type": "code",
   "source": [
    "# Creating a list of squares from another list\n",
    "another_list = [1,2,3,4]\n",
    "squares = [x**2 for x in another_list]\n",
    "print(squares)"
   ],
   "outputs": [
    {
     "name": "stdout",
     "output_type": "stream",
     "text": [
      "[1, 4, 9, 16]\n"
     ]
    }
   ],
   "execution_count": 104
  },
  {
   "metadata": {
    "ExecuteTime": {
     "end_time": "2025-03-09T22:49:42.558986Z",
     "start_time": "2025-03-09T22:49:42.543151Z"
    }
   },
   "cell_type": "code",
   "source": [
    "# Create a list of squares only for even numbers\n",
    "mixed_list = [1,2,3,4,5,6,7,8,9,10]\n",
    "\n",
    "squared_of_even = [pow(num,2) for num in mixed_list if num % 2 == 0]\n",
    "print(squared_of_even)"
   ],
   "outputs": [
    {
     "name": "stdout",
     "output_type": "stream",
     "text": [
      "[4, 16, 36, 64, 100]\n"
     ]
    }
   ],
   "execution_count": 105
  },
  {
   "metadata": {
    "ExecuteTime": {
     "end_time": "2025-03-09T22:51:45.005218Z",
     "start_time": "2025-03-09T22:51:44.993048Z"
    }
   },
   "cell_type": "code",
   "source": [
    "# Create a list using comprehension, square even numbers, power to 3 odd numbers\n",
    "initial_list = [1,2,3,4,5]\n",
    "\n",
    "power_list = [ pow(i,2) if num % 2==0 else pow(i,3) for i in initial_list ]\n",
    "\n",
    "print(power_list)"
   ],
   "outputs": [
    {
     "name": "stdout",
     "output_type": "stream",
     "text": [
      "[1, 8, 27, 64, 125]\n"
     ]
    }
   ],
   "execution_count": 107
  },
  {
   "metadata": {
    "ExecuteTime": {
     "end_time": "2025-03-09T22:52:24.601229Z",
     "start_time": "2025-03-09T22:52:24.590340Z"
    }
   },
   "cell_type": "code",
   "source": [
    "# Using else with for Loop\n",
    "for i in range(3):\n",
    "    print(i)\n",
    "else:\n",
    "    print(\"Loop finished successfully\")"
   ],
   "outputs": [
    {
     "name": "stdout",
     "output_type": "stream",
     "text": [
      "0\n",
      "1\n",
      "2\n",
      "Loop finished successfully\n"
     ]
    }
   ],
   "execution_count": 108
  },
  {
   "metadata": {},
   "cell_type": "markdown",
   "source": "## while Loops"
  },
  {
   "metadata": {},
   "cell_type": "code",
   "outputs": [],
   "execution_count": null,
   "source": [
    "i = 1\n",
    "while i < 5:\n",
    "    print('i is: {}'.format(i))\n",
    "    i = i+1"
   ]
  },
  {
   "metadata": {
    "ExecuteTime": {
     "end_time": "2025-03-09T22:56:40.821030Z",
     "start_time": "2025-03-09T22:56:40.806633Z"
    }
   },
   "cell_type": "code",
   "source": [
    "# at while loops we need flag(sentinel) to end while loop\n",
    "numberss = [1,2,3,4,5,6,7,8,9,10]\n",
    "count = 0\n",
    "\n",
    "while count < len(numberss):\n",
    "    if numberss[count] % 2 == 0:\n",
    "        print('Numer cift: ' + str(numberss[count]))\n",
    "    count+=1"
   ],
   "outputs": [
    {
     "name": "stdout",
     "output_type": "stream",
     "text": [
      "Numer cift: 2\n",
      "Numer cift: 4\n",
      "Numer cift: 6\n",
      "Numer cift: 8\n",
      "Numer cift: 10\n"
     ]
    }
   ],
   "execution_count": 109
  },
  {
   "metadata": {},
   "cell_type": "markdown",
   "source": "###  Using break in a while Loop"
  },
  {
   "metadata": {
    "ExecuteTime": {
     "end_time": "2025-03-09T22:57:54.252626Z",
     "start_time": "2025-03-09T22:57:54.240069Z"
    }
   },
   "cell_type": "code",
   "source": [
    "x = 1\n",
    "while x <= 5:\n",
    "    if x == 3:\n",
    "        break  # Stop loop at 3\n",
    "    print(x)\n",
    "    x += 1"
   ],
   "outputs": [
    {
     "name": "stdout",
     "output_type": "stream",
     "text": [
      "1\n",
      "2\n"
     ]
    }
   ],
   "execution_count": 110
  },
  {
   "metadata": {},
   "cell_type": "markdown",
   "source": "### Using continue in a while Loop"
  },
  {
   "metadata": {
    "ExecuteTime": {
     "end_time": "2025-03-09T22:58:18.167981Z",
     "start_time": "2025-03-09T22:58:18.160423Z"
    }
   },
   "cell_type": "code",
   "source": [
    "x = 0\n",
    "while x < 5:\n",
    "    x += 1\n",
    "    if x == 3:\n",
    "        continue  # Skip 3\n",
    "    print(x)"
   ],
   "outputs": [
    {
     "name": "stdout",
     "output_type": "stream",
     "text": [
      "1\n",
      "2\n",
      "4\n",
      "5\n"
     ]
    }
   ],
   "execution_count": 111
  },
  {
   "metadata": {},
   "cell_type": "markdown",
   "source": "### Generating Random Numbers Until a Condition is Met"
  },
  {
   "metadata": {
    "ExecuteTime": {
     "end_time": "2025-03-09T22:59:42.671371Z",
     "start_time": "2025-03-09T22:59:42.656772Z"
    }
   },
   "cell_type": "code",
   "source": [
    "import random\n",
    "\n",
    "number = 0\n",
    "while number != 5:\n",
    "    number = random.randint(1, 8)\n",
    "    print(\"Generated:\", number)\n",
    "# Stops when 5 is generated"
   ],
   "outputs": [
    {
     "name": "stdout",
     "output_type": "stream",
     "text": [
      "Generated: 4\n",
      "Generated: 2\n",
      "Generated: 3\n",
      "Generated: 4\n",
      "Generated: 6\n",
      "Generated: 6\n",
      "Generated: 3\n",
      "Generated: 1\n",
      "Generated: 8\n",
      "Generated: 7\n",
      "Generated: 5\n"
     ]
    }
   ],
   "execution_count": 112
  },
  {
   "metadata": {},
   "cell_type": "markdown",
   "source": "### Reversing a List with while\n"
  },
  {
   "metadata": {
    "ExecuteTime": {
     "end_time": "2025-03-09T23:00:40.261817Z",
     "start_time": "2025-03-09T23:00:40.245775Z"
    }
   },
   "cell_type": "code",
   "source": [
    "numbersss = [10, 20, 30, 40, 50]\n",
    "index = len(numbersss) - 1\n",
    "\n",
    "while index >= 0:\n",
    "    print(numbersss[index])\n",
    "    index -= 1"
   ],
   "outputs": [
    {
     "name": "stdout",
     "output_type": "stream",
     "text": [
      "50\n",
      "40\n",
      "30\n",
      "20\n",
      "10\n"
     ]
    }
   ],
   "execution_count": 113
  },
  {
   "cell_type": "markdown",
   "metadata": {},
   "source": [
    "### Tuples\n",
    "   - A tuple is an ordered, immutable collection of elements. Unlike lists, tuples cannot be modified (no adding, removing, or changing elements after creation)."
   ]
  },
  {
   "metadata": {
    "ExecuteTime": {
     "end_time": "2025-03-09T23:32:56.651001Z",
     "start_time": "2025-03-09T23:32:56.634942Z"
    }
   },
   "cell_type": "code",
   "source": [
    "# Creating a tuple\n",
    "fruits = (\"apple\", \"banana\", \"cherry\")\n",
    "print(fruits)"
   ],
   "outputs": [
    {
     "name": "stdout",
     "output_type": "stream",
     "text": [
      "('apple', 'banana', 'cherry')\n"
     ]
    }
   ],
   "execution_count": 117
  },
  {
   "metadata": {
    "ExecuteTime": {
     "end_time": "2025-03-09T23:32:58.221570Z",
     "start_time": "2025-03-09T23:32:58.214351Z"
    }
   },
   "cell_type": "code",
   "source": [
    "# Tuple with different data types\n",
    "mixed_tuple = (1, \"hello\", 3.14, True)\n",
    "print(mixed_tuple)"
   ],
   "outputs": [
    {
     "name": "stdout",
     "output_type": "stream",
     "text": [
      "(1, 'hello', 3.14, True)\n"
     ]
    }
   ],
   "execution_count": 118
  },
  {
   "metadata": {
    "ExecuteTime": {
     "end_time": "2025-03-09T23:33:00.026692Z",
     "start_time": "2025-03-09T23:33:00.019785Z"
    }
   },
   "cell_type": "code",
   "source": [
    "# Tuple with a single element (MUST have a comma!)\n",
    "single_element_tuple = (\"hello\",)  # Correct\n",
    "not_a_tuple = (\"hello\")  # Wrong, this is just a string"
   ],
   "outputs": [],
   "execution_count": 119
  },
  {
   "metadata": {},
   "cell_type": "markdown",
   "source": [
    "### Accessing Tuple Elements\n",
    "   - using index like in lists"
   ]
  },
  {
   "metadata": {
    "ExecuteTime": {
     "end_time": "2025-03-09T23:33:44.774758Z",
     "start_time": "2025-03-09T23:33:44.764298Z"
    }
   },
   "cell_type": "code",
   "source": [
    "print(fruits[0])  # First element\n",
    "print(fruits[-1]) # Last element\n",
    "print(fruits[1:]) # Slice from index 1"
   ],
   "outputs": [
    {
     "name": "stdout",
     "output_type": "stream",
     "text": [
      "apple\n",
      "cherry\n",
      "('banana', 'cherry')\n"
     ]
    }
   ],
   "execution_count": 120
  },
  {
   "metadata": {},
   "cell_type": "markdown",
   "source": "###  Iterating Through a Tuple"
  },
  {
   "metadata": {
    "ExecuteTime": {
     "end_time": "2025-03-09T23:34:33.146849Z",
     "start_time": "2025-03-09T23:34:33.135679Z"
    }
   },
   "cell_type": "code",
   "source": [
    "colors = (\"red\", \"green\", \"blue\")\n",
    "\n",
    "# Using a for loop\n",
    "for color in colors:\n",
    "    print(color)"
   ],
   "outputs": [
    {
     "name": "stdout",
     "output_type": "stream",
     "text": [
      "red\n",
      "green\n",
      "blue\n"
     ]
    }
   ],
   "execution_count": 121
  },
  {
   "metadata": {
    "ExecuteTime": {
     "end_time": "2025-03-09T23:44:25.551572Z",
     "start_time": "2025-03-09T23:44:25.537424Z"
    }
   },
   "cell_type": "code",
   "source": [
    "#Tuple Immutability\n",
    "# Tuples cannot be changed after creation.\n",
    "\n",
    "numbers = (1, 2, 3)\n",
    "numbers[0] = 10  #TypeError: 'tuple' object does not support item assignment"
   ],
   "outputs": [],
   "execution_count": 122
  },
  {
   "metadata": {},
   "cell_type": "code",
   "outputs": [],
   "execution_count": null,
   "source": [
    "# To modify a tuple, convert it to a list first\n",
    "numbers = (1, 2, 3)\n",
    "numbers_list = list(numbers)  # Convert tuple to list\n",
    "numbers_list[0] = 10\n",
    "numbers = tuple(numbers_list)  # Convert back to tuple\n",
    "print(numbers)  # Output: (10, 2, 3)"
   ]
  },
  {
   "metadata": {},
   "cell_type": "markdown",
   "source": [
    "### Tuple Packing & Unpacking\n",
    "   - You can assign multiple values to a tuple and extract them into variables."
   ]
  },
  {
   "metadata": {
    "ExecuteTime": {
     "end_time": "2025-03-09T23:56:45.129775Z",
     "start_time": "2025-03-09T23:56:45.118826Z"
    }
   },
   "cell_type": "code",
   "source": [
    "# Packing\n",
    "person = (\"Gezim\", 27, \"Lecturer\")\n",
    "\n",
    "# Unpacking\n",
    "name, age, job = person\n",
    "print(name)\n",
    "print(age)\n",
    "print(job)"
   ],
   "outputs": [
    {
     "name": "stdout",
     "output_type": "stream",
     "text": [
      "Gezim\n",
      "27\n",
      "Lecturer\n"
     ]
    }
   ],
   "execution_count": 123
  },
  {
   "metadata": {
    "ExecuteTime": {
     "end_time": "2025-03-09T23:58:17.212471Z",
     "start_time": "2025-03-09T23:58:17.204629Z"
    }
   },
   "cell_type": "code",
   "source": [
    "# Tupple methods\n",
    "numbers = (1, 2, 3, 2, 4, 2)\n",
    "print(numbers.count(2))    #counts how many 2 in numbers\n",
    "print(numbers.index(3))    # returns index of first found '3'"
   ],
   "outputs": [
    {
     "name": "stdout",
     "output_type": "stream",
     "text": [
      "3\n",
      "2\n"
     ]
    }
   ],
   "execution_count": 124
  },
  {
   "metadata": {},
   "cell_type": "markdown",
   "source": [
    "### Conclusion for tupples\n",
    " - Tuples are immutable and faster than lists.\n",
    "- They are useful for fixed data like coordinates or database records.\n",
    "- Unpacking makes working with tuples convenient.\n",
    " -  Can be used as dictionary keys (lists can't!)."
   ]
  },
  {
   "metadata": {},
   "cell_type": "markdown",
   "source": [
    "## Dictionaries\n",
    " - A dictionary is an unordered, mutable collection of key-value pairs. It allows fast lookups and modifications."
   ]
  },
  {
   "metadata": {
    "ExecuteTime": {
     "end_time": "2025-03-10T00:13:42.550156Z",
     "start_time": "2025-03-10T00:13:42.540937Z"
    }
   },
   "cell_type": "code",
   "source": [
    "# Creating a dictionary\n",
    "student = {\n",
    "    \"name\": \"Agim\",\n",
    "    \"age\": 25,\n",
    "    \"course\": \"Computer Science\"\n",
    "}\n",
    "print(student)"
   ],
   "outputs": [
    {
     "name": "stdout",
     "output_type": "stream",
     "text": [
      "{'name': 'Agim', 'age': 25, 'course': 'Computer Science'}\n"
     ]
    }
   ],
   "execution_count": 126
  },
  {
   "metadata": {
    "ExecuteTime": {
     "end_time": "2025-03-10T00:13:44.041683Z",
     "start_time": "2025-03-10T00:13:44.035707Z"
    }
   },
   "cell_type": "code",
   "source": [
    "# access\n",
    "print(student[\"name\"])\n",
    "print(student.get(\"age\"))\n",
    "print(student.get(\"grade\", \"Not found\"))"
   ],
   "outputs": [
    {
     "name": "stdout",
     "output_type": "stream",
     "text": [
      "Agim\n",
      "25\n",
      "Not found\n"
     ]
    }
   ],
   "execution_count": 127
  },
  {
   "metadata": {
    "ExecuteTime": {
     "end_time": "2025-03-10T00:14:46.885946Z",
     "start_time": "2025-03-10T00:14:46.873675Z"
    }
   },
   "cell_type": "code",
   "source": [
    "# update, add\n",
    "student[\"age\"] = 26  # Updating value\n",
    "student[\"grade\"] = \"A\"  # Adding new key-value pair\n",
    "print(student)"
   ],
   "outputs": [
    {
     "name": "stdout",
     "output_type": "stream",
     "text": [
      "{'name': 'Agim', 'age': 26, 'course': 'Computer Science', 'grade': 'A'}\n"
     ]
    }
   ],
   "execution_count": 128
  },
  {
   "metadata": {
    "ExecuteTime": {
     "end_time": "2025-03-10T00:15:02.364011Z",
     "start_time": "2025-03-10T00:15:02.353845Z"
    }
   },
   "cell_type": "code",
   "source": [
    "# now will be found\n",
    "print(student.get(\"grade\", \"Not found\"))"
   ],
   "outputs": [
    {
     "name": "stdout",
     "output_type": "stream",
     "text": [
      "A\n"
     ]
    }
   ],
   "execution_count": 129
  },
  {
   "metadata": {
    "ExecuteTime": {
     "end_time": "2025-03-10T00:15:36.675575Z",
     "start_time": "2025-03-10T00:15:36.663908Z"
    }
   },
   "cell_type": "code",
   "source": [
    "# deleting element\n",
    "\n",
    "del student[\"grade\"]  # Removes 'grade' key\n",
    "print(student)\n",
    "\n",
    "age = student.pop(\"age\")  # Removes 'age' and returns its value\n",
    "print(age)  # Output: 26\n",
    "\n",
    "#student.clear()  # Removes all items\n",
    "#print(student)  # Output: {}"
   ],
   "outputs": [
    {
     "name": "stdout",
     "output_type": "stream",
     "text": [
      "{'name': 'Agim', 'age': 26, 'course': 'Computer Science'}\n",
      "26\n"
     ]
    }
   ],
   "execution_count": 131
  },
  {
   "metadata": {
    "ExecuteTime": {
     "end_time": "2025-03-10T00:17:16.204549Z",
     "start_time": "2025-03-10T00:17:16.190839Z"
    }
   },
   "cell_type": "code",
   "source": [
    "# iterating throug dictionary\n",
    "\n",
    "# Looping through keys\n",
    "for key in student:\n",
    "    print(key, student[key])"
   ],
   "outputs": [
    {
     "name": "stdout",
     "output_type": "stream",
     "text": [
      "name Agim\n",
      "course Computer Science\n"
     ]
    }
   ],
   "execution_count": 132
  },
  {
   "metadata": {
    "ExecuteTime": {
     "end_time": "2025-03-10T00:17:39.532352Z",
     "start_time": "2025-03-10T00:17:39.519273Z"
    }
   },
   "cell_type": "code",
   "source": [
    "# Looping through values\n",
    "for value in student.values():\n",
    "    print(value)"
   ],
   "outputs": [
    {
     "name": "stdout",
     "output_type": "stream",
     "text": [
      "Agim\n",
      "Computer Science\n"
     ]
    }
   ],
   "execution_count": 133
  },
  {
   "metadata": {
    "ExecuteTime": {
     "end_time": "2025-03-10T00:17:44.624129Z",
     "start_time": "2025-03-10T00:17:44.612111Z"
    }
   },
   "cell_type": "code",
   "source": [
    "# Looping through key-value pairs\n",
    "for key, value in student.items():\n",
    "    print(f\"{key}: {value}\")"
   ],
   "outputs": [
    {
     "name": "stdout",
     "output_type": "stream",
     "text": [
      "name: Agim\n",
      "course: Computer Science\n"
     ]
    }
   ],
   "execution_count": 134
  },
  {
   "metadata": {
    "ExecuteTime": {
     "end_time": "2025-03-10T00:22:00.262975Z",
     "start_time": "2025-03-10T00:22:00.251902Z"
    }
   },
   "cell_type": "code",
   "source": [
    "# nested dictionaries\n",
    "\n",
    "students = {\n",
    "    \"student1\": {\"name\": \"Agim\", \"age\": 21},\n",
    "    \"student2\": {\"name\": \"Sokol\", \"age\": 22}\n",
    "}\n",
    "\n",
    "# print the name of students\n",
    "for student in students:\n",
    "    print(students[student]['name'])"
   ],
   "outputs": [
    {
     "name": "stdout",
     "output_type": "stream",
     "text": [
      "Agim\n",
      "Sokol\n"
     ]
    }
   ],
   "execution_count": 140
  },
  {
   "metadata": {
    "ExecuteTime": {
     "end_time": "2025-03-10T00:26:12.846660Z",
     "start_time": "2025-03-10T00:26:12.838264Z"
    }
   },
   "cell_type": "code",
   "source": [
    "# items() returns key-values\n",
    "print(list(students.items()))\n",
    "\n",
    "# values() return just values\n",
    "print(list(students.values()))\n",
    "\n",
    "# keys()\n",
    "print(list(students.keys()))"
   ],
   "outputs": [
    {
     "name": "stdout",
     "output_type": "stream",
     "text": [
      "[('student1', {'name': 'Agim', 'age': 21}), ('student2', {'name': 'Sokol', 'age': 22})]\n",
      "[{'name': 'Agim', 'age': 21}, {'name': 'Sokol', 'age': 22}]\n",
      "['student1', 'student2']\n"
     ]
    }
   ],
   "execution_count": 150
  },
  {
   "metadata": {},
   "cell_type": "markdown",
   "source": [
    "### Conclusion for dictionaries\n",
    "- Dictionaries are great for key-value storage and fast lookups.\n",
    "- Mutable, but keys must be unique.\n",
    "- Best for structured data like JSON, database records, and settings."
   ]
  },
  {
   "metadata": {},
   "cell_type": "markdown",
   "source": [
    "## Functions in Python\n",
    "A function is a block of reusable code that performs a specific task. Functions help reduce redundancy, make code modular, and improve readability."
   ]
  },
  {
   "cell_type": "code",
   "metadata": {
    "ExecuteTime": {
     "end_time": "2025-03-10T00:39:45.207116Z",
     "start_time": "2025-03-10T00:39:45.202143Z"
    }
   },
   "source": [
    "def my_func(param1='default'):\n",
    "    \"\"\"\n",
    "    Docstring goes here.\n",
    "    \"\"\"\n",
    "    print(param1)"
   ],
   "outputs": [],
   "execution_count": 151
  },
  {
   "cell_type": "code",
   "metadata": {
    "ExecuteTime": {
     "end_time": "2025-03-10T00:39:57.717799Z",
     "start_time": "2025-03-10T00:39:57.711807Z"
    }
   },
   "source": [
    "#just prints function reference\n",
    "my_func"
   ],
   "outputs": [
    {
     "data": {
      "text/plain": [
       "<function __main__.my_func(param1='default')>"
      ]
     },
     "execution_count": 153,
     "metadata": {},
     "output_type": "execute_result"
    }
   ],
   "execution_count": 153
  },
  {
   "cell_type": "code",
   "metadata": {
    "ExecuteTime": {
     "end_time": "2025-03-10T00:40:05.123293Z",
     "start_time": "2025-03-10T00:40:05.118661Z"
    }
   },
   "source": [
    "# calls function\n",
    "my_func()"
   ],
   "outputs": [
    {
     "name": "stdout",
     "output_type": "stream",
     "text": [
      "default\n"
     ]
    }
   ],
   "execution_count": 154
  },
  {
   "cell_type": "code",
   "metadata": {
    "ExecuteTime": {
     "end_time": "2025-03-10T00:40:11.403669Z",
     "start_time": "2025-03-10T00:40:11.399057Z"
    }
   },
   "source": [
    "my_func('new param')"
   ],
   "outputs": [
    {
     "name": "stdout",
     "output_type": "stream",
     "text": [
      "new param\n"
     ]
    }
   ],
   "execution_count": 155
  },
  {
   "cell_type": "code",
   "metadata": {
    "ExecuteTime": {
     "end_time": "2025-03-10T00:40:22.289507Z",
     "start_time": "2025-03-10T00:40:22.285045Z"
    }
   },
   "source": "my_func(param1='new new param')",
   "outputs": [
    {
     "name": "stdout",
     "output_type": "stream",
     "text": [
      "new new param\n"
     ]
    }
   ],
   "execution_count": 156
  },
  {
   "metadata": {
    "ExecuteTime": {
     "end_time": "2025-03-10T00:42:36.420082Z",
     "start_time": "2025-03-10T00:42:36.415403Z"
    }
   },
   "cell_type": "code",
   "source": [
    "# functions with return values\n",
    "def add(a, b):\n",
    "    return a + b\n",
    "\n",
    "result = add(5, 3)\n",
    "print(result)  # Output: 8"
   ],
   "outputs": [
    {
     "name": "stdout",
     "output_type": "stream",
     "text": [
      "8\n"
     ]
    }
   ],
   "execution_count": 158
  },
  {
   "metadata": {
    "ExecuteTime": {
     "end_time": "2025-03-10T00:43:44.514121Z",
     "start_time": "2025-03-10T00:43:44.509370Z"
    }
   },
   "cell_type": "code",
   "source": [
    "#  Multiple Return Values\n",
    "def get_person():\n",
    "    return \"Agim\", 21, \"Programer\"\n",
    "\n",
    "name, age, job = get_person()\n",
    "print(name, age, job)"
   ],
   "outputs": [
    {
     "name": "stdout",
     "output_type": "stream",
     "text": [
      "Agim 21 Programer\n"
     ]
    }
   ],
   "execution_count": 159
  },
  {
   "metadata": {
    "ExecuteTime": {
     "end_time": "2025-03-10T00:48:38.365661Z",
     "start_time": "2025-03-10T00:48:38.360765Z"
    }
   },
   "cell_type": "code",
   "source": [
    "# Keyword Arguments (kwargs)\n",
    "\n",
    "def describe_person(name, age, job):\n",
    "    print(f\"Name: {name}, Age: {age}, Job: {job}\")\n",
    "\n",
    "describe_person(age=25, job=\"Programmer\", name=\"Agim\")\n"
   ],
   "outputs": [
    {
     "name": "stdout",
     "output_type": "stream",
     "text": [
      "Name: Agim, Age: 25, Job: Programmer\n"
     ]
    }
   ],
   "execution_count": 160
  },
  {
   "metadata": {
    "ExecuteTime": {
     "end_time": "2025-03-10T00:52:40.873911Z",
     "start_time": "2025-03-10T00:52:40.869632Z"
    }
   },
   "cell_type": "code",
   "source": [
    "#  Arbitrary Arguments (*args, **kwargs)\n",
    "\n",
    "# *args (Multiple positional arguments)\n",
    "def add_numbers(*args):\n",
    "    return sum(args)\n",
    "\n",
    "print(add_numbers(1, 2, 3, 4))"
   ],
   "outputs": [
    {
     "name": "stdout",
     "output_type": "stream",
     "text": [
      "10\n"
     ]
    }
   ],
   "execution_count": 161
  },
  {
   "metadata": {
    "ExecuteTime": {
     "end_time": "2025-03-10T00:55:44.724935Z",
     "start_time": "2025-03-10T00:55:44.720605Z"
    }
   },
   "cell_type": "code",
   "source": [
    "# use arbitrary arguments to define function that finds average\n",
    "\n",
    "def find_average(*numbers):\n",
    "    sum = 0\n",
    "    for num in numbers:\n",
    "        sum+=num\n",
    "    return sum/len(numbers)\n",
    "\n",
    "print(f'Average of (1,2,3,4) is:  {find_average(1,2,3,4)}')"
   ],
   "outputs": [
    {
     "name": "stdout",
     "output_type": "stream",
     "text": [
      "Average of (1,2,3,4) is:  2.5\n"
     ]
    }
   ],
   "execution_count": 164
  },
  {
   "metadata": {
    "ExecuteTime": {
     "end_time": "2025-03-10T00:52:53.457265Z",
     "start_time": "2025-03-10T00:52:53.451720Z"
    }
   },
   "cell_type": "code",
   "source": [
    "# **kwargs (Multiple keyword arguments)\n",
    "def print_details(**kwargs):\n",
    "    for key, value in kwargs.items():\n",
    "        print(f\"{key}: {value}\")\n",
    "\n",
    "print_details(name=\"Agim\", age=21, country=\"Kosova\")"
   ],
   "outputs": [
    {
     "name": "stdout",
     "output_type": "stream",
     "text": [
      "name: Agim\n",
      "age: 21\n",
      "country: Kosova\n"
     ]
    }
   ],
   "execution_count": 162
  },
  {
   "metadata": {
    "ExecuteTime": {
     "end_time": "2025-03-10T01:02:39.006586Z",
     "start_time": "2025-03-10T01:02:39.002192Z"
    }
   },
   "cell_type": "code",
   "source": [
    "# static and arbitrary params\n",
    "def add_numbers(text,*numbers):\n",
    "    sum = 0\n",
    "    for num in numbers:\n",
    "        sum+=int(num)\n",
    "    print(f'Sum of {len(numbers)} numbers is {sum} + {text}')\n",
    "\n",
    "add_numbers('randomtext',1,2,3,4)"
   ],
   "outputs": [
    {
     "name": "stdout",
     "output_type": "stream",
     "text": [
      "Sum of 4 numbers is 10 + randomtext\n"
     ]
    }
   ],
   "execution_count": 170
  },
  {
   "metadata": {},
   "cell_type": "markdown",
   "source": "### Lambda (Anonymous) Functions"
  },
  {
   "metadata": {
    "ExecuteTime": {
     "end_time": "2025-03-10T00:57:40.360621Z",
     "start_time": "2025-03-10T00:57:40.354974Z"
    }
   },
   "cell_type": "code",
   "source": [
    "#Normal function to find square of number\n",
    "def find_square(number):\n",
    "    return number**2\n",
    "\n",
    "# Lambda function\n",
    "square = lambda x: x ** 2\n",
    "print(square(5))"
   ],
   "outputs": [
    {
     "name": "stdout",
     "output_type": "stream",
     "text": [
      "25\n"
     ]
    }
   ],
   "execution_count": 167
  },
  {
   "metadata": {
    "ExecuteTime": {
     "end_time": "2025-03-10T00:57:44.363430Z",
     "start_time": "2025-03-10T00:57:44.357971Z"
    }
   },
   "cell_type": "code",
   "source": [
    "# Lambda function with multiple arguments\n",
    "multiply = lambda x, y: x * y\n",
    "print(multiply(3, 4))"
   ],
   "outputs": [
    {
     "name": "stdout",
     "output_type": "stream",
     "text": [
      "12\n"
     ]
    }
   ],
   "execution_count": 168
  },
  {
   "metadata": {
    "ExecuteTime": {
     "end_time": "2025-03-10T01:20:59.161701Z",
     "start_time": "2025-03-10T01:20:59.157230Z"
    }
   },
   "cell_type": "code",
   "source": [
    "# example1 : update None with zero, and convert string to int, using lambda\n",
    "\n",
    "values = [1, '2', None, '3', 4, '5']\n",
    "\n",
    "result = list(map( lambda i: 0  if i is None else int(i)  , values))\n",
    "\n",
    "print(result)"
   ],
   "outputs": [
    {
     "name": "stdout",
     "output_type": "stream",
     "text": [
      "[1, 2, 0, 3, 4, 5]\n"
     ]
    }
   ],
   "execution_count": 175
  },
  {
   "metadata": {
    "ExecuteTime": {
     "end_time": "2025-03-10T01:22:19.884051Z",
     "start_time": "2025-03-10T01:22:19.878091Z"
    }
   },
   "cell_type": "code",
   "source": [
    "# example 2: get list of text with lower case\n",
    "\n",
    "text = ['Abc', 'TEST', 'hEllO']\n",
    "list(map( lambda i: i.lower() , text ))"
   ],
   "outputs": [
    {
     "data": {
      "text/plain": [
       "['abc', 'test', 'hello']"
      ]
     },
     "execution_count": 176,
     "metadata": {},
     "output_type": "execute_result"
    }
   ],
   "execution_count": 176
  },
  {
   "metadata": {
    "ExecuteTime": {
     "end_time": "2025-03-10T01:24:23.595106Z",
     "start_time": "2025-03-10T01:24:23.589583Z"
    }
   },
   "cell_type": "code",
   "source": [
    "# example 3: get a new dictionary with products and prices with 20% discount\n",
    "\n",
    "products = {'laptop':1200, 'mouse':100, 'keyboad':70}\n",
    "\n",
    "dict(map( lambda item: ( item[0], item[1] * 0.8)  , products.items()))"
   ],
   "outputs": [
    {
     "data": {
      "text/plain": [
       "{'laptop': 960.0, 'mouse': 80.0, 'keyboad': 56.0}"
      ]
     },
     "execution_count": 177,
     "metadata": {},
     "output_type": "execute_result"
    }
   ],
   "execution_count": 177
  },
  {
   "cell_type": "markdown",
   "metadata": {},
   "source": [
    "## map() Function\n",
    " - The map() function applies a given function to all items in an iterable (list, tuple, etc.) and returns a new iterable (map object). It helps in functional programming by eliminating the need for for loops.\n",
    "  - map(function, iterable)\n",
    "  - function: The function to apply to each element.\n",
    "  - iterable: The sequence (list, tuple, etc.) to apply the function to."
   ]
  },
  {
   "metadata": {
    "ExecuteTime": {
     "end_time": "2025-03-10T01:14:30.796052Z",
     "start_time": "2025-03-10T01:14:30.790907Z"
    }
   },
   "cell_type": "code",
   "source": [
    "# Using map() with a Function\n",
    "\n",
    "def square(num):\n",
    "    return num ** 2\n",
    "\n",
    "numbers = [1, 2, 3, 4, 5]\n",
    "squared_numbers = list(map(square, numbers))\n",
    "\n",
    "print(squared_numbers)"
   ],
   "outputs": [
    {
     "name": "stdout",
     "output_type": "stream",
     "text": [
      "[1, 4, 9, 16, 25]\n"
     ]
    }
   ],
   "execution_count": 171
  },
  {
   "metadata": {
    "ExecuteTime": {
     "end_time": "2025-03-10T01:16:38.162225Z",
     "start_time": "2025-03-10T01:16:38.157245Z"
    }
   },
   "cell_type": "code",
   "source": [
    "# Using map() with lambda\n",
    "\n",
    "numbers = [1, 2, 3, 4, 5]\n",
    "squared_numbers = list(map(lambda x: x ** 2, numbers))\n",
    "\n",
    "print(squared_numbers)\n"
   ],
   "outputs": [
    {
     "name": "stdout",
     "output_type": "stream",
     "text": [
      "[1, 4, 9, 16, 25]\n"
     ]
    }
   ],
   "execution_count": 172
  },
  {
   "metadata": {
    "ExecuteTime": {
     "end_time": "2025-03-10T01:17:37.016322Z",
     "start_time": "2025-03-10T01:17:37.011186Z"
    }
   },
   "cell_type": "code",
   "source": [
    "# Example: Mapping Multiple Iterables\n",
    "a = [1, 2, 3]\n",
    "b = [4, 5, 6]\n",
    "\n",
    "sum_values = list(map(lambda x, y: x + y, a, b))\n",
    "print(sum_values)\n"
   ],
   "outputs": [
    {
     "name": "stdout",
     "output_type": "stream",
     "text": [
      "[5, 7, 9]\n"
     ]
    }
   ],
   "execution_count": 173
  },
  {
   "metadata": {
    "ExecuteTime": {
     "end_time": "2025-03-10T01:17:54.577730Z",
     "start_time": "2025-03-10T01:17:54.572481Z"
    }
   },
   "cell_type": "code",
   "source": [
    "# Example: Converting Strings to Integers\n",
    "str_numbers = [\"1\", \"2\", \"3\", \"4\"]\n",
    "int_numbers = list(map(int, str_numbers))\n",
    "\n",
    "print(int_numbers)"
   ],
   "outputs": [
    {
     "name": "stdout",
     "output_type": "stream",
     "text": [
      "[1, 2, 3, 4]\n"
     ]
    }
   ],
   "execution_count": 174
  },
  {
   "metadata": {},
   "cell_type": "markdown",
   "source": [
    "Conclusion\n",
    "- map() is useful for transforming data without using loops.\n",
    "- Works with functions, lambda, and built-in methods.\n",
    "- Can be replaced with list comprehensions for better readability."
   ]
  },
  {
   "metadata": {},
   "cell_type": "markdown",
   "source": [
    "### filter() Function\n",
    "- The filter() function is used to filter elements from an iterable based on a condition. It returns a filtered iterator containing only the elements that satisfy the condition.\n",
    "- filter(function, iterable)\n",
    "- function: A function that returns True or False (acts as a filter condition).\n",
    "- iterable: The sequence (list, tuple, etc.) to be filtered.\n",
    "- Only elements where the function returns True are included in the output."
   ]
  },
  {
   "metadata": {
    "ExecuteTime": {
     "end_time": "2025-03-10T01:34:46.758161Z",
     "start_time": "2025-03-10T01:34:46.752516Z"
    }
   },
   "cell_type": "code",
   "source": [
    "# example 1: filter words with length more than 6 which start with 'm'\n",
    "\n",
    "text = ['python', 'data analysis', 'machine learning','MMMMMMMM', 'test']\n",
    "\n",
    "list(filter( lambda word: len(word)>6 and word[0].lower() =='m'  , text))"
   ],
   "outputs": [
    {
     "data": {
      "text/plain": [
       "['machine learning', 'MMMMMMMM']"
      ]
     },
     "execution_count": 178,
     "metadata": {},
     "output_type": "execute_result"
    }
   ],
   "execution_count": 178
  },
  {
   "metadata": {
    "ExecuteTime": {
     "end_time": "2025-03-10T01:37:40.975953Z",
     "start_time": "2025-03-10T01:37:40.969204Z"
    }
   },
   "cell_type": "code",
   "source": [
    "# exanple 2: filter even numbers defining function isEven\n",
    "\n",
    "def isEven(number):\n",
    "    return number % 2 == 0\n",
    "\n",
    "unfilterd_list = [1,2,3,4,5,11,12,13,14]\n",
    "\n",
    "list(filter( isEven , unfilterd_list ))"
   ],
   "outputs": [
    {
     "data": {
      "text/plain": [
       "[2, 4, 12, 14]"
      ]
     },
     "execution_count": 179,
     "metadata": {},
     "output_type": "execute_result"
    }
   ],
   "execution_count": 179
  },
  {
   "metadata": {
    "ExecuteTime": {
     "end_time": "2025-03-10T01:39:07.534695Z",
     "start_time": "2025-03-10T01:39:07.529429Z"
    }
   },
   "cell_type": "code",
   "source": [
    "# example 3: filter just int values\n",
    "\n",
    "uncleaned_data = [1, '2' , 3, None,'test', 5, 6]\n",
    "\n",
    "cleaned = list(filter( lambda i : type(i) is int  , uncleaned_data ))\n",
    "\n",
    "print(cleaned)"
   ],
   "outputs": [
    {
     "name": "stdout",
     "output_type": "stream",
     "text": [
      "[1, 3, 5, 6]\n"
     ]
    }
   ],
   "execution_count": 180
  },
  {
   "metadata": {
    "ExecuteTime": {
     "end_time": "2025-03-10T01:40:07.154929Z",
     "start_time": "2025-03-10T01:40:07.150748Z"
    }
   },
   "cell_type": "code",
   "source": [
    "# example 4: filter active employees\n",
    "\n",
    "data = ({'name': 'Gezim', 'active': False}, {'name': 'Test', 'active': True})\n",
    "\n",
    "active_emp = list(filter( lambda item : item['active']==True  , data))\n",
    "\n",
    "print(active_emp)"
   ],
   "outputs": [
    {
     "name": "stdout",
     "output_type": "stream",
     "text": [
      "[{'name': 'Test', 'active': True}]\n"
     ]
    }
   ],
   "execution_count": 182
  },
  {
   "metadata": {
    "ExecuteTime": {
     "end_time": "2025-03-10T01:43:44.315011Z",
     "start_time": "2025-03-10T01:43:44.309232Z"
    }
   },
   "cell_type": "code",
   "source": [
    "# example 5: filter words starting with \"s\"\n",
    "words = ['soup','dog','salad','cat','great']\n",
    "list(filter(lambda word: word.startswith('s') , words ))"
   ],
   "outputs": [
    {
     "data": {
      "text/plain": [
       "['soup', 'salad']"
      ]
     },
     "execution_count": 183,
     "metadata": {},
     "output_type": "execute_result"
    }
   ],
   "execution_count": 183
  },
  {
   "cell_type": "markdown",
   "metadata": {},
   "source": [
    "# Great Job!"
   ]
  }
 ],
 "metadata": {
  "kernelspec": {
   "display_name": "Python 3 (ipykernel)",
   "language": "python",
   "name": "python3"
  },
  "language_info": {
   "codemirror_mode": {
    "name": "ipython",
    "version": 3
   },
   "file_extension": ".py",
   "mimetype": "text/x-python",
   "name": "python",
   "nbconvert_exporter": "python",
   "pygments_lexer": "ipython3",
   "version": "3.12.0"
  }
 },
 "nbformat": 4,
 "nbformat_minor": 4
}

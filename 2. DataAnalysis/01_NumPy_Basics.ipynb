{
 "cells": [
  {
   "metadata": {},
   "cell_type": "markdown",
   "source": [
    "# NumPy\n",
    "\n",
    "NumPy (or Numpy) is a Linear Algebra Library for Python, the reason it is so important for Data Science with Python is that almost all of the libraries in the PyData Ecosystem rely on NumPy as one of their main building blocks.\n",
    "\n",
    "Numpy is also incredibly fast, as it has bindings to C libraries. For more info on why you would want to use Arrays instead of lists, check out this great [StackOverflow post](http://stackoverflow.com/questions/993984/why-numpy-instead-of-python-lists)."
   ],
   "id": "b7669664d45cd23e"
  },
  {
   "metadata": {},
   "cell_type": "markdown",
   "source": [
    "## Installation Instructions\n",
    "\n",
    "**  pip install numpy"
   ],
   "id": "84343f943bfb547f"
  },
  {
   "metadata": {},
   "cell_type": "markdown",
   "source": "## Using NumPy",
   "id": "2fa67a81d2803ee4"
  },
  {
   "metadata": {},
   "cell_type": "markdown",
   "source": [
    "Numpy has many built-in functions and capabilities. We will focus on some of the most important aspects of Numpy: vectors,arrays,matrices, and number generation. Let's start by discussing arrays.\n",
    "\n",
    "# Numpy Arrays\n",
    "\n",
    "NumPy arrays are the main way we will use Numpy throughout the course. Numpy arrays essentially come in two flavors: vectors and matrices. Vectors are strictly 1-d arrays and matrices are 2-d (but you should note a matrix can still have only one row or one column).\n",
    "\n",
    "Let's begin our introduction by exploring how to create NumPy arrays.\n",
    "\n",
    "\n",
    "## Creating NumPy Arrays\n",
    "\n",
    "### From a Python List\n",
    "\n",
    "We can create an array by directly converting a list or list of lists:"
   ],
   "id": "23991ae7aed10452"
  },
  {
   "cell_type": "code",
   "id": "2600e89f",
   "metadata": {
    "ExecuteTime": {
     "end_time": "2025-03-14T21:50:56.831518Z",
     "start_time": "2025-03-14T21:50:55.816252Z"
    }
   },
   "source": "import numpy as np",
   "outputs": [],
   "execution_count": 1
  },
  {
   "metadata": {
    "ExecuteTime": {
     "end_time": "2025-03-14T21:51:53.273927Z",
     "start_time": "2025-03-14T21:51:53.267128Z"
    }
   },
   "cell_type": "code",
   "source": [
    "arr = np.array([1, 2, 3, 4, 5])\n",
    "print(f\"Numpy array: {arr} with type: {type(arr)}\", arr)"
   ],
   "id": "f130f6d20e1c856b",
   "outputs": [
    {
     "name": "stdout",
     "output_type": "stream",
     "text": [
      "Numpy array: [1 2 3 4 5] with type: <class 'numpy.ndarray'> [1 2 3 4 5]\n"
     ]
    }
   ],
   "execution_count": 3
  },
  {
   "metadata": {
    "ExecuteTime": {
     "end_time": "2025-03-14T21:52:30.748343Z",
     "start_time": "2025-03-14T21:52:30.742829Z"
    }
   },
   "cell_type": "code",
   "source": [
    "# 2d numpy array\n",
    "two_d_array = np.array([[1,2,3], [4,5,6],[7,8,9]])\n",
    "print(two_d_array)"
   ],
   "id": "aa10c8a703eaeb9d",
   "outputs": [
    {
     "name": "stdout",
     "output_type": "stream",
     "text": [
      "[[1 2 3]\n",
      " [4 5 6]\n",
      " [7 8 9]]\n"
     ]
    }
   ],
   "execution_count": 4
  },
  {
   "cell_type": "markdown",
   "id": "8f0fcecd",
   "metadata": {},
   "source": [
    "## Built-in Methods\n",
    "NumPy provides several methods to create arrays efficiently:\n",
    "- arange()   Return a range from start to stop value, default step = 1.\n",
    "- zeros()    Returns an array 1d or 2d with all elements zero\n",
    "- ones()     Same but instead of 0, returns 1\n",
    "- linespace()  Return evenly spaced numbers between specified interval\n",
    "- eye()        Matrica njesi\n",
    "- Random rand randn randint"
   ]
  },
  {
   "metadata": {
    "ExecuteTime": {
     "end_time": "2025-03-14T21:55:28.941540Z",
     "start_time": "2025-03-14T21:55:28.934942Z"
    }
   },
   "cell_type": "code",
   "source": [
    "# arange() similiar with range(start, stop, step)\n",
    "# numpy arrays are called 'ndarray' - n-dimensional array\n",
    "ndarray_from_arange = np.arange(1,10)\n",
    "print(ndarray_from_arange)"
   ],
   "id": "d07742fefcdb20c2",
   "outputs": [
    {
     "name": "stdout",
     "output_type": "stream",
     "text": [
      "[1 2 3 4 5 6 7 8 9]\n"
     ]
    }
   ],
   "execution_count": 5
  },
  {
   "metadata": {
    "ExecuteTime": {
     "end_time": "2025-03-14T21:55:42.443215Z",
     "start_time": "2025-03-14T21:55:42.437630Z"
    }
   },
   "cell_type": "code",
   "source": "print(np.arange(0, 10, 2))  # Creates array [0, 2, 4, 6, 8]",
   "id": "d665f2f727055dbd",
   "outputs": [
    {
     "name": "stdout",
     "output_type": "stream",
     "text": [
      "[0 2 4 6 8]\n"
     ]
    }
   ],
   "execution_count": 6
  },
  {
   "metadata": {
    "ExecuteTime": {
     "end_time": "2025-03-14T21:56:25.995658Z",
     "start_time": "2025-03-14T21:56:25.990458Z"
    }
   },
   "cell_type": "code",
   "source": [
    "print(np.zeros(10))      # 1-d array with 10 -zeros\n",
    "# by default its float type, we can change it later"
   ],
   "id": "e048f5f141583a4f",
   "outputs": [
    {
     "name": "stdout",
     "output_type": "stream",
     "text": [
      "[0. 0. 0. 0. 0. 0. 0. 0. 0. 0.]\n"
     ]
    }
   ],
   "execution_count": 7
  },
  {
   "metadata": {
    "ExecuteTime": {
     "end_time": "2025-03-14T21:56:59.059314Z",
     "start_time": "2025-03-14T21:56:59.053704Z"
    }
   },
   "cell_type": "code",
   "source": "print(np.zeros((2,3)))      # 2x3 matrix of zeros",
   "id": "821414ce6e544e17",
   "outputs": [
    {
     "name": "stdout",
     "output_type": "stream",
     "text": [
      "[[0. 0. 0.]\n",
      " [0. 0. 0.]]\n"
     ]
    }
   ],
   "execution_count": 8
  },
  {
   "metadata": {
    "ExecuteTime": {
     "end_time": "2025-03-14T21:57:34.090943Z",
     "start_time": "2025-03-14T21:57:34.084735Z"
    }
   },
   "cell_type": "code",
   "source": [
    "# instead of zeros we can create a ndarray of ones:\n",
    "print(np.ones((3,3)))       # 3x3 matrix of ones"
   ],
   "id": "f66fe4da9eab49d7",
   "outputs": [
    {
     "name": "stdout",
     "output_type": "stream",
     "text": [
      "[[1. 1. 1.]\n",
      " [1. 1. 1.]\n",
      " [1. 1. 1.]]\n"
     ]
    }
   ],
   "execution_count": 9
  },
  {
   "metadata": {
    "ExecuteTime": {
     "end_time": "2025-03-14T21:57:59.668546Z",
     "start_time": "2025-03-14T21:57:59.662567Z"
    }
   },
   "cell_type": "code",
   "source": [
    "print(np.linspace(0, 5, 10)) # 10 points between 0 and 5\n",
    "# same distance between 10 elements"
   ],
   "id": "ed063e4f1b41dd88",
   "outputs": [
    {
     "name": "stdout",
     "output_type": "stream",
     "text": [
      "[0.         0.55555556 1.11111111 1.66666667 2.22222222 2.77777778\n",
      " 3.33333333 3.88888889 4.44444444 5.        ]\n"
     ]
    }
   ],
   "execution_count": 10
  },
  {
   "metadata": {
    "ExecuteTime": {
     "end_time": "2025-03-14T21:58:39.137241Z",
     "start_time": "2025-03-14T21:58:39.131310Z"
    }
   },
   "cell_type": "code",
   "source": "print(np.eye(4))            # Identity matrix",
   "id": "2e31d80ab7fcd188",
   "outputs": [
    {
     "name": "stdout",
     "output_type": "stream",
     "text": [
      "[[1. 0. 0. 0.]\n",
      " [0. 1. 0. 0.]\n",
      " [0. 0. 1. 0.]\n",
      " [0. 0. 0. 1.]]\n"
     ]
    }
   ],
   "execution_count": 11
  },
  {
   "cell_type": "code",
   "id": "fea99699",
   "metadata": {
    "ExecuteTime": {
     "end_time": "2025-03-14T21:59:13.489777Z",
     "start_time": "2025-03-14T21:59:13.121852Z"
    }
   },
   "source": "print(np.random.random(5))  # Random 5 numbers between 0 and 1",
   "outputs": [
    {
     "name": "stdout",
     "output_type": "stream",
     "text": [
      "[0.95706979 0.72041413 0.02780392 0.2461285  0.28462671]\n"
     ]
    }
   ],
   "execution_count": 12
  },
  {
   "metadata": {
    "ExecuteTime": {
     "end_time": "2025-03-14T21:59:41.931471Z",
     "start_time": "2025-03-14T21:59:41.923240Z"
    }
   },
   "cell_type": "code",
   "source": "print(np.random.random((2,2))) # 2x2 matrix with random number between 0 and 1",
   "id": "3958b6728f7e038f",
   "outputs": [
    {
     "name": "stdout",
     "output_type": "stream",
     "text": [
      "[[0.30558807 0.51632715]\n",
      " [0.1225847  0.02705911]]\n"
     ]
    }
   ],
   "execution_count": 13
  },
  {
   "metadata": {
    "ExecuteTime": {
     "end_time": "2025-03-14T22:00:43.884355Z",
     "start_time": "2025-03-14T22:00:43.876276Z"
    }
   },
   "cell_type": "code",
   "source": [
    "# if we want random int we can use: randint(from, to, dimensions)\n",
    "print(np.random.randint(1,100, (4,4)))"
   ],
   "id": "87930b5b57cbe1ca",
   "outputs": [
    {
     "name": "stdout",
     "output_type": "stream",
     "text": [
      "[[ 5 51 58 54]\n",
      " [58 76 41 90]\n",
      " [24 99 86 43]\n",
      " [90 58 23  1]]\n"
     ]
    }
   ],
   "execution_count": 14
  },
  {
   "metadata": {
    "ExecuteTime": {
     "end_time": "2025-03-14T22:03:06.623166Z",
     "start_time": "2025-03-14T22:03:06.615578Z"
    }
   },
   "cell_type": "code",
   "source": [
    "# if we want to generate same random numbers in different computers\n",
    "# we can use seed() method\n",
    "np.random.seed(105)\n",
    "\n",
    "#105 is totally random, whoever uses 105 in their computer it will give\n",
    "#same random numbers as here\n",
    "\n",
    "# test: create an array with 5 random elements using seed 105\n",
    "print(np.random.randint(1,10, 5))"
   ],
   "id": "1f198494941dc43a",
   "outputs": [
    {
     "name": "stdout",
     "output_type": "stream",
     "text": [
      "[1 6 7 5 1]\n"
     ]
    }
   ],
   "execution_count": 15
  },
  {
   "cell_type": "markdown",
   "id": "ffb22bf4",
   "metadata": {},
   "source": [
    "## Array Attributes and Methods\n",
    "Understanding array properties like shape, min, max, etc."
   ]
  },
  {
   "cell_type": "code",
   "id": "4742de98",
   "metadata": {
    "ExecuteTime": {
     "end_time": "2025-03-14T22:17:05.213014Z",
     "start_time": "2025-03-14T22:17:05.205791Z"
    }
   },
   "source": [
    "arr_3_3 = np.random.randint(0, 100, (3,3))  # creating random array 3_3\n",
    "print(arr_3_3)\n",
    "print(\"Shape:\", arr_3_3.shape)\n",
    "\n",
    "# shape returns a tuple representing length of dimensions in numpy array\n",
    "# if its 1d-array 'shape' attribute will return a tuple containing only length\n",
    "# if its 2d-array, it will return a tuple with 2 elements (rows,cols)\n",
    "# if its 3d, returns tuple with (i, j, k), length of each dimension"
   ],
   "outputs": [
    {
     "name": "stdout",
     "output_type": "stream",
     "text": [
      "[[64 36 48]\n",
      " [36 45  1]\n",
      " [70 47 73]]\n",
      "Shape: (3, 3)\n"
     ]
    }
   ],
   "execution_count": 16
  },
  {
   "metadata": {
    "ExecuteTime": {
     "end_time": "2025-03-14T22:17:22.076632Z",
     "start_time": "2025-03-14T22:17:22.068516Z"
    }
   },
   "cell_type": "code",
   "source": [
    "# find max value and its index\n",
    "# notice numpy considers 2d array as 1d array, so argmax returns a single index\n",
    "print(\"Max:\", arr_3_3.max(), \"at index\", arr_3_3.argmax())"
   ],
   "id": "f01824e5e907804b",
   "outputs": [
    {
     "name": "stdout",
     "output_type": "stream",
     "text": [
      "Max: 73 at index 8\n"
     ]
    }
   ],
   "execution_count": 17
  },
  {
   "metadata": {
    "ExecuteTime": {
     "end_time": "2025-03-14T22:17:40.398016Z",
     "start_time": "2025-03-14T22:17:40.389669Z"
    }
   },
   "cell_type": "code",
   "source": [
    "# finding min value and its index\n",
    "print(\"Min:\", arr_3_3.min(), \"at index\", arr_3_3.argmin())"
   ],
   "id": "e795fce3adaee00",
   "outputs": [
    {
     "name": "stdout",
     "output_type": "stream",
     "text": [
      "Min: 1 at index 5\n"
     ]
    }
   ],
   "execution_count": 18
  },
  {
   "metadata": {
    "ExecuteTime": {
     "end_time": "2025-03-14T22:22:22.085258Z",
     "start_time": "2025-03-14T22:22:22.077370Z"
    }
   },
   "cell_type": "code",
   "source": [
    "# we can play around using for loops if we want to get (row,col) of min or max:\n",
    "\n",
    "# find the index of maximum value as (row,col)\n",
    "# first step, take rows and cols from shape:\n",
    "rows, cols = arr_3_3.shape\n",
    "max_index_1d = arr_3_3.argmax()  # it will return index = 8\n",
    "\n",
    "for row in range(0,rows):  # iterate through rows [0,1,2]\n",
    "    for col in range (0,cols):\n",
    "        if max_index_1d == 0:\n",
    "            print(f'Max value is {arr_3_3.max()} in position: {row,col}')\n",
    "            break\n",
    "        max_index_1d-=1\n",
    "\n",
    "# you may use another approach\n"
   ],
   "id": "7a67e84488c9b83",
   "outputs": [
    {
     "name": "stdout",
     "output_type": "stream",
     "text": [
      "Max value is 73 in position: (2, 2)\n"
     ]
    }
   ],
   "execution_count": 19
  },
  {
   "metadata": {
    "ExecuteTime": {
     "end_time": "2025-03-14T22:29:20.835868Z",
     "start_time": "2025-03-14T22:29:20.829300Z"
    }
   },
   "cell_type": "code",
   "source": [
    "# we can find also max or min for each row (row-wise)\n",
    "# to do that we need to iterate through columns [0,1,2] for first row\n",
    "# columns [0,1,2] for second row ...\n",
    "# shape attribute returns (rows, cols), meaning rows are represented in position 0\n",
    "# columns represent in position 1\n",
    "print(f'Rows: {arr_3_3.shape[0]}')\n",
    "print(f'Cols: {arr_3_3.shape[1]}')"
   ],
   "id": "50935ebdb70323b9",
   "outputs": [
    {
     "name": "stdout",
     "output_type": "stream",
     "text": [
      "Rows: 3\n",
      "Cols: 3\n"
     ]
    }
   ],
   "execution_count": 20
  },
  {
   "metadata": {
    "ExecuteTime": {
     "end_time": "2025-03-14T22:31:26.327091Z",
     "start_time": "2025-03-14T22:31:26.315864Z"
    }
   },
   "cell_type": "code",
   "source": [
    "# lets find max values for each row (iterating through columns)\n",
    "print(arr_3_3)\n",
    "print(f'Max value for each row: {arr_3_3.max(axis=1)}')\n",
    "# axis = 1, means iterate through columns, to find max of each row"
   ],
   "id": "256680b916171fe8",
   "outputs": [
    {
     "name": "stdout",
     "output_type": "stream",
     "text": [
      "[[64 36 48]\n",
      " [36 45  1]\n",
      " [70 47 73]]\n",
      "Max value for each row: [64 45 73]\n"
     ]
    }
   ],
   "execution_count": 22
  },
  {
   "metadata": {
    "ExecuteTime": {
     "end_time": "2025-03-14T22:35:36.512442Z",
     "start_time": "2025-03-14T22:35:36.504310Z"
    }
   },
   "cell_type": "code",
   "source": [
    "# if we want to find min values for each column, we will iterate\n",
    "# through rows using axis = 0\n",
    "# columns - wise\n",
    "print(arr_3_3)\n",
    "print(f'Min value for each column: {arr_3_3.min(axis=0)}')"
   ],
   "id": "a5c3e9bfbf3e5e7e",
   "outputs": [
    {
     "name": "stdout",
     "output_type": "stream",
     "text": [
      "[[64 36 48]\n",
      " [36 45  1]\n",
      " [70 47 73]]\n",
      "Min value for each column: [36 36  1]\n"
     ]
    }
   ],
   "execution_count": 25
  },
  {
   "metadata": {
    "ExecuteTime": {
     "end_time": "2025-03-14T22:35:41.644907Z",
     "start_time": "2025-03-14T22:35:41.636814Z"
    }
   },
   "cell_type": "code",
   "source": [
    "# axis will be useable in most of numpy functions like sum, average, std ...\n",
    "# another important parameter in most of numpy function is 'keepdims'\n",
    "print(arr_3_3)\n",
    "print(f'Min value for each column: {arr_3_3.min(axis=0, keepdims=True)}')\n",
    "\n",
    "#it will find a minimum value for each column keep dimension zero because of (axis=0)\n",
    "# meaning keep the dimension of row"
   ],
   "id": "6789e8cd76dac2",
   "outputs": [
    {
     "name": "stdout",
     "output_type": "stream",
     "text": [
      "[[64 36 48]\n",
      " [36 45  1]\n",
      " [70 47 73]]\n",
      "Min value for each column: [[36 36  1]]\n"
     ]
    }
   ],
   "execution_count": 26
  },
  {
   "metadata": {
    "ExecuteTime": {
     "end_time": "2025-03-14T22:39:16.483187Z",
     "start_time": "2025-03-14T22:39:16.474504Z"
    }
   },
   "cell_type": "code",
   "source": [
    "# if axis = 1 and keepdims = True\n",
    "# because of axis = 1, it will iterate through columns\n",
    "# because of keepdims = True, result with keep the format of axis = 1\n",
    "# meaning it will be shown as column\n",
    "print(f'Max value for each row: \\n {arr_3_3.max(axis=1, keepdims=True)}')"
   ],
   "id": "9743188daffc3800",
   "outputs": [
    {
     "name": "stdout",
     "output_type": "stream",
     "text": [
      "Max value for each row: \n",
      " [[64]\n",
      " [45]\n",
      " [73]]\n"
     ]
    }
   ],
   "execution_count": 28
  },
  {
   "cell_type": "markdown",
   "id": "f1e15b6f",
   "metadata": {},
   "source": [
    "## Data Type and Type Conversion\n",
    "- Checking Data Type (dtype)\n",
    "- Creating Arrays with a Specific Data Type\n",
    "- Converting between types (astype())."
   ]
  },
  {
   "cell_type": "code",
   "id": "dc2f5d22",
   "metadata": {
    "ExecuteTime": {
     "end_time": "2025-03-14T22:46:11.910207Z",
     "start_time": "2025-03-14T22:46:11.905671Z"
    }
   },
   "source": [
    "# we can define the type of elements in numpy array while creating the array:\n",
    "arr = np.array([1, 2, 3], dtype='int')\n",
    "print(\"Data type:\", arr.dtype)"
   ],
   "outputs": [
    {
     "name": "stdout",
     "output_type": "stream",
     "text": [
      "Data type: int64\n"
     ]
    }
   ],
   "execution_count": 29
  },
  {
   "metadata": {
    "ExecuteTime": {
     "end_time": "2025-03-14T22:47:52.433565Z",
     "start_time": "2025-03-14T22:47:52.428387Z"
    }
   },
   "cell_type": "code",
   "source": [
    "# if we want to convert elements to another type after initial creation\n",
    "# we can use astype() method\n",
    "# note, it will not change the actual array\n",
    "# it will create a copy of original with type specified\n",
    "\n",
    "arr_float = arr.astype('float')\n",
    "print(\"Converted to float:\", arr_float, arr_float.dtype)"
   ],
   "id": "91547accd9f621b5",
   "outputs": [
    {
     "name": "stdout",
     "output_type": "stream",
     "text": [
      "Converted to float: [1. 2. 3.] float64\n"
     ]
    }
   ],
   "execution_count": 30
  },
  {
   "metadata": {
    "ExecuteTime": {
     "end_time": "2025-03-14T22:49:11.271019Z",
     "start_time": "2025-03-14T22:49:11.264920Z"
    }
   },
   "cell_type": "code",
   "source": [
    "# previously we saw np.zeros() returning zeros with type float:\n",
    "# we can change it while creating it, using dtype parameter\n",
    "print(np.zeros(shape=5, dtype = int))"
   ],
   "id": "ce118a783857c91e",
   "outputs": [
    {
     "name": "stdout",
     "output_type": "stream",
     "text": [
      "[0 0 0 0 0]\n"
     ]
    }
   ],
   "execution_count": 32
  },
  {
   "metadata": {
    "ExecuteTime": {
     "end_time": "2025-03-14T22:50:10.877426Z",
     "start_time": "2025-03-14T22:50:10.872022Z"
    }
   },
   "cell_type": "code",
   "source": [
    "# converting elements to type str:\n",
    "print(arr)\n",
    "print(arr.astype(str)) #copy of arr, with elements change to 'str'"
   ],
   "id": "9efd292fc4e6ae51",
   "outputs": [
    {
     "name": "stdout",
     "output_type": "stream",
     "text": [
      "[1 2 3]\n",
      "['1' '2' '3']\n"
     ]
    }
   ],
   "execution_count": 34
  },
  {
   "metadata": {
    "ExecuteTime": {
     "end_time": "2025-03-14T22:51:54.907370Z",
     "start_time": "2025-03-14T22:51:54.902445Z"
    }
   },
   "cell_type": "code",
   "source": [
    "# conversion will fail im this next case\n",
    "vowel = np.array(['a','e','i','o','u','y'])\n",
    "print(vowel, vowel.dtype)\n",
    "\n",
    "# U1 meaning unicode 1 char"
   ],
   "id": "bcb774f3dbd7c7ad",
   "outputs": [
    {
     "name": "stdout",
     "output_type": "stream",
     "text": [
      "['a' 'e' 'i' 'o' 'u' 'y'] <U1\n"
     ]
    }
   ],
   "execution_count": 35
  },
  {
   "metadata": {
    "ExecuteTime": {
     "end_time": "2025-03-14T22:55:31.249598Z",
     "start_time": "2025-03-14T22:55:31.244618Z"
    }
   },
   "cell_type": "code",
   "source": [
    "# trying to convert to int, will fail\n",
    "try:\n",
    "    print(vowel.astype(int))\n",
    "except ValueError as error:\n",
    "    print('If u c this mess, code in try block failed!!')\n",
    "    print(error)\n",
    "\n",
    "# it good practice conversion to be managed using try except.."
   ],
   "id": "52265eb4b37bbb6c",
   "outputs": [
    {
     "name": "stdout",
     "output_type": "stream",
     "text": [
      "If u c this mess, code in try block failed!!\n",
      "invalid literal for int() with base 10: np.str_('a')\n"
     ]
    }
   ],
   "execution_count": 38
  },
  {
   "metadata": {},
   "cell_type": "markdown",
   "source": [
    "### reshape() method\n",
    "The reshape() method in NumPy is used to change the shape of an array without changing its data. It returns a new array with the specified shape, but the total number of elements must remain the same."
   ],
   "id": "fd6a1ab61c651e34"
  },
  {
   "metadata": {
    "ExecuteTime": {
     "end_time": "2025-03-14T23:04:54.064787Z",
     "start_time": "2025-03-14T23:04:54.057656Z"
    }
   },
   "cell_type": "code",
   "source": [
    "# Example 1: Reshaping a 1D array into a 2D array\n",
    "array_1 = np.array([1, 2, 3, 4, 5, 6])\n",
    "reshaped_arr = array_1.reshape(2, 3)\n",
    "print(reshaped_arr)"
   ],
   "id": "a595100d0eb801ae",
   "outputs": [
    {
     "name": "stdout",
     "output_type": "stream",
     "text": [
      "[[1 2 3]\n",
      " [4 5 6]]\n"
     ]
    }
   ],
   "execution_count": 39
  },
  {
   "metadata": {
    "ExecuteTime": {
     "end_time": "2025-03-14T23:05:23.483935Z",
     "start_time": "2025-03-14T23:05:23.474309Z"
    }
   },
   "cell_type": "code",
   "source": [
    "# it does not change orginal array\n",
    "print('Original array_1: ', array_1)"
   ],
   "id": "e335fc4dc18b1cb0",
   "outputs": [
    {
     "name": "stdout",
     "output_type": "stream",
     "text": [
      "Original array_1:  [1 2 3 4 5 6]\n"
     ]
    }
   ],
   "execution_count": 41
  },
  {
   "metadata": {
    "ExecuteTime": {
     "end_time": "2025-03-14T23:06:32.237046Z",
     "start_time": "2025-03-14T23:06:32.223296Z"
    }
   },
   "cell_type": "code",
   "source": [
    "# Example 2: Reshaping a 1D array into a 3D array\n",
    "array_2 = np.arange(12)\n",
    "reshaped_arr = array_2.reshape(2, 3, 2) # 2*3*2 = 12\n",
    "print(reshaped_arr)"
   ],
   "id": "7702f2f465f3e71f",
   "outputs": [
    {
     "name": "stdout",
     "output_type": "stream",
     "text": [
      "[[[ 0  1]\n",
      "  [ 2  3]\n",
      "  [ 4  5]]\n",
      "\n",
      " [[ 6  7]\n",
      "  [ 8  9]\n",
      "  [10 11]]]\n"
     ]
    }
   ],
   "execution_count": 43
  },
  {
   "metadata": {
    "ExecuteTime": {
     "end_time": "2025-03-14T23:07:35.483857Z",
     "start_time": "2025-03-14T23:07:35.477108Z"
    }
   },
   "cell_type": "code",
   "source": [
    "# Example 3: Reshaping a 2D array into a 1D array\n",
    "arr_2_3 = np.array([[1, 2, 3], [4, 5, 6]])\n",
    "reshaped_arr = arr_2_3.reshape(6)  # 6 because of 6 elements\n",
    "print(reshaped_arr)"
   ],
   "id": "22ef4ea6b88217aa",
   "outputs": [
    {
     "name": "stdout",
     "output_type": "stream",
     "text": [
      "[1 2 3 4 5 6]\n"
     ]
    }
   ],
   "execution_count": 44
  },
  {
   "metadata": {
    "ExecuteTime": {
     "end_time": "2025-03-14T23:08:40.984720Z",
     "start_time": "2025-03-14T23:08:40.979511Z"
    }
   },
   "cell_type": "code",
   "source": [
    "# instead of writing static number of elements, in prev case '6'\n",
    "# we can do like this\n",
    "reshaped_arr_dynamic = arr_2_3.reshape(-1)\n",
    "# Here, -1 automatically calculates the required size for a 1D array.\n",
    "print(reshaped_arr_dynamic)"
   ],
   "id": "5624978aa8a13d06",
   "outputs": [
    {
     "name": "stdout",
     "output_type": "stream",
     "text": [
      "[1 2 3 4 5 6]\n"
     ]
    }
   ],
   "execution_count": 45
  },
  {
   "metadata": {},
   "cell_type": "markdown",
   "source": [
    "## NumPy Indexing and Fancy Indexing\n",
    "Selecting specific elements from arrays."
   ],
   "id": "c4d8bce4229053d"
  },
  {
   "metadata": {
    "ExecuteTime": {
     "end_time": "2025-03-14T23:16:56.200091Z",
     "start_time": "2025-03-14T23:16:56.193832Z"
    }
   },
   "cell_type": "code",
   "source": [
    "arr_1d = np.array([10, 20, 30, 40, 50])\n",
    "print(arr_1d[0])  # First element\n",
    "print(arr_1d[-1]) # Last element"
   ],
   "id": "57f5cde47a8fd98b",
   "outputs": [
    {
     "name": "stdout",
     "output_type": "stream",
     "text": [
      "10\n",
      "50\n"
     ]
    }
   ],
   "execution_count": 46
  },
  {
   "metadata": {
    "ExecuteTime": {
     "end_time": "2025-03-14T23:17:10.595680Z",
     "start_time": "2025-03-14T23:17:10.588436Z"
    }
   },
   "cell_type": "code",
   "source": [
    "# 1D Array Slicing\n",
    "# same as in python lists, using [:]\n",
    "\n",
    "# Slice elements from index 1 to 3 (excluding index 3)\n",
    "print(arr_1d[1:3])  # Output: [20 30]\n",
    "\n",
    "# Slice from the beginning to index 3 (excluding index 3)\n",
    "print(arr_1d[:3])  # Output: [10 20 30]\n",
    "\n",
    "# Slice from index 2 to the end\n",
    "print(arr_1d[2:])  # Output: [30 40 50]"
   ],
   "id": "2e6331f41710ebfc",
   "outputs": [
    {
     "name": "stdout",
     "output_type": "stream",
     "text": [
      "[20 30]\n",
      "[10 20 30]\n",
      "[30 40 50]\n"
     ]
    }
   ],
   "execution_count": 47
  },
  {
   "metadata": {
    "ExecuteTime": {
     "end_time": "2025-03-14T23:18:12.897257Z",
     "start_time": "2025-03-14T23:18:12.887652Z"
    }
   },
   "cell_type": "code",
   "source": [
    "# Slice with step (every second element)\n",
    "print(arr_1d[::2])  # Output: [10 30 50]\n",
    "\n",
    "# Reverse the array\n",
    "print(arr_1d[::-1])  # Output: [50 40 30 20 10]\n",
    "\n",
    "# Another way to reverse\n",
    "print(np.flip(arr_1d))"
   ],
   "id": "ef5c156101f976cc",
   "outputs": [
    {
     "name": "stdout",
     "output_type": "stream",
     "text": [
      "[10 30 50]\n",
      "[50 40 30 20 10]\n",
      "[50 40 30 20 10]\n"
     ]
    }
   ],
   "execution_count": 49
  },
  {
   "metadata": {
    "ExecuteTime": {
     "end_time": "2025-03-14T23:19:30.629667Z",
     "start_time": "2025-03-14T23:19:30.621686Z"
    }
   },
   "cell_type": "code",
   "source": [
    "# Simple Indexing in a 2D Array\n",
    "arr_2d = np.array([[1, 2, 3],\n",
    "                   [4, 5, 6],\n",
    "                   [7, 8, 9]])\n",
    "print(arr_2d[1, 2])  # Row 1, Column 2\n",
    "\n",
    "# Row index 1 → [4, 5, 6]\n",
    "# Column index 2 in this row → 6"
   ],
   "id": "7112cb22b186cc1a",
   "outputs": [
    {
     "name": "stdout",
     "output_type": "stream",
     "text": [
      "6\n"
     ]
    }
   ],
   "execution_count": 50
  },
  {
   "metadata": {
    "ExecuteTime": {
     "end_time": "2025-03-14T23:20:13.679158Z",
     "start_time": "2025-03-14T23:20:13.671678Z"
    }
   },
   "cell_type": "code",
   "source": [
    "# Slicing in a 2D Array\n",
    "# Extracting a subarray (First 2 rows and first 2 columns)\n",
    "print(arr_2d[:2, :2])"
   ],
   "id": "bbee14aede74c3f9",
   "outputs": [
    {
     "name": "stdout",
     "output_type": "stream",
     "text": [
      "[[1 2]\n",
      " [4 5]]\n"
     ]
    }
   ],
   "execution_count": 51
  },
  {
   "metadata": {
    "ExecuteTime": {
     "end_time": "2025-03-14T23:20:39.076800Z",
     "start_time": "2025-03-14T23:20:39.071667Z"
    }
   },
   "cell_type": "code",
   "source": [
    "# Extracting a Single Row\n",
    "print(arr_2d[1, :])  # Extracts all columns from Row index 1"
   ],
   "id": "e848accbf4304e1d",
   "outputs": [
    {
     "name": "stdout",
     "output_type": "stream",
     "text": [
      "[4 5 6]\n"
     ]
    }
   ],
   "execution_count": 52
  },
  {
   "metadata": {
    "ExecuteTime": {
     "end_time": "2025-03-14T23:20:49.959935Z",
     "start_time": "2025-03-14T23:20:49.950581Z"
    }
   },
   "cell_type": "code",
   "source": [
    "# Extracting a Single Column\n",
    "print(arr_2d[:, 2])  # Extracts all rows from Column index 2"
   ],
   "id": "d11209e97c19e31",
   "outputs": [
    {
     "name": "stdout",
     "output_type": "stream",
     "text": [
      "[3 6 9]\n"
     ]
    }
   ],
   "execution_count": 53
  },
  {
   "metadata": {
    "ExecuteTime": {
     "end_time": "2025-03-14T23:21:03.847690Z",
     "start_time": "2025-03-14T23:21:03.840864Z"
    }
   },
   "cell_type": "code",
   "source": [
    "# Skipping Elements with a Step in Slicing\n",
    "\n",
    "print(arr_2d[::2, ::2])  # Every 2nd row and every 2nd column"
   ],
   "id": "6bb7a9873c17ac3",
   "outputs": [
    {
     "name": "stdout",
     "output_type": "stream",
     "text": [
      "[[1 3]\n",
      " [7 9]]\n"
     ]
    }
   ],
   "execution_count": 54
  },
  {
   "metadata": {},
   "cell_type": "markdown",
   "source": [
    "### NumPy copy() Method\n",
    "The copy() method in NumPy creates a new independent copy of an array. Changes made to the copied array do not affect the original array. <br>\n",
    "\n",
    "### Why use copy()?\n",
    "If you don’t use copy(), modifying a new variable that refers to the original array will also modify the original data. This happens because NumPy arrays use views (not actual copies) unless explicitly copied.\n"
   ],
   "id": "7dfc524f84e6c89b"
  },
  {
   "metadata": {
    "ExecuteTime": {
     "end_time": "2025-03-14T23:23:36.982390Z",
     "start_time": "2025-03-14T23:23:36.976075Z"
    }
   },
   "cell_type": "code",
   "source": [
    "original_arr = np.array([1, 2, 3, 4, 5])\n",
    "arr_view = original_arr  # No copy, just a reference\n",
    "\n",
    "arr_view[0] = 100  # Modify the new variable\n",
    "print(original_arr)  # Original array is also changed!"
   ],
   "id": "a73b59b10515368f",
   "outputs": [
    {
     "name": "stdout",
     "output_type": "stream",
     "text": [
      "[100   2   3   4   5]\n"
     ]
    }
   ],
   "execution_count": 55
  },
  {
   "metadata": {
    "ExecuteTime": {
     "end_time": "2025-03-14T23:24:26.630319Z",
     "start_time": "2025-03-14T23:24:26.624816Z"
    }
   },
   "cell_type": "code",
   "source": [
    "# Example With copy() (Independent Copy)\n",
    "\n",
    "first_array = np.array([1, 2, 3, 4, 5])\n",
    "arr_copy = first_array.copy()  # Creates an independent copy\n",
    "\n",
    "arr_copy[0] = 100  # Modify the copied array\n",
    "print(first_array)  # Original remains unchanged\n",
    "print(arr_copy)  # Only the copy is changed\n"
   ],
   "id": "d240856ccf3482fa",
   "outputs": [
    {
     "name": "stdout",
     "output_type": "stream",
     "text": [
      "[1 2 3 4 5]\n",
      "[100   2   3   4   5]\n"
     ]
    }
   ],
   "execution_count": 56
  },
  {
   "metadata": {},
   "cell_type": "code",
   "outputs": [],
   "execution_count": null,
   "source": "",
   "id": "8c53763f8b44de6a"
  }
 ],
 "metadata": {
  "kernelspec": {
   "name": "python3",
   "language": "python",
   "display_name": "Python 3 (ipykernel)"
  }
 },
 "nbformat": 4,
 "nbformat_minor": 5
}

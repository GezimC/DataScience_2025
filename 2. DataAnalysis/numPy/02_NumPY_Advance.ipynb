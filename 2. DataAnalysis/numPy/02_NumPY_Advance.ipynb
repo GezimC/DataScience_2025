{
 "cells": [
  {
   "cell_type": "markdown",
   "id": "dd74155d",
   "metadata": {},
   "source": [
    "# NumPy Advanced Topics\n",
    "This notebook covers more advanced NumPy operations with examples."
   ]
  },
  {
   "metadata": {},
   "cell_type": "markdown",
   "source": [
    "## NumPy Operations\n",
    "Performing arithmetic operations on arrays and scalars."
   ],
   "id": "2b2fa463e124e737"
  },
  {
   "metadata": {
    "ExecuteTime": {
     "end_time": "2025-03-14T23:32:12.723494Z",
     "start_time": "2025-03-14T23:32:12.717180Z"
    }
   },
   "cell_type": "code",
   "source": "import numpy as np",
   "id": "39a7b130e91053ff",
   "outputs": [],
   "execution_count": 5
  },
  {
   "metadata": {
    "ExecuteTime": {
     "end_time": "2025-03-14T23:31:23.747615Z",
     "start_time": "2025-03-14T23:31:23.737278Z"
    }
   },
   "cell_type": "code",
   "source": [
    "# using python lists we would have to use longer aproach to perform arithmetic operations\n",
    "# for example, adding elements of two lists in python\n",
    "\n",
    "list_1 = [1,2,3,4]\n",
    "list_2 = [5,6,7,8]\n",
    "\n",
    "sum_array = []\n",
    "for i in range(len(list_1)):\n",
    "      sum_array.append(list_1[i] + list_2[i])\n",
    "\n",
    "print(sum_array)"
   ],
   "id": "7fdcb68fea849699",
   "outputs": [
    {
     "name": "stdout",
     "output_type": "stream",
     "text": [
      "[6, 8, 10, 12]\n"
     ]
    }
   ],
   "execution_count": 3
  },
  {
   "metadata": {
    "ExecuteTime": {
     "end_time": "2025-03-14T23:31:26.823336Z",
     "start_time": "2025-03-14T23:31:26.816797Z"
    }
   },
   "cell_type": "code",
   "source": [
    "# or using map()\n",
    "list(map( lambda x,y: x+y, list_1, list_2))"
   ],
   "id": "e12bc299fe0ba533",
   "outputs": [
    {
     "data": {
      "text/plain": [
       "[6, 8, 10, 12]"
      ]
     },
     "execution_count": 4,
     "metadata": {},
     "output_type": "execute_result"
    }
   ],
   "execution_count": 4
  },
  {
   "metadata": {
    "ExecuteTime": {
     "end_time": "2025-03-14T23:33:26.060285Z",
     "start_time": "2025-03-14T23:33:26.049600Z"
    }
   },
   "cell_type": "code",
   "source": [
    "# using numpy arrays offers easier approach to arithmetics operations\n",
    "\n",
    "array_1_np = np.array([1,2,3,4])\n",
    "array_2_np = np.array([5,6,7,8])\n",
    "\n",
    "print('Addition: ' , array_1_np + array_2_np)\n",
    "print('Subtraction:  ', array_1_np - array_2_np)\n",
    "print('Multiplication: ',  array_1_np * array_2_np)\n",
    "print('Power: ',  array_1_np * array_2_np)\n"
   ],
   "id": "7252e2e64aeea5ae",
   "outputs": [
    {
     "name": "stdout",
     "output_type": "stream",
     "text": [
      "Addition:  [ 6  8 10 12]\n",
      "Subtraction:   [-4 -4 -4 -4]\n",
      "Multiplication:  [ 5 12 21 32]\n",
      "Power:  [ 5 12 21 32]\n"
     ]
    }
   ],
   "execution_count": 6
  },
  {
   "metadata": {},
   "cell_type": "markdown",
   "source": [
    "## Broadcasting\n",
    "- Performing operations on different shaped arrays.\n",
    "- NumPy automatically expands dimensions to perform operations without loops."
   ],
   "id": "4134e3e6e4eadf8"
  },
  {
   "metadata": {
    "ExecuteTime": {
     "end_time": "2025-03-14T23:36:11.961235Z",
     "start_time": "2025-03-14T23:36:11.952299Z"
    }
   },
   "cell_type": "code",
   "source": [
    "# updating multiple elements of 2d array\n",
    "arr_2d = np.array([[1, 2, 3], [4, 5, 6]])\n",
    "print('Original 2d array \\n', arr_2d)\n",
    "\n",
    "arr_2d[1,:] = 999 #update second row elements with 999\n",
    "\n",
    "print('Updated array: \\n', arr_2d)\n"
   ],
   "id": "cba3f256070fb18d",
   "outputs": [
    {
     "name": "stdout",
     "output_type": "stream",
     "text": [
      "Original 2d array \n",
      " [[1 2 3]\n",
      " [4 5 6]]\n",
      "Updated array: \n",
      " [[  1   2   3]\n",
      " [999 999 999]]\n"
     ]
    }
   ],
   "execution_count": 8
  },
  {
   "metadata": {},
   "cell_type": "markdown",
   "source": [
    "### Broadcasting in NumPy\n",
    "Broadcasting allows NumPy to perform element-wise operations on arrays of different shapes without explicitly replicating data. This makes computations more efficient and memory-friendly."
   ],
   "id": "a4d866cc9d4bcd8b"
  },
  {
   "metadata": {},
   "cell_type": "markdown",
   "source": [
    "### Rules of Broadcasting\n",
    "When operating on two arrays, NumPy compares their shapes element-wise. The dimensions are compatible if:\n",
    "\n",
    "1. They are equal, or\n",
    "2. One of them is 1 (it gets expanded to match the other).\n",
    "<br>If these conditions are met, NumPy broadcasts the smaller array across the larger one."
   ],
   "id": "2fa7c515e8dbf27b"
  },
  {
   "metadata": {
    "ExecuteTime": {
     "end_time": "2025-03-14T23:37:51.193747Z",
     "start_time": "2025-03-14T23:37:51.185945Z"
    }
   },
   "cell_type": "code",
   "source": [
    "# Example 1: Adding a Scalar to an Array\n",
    "array_1 = np.array([1, 2, 3])\n",
    "result = array_1 + 10  # 10 is broadcasted to each element\n",
    "print(result)"
   ],
   "id": "9a86cee73627fe1b",
   "outputs": [
    {
     "name": "stdout",
     "output_type": "stream",
     "text": [
      "[11 12 13]\n"
     ]
    }
   ],
   "execution_count": 9
  },
  {
   "metadata": {
    "ExecuteTime": {
     "end_time": "2025-03-14T23:38:18.076398Z",
     "start_time": "2025-03-14T23:38:18.069651Z"
    }
   },
   "cell_type": "code",
   "source": [
    "# Example 2: Adding a 1D Array to a 2D Array\n",
    "\n",
    "arr_2d = np.array([[1, 2, 3],\n",
    "                    [4, 5, 6]])\n",
    "\n",
    "arr_1d = np.array([10, 20, 30])\n",
    "\n",
    "result = arr_2d + arr_1d  # arr_1d is broadcasted to each row\n",
    "print(result)"
   ],
   "id": "758704254d858532",
   "outputs": [
    {
     "name": "stdout",
     "output_type": "stream",
     "text": [
      "[[11 22 33]\n",
      " [14 25 36]]\n"
     ]
    }
   ],
   "execution_count": 10
  },
  {
   "metadata": {
    "ExecuteTime": {
     "end_time": "2025-03-14T23:38:49.826603Z",
     "start_time": "2025-03-14T23:38:49.819474Z"
    }
   },
   "cell_type": "code",
   "source": [
    "# Example 3: Broadcasting a Column Vector\n",
    "arr_2d = np.array([[1, 2, 3],\n",
    "                    [4, 5, 6]])\n",
    "\n",
    "arr_col = np.array([[10],\n",
    "                    [20]])  # 2D column vector\n",
    "\n",
    "result = arr_2d + arr_col\n",
    "print(result)\n"
   ],
   "id": "770b85585bdb13ea",
   "outputs": [
    {
     "name": "stdout",
     "output_type": "stream",
     "text": [
      "[[11 12 13]\n",
      " [24 25 26]]\n"
     ]
    }
   ],
   "execution_count": 11
  },
  {
   "metadata": {},
   "cell_type": "markdown",
   "source": [
    "### When Broadcasting Fails\n",
    "Broadcasting does not work if the arrays have incompatible shapes."
   ],
   "id": "ab34e85044b876c4"
  },
  {
   "metadata": {
    "ExecuteTime": {
     "end_time": "2025-03-14T23:39:44.227887Z",
     "start_time": "2025-03-14T23:39:44.219782Z"
    }
   },
   "cell_type": "code",
   "source": [
    "arr_1 = np.array([1, 2, 3])\n",
    "arr_2 = np.array([[1, 2],\n",
    "                  [3, 4]])\n",
    "\n",
    "try:\n",
    "    print(arr_1 + arr_2)  #Throws an error (shapes not compatible)\n",
    "except:\n",
    "    print('Failed!!!')"
   ],
   "id": "becbf2e5ded21750",
   "outputs": [
    {
     "name": "stdout",
     "output_type": "stream",
     "text": [
      "Failed!!!\n"
     ]
    }
   ],
   "execution_count": 12
  },
  {
   "metadata": {},
   "cell_type": "markdown",
   "source": [
    "## Selection Using Comparison Operators\n",
    "In NumPy, you can use comparison operators (>, <, >=, <=, ==, !=) to filter elements in an array. This technique is also called Boolean masking."
   ],
   "id": "ad20c7fca8d10764"
  },
  {
   "metadata": {
    "ExecuteTime": {
     "end_time": "2025-03-16T15:03:47.663837Z",
     "start_time": "2025-03-16T15:03:47.657493Z"
    }
   },
   "cell_type": "code",
   "source": [
    "# Example 1: filter elements greater than 25\n",
    "arr = np.array([10, 20, 30, 40, 50])\n",
    "print(arr > 25)   # Boolean array\n",
    "print(arr[arr > 25])  # Filter elements greater than 25"
   ],
   "id": "7e3ee867f4b3432d",
   "outputs": [
    {
     "name": "stdout",
     "output_type": "stream",
     "text": [
      "[False False  True  True  True]\n",
      "[30 40 50]\n"
     ]
    }
   ],
   "execution_count": 2
  },
  {
   "metadata": {
    "ExecuteTime": {
     "end_time": "2025-03-16T15:04:38.419226Z",
     "start_time": "2025-03-16T15:04:38.414110Z"
    }
   },
   "cell_type": "code",
   "source": [
    "print(arr[[True,False,False,False,False]])\n",
    "#this will print only the elements that align with True"
   ],
   "id": "8ac7ebea97b96389",
   "outputs": [
    {
     "name": "stdout",
     "output_type": "stream",
     "text": [
      "[10]\n"
     ]
    }
   ],
   "execution_count": 3
  },
  {
   "metadata": {
    "ExecuteTime": {
     "end_time": "2025-03-16T15:06:08.517201Z",
     "start_time": "2025-03-16T15:06:08.483872Z"
    }
   },
   "cell_type": "code",
   "source": [
    "# Example 2: Create a 4x4 matrix\n",
    "# Select even elements, greater than 5\n",
    "np.random.seed(10)\n",
    "matrix_4_4 = np.random.randint(1,20, (4,4))\n",
    "print(matrix_4_4)"
   ],
   "id": "f7b9967457923919",
   "outputs": [
    {
     "name": "stdout",
     "output_type": "stream",
     "text": [
      "[[10  5 16  1]\n",
      " [18 17 18  9]\n",
      " [10  1 11  9]\n",
      " [ 5 17  5 16]]\n"
     ]
    }
   ],
   "execution_count": 4
  },
  {
   "metadata": {
    "ExecuteTime": {
     "end_time": "2025-03-16T15:07:27.627111Z",
     "start_time": "2025-03-16T15:07:27.621622Z"
    }
   },
   "cell_type": "code",
   "source": [
    "# we can firstly create conditions, than use them\n",
    "even = (matrix_4_4 % 2 == 0)\n",
    "greater_than_5 = (matrix_4_4>5)\n",
    "\n",
    "print(matrix_4_4[even & greater_than_5])"
   ],
   "id": "38acbd71fb8ea107",
   "outputs": [
    {
     "name": "stdout",
     "output_type": "stream",
     "text": [
      "[10 16 18 18 10 16]\n"
     ]
    }
   ],
   "execution_count": 6
  },
  {
   "metadata": {
    "ExecuteTime": {
     "end_time": "2025-03-16T15:08:01.796358Z",
     "start_time": "2025-03-16T15:08:01.791499Z"
    }
   },
   "cell_type": "code",
   "source": [
    "# or\n",
    "print(matrix_4_4[ (matrix_4_4 % 2 == 0) & (matrix_4_4>5) ])"
   ],
   "id": "f6f97d135bdf5d71",
   "outputs": [
    {
     "name": "stdout",
     "output_type": "stream",
     "text": [
      "[10 16 18 18 10 16]\n"
     ]
    }
   ],
   "execution_count": 7
  },
  {
   "metadata": {},
   "cell_type": "markdown",
   "source": [
    "### Replacing Values Using Boolean Masks\n",
    "Instead of filtering, we can also modify elements based on conditions."
   ],
   "id": "b553176a63a6fff6"
  },
  {
   "metadata": {
    "ExecuteTime": {
     "end_time": "2025-03-16T15:11:19.090433Z",
     "start_time": "2025-03-16T15:11:19.084861Z"
    }
   },
   "cell_type": "code",
   "source": [
    "arr_rep = np.array([1, 2, 3, 4, 5, 6, 7, 8])\n",
    "\n",
    "print(f'Before change: {arr_rep}')\n",
    "# Replace all values greater than 5 with 99\n",
    "arr_rep[arr_rep > 5] = 99\n",
    "\n",
    "print(f'After change: {arr_rep}')"
   ],
   "id": "24eca3090c6f148f",
   "outputs": [
    {
     "name": "stdout",
     "output_type": "stream",
     "text": [
      "Before change: [1 2 3 4 5 6 7 8]\n",
      "After change: [ 1  2  3  4  5 99 99 99]\n"
     ]
    }
   ],
   "execution_count": 8
  },
  {
   "metadata": {},
   "cell_type": "markdown",
   "source": [
    "####  Using Boolean Masks with NumPy Functions\n",
    "Boolean masks can be useful with NumPy functions"
   ],
   "id": "3a8d88564ec1b3fd"
  },
  {
   "metadata": {
    "ExecuteTime": {
     "end_time": "2025-03-16T15:16:13.144249Z",
     "start_time": "2025-03-16T15:16:13.138455Z"
    }
   },
   "cell_type": "code",
   "source": [
    "arr = np.array([10, 20, 30, 40, 50])\n",
    "\n",
    "# sum elements are greater than 25\n",
    "summ = np.sum(arr[arr > 25])\n",
    "print(summ)"
   ],
   "id": "568c557ca5292aaa",
   "outputs": [
    {
     "name": "stdout",
     "output_type": "stream",
     "text": [
      "120\n"
     ]
    }
   ],
   "execution_count": 18
  },
  {
   "metadata": {
    "ExecuteTime": {
     "end_time": "2025-03-16T15:12:34.046927Z",
     "start_time": "2025-03-16T15:12:34.042651Z"
    }
   },
   "cell_type": "code",
   "source": [
    "# Get the mean of values greater than 15\n",
    "mean_value = np.mean(arr[arr > 15])\n",
    "print(mean_value)"
   ],
   "id": "c9792f60f4389568",
   "outputs": [
    {
     "name": "stdout",
     "output_type": "stream",
     "text": [
      "35.0\n"
     ]
    }
   ],
   "execution_count": 10
  },
  {
   "metadata": {
    "ExecuteTime": {
     "end_time": "2025-03-16T15:16:46.714350Z",
     "start_time": "2025-03-16T15:16:46.709348Z"
    }
   },
   "cell_type": "code",
   "source": [
    "# count how many elements greater than 25\n",
    "count = len(arr[arr>25])\n",
    "print(count)\n",
    "\n",
    "# or\n",
    "\n",
    "print(  np.sum(arr>25)  )"
   ],
   "id": "92ca5d27b1977a47",
   "outputs": [
    {
     "name": "stdout",
     "output_type": "stream",
     "text": [
      "3\n",
      "3\n"
     ]
    }
   ],
   "execution_count": 19
  },
  {
   "metadata": {},
   "cell_type": "markdown",
   "source": [
    "## np.where()\n",
    "Is a powerful tool that allows conditional selection and modification of elements in a NumPy array. It can be used for filtering, replacing values, and even creating new arrays based on conditions."
   ],
   "id": "7b9a7e8c613e3740"
  },
  {
   "metadata": {},
   "cell_type": "markdown",
   "source": [
    "### Basic Usage of np.where\n",
    "np.where(condition, value_if_true, value_if_false)"
   ],
   "id": "4e06cc9fe346e351"
  },
  {
   "metadata": {
    "ExecuteTime": {
     "end_time": "2025-03-16T15:20:11.755060Z",
     "start_time": "2025-03-16T15:20:11.749693Z"
    }
   },
   "cell_type": "code",
   "source": [
    "arr = np.array([10, 20, 30, 40, 50])\n",
    "\n",
    "# Replace values greater than 25 with 100, otherwise keep them the same\n",
    "new_arr = np.where(arr > 25, 100, arr)\n",
    "\n",
    "print(new_arr)\n"
   ],
   "id": "2794343620b7ad50",
   "outputs": [
    {
     "name": "stdout",
     "output_type": "stream",
     "text": [
      "[ 10  20 100 100 100]\n"
     ]
    }
   ],
   "execution_count": 20
  },
  {
   "metadata": {},
   "cell_type": "markdown",
   "source": [
    "###  Using np.where for Index Retrieval\n",
    "If you pass only the condition, np.where returns the indexes where the condition is True."
   ],
   "id": "b95bc46ec472114f"
  },
  {
   "metadata": {
    "ExecuteTime": {
     "end_time": "2025-03-16T15:21:46.305779Z",
     "start_time": "2025-03-16T15:21:46.298797Z"
    }
   },
   "cell_type": "code",
   "source": [
    "arr = np.array([5, 10, 15, 20, 25])\n",
    "\n",
    "# get indexes where value greater than 10\n",
    "indexes = np.where(arr > 10)\n",
    "\n",
    "print(indexes)\n",
    "print(arr[indexes])"
   ],
   "id": "3010445ae8565b04",
   "outputs": [
    {
     "name": "stdout",
     "output_type": "stream",
     "text": [
      "(array([2, 3, 4]),)\n",
      "[15 20 25]\n"
     ]
    }
   ],
   "execution_count": 21
  },
  {
   "metadata": {},
   "cell_type": "markdown",
   "source": [
    "### Multiple Conditions with np.where\n",
    "You can use logical operators like & (AND) and | (OR) inside np.where."
   ],
   "id": "acea01a9a122b750"
  },
  {
   "metadata": {
    "ExecuteTime": {
     "end_time": "2025-03-16T15:22:47.202265Z",
     "start_time": "2025-03-16T15:22:47.196147Z"
    }
   },
   "cell_type": "code",
   "source": [
    "arr = np.array([2, 4, 6, 8, 10, 12, 14])\n",
    "\n",
    "# Replace values between 5 and 12 with 99\n",
    "new_arr = np.where((arr > 5) & (arr < 12), 99, arr)\n",
    "\n",
    "print(new_arr)"
   ],
   "id": "e200ec80b691c389",
   "outputs": [
    {
     "name": "stdout",
     "output_type": "stream",
     "text": [
      "[ 2  4 99 99 99 12 14]\n"
     ]
    }
   ],
   "execution_count": 22
  },
  {
   "metadata": {},
   "cell_type": "markdown",
   "source": [
    "### Conditional Replacement in a 2D Array\n",
    "It works same also with 2d arrays"
   ],
   "id": "25623311287296c0"
  },
  {
   "metadata": {
    "ExecuteTime": {
     "end_time": "2025-03-16T15:25:30.252145Z",
     "start_time": "2025-03-16T15:25:30.247027Z"
    }
   },
   "cell_type": "code",
   "source": [
    "arr_2d = np.array([[1, 2, 3],\n",
    "                   [4, 5, 6]])\n",
    "\n",
    "# Replace values less than 4 with 0, otherwise set them to 1\n",
    "new_arr = np.where(arr_2d < 4, 0, 1)\n",
    "\n",
    "print(new_arr)\n"
   ],
   "id": "8cf784340193ae6",
   "outputs": [
    {
     "name": "stdout",
     "output_type": "stream",
     "text": [
      "[[0 0 0]\n",
      " [1 1 1]]\n"
     ]
    }
   ],
   "execution_count": 26
  },
  {
   "metadata": {
    "ExecuteTime": {
     "end_time": "2025-03-16T15:56:43.776941Z",
     "start_time": "2025-03-16T15:56:43.770965Z"
    }
   },
   "cell_type": "code",
   "source": [
    "# Example: Create random matrix 4_4\n",
    "# Find indexes of even numbers\n",
    "# print them as (i,j)\n",
    "\n",
    "np.random.seed(10)\n",
    "matrix_4_4 = np.random.randint(1,20, (4,4))\n",
    "print(matrix_4_4)"
   ],
   "id": "6bdc1f8ecb99fd71",
   "outputs": [
    {
     "name": "stdout",
     "output_type": "stream",
     "text": [
      "[[10  5 16  1]\n",
      " [18 17 18  9]\n",
      " [10  1 11  9]\n",
      " [ 5 17  5 16]]\n"
     ]
    }
   ],
   "execution_count": 27
  },
  {
   "metadata": {
    "ExecuteTime": {
     "end_time": "2025-03-16T15:57:13.935592Z",
     "start_time": "2025-03-16T15:57:13.929068Z"
    }
   },
   "cell_type": "code",
   "source": "print(np.where(matrix_4_4 % 2 == 0))",
   "id": "439a8b4847961c67",
   "outputs": [
    {
     "name": "stdout",
     "output_type": "stream",
     "text": [
      "(array([0, 0, 1, 1, 2, 3]), array([0, 2, 0, 2, 0, 3]))\n"
     ]
    }
   ],
   "execution_count": 28
  },
  {
   "metadata": {
    "ExecuteTime": {
     "end_time": "2025-03-16T15:57:43.206749Z",
     "start_time": "2025-03-16T15:57:43.202033Z"
    }
   },
   "cell_type": "code",
   "source": [
    "# save rows and cols of even numbers\n",
    "rows, cols = np.where(matrix_4_4 % 2 == 0)\n",
    "print(rows)\n",
    "print(cols)"
   ],
   "id": "6b085e85a73d02b7",
   "outputs": [
    {
     "name": "stdout",
     "output_type": "stream",
     "text": [
      "[0 0 1 1 2 3]\n",
      "[0 2 0 2 0 3]\n"
     ]
    }
   ],
   "execution_count": 29
  },
  {
   "metadata": {
    "ExecuteTime": {
     "end_time": "2025-03-16T16:02:51.675649Z",
     "start_time": "2025-03-16T16:02:51.671053Z"
    }
   },
   "cell_type": "code",
   "source": [
    "# print indexes as combination of row,col\n",
    "index = []\n",
    "for i in range(0,6):\n",
    "    index.append((int(rows[i]),int(cols[i])))\n",
    "\n",
    "print(f'Even numbers in positions: {index}')"
   ],
   "id": "cfa1c51aa5195f04",
   "outputs": [
    {
     "name": "stdout",
     "output_type": "stream",
     "text": [
      "Even numbers in positions: [(0, 0), (0, 2), (1, 0), (1, 2), (2, 0), (3, 3)]\n"
     ]
    }
   ],
   "execution_count": 31
  },
  {
   "cell_type": "markdown",
   "id": "f8a1ad8f",
   "metadata": {},
   "source": [
    "## Aggregations\n",
    "Computing sum, mean, standard deviation, and more. <br>\n",
    "Perform row-wise and column-wise calculations using axis"
   ]
  },
  {
   "cell_type": "code",
   "id": "00cef322",
   "metadata": {
    "ExecuteTime": {
     "end_time": "2025-03-16T16:07:07.663793Z",
     "start_time": "2025-03-16T16:07:07.658083Z"
    }
   },
   "source": [
    "arr_agg = np.array([[1, 2, 3], [4, 5, 6]])\n",
    "print(arr_agg)\n",
    "print(\"Sum:\", np.sum(arr_agg))\n",
    "print(\"Mean:\", np.mean(arr_agg))\n",
    "print(\"Standard Deviation:\", np.std(arr_agg))\n",
    "print(\"Product:\", np.prod(arr_agg))\n",
    "print(\"Variance:\", np.var(arr_agg))\n",
    "\n",
    "# if axis not specified it will find sum,mean,std,prod,var of all elements"
   ],
   "outputs": [
    {
     "name": "stdout",
     "output_type": "stream",
     "text": [
      "[[1 2 3]\n",
      " [4 5 6]]\n",
      "Sum: 21\n",
      "Mean: 3.5\n",
      "Standard Deviation: 1.707825127659933\n",
      "Product: 720\n",
      "Variance: 2.9166666666666665\n"
     ]
    }
   ],
   "execution_count": 37
  },
  {
   "metadata": {
    "ExecuteTime": {
     "end_time": "2025-03-16T16:09:50.409240Z",
     "start_time": "2025-03-16T16:09:50.403351Z"
    }
   },
   "cell_type": "code",
   "source": [
    "# Aggregation along an axis\n",
    "print(arr_agg)\n",
    "print(\"Sum by row:\", np.sum(arr_agg, axis=1))\n",
    "# axis = 1, to sum elements of a row we need to move by colums"
   ],
   "id": "c31067e00e01484",
   "outputs": [
    {
     "name": "stdout",
     "output_type": "stream",
     "text": [
      "[[1 2 3]\n",
      " [4 5 6]]\n",
      "Sum by row: [ 6 15]\n"
     ]
    }
   ],
   "execution_count": 40
  },
  {
   "metadata": {
    "ExecuteTime": {
     "end_time": "2025-03-16T16:09:52.572816Z",
     "start_time": "2025-03-16T16:09:52.567776Z"
    }
   },
   "cell_type": "code",
   "source": [
    "print(arr_agg)\n",
    "print(\"Sum by column:\", np.sum(arr_agg, axis=0))\n",
    "# axis = 0 , to sum elements by column we will need to move through rows"
   ],
   "id": "5bdcbe1f8586c1ad",
   "outputs": [
    {
     "name": "stdout",
     "output_type": "stream",
     "text": [
      "[[1 2 3]\n",
      " [4 5 6]]\n",
      "Sum by column: [5 7 9]\n"
     ]
    }
   ],
   "execution_count": 41
  },
  {
   "metadata": {
    "ExecuteTime": {
     "end_time": "2025-03-16T16:11:34.594064Z",
     "start_time": "2025-03-16T16:11:34.589066Z"
    }
   },
   "cell_type": "code",
   "source": [
    "print(arr_agg)\n",
    "print(\"Sum by row: \\n\", np.sum(arr_agg, axis=1, keepdims=True))\n",
    "print(\"Sum by column:\", np.sum(arr_agg, axis=0 ,keepdims=True))"
   ],
   "id": "e9bbf197f44d5745",
   "outputs": [
    {
     "name": "stdout",
     "output_type": "stream",
     "text": [
      "[[1 2 3]\n",
      " [4 5 6]]\n",
      "Sum by row: \n",
      " [[ 6]\n",
      " [15]]\n",
      "Sum by column: [[5 7 9]]\n"
     ]
    }
   ],
   "execution_count": 44
  },
  {
   "cell_type": "markdown",
   "id": "1ad455ab",
   "metadata": {},
   "source": [
    "## Rounding, Sorting, Unique Values\n",
    "Manipulating numerical data."
   ]
  },
  {
   "cell_type": "code",
   "id": "50530bfe",
   "metadata": {
    "ExecuteTime": {
     "end_time": "2025-03-16T16:15:44.648747Z",
     "start_time": "2025-03-16T16:15:44.641314Z"
    }
   },
   "source": [
    "arr = np.array([3.14159, 2.718, 1.618, 1.414])\n",
    "print(\"Rounded:\", np.round(arr, 2))\n",
    "\n",
    "arr_sort = np.array([5, 2, 9, 1, 7])\n",
    "print(\"Sorted:\", np.sort(arr_sort))\n",
    "\n",
    "arr_unique = np.array([1, 2, 2, 3, 4, 4, 4, 5])\n",
    "print(\"Unique values:\", np.unique(arr_unique))\n"
   ],
   "outputs": [
    {
     "name": "stdout",
     "output_type": "stream",
     "text": [
      "Rounded: [3.14 2.72 1.62 1.41]\n",
      "Sorted: [1 2 5 7 9]\n",
      "Unique values: [1 2 3 4 5]\n"
     ]
    }
   ],
   "execution_count": 45
  },
  {
   "metadata": {
    "ExecuteTime": {
     "end_time": "2025-03-16T16:17:22.627828Z",
     "start_time": "2025-03-16T16:17:22.622844Z"
    }
   },
   "cell_type": "code",
   "source": [
    "sorted_array = np.sort(arr_sort)\n",
    "\n",
    "#reverse\n",
    "reversed_array = sorted_array[::-1]\n",
    "print(reversed_array)\n",
    "\n",
    "#or use np.flip()\n",
    "print(np.flip(sorted_array))"
   ],
   "id": "25804128f79846bc",
   "outputs": [
    {
     "name": "stdout",
     "output_type": "stream",
     "text": [
      "[9 7 5 2 1]\n",
      "[9 7 5 2 1]\n"
     ]
    }
   ],
   "execution_count": 48
  },
  {
   "metadata": {
    "ExecuteTime": {
     "end_time": "2025-03-16T16:20:57.195467Z",
     "start_time": "2025-03-16T16:20:57.190160Z"
    }
   },
   "cell_type": "code",
   "source": [
    "# using axis while sorting\n",
    "\n",
    "arr_2_3 = np.array([[9, 2, 5], [4, 3, 6]])\n",
    "\n",
    "print(arr_2_3)\n",
    "print(np.sort(arr_2_3, axis=0)) # will sort elements of same column"
   ],
   "id": "2415efbb78a5b570",
   "outputs": [
    {
     "name": "stdout",
     "output_type": "stream",
     "text": [
      "[[9 2 5]\n",
      " [4 3 6]]\n",
      "[[4 2 5]\n",
      " [9 3 6]]\n"
     ]
    }
   ],
   "execution_count": 52
  },
  {
   "metadata": {
    "ExecuteTime": {
     "end_time": "2025-03-16T16:22:57.493500Z",
     "start_time": "2025-03-16T16:22:57.487954Z"
    }
   },
   "cell_type": "code",
   "source": [
    "# np.sort() will create new array sorted\n",
    "# arr_2_3.sort()  will change current array\n",
    "\n",
    "arr_2_3.sort(axis=1)  #sort elements of same row\n",
    "print(arr_2_3)"
   ],
   "id": "ce48f0b0647cb167",
   "outputs": [
    {
     "name": "stdout",
     "output_type": "stream",
     "text": [
      "[[2 5 9]\n",
      " [3 4 6]]\n"
     ]
    }
   ],
   "execution_count": 53
  },
  {
   "cell_type": "markdown",
   "id": "375c7d6d",
   "metadata": {},
   "source": [
    "### Working with Missing Data (nan, isnan(), nanmean())\n",
    "- Creating Nan values\n",
    "- Detecting Missing Values isnan(), find indexes of nan values\n",
    "- Handling NaN values\n",
    "- Replacing NaN Values## Working with Missing Data\n",
    "Handling `NaN` values in NumPy."
   ]
  },
  {
   "cell_type": "code",
   "id": "c30bd510",
   "metadata": {
    "ExecuteTime": {
     "end_time": "2025-03-16T16:25:08.116453Z",
     "start_time": "2025-03-16T16:25:08.111429Z"
    }
   },
   "source": [
    "# creating nan values using np.nan\n",
    "array_n = np.array([1,2,3, np.nan, 5,6, np.nan, 8])\n",
    "print(array_n)\n"
   ],
   "outputs": [
    {
     "name": "stdout",
     "output_type": "stream",
     "text": [
      "[ 1.  2.  3. nan  5.  6. nan  8.]\n"
     ]
    }
   ],
   "execution_count": 54
  },
  {
   "metadata": {
    "ExecuteTime": {
     "end_time": "2025-03-16T16:25:54.504928Z",
     "start_time": "2025-03-16T16:25:54.499874Z"
    }
   },
   "cell_type": "code",
   "source": [
    "# like boolean mask at conditional selection\n",
    "print(np.isnan(array_n))"
   ],
   "id": "6208c5a80dae5865",
   "outputs": [
    {
     "name": "stdout",
     "output_type": "stream",
     "text": [
      "[False False False  True False False  True False]\n"
     ]
    }
   ],
   "execution_count": 55
  },
  {
   "metadata": {
    "ExecuteTime": {
     "end_time": "2025-03-16T18:45:55.974469Z",
     "start_time": "2025-03-16T18:45:55.969082Z"
    }
   },
   "cell_type": "code",
   "source": [
    "# use where to find indexes\n",
    "print(np.where(np.isnan(array_n)))\n",
    "# it will return a tuple\n",
    "# if its 1d array, it will return a tuple with just one array of indexes\n",
    "# if its 2d, first element will be array of rows, second element, array of col\n",
    "\n",
    "position_of_nans = np.where(np.isnan(array_n))\n",
    "print(position_of_nans[0])"
   ],
   "id": "d583c6e4784daed8",
   "outputs": [
    {
     "name": "stdout",
     "output_type": "stream",
     "text": [
      "(array([3, 6]),)\n",
      "[3 6]\n"
     ]
    }
   ],
   "execution_count": 59
  },
  {
   "metadata": {},
   "cell_type": "markdown",
   "source": [
    "### Performing Calculations with NaNs\n",
    "- np.nanmean(arr)\t    -- Mean ignoring NaNs\n",
    "- np.nanmedian(arr)\t    -- Median ignoring NaNs\n",
    "- np.nanstd(arr)\t    -- Standard deviation ignoring NaNs\n",
    "- np.nansum(arr)\t    -- Sum ignoring NaNs"
   ],
   "id": "d987236328a09df"
  },
  {
   "metadata": {
    "ExecuteTime": {
     "end_time": "2025-03-16T18:48:40.781696Z",
     "start_time": "2025-03-16T18:48:40.776462Z"
    }
   },
   "cell_type": "code",
   "source": [
    "# Exercise 1: For given array, replace nan values with mean of the array\n",
    "\n",
    "array_nan = np.array([1,2,3, np.nan, 5,6, np.nan, 8])\n",
    "print(array_nan)"
   ],
   "id": "2653f6f520ba2031",
   "outputs": [
    {
     "name": "stdout",
     "output_type": "stream",
     "text": [
      "[ 1.  2.  3. nan  5.  6. nan  8.]\n"
     ]
    }
   ],
   "execution_count": 61
  },
  {
   "metadata": {
    "ExecuteTime": {
     "end_time": "2025-03-16T18:49:23.740867Z",
     "start_time": "2025-03-16T18:49:23.735432Z"
    }
   },
   "cell_type": "code",
   "source": [
    "# finding position of nan values\n",
    "np.where(np.isnan(array_nan))"
   ],
   "id": "1e0d682bc45dabcb",
   "outputs": [
    {
     "data": {
      "text/plain": [
       "(array([3, 6]),)"
      ]
     },
     "execution_count": 62,
     "metadata": {},
     "output_type": "execute_result"
    }
   ],
   "execution_count": 62
  },
  {
   "metadata": {
    "ExecuteTime": {
     "end_time": "2025-03-16T18:50:30.962676Z",
     "start_time": "2025-03-16T18:50:30.958008Z"
    }
   },
   "cell_type": "code",
   "source": [
    "# finding mean, while ignoring nan values\n",
    "mean = np.nanmean(array_nan)\n",
    "print(mean)\n",
    "#rounded mean\n",
    "print(f'Rounded: ', mean.round(2))"
   ],
   "id": "cb03ffdc6d3d08b4",
   "outputs": [
    {
     "name": "stdout",
     "output_type": "stream",
     "text": [
      "4.166666666666667\n",
      "Rounded:  4.17\n"
     ]
    }
   ],
   "execution_count": 64
  },
  {
   "metadata": {
    "ExecuteTime": {
     "end_time": "2025-03-16T18:51:58.408443Z",
     "start_time": "2025-03-16T18:51:58.403613Z"
    }
   },
   "cell_type": "code",
   "source": [
    "# replace nan values with rounded mean\n",
    "array_nan = np.where(np.isnan(array_nan), mean.round(2), array_nan)\n",
    "print(array_nan)"
   ],
   "id": "b9363b58bce3af8a",
   "outputs": [
    {
     "name": "stdout",
     "output_type": "stream",
     "text": [
      "[1.   2.   3.   4.17 5.   6.   4.17 8.  ]\n"
     ]
    }
   ],
   "execution_count": 66
  },
  {
   "cell_type": "markdown",
   "id": "57c621d5",
   "metadata": {},
   "source": [
    "## Performance Testing\n",
    "Comparing Python list vs NumPy array for summation."
   ]
  },
  {
   "cell_type": "code",
   "id": "5d36621d",
   "metadata": {
    "ExecuteTime": {
     "end_time": "2025-03-16T18:52:15.902439Z",
     "start_time": "2025-03-16T18:52:15.869848Z"
    }
   },
   "source": [
    "import time\n",
    "\n",
    "# Python list sum\n",
    "py_list = list(range(1_000_000))\n",
    "start = time.time()\n",
    "sum(py_list)\n",
    "end = time.time()\n",
    "print(\"Python list sum time:\", end - start)\n",
    "\n",
    "# NumPy array sum\n",
    "np_arr = np.arange(1_000_000)\n",
    "start = time.time()\n",
    "np.sum(np_arr)\n",
    "end = time.time()\n",
    "print(\"NumPy array sum time:\", end - start)\n",
    "    "
   ],
   "outputs": [
    {
     "name": "stdout",
     "output_type": "stream",
     "text": [
      "Python list sum time: 0.012954235076904297\n",
      "NumPy array sum time: 0.0009641647338867188\n"
     ]
    }
   ],
   "execution_count": 67
  },
  {
   "cell_type": "markdown",
   "id": "22a7fd41",
   "metadata": {},
   "source": [
    "## Conclusion on NumPy Library\n",
    "NumPy (Numerical Python) is a fundamental library for scientific computing in Python, providing powerful tools for handling numerical data efficiently. It is widely used in data science, machine learning, engineering, and finance due to its ability to perform fast mathematical operations on large datasets."
   ]
  },
  {
   "metadata": {},
   "cell_type": "markdown",
   "source": [
    "Key Takeaways:\n",
    "<br>✅ Efficient Arrays: NumPy provides ndarray, a high-performance, memory-efficient array structure that is faster than Python lists.\n",
    "<br>✅ Vectorized Operations: Eliminates the need for loops, allowing element-wise operations for better performance.\n",
    "<br>✅ Broadcasting: Enables operations on arrays of different shapes without explicit looping.\n",
    "<br>✅ Indexing & Selection: Supports slicing, Boolean masking, and advanced indexing techniques.\n",
    "<br>✅ Mathematical & Statistical Functions: Provides built-in methods for mathematical computations, including mean, sum, standard deviation, and linear algebra operations.\n",
    "<br>✅ Integration with Other Libraries: Works seamlessly with libraries like Pandas, SciPy, and Matplotlib.\n",
    "<br><br>\n",
    "In summary, NumPy is the backbone of numerical computing in Python, enabling efficient data manipulation and computation. Mastering it is essential for working with large datasets and optimizing performance in scientific applications. 🚀"
   ],
   "id": "f841edbeb139987c"
  }
 ],
 "metadata": {
  "kernelspec": {
   "name": "python3",
   "language": "python",
   "display_name": "Python 3 (ipykernel)"
  }
 },
 "nbformat": 4,
 "nbformat_minor": 5
}

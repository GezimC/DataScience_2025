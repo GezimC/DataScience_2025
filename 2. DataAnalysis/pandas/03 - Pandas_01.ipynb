{
 "cells": [
  {
   "metadata": {},
   "cell_type": "markdown",
   "source": "### Kete fajll se kom formatu hala, ushtrimet,detyrat jane qysh i kem bo ne klase, vikendit e plotesoj me sqarime shtese edhe ushtrime shtese",
   "id": "cf79c4a717000dfb"
  },
  {
   "metadata": {},
   "cell_type": "markdown",
   "source": [
    "# Introduction to Pandas\n",
    "\n",
    "In this section of the course we will learn how to use pandas for data analysis. You can think of pandas as an extremely powerful version of Excel, with a lot more features. In this section, we will go through the notebooks in this order:\n",
    "\n",
    "* Introduction to Pandas\n",
    "* Series\n",
    "* DataFrames\n",
    "* Missing Data\n",
    "* GroupBy\n",
    "* Merging,Joining,and Concatenating\n",
    "* Operations\n",
    "* Data Input and Output"
   ],
   "id": "5e3300785bc8f3a9"
  },
  {
   "metadata": {},
   "cell_type": "markdown",
   "source": [
    "# What is Pandas?\n",
    "Pandas is an open-source Python library used for data manipulation and analysis. It provides data structures like DataFrame and Series that allow for efficient handling of structured data. It is widely used in data science, machine learning, statistical analysis, and data cleaning."
   ],
   "id": "7630e2e9b9606340"
  },
  {
   "metadata": {},
   "cell_type": "markdown",
   "source": [
    "## Key Features of Pandas\n",
    "### Data Structures:\n",
    "- **Series**: A one-dimensional array-like object that can hold any data type.\n",
    "- **DataFrame**: A two-dimensional table of data with labeled axes (rows and columns), similar to an Excel spreadsheet or a SQL table."
   ],
   "id": "5bf1e09f53be81d5"
  },
  {
   "metadata": {},
   "cell_type": "markdown",
   "source": [
    "### Data Cleaning and Preparation:\n",
    "- Handling missing data.\n",
    "- Filtering and transforming data.\n",
    "- Merging and joining datasets.\n",
    "- Reshaping data with pivot tables and group-by operations."
   ],
   "id": "e79378eefd7c47d6"
  },
  {
   "metadata": {},
   "cell_type": "markdown",
   "source": [
    "### Data Analysis:\n",
    "Pandas provides powerful tools to explore and analyze data, including summary statistics, filtering, and aggregation."
   ],
   "id": "e6e9a303d9c1af0e"
  },
  {
   "metadata": {},
   "cell_type": "markdown",
   "source": [
    "### Data Input and Output:\n",
    "Supports reading from and writing to various file formats like CSV, Excel, SQL databases, JSON, and HDF5."
   ],
   "id": "13627d2bbcf5915a"
  },
  {
   "metadata": {},
   "cell_type": "markdown",
   "source": [
    "### Time Series Data:\n",
    "Built-in functionality for handling time-series data, including date parsing, resampling, and frequency conversion."
   ],
   "id": "f08ab188f474c194"
  },
  {
   "metadata": {},
   "cell_type": "markdown",
   "source": [
    "### Efficient Data Handling:\n",
    "Pandas is designed for performance and can handle large datasets efficiently."
   ],
   "id": "2b4e2c9d3d1f8337"
  },
  {
   "metadata": {},
   "cell_type": "markdown",
   "source": [
    "## Benefits of Using Pandas\n",
    "- **Ease of Use**: Simplifies complex data manipulation tasks.\n",
    "- **Integration with Other Libraries**: Works well with NumPy, Matplotlib, and Scikit-learn.\n",
    "- **Data Cleaning**: Handles missing data, duplicates, and filtering.\n",
    "- **Efficient Memory Management**: Optimized for performance.\n",
    "- **Powerful Data Aggregation**: Functions like `groupby()`, `pivot_table()`, and `agg()`.\n",
    "- **Time Series Support**: Built-in tools for handling time-based data."
   ],
   "id": "62a65f2e833e1b8c"
  },
  {
   "metadata": {},
   "cell_type": "markdown",
   "source": [
    "## Why Use Pandas?\n",
    "- **Simplifies Data Analysis Workflow**\n",
    "- **Used in Real-World Applications**: Financial analysis, machine learning, and scientific research.\n",
    "- **Industry Standard**: Popular and well-documented."
   ],
   "id": "640021f4a1efa8c1"
  },
  {
   "metadata": {},
   "cell_type": "markdown",
   "source": [
    "## Conclusion\n",
    "Pandas is an indispensable tool for data manipulation and analysis in Python, offering an intuitive, powerful, and flexible way to handle structured data."
   ],
   "id": "1bc82e127dfc9680"
  },
  {
   "metadata": {},
   "cell_type": "markdown",
   "source": [
    "# Series\n",
    "\n",
    "The first main data type we will learn about for pandas is the Series data type. Let's import Pandas and explore the Series object.\n",
    "\n",
    "A Series is very similar to a NumPy array (in fact it is built on top of the NumPy array object). What differentiates the NumPy array from a Series, is that a Series can have axis labels, meaning it can be indexed by a label, instead of just a number location. It also doesn't need to hold numeric data, it can hold any arbitrary Python Object.\n",
    "\n",
    "Let's explore this concept through some examples:\n"
   ],
   "id": "bc33f7aad94c7498"
  },
  {
   "metadata": {
    "ExecuteTime": {
     "end_time": "2025-03-17T09:20:35.573697Z",
     "start_time": "2025-03-17T09:20:27.456854Z"
    }
   },
   "cell_type": "code",
   "source": [
    "# creating series from list and labels\n",
    "import pandas as pd\n",
    "import numpy as np"
   ],
   "id": "b582fd9e5dc19081",
   "outputs": [],
   "execution_count": 1
  },
  {
   "metadata": {
    "ExecuteTime": {
     "end_time": "2025-03-17T09:22:27.141459Z",
     "start_time": "2025-03-17T09:22:27.132977Z"
    }
   },
   "cell_type": "code",
   "source": [
    "py_list = [1,2,3]\n",
    "labels = ['a','b','c']\n",
    "\n",
    "ser1 = pd.Series(data = py_list, index=labels, name='Test')\n",
    "ser1"
   ],
   "id": "f8fa2223bf607597",
   "outputs": [
    {
     "data": {
      "text/plain": [
       "a    1\n",
       "b    2\n",
       "c    3\n",
       "Name: Test, dtype: int64"
      ]
     },
     "execution_count": 3,
     "metadata": {},
     "output_type": "execute_result"
    }
   ],
   "execution_count": 3
  },
  {
   "metadata": {
    "ExecuteTime": {
     "end_time": "2025-03-17T09:26:26.590921Z",
     "start_time": "2025-03-17T09:26:26.584941Z"
    }
   },
   "cell_type": "code",
   "source": [
    "# creating seris from numpy array\n",
    "\n",
    "np.random.seed(100)\n",
    "\n",
    "ser2 = pd.Series(data = np.random.randint(1,10,5), index= ['a','b','c','d','e'])\n",
    "ser2\n"
   ],
   "id": "6f6a1bd270872589",
   "outputs": [
    {
     "data": {
      "text/plain": [
       "a    9\n",
       "b    9\n",
       "c    4\n",
       "d    8\n",
       "e    8\n",
       "dtype: int32"
      ]
     },
     "execution_count": 7,
     "metadata": {},
     "output_type": "execute_result"
    }
   ],
   "execution_count": 7
  },
  {
   "metadata": {},
   "cell_type": "code",
   "outputs": [],
   "execution_count": null,
   "source": "# creating series from dictionaries",
   "id": "a21ecd4bc5284e02"
  },
  {
   "metadata": {
    "ExecuteTime": {
     "end_time": "2025-03-17T09:25:18.520462Z",
     "start_time": "2025-03-17T09:25:18.512862Z"
    }
   },
   "cell_type": "code",
   "source": [
    "d = {'name': 'Gezim', 'age':27}\n",
    "\n",
    "pd.Series(d)"
   ],
   "id": "8111eebe6039f34b",
   "outputs": [
    {
     "data": {
      "text/plain": [
       "name    Gezim\n",
       "age        27\n",
       "dtype: object"
      ]
     },
     "execution_count": 6,
     "metadata": {},
     "output_type": "execute_result"
    }
   ],
   "execution_count": 6
  },
  {
   "metadata": {},
   "cell_type": "code",
   "outputs": [],
   "execution_count": null,
   "source": "",
   "id": "7bd85e4e02af87cc"
  },
  {
   "metadata": {},
   "cell_type": "markdown",
   "source": [
    "## Using an Index\n",
    "\n",
    "The key to using a Series is understanding its index. Pandas makes use of these index names or numbers by allowing for fast look ups of information (works like a hash table or dictionary).\n",
    "\n",
    "Let's see some examples of how to grab information from a Series. Let us create two sereis, ser1 and ser2:\n"
   ],
   "id": "83ec79057e938681"
  },
  {
   "metadata": {
    "ExecuteTime": {
     "end_time": "2025-03-17T09:27:46.001765Z",
     "start_time": "2025-03-17T09:27:45.995943Z"
    }
   },
   "cell_type": "code",
   "source": [
    "# using index like in numpy\n",
    "# using slice\n",
    "\n",
    "print(ser2['a'])\n",
    "print(ser2['a':'e'])"
   ],
   "id": "8b076a22e7449c4a",
   "outputs": [
    {
     "name": "stdout",
     "output_type": "stream",
     "text": [
      "9\n",
      "a    9\n",
      "b    9\n",
      "c    4\n",
      "d    8\n",
      "e    8\n",
      "dtype: int32\n"
     ]
    }
   ],
   "execution_count": 13
  },
  {
   "metadata": {},
   "cell_type": "code",
   "outputs": [],
   "execution_count": null,
   "source": "# using .iloc[]  and loc[]",
   "id": "fc3d4e6a15059c7f"
  },
  {
   "metadata": {
    "ExecuteTime": {
     "end_time": "2025-03-17T09:28:27.907518Z",
     "start_time": "2025-03-17T09:28:27.902106Z"
    }
   },
   "cell_type": "code",
   "source": "ser2.iloc[2]",
   "id": "fac67b7eb7e029eb",
   "outputs": [
    {
     "data": {
      "text/plain": [
       "np.int32(4)"
      ]
     },
     "execution_count": 14,
     "metadata": {},
     "output_type": "execute_result"
    }
   ],
   "execution_count": 14
  },
  {
   "metadata": {
    "ExecuteTime": {
     "end_time": "2025-03-17T09:28:48.090141Z",
     "start_time": "2025-03-17T09:28:48.084223Z"
    }
   },
   "cell_type": "code",
   "source": "ser2['a']",
   "id": "aa99cb1895b6559c",
   "outputs": [
    {
     "data": {
      "text/plain": [
       "np.int32(9)"
      ]
     },
     "execution_count": 16,
     "metadata": {},
     "output_type": "execute_result"
    }
   ],
   "execution_count": 16
  },
  {
   "metadata": {},
   "cell_type": "markdown",
   "source": [
    "### Attributes of a Series\n",
    "index, values, dtype, shape"
   ],
   "id": "a43709433a48a98f"
  },
  {
   "metadata": {
    "ExecuteTime": {
     "end_time": "2025-03-17T09:28:58.729793Z",
     "start_time": "2025-03-17T09:28:58.723096Z"
    }
   },
   "cell_type": "code",
   "source": "ser2.index",
   "id": "24e94da2ee1591cd",
   "outputs": [
    {
     "data": {
      "text/plain": [
       "Index(['a', 'b', 'c', 'd', 'e'], dtype='object')"
      ]
     },
     "execution_count": 17,
     "metadata": {},
     "output_type": "execute_result"
    }
   ],
   "execution_count": 17
  },
  {
   "metadata": {
    "ExecuteTime": {
     "end_time": "2025-03-17T09:29:07.439531Z",
     "start_time": "2025-03-17T09:29:07.432788Z"
    }
   },
   "cell_type": "code",
   "source": "ser2.values",
   "id": "f27a844c39482ae9",
   "outputs": [
    {
     "data": {
      "text/plain": [
       "array([9, 9, 4, 8, 8], dtype=int32)"
      ]
     },
     "execution_count": 19,
     "metadata": {},
     "output_type": "execute_result"
    }
   ],
   "execution_count": 19
  },
  {
   "metadata": {},
   "cell_type": "code",
   "outputs": [],
   "execution_count": null,
   "source": "",
   "id": "7d509852bd6f37aa"
  },
  {
   "metadata": {},
   "cell_type": "markdown",
   "source": [
    "### Performing Operations on a Series\n",
    "- Applying math operation example. s+1\n",
    "- Using apply() for custom functions"
   ],
   "id": "d71088631b581355"
  },
  {
   "metadata": {
    "ExecuteTime": {
     "end_time": "2025-03-17T09:30:48.673306Z",
     "start_time": "2025-03-17T09:30:48.668048Z"
    }
   },
   "cell_type": "code",
   "source": "ser2= ser2 + 5",
   "id": "ba70a534f55c2c45",
   "outputs": [],
   "execution_count": 23
  },
  {
   "metadata": {
    "ExecuteTime": {
     "end_time": "2025-03-17T09:30:58.753556Z",
     "start_time": "2025-03-17T09:30:58.748759Z"
    }
   },
   "cell_type": "code",
   "source": "ser2",
   "id": "dd5b14605992cd46",
   "outputs": [
    {
     "data": {
      "text/plain": [
       "a    14\n",
       "b    14\n",
       "c     9\n",
       "d    13\n",
       "e    13\n",
       "dtype: int32"
      ]
     },
     "execution_count": 24,
     "metadata": {},
     "output_type": "execute_result"
    }
   ],
   "execution_count": 24
  },
  {
   "metadata": {
    "ExecuteTime": {
     "end_time": "2025-03-17T09:31:00.956968Z",
     "start_time": "2025-03-17T09:31:00.949361Z"
    }
   },
   "cell_type": "code",
   "source": "ser2.apply(lambda x: x*2)",
   "id": "f4fc56ea9e1040f8",
   "outputs": [
    {
     "data": {
      "text/plain": [
       "a    28\n",
       "b    28\n",
       "c    18\n",
       "d    26\n",
       "e    26\n",
       "dtype: int64"
      ]
     },
     "execution_count": 25,
     "metadata": {},
     "output_type": "execute_result"
    }
   ],
   "execution_count": 25
  },
  {
   "metadata": {},
   "cell_type": "code",
   "outputs": [],
   "execution_count": null,
   "source": "",
   "id": "4e092b9bba16ba95"
  },
  {
   "metadata": {},
   "cell_type": "markdown",
   "source": [
    "### Checking for Missing Values\n",
    "isna(), notna(), fillna()"
   ],
   "id": "6238445e932852b4"
  },
  {
   "metadata": {
    "ExecuteTime": {
     "end_time": "2025-03-17T09:32:20.020721Z",
     "start_time": "2025-03-17T09:32:20.015286Z"
    }
   },
   "cell_type": "code",
   "source": "ser4 = pd.Series(data = np.array([1, np.nan, 3, np.nan, 5, 6]) )",
   "id": "79633372077bbd73",
   "outputs": [],
   "execution_count": 26
  },
  {
   "metadata": {
    "ExecuteTime": {
     "end_time": "2025-03-17T09:32:53.231191Z",
     "start_time": "2025-03-17T09:32:53.225469Z"
    }
   },
   "cell_type": "code",
   "source": "ser4.notna()",
   "id": "ba87d7b28bce7b0f",
   "outputs": [
    {
     "data": {
      "text/plain": [
       "0     True\n",
       "1    False\n",
       "2     True\n",
       "3    False\n",
       "4     True\n",
       "5     True\n",
       "dtype: bool"
      ]
     },
     "execution_count": 29,
     "metadata": {},
     "output_type": "execute_result"
    }
   ],
   "execution_count": 29
  },
  {
   "metadata": {
    "ExecuteTime": {
     "end_time": "2025-03-17T09:33:38.159596Z",
     "start_time": "2025-03-17T09:33:38.154076Z"
    }
   },
   "cell_type": "code",
   "source": "ser4.mean()",
   "id": "cf96878f3917d41b",
   "outputs": [
    {
     "data": {
      "text/plain": [
       "np.float64(3.75)"
      ]
     },
     "execution_count": 30,
     "metadata": {},
     "output_type": "execute_result"
    }
   ],
   "execution_count": 30
  },
  {
   "metadata": {
    "ExecuteTime": {
     "end_time": "2025-03-17T09:34:24.813030Z",
     "start_time": "2025-03-17T09:34:24.807961Z"
    }
   },
   "cell_type": "code",
   "source": "ser4.fillna(ser4.mean(), inplace=True)",
   "id": "723e17b992083543",
   "outputs": [],
   "execution_count": 33
  },
  {
   "metadata": {
    "ExecuteTime": {
     "end_time": "2025-03-17T09:34:26.816976Z",
     "start_time": "2025-03-17T09:34:26.808584Z"
    }
   },
   "cell_type": "code",
   "source": "ser4",
   "id": "3cadf29887613417",
   "outputs": [
    {
     "data": {
      "text/plain": [
       "0    1.00\n",
       "1    3.75\n",
       "2    3.00\n",
       "3    3.75\n",
       "4    5.00\n",
       "5    6.00\n",
       "dtype: float64"
      ]
     },
     "execution_count": 34,
     "metadata": {},
     "output_type": "execute_result"
    }
   ],
   "execution_count": 34
  },
  {
   "metadata": {},
   "cell_type": "markdown",
   "source": [
    "### Filtering in a Series\n",
    "s[s>1]"
   ],
   "id": "bdda49d8aa0660a0"
  },
  {
   "metadata": {
    "ExecuteTime": {
     "end_time": "2025-03-17T09:35:32.898658Z",
     "start_time": "2025-03-17T09:35:32.893653Z"
    }
   },
   "cell_type": "code",
   "source": [
    "condtion = ser4>4\n",
    "print(condtion)"
   ],
   "id": "45621e04c5708d09",
   "outputs": [
    {
     "name": "stdout",
     "output_type": "stream",
     "text": [
      "0    False\n",
      "1    False\n",
      "2    False\n",
      "3    False\n",
      "4     True\n",
      "5     True\n",
      "dtype: bool\n"
     ]
    }
   ],
   "execution_count": 35
  },
  {
   "metadata": {
    "ExecuteTime": {
     "end_time": "2025-03-17T09:35:43.892243Z",
     "start_time": "2025-03-17T09:35:43.886411Z"
    }
   },
   "cell_type": "code",
   "source": "ser4[ condtion]",
   "id": "8afd7472931b3046",
   "outputs": [
    {
     "data": {
      "text/plain": [
       "4    5.0\n",
       "5    6.0\n",
       "dtype: float64"
      ]
     },
     "execution_count": 36,
     "metadata": {},
     "output_type": "execute_result"
    }
   ],
   "execution_count": 36
  },
  {
   "metadata": {},
   "cell_type": "markdown",
   "source": [
    "# Pandas DataFrames\n",
    "A DataFrame is a 2D labeled data structure in Pandas, similar to a table or an Excel spreadsheet. It consists of rows and columns, where:\n",
    "\n",
    "- Rows have an index.\n",
    "- Columns have labels."
   ],
   "id": "d1da2afdb580f97b"
  },
  {
   "metadata": {},
   "cell_type": "markdown",
   "source": [
    "## Creating dataframes\n",
    "- using python list\n",
    "- using numpy array\n",
    "- using dictionary"
   ],
   "id": "6e8afa53c5199f5d"
  },
  {
   "metadata": {
    "ExecuteTime": {
     "end_time": "2025-03-17T09:41:24.516976Z",
     "start_time": "2025-03-17T09:41:24.508605Z"
    }
   },
   "cell_type": "code",
   "source": [
    "pd.DataFrame(data = [[1,2,3],\n",
    "                     [4,5,6],\n",
    "                     [7,8,9]] , index=['a','b','c'], columns=['A','B','C'] )"
   ],
   "id": "9fa994ebbbd93f61",
   "outputs": [
    {
     "data": {
      "text/plain": [
       "   A  B  C\n",
       "a  1  2  3\n",
       "b  4  5  6\n",
       "c  7  8  9"
      ],
      "text/html": [
       "<div>\n",
       "<style scoped>\n",
       "    .dataframe tbody tr th:only-of-type {\n",
       "        vertical-align: middle;\n",
       "    }\n",
       "\n",
       "    .dataframe tbody tr th {\n",
       "        vertical-align: top;\n",
       "    }\n",
       "\n",
       "    .dataframe thead th {\n",
       "        text-align: right;\n",
       "    }\n",
       "</style>\n",
       "<table border=\"1\" class=\"dataframe\">\n",
       "  <thead>\n",
       "    <tr style=\"text-align: right;\">\n",
       "      <th></th>\n",
       "      <th>A</th>\n",
       "      <th>B</th>\n",
       "      <th>C</th>\n",
       "    </tr>\n",
       "  </thead>\n",
       "  <tbody>\n",
       "    <tr>\n",
       "      <th>a</th>\n",
       "      <td>1</td>\n",
       "      <td>2</td>\n",
       "      <td>3</td>\n",
       "    </tr>\n",
       "    <tr>\n",
       "      <th>b</th>\n",
       "      <td>4</td>\n",
       "      <td>5</td>\n",
       "      <td>6</td>\n",
       "    </tr>\n",
       "    <tr>\n",
       "      <th>c</th>\n",
       "      <td>7</td>\n",
       "      <td>8</td>\n",
       "      <td>9</td>\n",
       "    </tr>\n",
       "  </tbody>\n",
       "</table>\n",
       "</div>"
      ]
     },
     "execution_count": 39,
     "metadata": {},
     "output_type": "execute_result"
    }
   ],
   "execution_count": 39
  },
  {
   "metadata": {
    "ExecuteTime": {
     "end_time": "2025-03-17T09:42:12.602140Z",
     "start_time": "2025-03-17T09:42:12.596220Z"
    }
   },
   "cell_type": "code",
   "source": "d",
   "id": "c4a5995183639f93",
   "outputs": [
    {
     "data": {
      "text/plain": [
       "{'name': 'Gezim', 'age': 27}"
      ]
     },
     "execution_count": 40,
     "metadata": {},
     "output_type": "execute_result"
    }
   ],
   "execution_count": 40
  },
  {
   "metadata": {
    "ExecuteTime": {
     "end_time": "2025-03-17T09:44:53.889556Z",
     "start_time": "2025-03-17T09:44:53.882780Z"
    }
   },
   "cell_type": "code",
   "source": "pd.DataFrame(data = d, index = ['a'])",
   "id": "e24f7190b11bed98",
   "outputs": [
    {
     "data": {
      "text/plain": [
       "    name  age\n",
       "a  Gezim   27"
      ],
      "text/html": [
       "<div>\n",
       "<style scoped>\n",
       "    .dataframe tbody tr th:only-of-type {\n",
       "        vertical-align: middle;\n",
       "    }\n",
       "\n",
       "    .dataframe tbody tr th {\n",
       "        vertical-align: top;\n",
       "    }\n",
       "\n",
       "    .dataframe thead th {\n",
       "        text-align: right;\n",
       "    }\n",
       "</style>\n",
       "<table border=\"1\" class=\"dataframe\">\n",
       "  <thead>\n",
       "    <tr style=\"text-align: right;\">\n",
       "      <th></th>\n",
       "      <th>name</th>\n",
       "      <th>age</th>\n",
       "    </tr>\n",
       "  </thead>\n",
       "  <tbody>\n",
       "    <tr>\n",
       "      <th>a</th>\n",
       "      <td>Gezim</td>\n",
       "      <td>27</td>\n",
       "    </tr>\n",
       "  </tbody>\n",
       "</table>\n",
       "</div>"
      ]
     },
     "execution_count": 43,
     "metadata": {},
     "output_type": "execute_result"
    }
   ],
   "execution_count": 43
  },
  {
   "metadata": {},
   "cell_type": "code",
   "outputs": [],
   "execution_count": null,
   "source": "",
   "id": "f69294a2ad757ac3"
  },
  {
   "metadata": {},
   "cell_type": "markdown",
   "source": [
    "##  Accessing Data in a DataFrame\n",
    "- Selecting Columns  df[colname]\n",
    "- Selecting rows and cols using    **df.loc[]  & df.iloc[]**\n",
    "- Selecting spec. value **df.at[]  & dt.iat[]**"
   ],
   "id": "d2608ce30fcf7a1b"
  },
  {
   "metadata": {
    "ExecuteTime": {
     "end_time": "2025-03-17T09:49:43.403037Z",
     "start_time": "2025-03-17T09:49:41.906676Z"
    }
   },
   "cell_type": "code",
   "source": [
    "# pip install openpyxl\n",
    "df = pd.read_excel('Transactions.xlsx')"
   ],
   "id": "b45f5c006c945aaf",
   "outputs": [],
   "execution_count": 45
  },
  {
   "metadata": {
    "ExecuteTime": {
     "end_time": "2025-03-17T09:49:52.242615Z",
     "start_time": "2025-03-17T09:49:52.232640Z"
    }
   },
   "cell_type": "code",
   "source": "df",
   "id": "a656461f79683fcb",
   "outputs": [
    {
     "data": {
      "text/plain": [
       "    TransactionID Customer  Product     Category  Quantity  Price\n",
       "0               1    Alice   Laptop  Electronics         1   1000\n",
       "1               2      Bob    Phone  Electronics         2    500\n",
       "2               3  Charlie   Tablet  Electronics         1    300\n",
       "3               4    David    Shoes      Fashion         3     50\n",
       "4               5     Emma  T-Shirt      Fashion         2     20\n",
       "5               6    Alice    Phone  Electronics         1    500\n",
       "6               7      Bob   Tablet  Electronics         2    300\n",
       "7               8  Charlie   Laptop  Electronics         3   1000\n",
       "8               9    David    Shoes      Fashion         1     50\n",
       "9              10     Emma  T-Shirt      Fashion         2     20\n",
       "10             11    Alice   Laptop  Electronics         1   1000\n",
       "11             12      Bob    Shoes      Fashion         2     50\n",
       "12             13  Charlie  T-Shirt      Fashion         3     20\n",
       "13             14    David    Phone  Electronics         2    500\n",
       "14             15     Emma   Tablet  Electronics         1    300\n",
       "15             16    Alice    Shoes      Fashion         3     50\n",
       "16             17      Bob  T-Shirt      Fashion         2     20\n",
       "17             18  Charlie   Laptop  Electronics         1   1000\n",
       "18             19    David    Phone  Electronics         2    500\n",
       "19             20     Emma   Tablet  Electronics         3    300"
      ],
      "text/html": [
       "<div>\n",
       "<style scoped>\n",
       "    .dataframe tbody tr th:only-of-type {\n",
       "        vertical-align: middle;\n",
       "    }\n",
       "\n",
       "    .dataframe tbody tr th {\n",
       "        vertical-align: top;\n",
       "    }\n",
       "\n",
       "    .dataframe thead th {\n",
       "        text-align: right;\n",
       "    }\n",
       "</style>\n",
       "<table border=\"1\" class=\"dataframe\">\n",
       "  <thead>\n",
       "    <tr style=\"text-align: right;\">\n",
       "      <th></th>\n",
       "      <th>TransactionID</th>\n",
       "      <th>Customer</th>\n",
       "      <th>Product</th>\n",
       "      <th>Category</th>\n",
       "      <th>Quantity</th>\n",
       "      <th>Price</th>\n",
       "    </tr>\n",
       "  </thead>\n",
       "  <tbody>\n",
       "    <tr>\n",
       "      <th>0</th>\n",
       "      <td>1</td>\n",
       "      <td>Alice</td>\n",
       "      <td>Laptop</td>\n",
       "      <td>Electronics</td>\n",
       "      <td>1</td>\n",
       "      <td>1000</td>\n",
       "    </tr>\n",
       "    <tr>\n",
       "      <th>1</th>\n",
       "      <td>2</td>\n",
       "      <td>Bob</td>\n",
       "      <td>Phone</td>\n",
       "      <td>Electronics</td>\n",
       "      <td>2</td>\n",
       "      <td>500</td>\n",
       "    </tr>\n",
       "    <tr>\n",
       "      <th>2</th>\n",
       "      <td>3</td>\n",
       "      <td>Charlie</td>\n",
       "      <td>Tablet</td>\n",
       "      <td>Electronics</td>\n",
       "      <td>1</td>\n",
       "      <td>300</td>\n",
       "    </tr>\n",
       "    <tr>\n",
       "      <th>3</th>\n",
       "      <td>4</td>\n",
       "      <td>David</td>\n",
       "      <td>Shoes</td>\n",
       "      <td>Fashion</td>\n",
       "      <td>3</td>\n",
       "      <td>50</td>\n",
       "    </tr>\n",
       "    <tr>\n",
       "      <th>4</th>\n",
       "      <td>5</td>\n",
       "      <td>Emma</td>\n",
       "      <td>T-Shirt</td>\n",
       "      <td>Fashion</td>\n",
       "      <td>2</td>\n",
       "      <td>20</td>\n",
       "    </tr>\n",
       "    <tr>\n",
       "      <th>5</th>\n",
       "      <td>6</td>\n",
       "      <td>Alice</td>\n",
       "      <td>Phone</td>\n",
       "      <td>Electronics</td>\n",
       "      <td>1</td>\n",
       "      <td>500</td>\n",
       "    </tr>\n",
       "    <tr>\n",
       "      <th>6</th>\n",
       "      <td>7</td>\n",
       "      <td>Bob</td>\n",
       "      <td>Tablet</td>\n",
       "      <td>Electronics</td>\n",
       "      <td>2</td>\n",
       "      <td>300</td>\n",
       "    </tr>\n",
       "    <tr>\n",
       "      <th>7</th>\n",
       "      <td>8</td>\n",
       "      <td>Charlie</td>\n",
       "      <td>Laptop</td>\n",
       "      <td>Electronics</td>\n",
       "      <td>3</td>\n",
       "      <td>1000</td>\n",
       "    </tr>\n",
       "    <tr>\n",
       "      <th>8</th>\n",
       "      <td>9</td>\n",
       "      <td>David</td>\n",
       "      <td>Shoes</td>\n",
       "      <td>Fashion</td>\n",
       "      <td>1</td>\n",
       "      <td>50</td>\n",
       "    </tr>\n",
       "    <tr>\n",
       "      <th>9</th>\n",
       "      <td>10</td>\n",
       "      <td>Emma</td>\n",
       "      <td>T-Shirt</td>\n",
       "      <td>Fashion</td>\n",
       "      <td>2</td>\n",
       "      <td>20</td>\n",
       "    </tr>\n",
       "    <tr>\n",
       "      <th>10</th>\n",
       "      <td>11</td>\n",
       "      <td>Alice</td>\n",
       "      <td>Laptop</td>\n",
       "      <td>Electronics</td>\n",
       "      <td>1</td>\n",
       "      <td>1000</td>\n",
       "    </tr>\n",
       "    <tr>\n",
       "      <th>11</th>\n",
       "      <td>12</td>\n",
       "      <td>Bob</td>\n",
       "      <td>Shoes</td>\n",
       "      <td>Fashion</td>\n",
       "      <td>2</td>\n",
       "      <td>50</td>\n",
       "    </tr>\n",
       "    <tr>\n",
       "      <th>12</th>\n",
       "      <td>13</td>\n",
       "      <td>Charlie</td>\n",
       "      <td>T-Shirt</td>\n",
       "      <td>Fashion</td>\n",
       "      <td>3</td>\n",
       "      <td>20</td>\n",
       "    </tr>\n",
       "    <tr>\n",
       "      <th>13</th>\n",
       "      <td>14</td>\n",
       "      <td>David</td>\n",
       "      <td>Phone</td>\n",
       "      <td>Electronics</td>\n",
       "      <td>2</td>\n",
       "      <td>500</td>\n",
       "    </tr>\n",
       "    <tr>\n",
       "      <th>14</th>\n",
       "      <td>15</td>\n",
       "      <td>Emma</td>\n",
       "      <td>Tablet</td>\n",
       "      <td>Electronics</td>\n",
       "      <td>1</td>\n",
       "      <td>300</td>\n",
       "    </tr>\n",
       "    <tr>\n",
       "      <th>15</th>\n",
       "      <td>16</td>\n",
       "      <td>Alice</td>\n",
       "      <td>Shoes</td>\n",
       "      <td>Fashion</td>\n",
       "      <td>3</td>\n",
       "      <td>50</td>\n",
       "    </tr>\n",
       "    <tr>\n",
       "      <th>16</th>\n",
       "      <td>17</td>\n",
       "      <td>Bob</td>\n",
       "      <td>T-Shirt</td>\n",
       "      <td>Fashion</td>\n",
       "      <td>2</td>\n",
       "      <td>20</td>\n",
       "    </tr>\n",
       "    <tr>\n",
       "      <th>17</th>\n",
       "      <td>18</td>\n",
       "      <td>Charlie</td>\n",
       "      <td>Laptop</td>\n",
       "      <td>Electronics</td>\n",
       "      <td>1</td>\n",
       "      <td>1000</td>\n",
       "    </tr>\n",
       "    <tr>\n",
       "      <th>18</th>\n",
       "      <td>19</td>\n",
       "      <td>David</td>\n",
       "      <td>Phone</td>\n",
       "      <td>Electronics</td>\n",
       "      <td>2</td>\n",
       "      <td>500</td>\n",
       "    </tr>\n",
       "    <tr>\n",
       "      <th>19</th>\n",
       "      <td>20</td>\n",
       "      <td>Emma</td>\n",
       "      <td>Tablet</td>\n",
       "      <td>Electronics</td>\n",
       "      <td>3</td>\n",
       "      <td>300</td>\n",
       "    </tr>\n",
       "  </tbody>\n",
       "</table>\n",
       "</div>"
      ]
     },
     "execution_count": 46,
     "metadata": {},
     "output_type": "execute_result"
    }
   ],
   "execution_count": 46
  },
  {
   "metadata": {
    "ExecuteTime": {
     "end_time": "2025-03-17T09:54:16.922596Z",
     "start_time": "2025-03-17T09:54:16.916333Z"
    }
   },
   "cell_type": "code",
   "source": "df['Customer'].nunique()",
   "id": "aac4575130a39bfb",
   "outputs": [
    {
     "data": {
      "text/plain": [
       "5"
      ]
     },
     "execution_count": 49,
     "metadata": {},
     "output_type": "execute_result"
    }
   ],
   "execution_count": 49
  },
  {
   "metadata": {
    "ExecuteTime": {
     "end_time": "2025-03-17T09:55:08.482651Z",
     "start_time": "2025-03-17T09:55:08.474513Z"
    }
   },
   "cell_type": "code",
   "source": "df[['Customer', 'Product']]",
   "id": "e4a977ff70383362",
   "outputs": [
    {
     "data": {
      "text/plain": [
       "   Customer  Product\n",
       "0     Alice   Laptop\n",
       "1       Bob    Phone\n",
       "2   Charlie   Tablet\n",
       "3     David    Shoes\n",
       "4      Emma  T-Shirt\n",
       "5     Alice    Phone\n",
       "6       Bob   Tablet\n",
       "7   Charlie   Laptop\n",
       "8     David    Shoes\n",
       "9      Emma  T-Shirt\n",
       "10    Alice   Laptop\n",
       "11      Bob    Shoes\n",
       "12  Charlie  T-Shirt\n",
       "13    David    Phone\n",
       "14     Emma   Tablet\n",
       "15    Alice    Shoes\n",
       "16      Bob  T-Shirt\n",
       "17  Charlie   Laptop\n",
       "18    David    Phone\n",
       "19     Emma   Tablet"
      ],
      "text/html": [
       "<div>\n",
       "<style scoped>\n",
       "    .dataframe tbody tr th:only-of-type {\n",
       "        vertical-align: middle;\n",
       "    }\n",
       "\n",
       "    .dataframe tbody tr th {\n",
       "        vertical-align: top;\n",
       "    }\n",
       "\n",
       "    .dataframe thead th {\n",
       "        text-align: right;\n",
       "    }\n",
       "</style>\n",
       "<table border=\"1\" class=\"dataframe\">\n",
       "  <thead>\n",
       "    <tr style=\"text-align: right;\">\n",
       "      <th></th>\n",
       "      <th>Customer</th>\n",
       "      <th>Product</th>\n",
       "    </tr>\n",
       "  </thead>\n",
       "  <tbody>\n",
       "    <tr>\n",
       "      <th>0</th>\n",
       "      <td>Alice</td>\n",
       "      <td>Laptop</td>\n",
       "    </tr>\n",
       "    <tr>\n",
       "      <th>1</th>\n",
       "      <td>Bob</td>\n",
       "      <td>Phone</td>\n",
       "    </tr>\n",
       "    <tr>\n",
       "      <th>2</th>\n",
       "      <td>Charlie</td>\n",
       "      <td>Tablet</td>\n",
       "    </tr>\n",
       "    <tr>\n",
       "      <th>3</th>\n",
       "      <td>David</td>\n",
       "      <td>Shoes</td>\n",
       "    </tr>\n",
       "    <tr>\n",
       "      <th>4</th>\n",
       "      <td>Emma</td>\n",
       "      <td>T-Shirt</td>\n",
       "    </tr>\n",
       "    <tr>\n",
       "      <th>5</th>\n",
       "      <td>Alice</td>\n",
       "      <td>Phone</td>\n",
       "    </tr>\n",
       "    <tr>\n",
       "      <th>6</th>\n",
       "      <td>Bob</td>\n",
       "      <td>Tablet</td>\n",
       "    </tr>\n",
       "    <tr>\n",
       "      <th>7</th>\n",
       "      <td>Charlie</td>\n",
       "      <td>Laptop</td>\n",
       "    </tr>\n",
       "    <tr>\n",
       "      <th>8</th>\n",
       "      <td>David</td>\n",
       "      <td>Shoes</td>\n",
       "    </tr>\n",
       "    <tr>\n",
       "      <th>9</th>\n",
       "      <td>Emma</td>\n",
       "      <td>T-Shirt</td>\n",
       "    </tr>\n",
       "    <tr>\n",
       "      <th>10</th>\n",
       "      <td>Alice</td>\n",
       "      <td>Laptop</td>\n",
       "    </tr>\n",
       "    <tr>\n",
       "      <th>11</th>\n",
       "      <td>Bob</td>\n",
       "      <td>Shoes</td>\n",
       "    </tr>\n",
       "    <tr>\n",
       "      <th>12</th>\n",
       "      <td>Charlie</td>\n",
       "      <td>T-Shirt</td>\n",
       "    </tr>\n",
       "    <tr>\n",
       "      <th>13</th>\n",
       "      <td>David</td>\n",
       "      <td>Phone</td>\n",
       "    </tr>\n",
       "    <tr>\n",
       "      <th>14</th>\n",
       "      <td>Emma</td>\n",
       "      <td>Tablet</td>\n",
       "    </tr>\n",
       "    <tr>\n",
       "      <th>15</th>\n",
       "      <td>Alice</td>\n",
       "      <td>Shoes</td>\n",
       "    </tr>\n",
       "    <tr>\n",
       "      <th>16</th>\n",
       "      <td>Bob</td>\n",
       "      <td>T-Shirt</td>\n",
       "    </tr>\n",
       "    <tr>\n",
       "      <th>17</th>\n",
       "      <td>Charlie</td>\n",
       "      <td>Laptop</td>\n",
       "    </tr>\n",
       "    <tr>\n",
       "      <th>18</th>\n",
       "      <td>David</td>\n",
       "      <td>Phone</td>\n",
       "    </tr>\n",
       "    <tr>\n",
       "      <th>19</th>\n",
       "      <td>Emma</td>\n",
       "      <td>Tablet</td>\n",
       "    </tr>\n",
       "  </tbody>\n",
       "</table>\n",
       "</div>"
      ]
     },
     "execution_count": 50,
     "metadata": {},
     "output_type": "execute_result"
    }
   ],
   "execution_count": 50
  },
  {
   "metadata": {
    "ExecuteTime": {
     "end_time": "2025-03-17T09:58:54.376188Z",
     "start_time": "2025-03-17T09:58:54.370260Z"
    }
   },
   "cell_type": "code",
   "source": "df.iloc[3 , 1 ]",
   "id": "8ddadc3e51cd0b70",
   "outputs": [
    {
     "data": {
      "text/plain": [
       "'David'"
      ]
     },
     "execution_count": 56,
     "metadata": {},
     "output_type": "execute_result"
    }
   ],
   "execution_count": 56
  },
  {
   "metadata": {
    "ExecuteTime": {
     "end_time": "2025-03-17T09:59:45.430167Z",
     "start_time": "2025-03-17T09:59:45.421873Z"
    }
   },
   "cell_type": "code",
   "source": "df.loc[3:, ['Customer', 'Product']]",
   "id": "5bf43cb1e41c8659",
   "outputs": [
    {
     "data": {
      "text/plain": [
       "   Customer  Product\n",
       "3     David    Shoes\n",
       "4      Emma  T-Shirt\n",
       "5     Alice    Phone\n",
       "6       Bob   Tablet\n",
       "7   Charlie   Laptop\n",
       "8     David    Shoes\n",
       "9      Emma  T-Shirt\n",
       "10    Alice   Laptop\n",
       "11      Bob    Shoes\n",
       "12  Charlie  T-Shirt\n",
       "13    David    Phone\n",
       "14     Emma   Tablet\n",
       "15    Alice    Shoes\n",
       "16      Bob  T-Shirt\n",
       "17  Charlie   Laptop\n",
       "18    David    Phone\n",
       "19     Emma   Tablet"
      ],
      "text/html": [
       "<div>\n",
       "<style scoped>\n",
       "    .dataframe tbody tr th:only-of-type {\n",
       "        vertical-align: middle;\n",
       "    }\n",
       "\n",
       "    .dataframe tbody tr th {\n",
       "        vertical-align: top;\n",
       "    }\n",
       "\n",
       "    .dataframe thead th {\n",
       "        text-align: right;\n",
       "    }\n",
       "</style>\n",
       "<table border=\"1\" class=\"dataframe\">\n",
       "  <thead>\n",
       "    <tr style=\"text-align: right;\">\n",
       "      <th></th>\n",
       "      <th>Customer</th>\n",
       "      <th>Product</th>\n",
       "    </tr>\n",
       "  </thead>\n",
       "  <tbody>\n",
       "    <tr>\n",
       "      <th>3</th>\n",
       "      <td>David</td>\n",
       "      <td>Shoes</td>\n",
       "    </tr>\n",
       "    <tr>\n",
       "      <th>4</th>\n",
       "      <td>Emma</td>\n",
       "      <td>T-Shirt</td>\n",
       "    </tr>\n",
       "    <tr>\n",
       "      <th>5</th>\n",
       "      <td>Alice</td>\n",
       "      <td>Phone</td>\n",
       "    </tr>\n",
       "    <tr>\n",
       "      <th>6</th>\n",
       "      <td>Bob</td>\n",
       "      <td>Tablet</td>\n",
       "    </tr>\n",
       "    <tr>\n",
       "      <th>7</th>\n",
       "      <td>Charlie</td>\n",
       "      <td>Laptop</td>\n",
       "    </tr>\n",
       "    <tr>\n",
       "      <th>8</th>\n",
       "      <td>David</td>\n",
       "      <td>Shoes</td>\n",
       "    </tr>\n",
       "    <tr>\n",
       "      <th>9</th>\n",
       "      <td>Emma</td>\n",
       "      <td>T-Shirt</td>\n",
       "    </tr>\n",
       "    <tr>\n",
       "      <th>10</th>\n",
       "      <td>Alice</td>\n",
       "      <td>Laptop</td>\n",
       "    </tr>\n",
       "    <tr>\n",
       "      <th>11</th>\n",
       "      <td>Bob</td>\n",
       "      <td>Shoes</td>\n",
       "    </tr>\n",
       "    <tr>\n",
       "      <th>12</th>\n",
       "      <td>Charlie</td>\n",
       "      <td>T-Shirt</td>\n",
       "    </tr>\n",
       "    <tr>\n",
       "      <th>13</th>\n",
       "      <td>David</td>\n",
       "      <td>Phone</td>\n",
       "    </tr>\n",
       "    <tr>\n",
       "      <th>14</th>\n",
       "      <td>Emma</td>\n",
       "      <td>Tablet</td>\n",
       "    </tr>\n",
       "    <tr>\n",
       "      <th>15</th>\n",
       "      <td>Alice</td>\n",
       "      <td>Shoes</td>\n",
       "    </tr>\n",
       "    <tr>\n",
       "      <th>16</th>\n",
       "      <td>Bob</td>\n",
       "      <td>T-Shirt</td>\n",
       "    </tr>\n",
       "    <tr>\n",
       "      <th>17</th>\n",
       "      <td>Charlie</td>\n",
       "      <td>Laptop</td>\n",
       "    </tr>\n",
       "    <tr>\n",
       "      <th>18</th>\n",
       "      <td>David</td>\n",
       "      <td>Phone</td>\n",
       "    </tr>\n",
       "    <tr>\n",
       "      <th>19</th>\n",
       "      <td>Emma</td>\n",
       "      <td>Tablet</td>\n",
       "    </tr>\n",
       "  </tbody>\n",
       "</table>\n",
       "</div>"
      ]
     },
     "execution_count": 59,
     "metadata": {},
     "output_type": "execute_result"
    }
   ],
   "execution_count": 59
  },
  {
   "metadata": {
    "ExecuteTime": {
     "end_time": "2025-03-17T10:12:11.056109Z",
     "start_time": "2025-03-17T10:12:11.049283Z"
    }
   },
   "cell_type": "code",
   "source": "df.head()",
   "id": "b8024a9ba51bb243",
   "outputs": [
    {
     "data": {
      "text/plain": [
       "   TransactionID Customer  Product     Category  Quantity  Price\n",
       "0              1    Alice   Laptop  Electronics         1   1000\n",
       "1              2      Bob    Phone  Electronics         2    500\n",
       "2              3  Charlie   Tablet  Electronics         1    300\n",
       "3              4    David    Shoes      Fashion         3     50\n",
       "4              5     Emma  T-Shirt      Fashion         2     20"
      ],
      "text/html": [
       "<div>\n",
       "<style scoped>\n",
       "    .dataframe tbody tr th:only-of-type {\n",
       "        vertical-align: middle;\n",
       "    }\n",
       "\n",
       "    .dataframe tbody tr th {\n",
       "        vertical-align: top;\n",
       "    }\n",
       "\n",
       "    .dataframe thead th {\n",
       "        text-align: right;\n",
       "    }\n",
       "</style>\n",
       "<table border=\"1\" class=\"dataframe\">\n",
       "  <thead>\n",
       "    <tr style=\"text-align: right;\">\n",
       "      <th></th>\n",
       "      <th>TransactionID</th>\n",
       "      <th>Customer</th>\n",
       "      <th>Product</th>\n",
       "      <th>Category</th>\n",
       "      <th>Quantity</th>\n",
       "      <th>Price</th>\n",
       "    </tr>\n",
       "  </thead>\n",
       "  <tbody>\n",
       "    <tr>\n",
       "      <th>0</th>\n",
       "      <td>1</td>\n",
       "      <td>Alice</td>\n",
       "      <td>Laptop</td>\n",
       "      <td>Electronics</td>\n",
       "      <td>1</td>\n",
       "      <td>1000</td>\n",
       "    </tr>\n",
       "    <tr>\n",
       "      <th>1</th>\n",
       "      <td>2</td>\n",
       "      <td>Bob</td>\n",
       "      <td>Phone</td>\n",
       "      <td>Electronics</td>\n",
       "      <td>2</td>\n",
       "      <td>500</td>\n",
       "    </tr>\n",
       "    <tr>\n",
       "      <th>2</th>\n",
       "      <td>3</td>\n",
       "      <td>Charlie</td>\n",
       "      <td>Tablet</td>\n",
       "      <td>Electronics</td>\n",
       "      <td>1</td>\n",
       "      <td>300</td>\n",
       "    </tr>\n",
       "    <tr>\n",
       "      <th>3</th>\n",
       "      <td>4</td>\n",
       "      <td>David</td>\n",
       "      <td>Shoes</td>\n",
       "      <td>Fashion</td>\n",
       "      <td>3</td>\n",
       "      <td>50</td>\n",
       "    </tr>\n",
       "    <tr>\n",
       "      <th>4</th>\n",
       "      <td>5</td>\n",
       "      <td>Emma</td>\n",
       "      <td>T-Shirt</td>\n",
       "      <td>Fashion</td>\n",
       "      <td>2</td>\n",
       "      <td>20</td>\n",
       "    </tr>\n",
       "  </tbody>\n",
       "</table>\n",
       "</div>"
      ]
     },
     "execution_count": 63,
     "metadata": {},
     "output_type": "execute_result"
    }
   ],
   "execution_count": 63
  },
  {
   "metadata": {
    "ExecuteTime": {
     "end_time": "2025-03-17T10:12:45.899706Z",
     "start_time": "2025-03-17T10:12:45.892833Z"
    }
   },
   "cell_type": "code",
   "source": "df[['TransactionID', 'Customer']]",
   "id": "121109b943f3b34",
   "outputs": [
    {
     "data": {
      "text/plain": [
       "    TransactionID Customer\n",
       "0               1    Alice\n",
       "1               2      Bob\n",
       "2               3  Charlie\n",
       "3               4    David\n",
       "4               5     Emma\n",
       "5               6    Alice\n",
       "6               7      Bob\n",
       "7               8  Charlie\n",
       "8               9    David\n",
       "9              10     Emma\n",
       "10             11    Alice\n",
       "11             12      Bob\n",
       "12             13  Charlie\n",
       "13             14    David\n",
       "14             15     Emma\n",
       "15             16    Alice\n",
       "16             17      Bob\n",
       "17             18  Charlie\n",
       "18             19    David\n",
       "19             20     Emma"
      ],
      "text/html": [
       "<div>\n",
       "<style scoped>\n",
       "    .dataframe tbody tr th:only-of-type {\n",
       "        vertical-align: middle;\n",
       "    }\n",
       "\n",
       "    .dataframe tbody tr th {\n",
       "        vertical-align: top;\n",
       "    }\n",
       "\n",
       "    .dataframe thead th {\n",
       "        text-align: right;\n",
       "    }\n",
       "</style>\n",
       "<table border=\"1\" class=\"dataframe\">\n",
       "  <thead>\n",
       "    <tr style=\"text-align: right;\">\n",
       "      <th></th>\n",
       "      <th>TransactionID</th>\n",
       "      <th>Customer</th>\n",
       "    </tr>\n",
       "  </thead>\n",
       "  <tbody>\n",
       "    <tr>\n",
       "      <th>0</th>\n",
       "      <td>1</td>\n",
       "      <td>Alice</td>\n",
       "    </tr>\n",
       "    <tr>\n",
       "      <th>1</th>\n",
       "      <td>2</td>\n",
       "      <td>Bob</td>\n",
       "    </tr>\n",
       "    <tr>\n",
       "      <th>2</th>\n",
       "      <td>3</td>\n",
       "      <td>Charlie</td>\n",
       "    </tr>\n",
       "    <tr>\n",
       "      <th>3</th>\n",
       "      <td>4</td>\n",
       "      <td>David</td>\n",
       "    </tr>\n",
       "    <tr>\n",
       "      <th>4</th>\n",
       "      <td>5</td>\n",
       "      <td>Emma</td>\n",
       "    </tr>\n",
       "    <tr>\n",
       "      <th>5</th>\n",
       "      <td>6</td>\n",
       "      <td>Alice</td>\n",
       "    </tr>\n",
       "    <tr>\n",
       "      <th>6</th>\n",
       "      <td>7</td>\n",
       "      <td>Bob</td>\n",
       "    </tr>\n",
       "    <tr>\n",
       "      <th>7</th>\n",
       "      <td>8</td>\n",
       "      <td>Charlie</td>\n",
       "    </tr>\n",
       "    <tr>\n",
       "      <th>8</th>\n",
       "      <td>9</td>\n",
       "      <td>David</td>\n",
       "    </tr>\n",
       "    <tr>\n",
       "      <th>9</th>\n",
       "      <td>10</td>\n",
       "      <td>Emma</td>\n",
       "    </tr>\n",
       "    <tr>\n",
       "      <th>10</th>\n",
       "      <td>11</td>\n",
       "      <td>Alice</td>\n",
       "    </tr>\n",
       "    <tr>\n",
       "      <th>11</th>\n",
       "      <td>12</td>\n",
       "      <td>Bob</td>\n",
       "    </tr>\n",
       "    <tr>\n",
       "      <th>12</th>\n",
       "      <td>13</td>\n",
       "      <td>Charlie</td>\n",
       "    </tr>\n",
       "    <tr>\n",
       "      <th>13</th>\n",
       "      <td>14</td>\n",
       "      <td>David</td>\n",
       "    </tr>\n",
       "    <tr>\n",
       "      <th>14</th>\n",
       "      <td>15</td>\n",
       "      <td>Emma</td>\n",
       "    </tr>\n",
       "    <tr>\n",
       "      <th>15</th>\n",
       "      <td>16</td>\n",
       "      <td>Alice</td>\n",
       "    </tr>\n",
       "    <tr>\n",
       "      <th>16</th>\n",
       "      <td>17</td>\n",
       "      <td>Bob</td>\n",
       "    </tr>\n",
       "    <tr>\n",
       "      <th>17</th>\n",
       "      <td>18</td>\n",
       "      <td>Charlie</td>\n",
       "    </tr>\n",
       "    <tr>\n",
       "      <th>18</th>\n",
       "      <td>19</td>\n",
       "      <td>David</td>\n",
       "    </tr>\n",
       "    <tr>\n",
       "      <th>19</th>\n",
       "      <td>20</td>\n",
       "      <td>Emma</td>\n",
       "    </tr>\n",
       "  </tbody>\n",
       "</table>\n",
       "</div>"
      ]
     },
     "execution_count": 64,
     "metadata": {},
     "output_type": "execute_result"
    }
   ],
   "execution_count": 64
  },
  {
   "metadata": {
    "ExecuteTime": {
     "end_time": "2025-03-17T10:13:16.410591Z",
     "start_time": "2025-03-17T10:13:16.403595Z"
    }
   },
   "cell_type": "code",
   "source": "df.iloc[1]",
   "id": "e6cb5e8837fe2951",
   "outputs": [
    {
     "data": {
      "text/plain": [
       "TransactionID              2\n",
       "Customer                 Bob\n",
       "Product                Phone\n",
       "Category         Electronics\n",
       "Quantity                   2\n",
       "Price                    500\n",
       "Name: 1, dtype: object"
      ]
     },
     "execution_count": 65,
     "metadata": {},
     "output_type": "execute_result"
    }
   ],
   "execution_count": 65
  },
  {
   "metadata": {},
   "cell_type": "markdown",
   "source": [
    "## Adding and removing columns\n",
    "- df['new'] = ...\n",
    "- df.drop(axis=1)"
   ],
   "id": "93a908b2e93be27b"
  },
  {
   "metadata": {
    "ExecuteTime": {
     "end_time": "2025-03-17T10:14:09.331218Z",
     "start_time": "2025-03-17T10:14:09.324419Z"
    }
   },
   "cell_type": "code",
   "source": "df.head(2)",
   "id": "93bb42ed5237d0f",
   "outputs": [
    {
     "data": {
      "text/plain": [
       "   TransactionID Customer Product     Category  Quantity  Price\n",
       "0              1    Alice  Laptop  Electronics         1   1000\n",
       "1              2      Bob   Phone  Electronics         2    500"
      ],
      "text/html": [
       "<div>\n",
       "<style scoped>\n",
       "    .dataframe tbody tr th:only-of-type {\n",
       "        vertical-align: middle;\n",
       "    }\n",
       "\n",
       "    .dataframe tbody tr th {\n",
       "        vertical-align: top;\n",
       "    }\n",
       "\n",
       "    .dataframe thead th {\n",
       "        text-align: right;\n",
       "    }\n",
       "</style>\n",
       "<table border=\"1\" class=\"dataframe\">\n",
       "  <thead>\n",
       "    <tr style=\"text-align: right;\">\n",
       "      <th></th>\n",
       "      <th>TransactionID</th>\n",
       "      <th>Customer</th>\n",
       "      <th>Product</th>\n",
       "      <th>Category</th>\n",
       "      <th>Quantity</th>\n",
       "      <th>Price</th>\n",
       "    </tr>\n",
       "  </thead>\n",
       "  <tbody>\n",
       "    <tr>\n",
       "      <th>0</th>\n",
       "      <td>1</td>\n",
       "      <td>Alice</td>\n",
       "      <td>Laptop</td>\n",
       "      <td>Electronics</td>\n",
       "      <td>1</td>\n",
       "      <td>1000</td>\n",
       "    </tr>\n",
       "    <tr>\n",
       "      <th>1</th>\n",
       "      <td>2</td>\n",
       "      <td>Bob</td>\n",
       "      <td>Phone</td>\n",
       "      <td>Electronics</td>\n",
       "      <td>2</td>\n",
       "      <td>500</td>\n",
       "    </tr>\n",
       "  </tbody>\n",
       "</table>\n",
       "</div>"
      ]
     },
     "execution_count": 66,
     "metadata": {},
     "output_type": "execute_result"
    }
   ],
   "execution_count": 66
  },
  {
   "metadata": {
    "ExecuteTime": {
     "end_time": "2025-03-17T10:15:39.875651Z",
     "start_time": "2025-03-17T10:15:39.869622Z"
    }
   },
   "cell_type": "code",
   "source": "df['Total'] = df['Quantity'] * df['Price']",
   "id": "85a9ebad841d5291",
   "outputs": [],
   "execution_count": 67
  },
  {
   "metadata": {
    "ExecuteTime": {
     "end_time": "2025-03-17T10:15:54.322141Z",
     "start_time": "2025-03-17T10:15:54.315087Z"
    }
   },
   "cell_type": "code",
   "source": "df.head()",
   "id": "7eae37ae3956438e",
   "outputs": [
    {
     "data": {
      "text/plain": [
       "   TransactionID Customer  Product     Category  Quantity  Price  Total\n",
       "0              1    Alice   Laptop  Electronics         1   1000   1000\n",
       "1              2      Bob    Phone  Electronics         2    500   1000\n",
       "2              3  Charlie   Tablet  Electronics         1    300    300\n",
       "3              4    David    Shoes      Fashion         3     50    150\n",
       "4              5     Emma  T-Shirt      Fashion         2     20     40"
      ],
      "text/html": [
       "<div>\n",
       "<style scoped>\n",
       "    .dataframe tbody tr th:only-of-type {\n",
       "        vertical-align: middle;\n",
       "    }\n",
       "\n",
       "    .dataframe tbody tr th {\n",
       "        vertical-align: top;\n",
       "    }\n",
       "\n",
       "    .dataframe thead th {\n",
       "        text-align: right;\n",
       "    }\n",
       "</style>\n",
       "<table border=\"1\" class=\"dataframe\">\n",
       "  <thead>\n",
       "    <tr style=\"text-align: right;\">\n",
       "      <th></th>\n",
       "      <th>TransactionID</th>\n",
       "      <th>Customer</th>\n",
       "      <th>Product</th>\n",
       "      <th>Category</th>\n",
       "      <th>Quantity</th>\n",
       "      <th>Price</th>\n",
       "      <th>Total</th>\n",
       "    </tr>\n",
       "  </thead>\n",
       "  <tbody>\n",
       "    <tr>\n",
       "      <th>0</th>\n",
       "      <td>1</td>\n",
       "      <td>Alice</td>\n",
       "      <td>Laptop</td>\n",
       "      <td>Electronics</td>\n",
       "      <td>1</td>\n",
       "      <td>1000</td>\n",
       "      <td>1000</td>\n",
       "    </tr>\n",
       "    <tr>\n",
       "      <th>1</th>\n",
       "      <td>2</td>\n",
       "      <td>Bob</td>\n",
       "      <td>Phone</td>\n",
       "      <td>Electronics</td>\n",
       "      <td>2</td>\n",
       "      <td>500</td>\n",
       "      <td>1000</td>\n",
       "    </tr>\n",
       "    <tr>\n",
       "      <th>2</th>\n",
       "      <td>3</td>\n",
       "      <td>Charlie</td>\n",
       "      <td>Tablet</td>\n",
       "      <td>Electronics</td>\n",
       "      <td>1</td>\n",
       "      <td>300</td>\n",
       "      <td>300</td>\n",
       "    </tr>\n",
       "    <tr>\n",
       "      <th>3</th>\n",
       "      <td>4</td>\n",
       "      <td>David</td>\n",
       "      <td>Shoes</td>\n",
       "      <td>Fashion</td>\n",
       "      <td>3</td>\n",
       "      <td>50</td>\n",
       "      <td>150</td>\n",
       "    </tr>\n",
       "    <tr>\n",
       "      <th>4</th>\n",
       "      <td>5</td>\n",
       "      <td>Emma</td>\n",
       "      <td>T-Shirt</td>\n",
       "      <td>Fashion</td>\n",
       "      <td>2</td>\n",
       "      <td>20</td>\n",
       "      <td>40</td>\n",
       "    </tr>\n",
       "  </tbody>\n",
       "</table>\n",
       "</div>"
      ]
     },
     "execution_count": 68,
     "metadata": {},
     "output_type": "execute_result"
    }
   ],
   "execution_count": 68
  },
  {
   "metadata": {
    "ExecuteTime": {
     "end_time": "2025-03-17T10:18:54.377393Z",
     "start_time": "2025-03-17T10:18:54.365950Z"
    }
   },
   "cell_type": "code",
   "source": "df.drop('Total', axis = 1, inplace=False)",
   "id": "43a2eb63bdafcd61",
   "outputs": [
    {
     "data": {
      "text/plain": [
       "    TransactionID Customer  Product     Category  Quantity  Price\n",
       "0               1    Alice   Laptop  Electronics         1   1000\n",
       "1               2      Bob    Phone  Electronics         2    500\n",
       "2               3  Charlie   Tablet  Electronics         1    300\n",
       "3               4    David    Shoes      Fashion         3     50\n",
       "4               5     Emma  T-Shirt      Fashion         2     20\n",
       "5               6    Alice    Phone  Electronics         1    500\n",
       "6               7      Bob   Tablet  Electronics         2    300\n",
       "7               8  Charlie   Laptop  Electronics         3   1000\n",
       "8               9    David    Shoes      Fashion         1     50\n",
       "9              10     Emma  T-Shirt      Fashion         2     20\n",
       "10             11    Alice   Laptop  Electronics         1   1000\n",
       "11             12      Bob    Shoes      Fashion         2     50\n",
       "12             13  Charlie  T-Shirt      Fashion         3     20\n",
       "13             14    David    Phone  Electronics         2    500\n",
       "14             15     Emma   Tablet  Electronics         1    300\n",
       "15             16    Alice    Shoes      Fashion         3     50\n",
       "16             17      Bob  T-Shirt      Fashion         2     20\n",
       "17             18  Charlie   Laptop  Electronics         1   1000\n",
       "18             19    David    Phone  Electronics         2    500\n",
       "19             20     Emma   Tablet  Electronics         3    300"
      ],
      "text/html": [
       "<div>\n",
       "<style scoped>\n",
       "    .dataframe tbody tr th:only-of-type {\n",
       "        vertical-align: middle;\n",
       "    }\n",
       "\n",
       "    .dataframe tbody tr th {\n",
       "        vertical-align: top;\n",
       "    }\n",
       "\n",
       "    .dataframe thead th {\n",
       "        text-align: right;\n",
       "    }\n",
       "</style>\n",
       "<table border=\"1\" class=\"dataframe\">\n",
       "  <thead>\n",
       "    <tr style=\"text-align: right;\">\n",
       "      <th></th>\n",
       "      <th>TransactionID</th>\n",
       "      <th>Customer</th>\n",
       "      <th>Product</th>\n",
       "      <th>Category</th>\n",
       "      <th>Quantity</th>\n",
       "      <th>Price</th>\n",
       "    </tr>\n",
       "  </thead>\n",
       "  <tbody>\n",
       "    <tr>\n",
       "      <th>0</th>\n",
       "      <td>1</td>\n",
       "      <td>Alice</td>\n",
       "      <td>Laptop</td>\n",
       "      <td>Electronics</td>\n",
       "      <td>1</td>\n",
       "      <td>1000</td>\n",
       "    </tr>\n",
       "    <tr>\n",
       "      <th>1</th>\n",
       "      <td>2</td>\n",
       "      <td>Bob</td>\n",
       "      <td>Phone</td>\n",
       "      <td>Electronics</td>\n",
       "      <td>2</td>\n",
       "      <td>500</td>\n",
       "    </tr>\n",
       "    <tr>\n",
       "      <th>2</th>\n",
       "      <td>3</td>\n",
       "      <td>Charlie</td>\n",
       "      <td>Tablet</td>\n",
       "      <td>Electronics</td>\n",
       "      <td>1</td>\n",
       "      <td>300</td>\n",
       "    </tr>\n",
       "    <tr>\n",
       "      <th>3</th>\n",
       "      <td>4</td>\n",
       "      <td>David</td>\n",
       "      <td>Shoes</td>\n",
       "      <td>Fashion</td>\n",
       "      <td>3</td>\n",
       "      <td>50</td>\n",
       "    </tr>\n",
       "    <tr>\n",
       "      <th>4</th>\n",
       "      <td>5</td>\n",
       "      <td>Emma</td>\n",
       "      <td>T-Shirt</td>\n",
       "      <td>Fashion</td>\n",
       "      <td>2</td>\n",
       "      <td>20</td>\n",
       "    </tr>\n",
       "    <tr>\n",
       "      <th>5</th>\n",
       "      <td>6</td>\n",
       "      <td>Alice</td>\n",
       "      <td>Phone</td>\n",
       "      <td>Electronics</td>\n",
       "      <td>1</td>\n",
       "      <td>500</td>\n",
       "    </tr>\n",
       "    <tr>\n",
       "      <th>6</th>\n",
       "      <td>7</td>\n",
       "      <td>Bob</td>\n",
       "      <td>Tablet</td>\n",
       "      <td>Electronics</td>\n",
       "      <td>2</td>\n",
       "      <td>300</td>\n",
       "    </tr>\n",
       "    <tr>\n",
       "      <th>7</th>\n",
       "      <td>8</td>\n",
       "      <td>Charlie</td>\n",
       "      <td>Laptop</td>\n",
       "      <td>Electronics</td>\n",
       "      <td>3</td>\n",
       "      <td>1000</td>\n",
       "    </tr>\n",
       "    <tr>\n",
       "      <th>8</th>\n",
       "      <td>9</td>\n",
       "      <td>David</td>\n",
       "      <td>Shoes</td>\n",
       "      <td>Fashion</td>\n",
       "      <td>1</td>\n",
       "      <td>50</td>\n",
       "    </tr>\n",
       "    <tr>\n",
       "      <th>9</th>\n",
       "      <td>10</td>\n",
       "      <td>Emma</td>\n",
       "      <td>T-Shirt</td>\n",
       "      <td>Fashion</td>\n",
       "      <td>2</td>\n",
       "      <td>20</td>\n",
       "    </tr>\n",
       "    <tr>\n",
       "      <th>10</th>\n",
       "      <td>11</td>\n",
       "      <td>Alice</td>\n",
       "      <td>Laptop</td>\n",
       "      <td>Electronics</td>\n",
       "      <td>1</td>\n",
       "      <td>1000</td>\n",
       "    </tr>\n",
       "    <tr>\n",
       "      <th>11</th>\n",
       "      <td>12</td>\n",
       "      <td>Bob</td>\n",
       "      <td>Shoes</td>\n",
       "      <td>Fashion</td>\n",
       "      <td>2</td>\n",
       "      <td>50</td>\n",
       "    </tr>\n",
       "    <tr>\n",
       "      <th>12</th>\n",
       "      <td>13</td>\n",
       "      <td>Charlie</td>\n",
       "      <td>T-Shirt</td>\n",
       "      <td>Fashion</td>\n",
       "      <td>3</td>\n",
       "      <td>20</td>\n",
       "    </tr>\n",
       "    <tr>\n",
       "      <th>13</th>\n",
       "      <td>14</td>\n",
       "      <td>David</td>\n",
       "      <td>Phone</td>\n",
       "      <td>Electronics</td>\n",
       "      <td>2</td>\n",
       "      <td>500</td>\n",
       "    </tr>\n",
       "    <tr>\n",
       "      <th>14</th>\n",
       "      <td>15</td>\n",
       "      <td>Emma</td>\n",
       "      <td>Tablet</td>\n",
       "      <td>Electronics</td>\n",
       "      <td>1</td>\n",
       "      <td>300</td>\n",
       "    </tr>\n",
       "    <tr>\n",
       "      <th>15</th>\n",
       "      <td>16</td>\n",
       "      <td>Alice</td>\n",
       "      <td>Shoes</td>\n",
       "      <td>Fashion</td>\n",
       "      <td>3</td>\n",
       "      <td>50</td>\n",
       "    </tr>\n",
       "    <tr>\n",
       "      <th>16</th>\n",
       "      <td>17</td>\n",
       "      <td>Bob</td>\n",
       "      <td>T-Shirt</td>\n",
       "      <td>Fashion</td>\n",
       "      <td>2</td>\n",
       "      <td>20</td>\n",
       "    </tr>\n",
       "    <tr>\n",
       "      <th>17</th>\n",
       "      <td>18</td>\n",
       "      <td>Charlie</td>\n",
       "      <td>Laptop</td>\n",
       "      <td>Electronics</td>\n",
       "      <td>1</td>\n",
       "      <td>1000</td>\n",
       "    </tr>\n",
       "    <tr>\n",
       "      <th>18</th>\n",
       "      <td>19</td>\n",
       "      <td>David</td>\n",
       "      <td>Phone</td>\n",
       "      <td>Electronics</td>\n",
       "      <td>2</td>\n",
       "      <td>500</td>\n",
       "    </tr>\n",
       "    <tr>\n",
       "      <th>19</th>\n",
       "      <td>20</td>\n",
       "      <td>Emma</td>\n",
       "      <td>Tablet</td>\n",
       "      <td>Electronics</td>\n",
       "      <td>3</td>\n",
       "      <td>300</td>\n",
       "    </tr>\n",
       "  </tbody>\n",
       "</table>\n",
       "</div>"
      ]
     },
     "execution_count": 72,
     "metadata": {},
     "output_type": "execute_result"
    }
   ],
   "execution_count": 72
  },
  {
   "metadata": {},
   "cell_type": "markdown",
   "source": [
    "## Adding and Removing Rows\n",
    "- df.append(new_row, ignore_index=True)\n",
    "- df.drop(axis=0)"
   ],
   "id": "86e86c1a95e0b92b"
  },
  {
   "metadata": {
    "ExecuteTime": {
     "end_time": "2025-03-17T10:20:20.493438Z",
     "start_time": "2025-03-17T10:20:20.487244Z"
    }
   },
   "cell_type": "code",
   "source": "list(df.columns)",
   "id": "db0c5d317b4dca4f",
   "outputs": [
    {
     "data": {
      "text/plain": [
       "['TransactionID',\n",
       " 'Customer',\n",
       " 'Product',\n",
       " 'Category',\n",
       " 'Quantity',\n",
       " 'Price',\n",
       " 'Total']"
      ]
     },
     "execution_count": 74,
     "metadata": {},
     "output_type": "execute_result"
    }
   ],
   "execution_count": 74
  },
  {
   "metadata": {
    "ExecuteTime": {
     "end_time": "2025-03-17T10:26:00.904199Z",
     "start_time": "2025-03-17T10:26:00.898333Z"
    }
   },
   "cell_type": "code",
   "source": [
    "new_row ={}\n",
    "new_row['TransactionID'] = 10\n",
    "new_row['Customer'] = 'Gezim'\n",
    "new_row['Product'] = 'Mouse'\n",
    "new_row['Category'] = 'Electronics'\n",
    "new_row['Quantity'] = 1\n",
    "new_row['Price'] = 70\n",
    "new_row['Total'] = 70\n"
   ],
   "id": "5609f85bd3527992",
   "outputs": [],
   "execution_count": 87
  },
  {
   "metadata": {
    "ExecuteTime": {
     "end_time": "2025-03-17T10:26:05.828474Z",
     "start_time": "2025-03-17T10:26:05.823700Z"
    }
   },
   "cell_type": "code",
   "source": "new_row",
   "id": "e254fb22261610ee",
   "outputs": [
    {
     "data": {
      "text/plain": [
       "{'TransactionID': 10,\n",
       " 'Customer': 'Gezim',\n",
       " 'Product': 'Mouse',\n",
       " 'Category': 'Electronics',\n",
       " 'Quantity': 1,\n",
       " 'Price': 70,\n",
       " 'Total': 70}"
      ]
     },
     "execution_count": 88,
     "metadata": {},
     "output_type": "execute_result"
    }
   ],
   "execution_count": 88
  },
  {
   "metadata": {
    "ExecuteTime": {
     "end_time": "2025-03-17T10:24:44.017623Z",
     "start_time": "2025-03-17T10:24:44.012188Z"
    }
   },
   "cell_type": "code",
   "source": "new_row",
   "id": "99fe26f10b2824ae",
   "outputs": [
    {
     "data": {
      "text/plain": [
       "{'TransactionID': None,\n",
       " 'Customer': None,\n",
       " 'Product': None,\n",
       " 'Category': None,\n",
       " 'Quantity': None,\n",
       " 'Price': None,\n",
       " 'Total': None}"
      ]
     },
     "execution_count": 85,
     "metadata": {},
     "output_type": "execute_result"
    }
   ],
   "execution_count": 85
  },
  {
   "metadata": {
    "ExecuteTime": {
     "end_time": "2025-03-17T10:27:12.158632Z",
     "start_time": "2025-03-17T10:27:12.154526Z"
    }
   },
   "cell_type": "code",
   "source": "print(new_row)",
   "id": "a25b756e4db394ee",
   "outputs": [
    {
     "name": "stdout",
     "output_type": "stream",
     "text": [
      "{'TransactionID': 10, 'Customer': 'Gezim', 'Product': 'Mouse', 'Category': 'Electronics', 'Quantity': 1, 'Price': 70, 'Total': 70}\n"
     ]
    }
   ],
   "execution_count": 89
  },
  {
   "metadata": {
    "ExecuteTime": {
     "end_time": "2025-03-17T10:28:26.908572Z",
     "start_time": "2025-03-17T10:28:26.899325Z"
    }
   },
   "cell_type": "code",
   "source": "df._append(new_row, ignore_index=True)",
   "id": "17e33a04b91b06b6",
   "outputs": [
    {
     "data": {
      "text/plain": [
       "    TransactionID Customer  Product     Category  Quantity  Price  Total\n",
       "0               1    Alice   Laptop  Electronics         1   1000   1000\n",
       "1               2      Bob    Phone  Electronics         2    500   1000\n",
       "2               3  Charlie   Tablet  Electronics         1    300    300\n",
       "3               4    David    Shoes      Fashion         3     50    150\n",
       "4               5     Emma  T-Shirt      Fashion         2     20     40\n",
       "5               6    Alice    Phone  Electronics         1    500    500\n",
       "6               7      Bob   Tablet  Electronics         2    300    600\n",
       "7               8  Charlie   Laptop  Electronics         3   1000   3000\n",
       "8               9    David    Shoes      Fashion         1     50     50\n",
       "9              10     Emma  T-Shirt      Fashion         2     20     40\n",
       "10             11    Alice   Laptop  Electronics         1   1000   1000\n",
       "11             12      Bob    Shoes      Fashion         2     50    100\n",
       "12             13  Charlie  T-Shirt      Fashion         3     20     60\n",
       "13             14    David    Phone  Electronics         2    500   1000\n",
       "14             15     Emma   Tablet  Electronics         1    300    300\n",
       "15             16    Alice    Shoes      Fashion         3     50    150\n",
       "16             17      Bob  T-Shirt      Fashion         2     20     40\n",
       "17             18  Charlie   Laptop  Electronics         1   1000   1000\n",
       "18             19    David    Phone  Electronics         2    500   1000\n",
       "19             20     Emma   Tablet  Electronics         3    300    900\n",
       "20             10    Gezim    Mouse  Electronics         1     70     70"
      ],
      "text/html": [
       "<div>\n",
       "<style scoped>\n",
       "    .dataframe tbody tr th:only-of-type {\n",
       "        vertical-align: middle;\n",
       "    }\n",
       "\n",
       "    .dataframe tbody tr th {\n",
       "        vertical-align: top;\n",
       "    }\n",
       "\n",
       "    .dataframe thead th {\n",
       "        text-align: right;\n",
       "    }\n",
       "</style>\n",
       "<table border=\"1\" class=\"dataframe\">\n",
       "  <thead>\n",
       "    <tr style=\"text-align: right;\">\n",
       "      <th></th>\n",
       "      <th>TransactionID</th>\n",
       "      <th>Customer</th>\n",
       "      <th>Product</th>\n",
       "      <th>Category</th>\n",
       "      <th>Quantity</th>\n",
       "      <th>Price</th>\n",
       "      <th>Total</th>\n",
       "    </tr>\n",
       "  </thead>\n",
       "  <tbody>\n",
       "    <tr>\n",
       "      <th>0</th>\n",
       "      <td>1</td>\n",
       "      <td>Alice</td>\n",
       "      <td>Laptop</td>\n",
       "      <td>Electronics</td>\n",
       "      <td>1</td>\n",
       "      <td>1000</td>\n",
       "      <td>1000</td>\n",
       "    </tr>\n",
       "    <tr>\n",
       "      <th>1</th>\n",
       "      <td>2</td>\n",
       "      <td>Bob</td>\n",
       "      <td>Phone</td>\n",
       "      <td>Electronics</td>\n",
       "      <td>2</td>\n",
       "      <td>500</td>\n",
       "      <td>1000</td>\n",
       "    </tr>\n",
       "    <tr>\n",
       "      <th>2</th>\n",
       "      <td>3</td>\n",
       "      <td>Charlie</td>\n",
       "      <td>Tablet</td>\n",
       "      <td>Electronics</td>\n",
       "      <td>1</td>\n",
       "      <td>300</td>\n",
       "      <td>300</td>\n",
       "    </tr>\n",
       "    <tr>\n",
       "      <th>3</th>\n",
       "      <td>4</td>\n",
       "      <td>David</td>\n",
       "      <td>Shoes</td>\n",
       "      <td>Fashion</td>\n",
       "      <td>3</td>\n",
       "      <td>50</td>\n",
       "      <td>150</td>\n",
       "    </tr>\n",
       "    <tr>\n",
       "      <th>4</th>\n",
       "      <td>5</td>\n",
       "      <td>Emma</td>\n",
       "      <td>T-Shirt</td>\n",
       "      <td>Fashion</td>\n",
       "      <td>2</td>\n",
       "      <td>20</td>\n",
       "      <td>40</td>\n",
       "    </tr>\n",
       "    <tr>\n",
       "      <th>5</th>\n",
       "      <td>6</td>\n",
       "      <td>Alice</td>\n",
       "      <td>Phone</td>\n",
       "      <td>Electronics</td>\n",
       "      <td>1</td>\n",
       "      <td>500</td>\n",
       "      <td>500</td>\n",
       "    </tr>\n",
       "    <tr>\n",
       "      <th>6</th>\n",
       "      <td>7</td>\n",
       "      <td>Bob</td>\n",
       "      <td>Tablet</td>\n",
       "      <td>Electronics</td>\n",
       "      <td>2</td>\n",
       "      <td>300</td>\n",
       "      <td>600</td>\n",
       "    </tr>\n",
       "    <tr>\n",
       "      <th>7</th>\n",
       "      <td>8</td>\n",
       "      <td>Charlie</td>\n",
       "      <td>Laptop</td>\n",
       "      <td>Electronics</td>\n",
       "      <td>3</td>\n",
       "      <td>1000</td>\n",
       "      <td>3000</td>\n",
       "    </tr>\n",
       "    <tr>\n",
       "      <th>8</th>\n",
       "      <td>9</td>\n",
       "      <td>David</td>\n",
       "      <td>Shoes</td>\n",
       "      <td>Fashion</td>\n",
       "      <td>1</td>\n",
       "      <td>50</td>\n",
       "      <td>50</td>\n",
       "    </tr>\n",
       "    <tr>\n",
       "      <th>9</th>\n",
       "      <td>10</td>\n",
       "      <td>Emma</td>\n",
       "      <td>T-Shirt</td>\n",
       "      <td>Fashion</td>\n",
       "      <td>2</td>\n",
       "      <td>20</td>\n",
       "      <td>40</td>\n",
       "    </tr>\n",
       "    <tr>\n",
       "      <th>10</th>\n",
       "      <td>11</td>\n",
       "      <td>Alice</td>\n",
       "      <td>Laptop</td>\n",
       "      <td>Electronics</td>\n",
       "      <td>1</td>\n",
       "      <td>1000</td>\n",
       "      <td>1000</td>\n",
       "    </tr>\n",
       "    <tr>\n",
       "      <th>11</th>\n",
       "      <td>12</td>\n",
       "      <td>Bob</td>\n",
       "      <td>Shoes</td>\n",
       "      <td>Fashion</td>\n",
       "      <td>2</td>\n",
       "      <td>50</td>\n",
       "      <td>100</td>\n",
       "    </tr>\n",
       "    <tr>\n",
       "      <th>12</th>\n",
       "      <td>13</td>\n",
       "      <td>Charlie</td>\n",
       "      <td>T-Shirt</td>\n",
       "      <td>Fashion</td>\n",
       "      <td>3</td>\n",
       "      <td>20</td>\n",
       "      <td>60</td>\n",
       "    </tr>\n",
       "    <tr>\n",
       "      <th>13</th>\n",
       "      <td>14</td>\n",
       "      <td>David</td>\n",
       "      <td>Phone</td>\n",
       "      <td>Electronics</td>\n",
       "      <td>2</td>\n",
       "      <td>500</td>\n",
       "      <td>1000</td>\n",
       "    </tr>\n",
       "    <tr>\n",
       "      <th>14</th>\n",
       "      <td>15</td>\n",
       "      <td>Emma</td>\n",
       "      <td>Tablet</td>\n",
       "      <td>Electronics</td>\n",
       "      <td>1</td>\n",
       "      <td>300</td>\n",
       "      <td>300</td>\n",
       "    </tr>\n",
       "    <tr>\n",
       "      <th>15</th>\n",
       "      <td>16</td>\n",
       "      <td>Alice</td>\n",
       "      <td>Shoes</td>\n",
       "      <td>Fashion</td>\n",
       "      <td>3</td>\n",
       "      <td>50</td>\n",
       "      <td>150</td>\n",
       "    </tr>\n",
       "    <tr>\n",
       "      <th>16</th>\n",
       "      <td>17</td>\n",
       "      <td>Bob</td>\n",
       "      <td>T-Shirt</td>\n",
       "      <td>Fashion</td>\n",
       "      <td>2</td>\n",
       "      <td>20</td>\n",
       "      <td>40</td>\n",
       "    </tr>\n",
       "    <tr>\n",
       "      <th>17</th>\n",
       "      <td>18</td>\n",
       "      <td>Charlie</td>\n",
       "      <td>Laptop</td>\n",
       "      <td>Electronics</td>\n",
       "      <td>1</td>\n",
       "      <td>1000</td>\n",
       "      <td>1000</td>\n",
       "    </tr>\n",
       "    <tr>\n",
       "      <th>18</th>\n",
       "      <td>19</td>\n",
       "      <td>David</td>\n",
       "      <td>Phone</td>\n",
       "      <td>Electronics</td>\n",
       "      <td>2</td>\n",
       "      <td>500</td>\n",
       "      <td>1000</td>\n",
       "    </tr>\n",
       "    <tr>\n",
       "      <th>19</th>\n",
       "      <td>20</td>\n",
       "      <td>Emma</td>\n",
       "      <td>Tablet</td>\n",
       "      <td>Electronics</td>\n",
       "      <td>3</td>\n",
       "      <td>300</td>\n",
       "      <td>900</td>\n",
       "    </tr>\n",
       "    <tr>\n",
       "      <th>20</th>\n",
       "      <td>10</td>\n",
       "      <td>Gezim</td>\n",
       "      <td>Mouse</td>\n",
       "      <td>Electronics</td>\n",
       "      <td>1</td>\n",
       "      <td>70</td>\n",
       "      <td>70</td>\n",
       "    </tr>\n",
       "  </tbody>\n",
       "</table>\n",
       "</div>"
      ]
     },
     "execution_count": 92,
     "metadata": {},
     "output_type": "execute_result"
    }
   ],
   "execution_count": 92
  },
  {
   "metadata": {},
   "cell_type": "code",
   "outputs": [],
   "execution_count": null,
   "source": "",
   "id": "8be9768c74cf5ad0"
  },
  {
   "metadata": {},
   "cell_type": "markdown",
   "source": [
    "## DataFrame Attributes\n",
    "shape, columns, index, dtypes"
   ],
   "id": "363fb21d0a32fd7f"
  },
  {
   "metadata": {},
   "cell_type": "code",
   "outputs": [],
   "execution_count": null,
   "source": "",
   "id": "cb53f667c5abc8b7"
  },
  {
   "metadata": {},
   "cell_type": "code",
   "outputs": [],
   "execution_count": null,
   "source": "",
   "id": "ad5ae7d46ae0a981"
  },
  {
   "metadata": {},
   "cell_type": "code",
   "outputs": [],
   "execution_count": null,
   "source": "",
   "id": "f9662a7a214883fe"
  },
  {
   "metadata": {},
   "cell_type": "markdown",
   "source": [
    "##  Filtering Data in a DataFrame\n",
    "Conditional Selection"
   ],
   "id": "5917cfb037e80966"
  },
  {
   "metadata": {
    "ExecuteTime": {
     "end_time": "2025-03-17T10:30:30.773813Z",
     "start_time": "2025-03-17T10:30:30.764817Z"
    }
   },
   "cell_type": "code",
   "source": "df",
   "id": "f6db05d9493471a6",
   "outputs": [
    {
     "data": {
      "text/plain": [
       "    TransactionID Customer  Product     Category  Quantity  Price  Total\n",
       "0               1    Alice   Laptop  Electronics         1   1000   1000\n",
       "1               2      Bob    Phone  Electronics         2    500   1000\n",
       "2               3  Charlie   Tablet  Electronics         1    300    300\n",
       "3               4    David    Shoes      Fashion         3     50    150\n",
       "4               5     Emma  T-Shirt      Fashion         2     20     40\n",
       "5               6    Alice    Phone  Electronics         1    500    500\n",
       "6               7      Bob   Tablet  Electronics         2    300    600\n",
       "7               8  Charlie   Laptop  Electronics         3   1000   3000\n",
       "8               9    David    Shoes      Fashion         1     50     50\n",
       "9              10     Emma  T-Shirt      Fashion         2     20     40\n",
       "10             11    Alice   Laptop  Electronics         1   1000   1000\n",
       "11             12      Bob    Shoes      Fashion         2     50    100\n",
       "12             13  Charlie  T-Shirt      Fashion         3     20     60\n",
       "13             14    David    Phone  Electronics         2    500   1000\n",
       "14             15     Emma   Tablet  Electronics         1    300    300\n",
       "15             16    Alice    Shoes      Fashion         3     50    150\n",
       "16             17      Bob  T-Shirt      Fashion         2     20     40\n",
       "17             18  Charlie   Laptop  Electronics         1   1000   1000\n",
       "18             19    David    Phone  Electronics         2    500   1000\n",
       "19             20     Emma   Tablet  Electronics         3    300    900"
      ],
      "text/html": [
       "<div>\n",
       "<style scoped>\n",
       "    .dataframe tbody tr th:only-of-type {\n",
       "        vertical-align: middle;\n",
       "    }\n",
       "\n",
       "    .dataframe tbody tr th {\n",
       "        vertical-align: top;\n",
       "    }\n",
       "\n",
       "    .dataframe thead th {\n",
       "        text-align: right;\n",
       "    }\n",
       "</style>\n",
       "<table border=\"1\" class=\"dataframe\">\n",
       "  <thead>\n",
       "    <tr style=\"text-align: right;\">\n",
       "      <th></th>\n",
       "      <th>TransactionID</th>\n",
       "      <th>Customer</th>\n",
       "      <th>Product</th>\n",
       "      <th>Category</th>\n",
       "      <th>Quantity</th>\n",
       "      <th>Price</th>\n",
       "      <th>Total</th>\n",
       "    </tr>\n",
       "  </thead>\n",
       "  <tbody>\n",
       "    <tr>\n",
       "      <th>0</th>\n",
       "      <td>1</td>\n",
       "      <td>Alice</td>\n",
       "      <td>Laptop</td>\n",
       "      <td>Electronics</td>\n",
       "      <td>1</td>\n",
       "      <td>1000</td>\n",
       "      <td>1000</td>\n",
       "    </tr>\n",
       "    <tr>\n",
       "      <th>1</th>\n",
       "      <td>2</td>\n",
       "      <td>Bob</td>\n",
       "      <td>Phone</td>\n",
       "      <td>Electronics</td>\n",
       "      <td>2</td>\n",
       "      <td>500</td>\n",
       "      <td>1000</td>\n",
       "    </tr>\n",
       "    <tr>\n",
       "      <th>2</th>\n",
       "      <td>3</td>\n",
       "      <td>Charlie</td>\n",
       "      <td>Tablet</td>\n",
       "      <td>Electronics</td>\n",
       "      <td>1</td>\n",
       "      <td>300</td>\n",
       "      <td>300</td>\n",
       "    </tr>\n",
       "    <tr>\n",
       "      <th>3</th>\n",
       "      <td>4</td>\n",
       "      <td>David</td>\n",
       "      <td>Shoes</td>\n",
       "      <td>Fashion</td>\n",
       "      <td>3</td>\n",
       "      <td>50</td>\n",
       "      <td>150</td>\n",
       "    </tr>\n",
       "    <tr>\n",
       "      <th>4</th>\n",
       "      <td>5</td>\n",
       "      <td>Emma</td>\n",
       "      <td>T-Shirt</td>\n",
       "      <td>Fashion</td>\n",
       "      <td>2</td>\n",
       "      <td>20</td>\n",
       "      <td>40</td>\n",
       "    </tr>\n",
       "    <tr>\n",
       "      <th>5</th>\n",
       "      <td>6</td>\n",
       "      <td>Alice</td>\n",
       "      <td>Phone</td>\n",
       "      <td>Electronics</td>\n",
       "      <td>1</td>\n",
       "      <td>500</td>\n",
       "      <td>500</td>\n",
       "    </tr>\n",
       "    <tr>\n",
       "      <th>6</th>\n",
       "      <td>7</td>\n",
       "      <td>Bob</td>\n",
       "      <td>Tablet</td>\n",
       "      <td>Electronics</td>\n",
       "      <td>2</td>\n",
       "      <td>300</td>\n",
       "      <td>600</td>\n",
       "    </tr>\n",
       "    <tr>\n",
       "      <th>7</th>\n",
       "      <td>8</td>\n",
       "      <td>Charlie</td>\n",
       "      <td>Laptop</td>\n",
       "      <td>Electronics</td>\n",
       "      <td>3</td>\n",
       "      <td>1000</td>\n",
       "      <td>3000</td>\n",
       "    </tr>\n",
       "    <tr>\n",
       "      <th>8</th>\n",
       "      <td>9</td>\n",
       "      <td>David</td>\n",
       "      <td>Shoes</td>\n",
       "      <td>Fashion</td>\n",
       "      <td>1</td>\n",
       "      <td>50</td>\n",
       "      <td>50</td>\n",
       "    </tr>\n",
       "    <tr>\n",
       "      <th>9</th>\n",
       "      <td>10</td>\n",
       "      <td>Emma</td>\n",
       "      <td>T-Shirt</td>\n",
       "      <td>Fashion</td>\n",
       "      <td>2</td>\n",
       "      <td>20</td>\n",
       "      <td>40</td>\n",
       "    </tr>\n",
       "    <tr>\n",
       "      <th>10</th>\n",
       "      <td>11</td>\n",
       "      <td>Alice</td>\n",
       "      <td>Laptop</td>\n",
       "      <td>Electronics</td>\n",
       "      <td>1</td>\n",
       "      <td>1000</td>\n",
       "      <td>1000</td>\n",
       "    </tr>\n",
       "    <tr>\n",
       "      <th>11</th>\n",
       "      <td>12</td>\n",
       "      <td>Bob</td>\n",
       "      <td>Shoes</td>\n",
       "      <td>Fashion</td>\n",
       "      <td>2</td>\n",
       "      <td>50</td>\n",
       "      <td>100</td>\n",
       "    </tr>\n",
       "    <tr>\n",
       "      <th>12</th>\n",
       "      <td>13</td>\n",
       "      <td>Charlie</td>\n",
       "      <td>T-Shirt</td>\n",
       "      <td>Fashion</td>\n",
       "      <td>3</td>\n",
       "      <td>20</td>\n",
       "      <td>60</td>\n",
       "    </tr>\n",
       "    <tr>\n",
       "      <th>13</th>\n",
       "      <td>14</td>\n",
       "      <td>David</td>\n",
       "      <td>Phone</td>\n",
       "      <td>Electronics</td>\n",
       "      <td>2</td>\n",
       "      <td>500</td>\n",
       "      <td>1000</td>\n",
       "    </tr>\n",
       "    <tr>\n",
       "      <th>14</th>\n",
       "      <td>15</td>\n",
       "      <td>Emma</td>\n",
       "      <td>Tablet</td>\n",
       "      <td>Electronics</td>\n",
       "      <td>1</td>\n",
       "      <td>300</td>\n",
       "      <td>300</td>\n",
       "    </tr>\n",
       "    <tr>\n",
       "      <th>15</th>\n",
       "      <td>16</td>\n",
       "      <td>Alice</td>\n",
       "      <td>Shoes</td>\n",
       "      <td>Fashion</td>\n",
       "      <td>3</td>\n",
       "      <td>50</td>\n",
       "      <td>150</td>\n",
       "    </tr>\n",
       "    <tr>\n",
       "      <th>16</th>\n",
       "      <td>17</td>\n",
       "      <td>Bob</td>\n",
       "      <td>T-Shirt</td>\n",
       "      <td>Fashion</td>\n",
       "      <td>2</td>\n",
       "      <td>20</td>\n",
       "      <td>40</td>\n",
       "    </tr>\n",
       "    <tr>\n",
       "      <th>17</th>\n",
       "      <td>18</td>\n",
       "      <td>Charlie</td>\n",
       "      <td>Laptop</td>\n",
       "      <td>Electronics</td>\n",
       "      <td>1</td>\n",
       "      <td>1000</td>\n",
       "      <td>1000</td>\n",
       "    </tr>\n",
       "    <tr>\n",
       "      <th>18</th>\n",
       "      <td>19</td>\n",
       "      <td>David</td>\n",
       "      <td>Phone</td>\n",
       "      <td>Electronics</td>\n",
       "      <td>2</td>\n",
       "      <td>500</td>\n",
       "      <td>1000</td>\n",
       "    </tr>\n",
       "    <tr>\n",
       "      <th>19</th>\n",
       "      <td>20</td>\n",
       "      <td>Emma</td>\n",
       "      <td>Tablet</td>\n",
       "      <td>Electronics</td>\n",
       "      <td>3</td>\n",
       "      <td>300</td>\n",
       "      <td>900</td>\n",
       "    </tr>\n",
       "  </tbody>\n",
       "</table>\n",
       "</div>"
      ]
     },
     "execution_count": 94,
     "metadata": {},
     "output_type": "execute_result"
    }
   ],
   "execution_count": 94
  },
  {
   "metadata": {
    "ExecuteTime": {
     "end_time": "2025-03-17T10:32:30.730288Z",
     "start_time": "2025-03-17T10:32:30.721469Z"
    }
   },
   "cell_type": "code",
   "source": "df[ (df['Total']  > 600)  & (df['Quantity'] >=2) ]",
   "id": "321eba92d735249d",
   "outputs": [
    {
     "data": {
      "text/plain": [
       "    TransactionID Customer Product     Category  Quantity  Price  Total\n",
       "1               2      Bob   Phone  Electronics         2    500   1000\n",
       "7               8  Charlie  Laptop  Electronics         3   1000   3000\n",
       "13             14    David   Phone  Electronics         2    500   1000\n",
       "18             19    David   Phone  Electronics         2    500   1000\n",
       "19             20     Emma  Tablet  Electronics         3    300    900"
      ],
      "text/html": [
       "<div>\n",
       "<style scoped>\n",
       "    .dataframe tbody tr th:only-of-type {\n",
       "        vertical-align: middle;\n",
       "    }\n",
       "\n",
       "    .dataframe tbody tr th {\n",
       "        vertical-align: top;\n",
       "    }\n",
       "\n",
       "    .dataframe thead th {\n",
       "        text-align: right;\n",
       "    }\n",
       "</style>\n",
       "<table border=\"1\" class=\"dataframe\">\n",
       "  <thead>\n",
       "    <tr style=\"text-align: right;\">\n",
       "      <th></th>\n",
       "      <th>TransactionID</th>\n",
       "      <th>Customer</th>\n",
       "      <th>Product</th>\n",
       "      <th>Category</th>\n",
       "      <th>Quantity</th>\n",
       "      <th>Price</th>\n",
       "      <th>Total</th>\n",
       "    </tr>\n",
       "  </thead>\n",
       "  <tbody>\n",
       "    <tr>\n",
       "      <th>1</th>\n",
       "      <td>2</td>\n",
       "      <td>Bob</td>\n",
       "      <td>Phone</td>\n",
       "      <td>Electronics</td>\n",
       "      <td>2</td>\n",
       "      <td>500</td>\n",
       "      <td>1000</td>\n",
       "    </tr>\n",
       "    <tr>\n",
       "      <th>7</th>\n",
       "      <td>8</td>\n",
       "      <td>Charlie</td>\n",
       "      <td>Laptop</td>\n",
       "      <td>Electronics</td>\n",
       "      <td>3</td>\n",
       "      <td>1000</td>\n",
       "      <td>3000</td>\n",
       "    </tr>\n",
       "    <tr>\n",
       "      <th>13</th>\n",
       "      <td>14</td>\n",
       "      <td>David</td>\n",
       "      <td>Phone</td>\n",
       "      <td>Electronics</td>\n",
       "      <td>2</td>\n",
       "      <td>500</td>\n",
       "      <td>1000</td>\n",
       "    </tr>\n",
       "    <tr>\n",
       "      <th>18</th>\n",
       "      <td>19</td>\n",
       "      <td>David</td>\n",
       "      <td>Phone</td>\n",
       "      <td>Electronics</td>\n",
       "      <td>2</td>\n",
       "      <td>500</td>\n",
       "      <td>1000</td>\n",
       "    </tr>\n",
       "    <tr>\n",
       "      <th>19</th>\n",
       "      <td>20</td>\n",
       "      <td>Emma</td>\n",
       "      <td>Tablet</td>\n",
       "      <td>Electronics</td>\n",
       "      <td>3</td>\n",
       "      <td>300</td>\n",
       "      <td>900</td>\n",
       "    </tr>\n",
       "  </tbody>\n",
       "</table>\n",
       "</div>"
      ]
     },
     "execution_count": 96,
     "metadata": {},
     "output_type": "execute_result"
    }
   ],
   "execution_count": 96
  },
  {
   "metadata": {
    "ExecuteTime": {
     "end_time": "2025-03-17T10:35:13.931990Z",
     "start_time": "2025-03-17T10:35:13.924973Z"
    }
   },
   "cell_type": "code",
   "source": "df[ df['Product'] == 'Phone' ]['TransactionID'].count()",
   "id": "67ea7586a611151c",
   "outputs": [
    {
     "data": {
      "text/plain": [
       "np.int64(4)"
      ]
     },
     "execution_count": 104,
     "metadata": {},
     "output_type": "execute_result"
    }
   ],
   "execution_count": 104
  },
  {
   "metadata": {
    "ExecuteTime": {
     "end_time": "2025-03-17T10:36:59.520724Z",
     "start_time": "2025-03-17T10:36:59.516565Z"
    }
   },
   "cell_type": "code",
   "source": "df_phone = df[ df['Product'] =='Phone'  ]",
   "id": "17bbc7cd4dff27f8",
   "outputs": [],
   "execution_count": 106
  },
  {
   "metadata": {
    "ExecuteTime": {
     "end_time": "2025-03-17T10:37:25.621057Z",
     "start_time": "2025-03-17T10:37:25.615092Z"
    }
   },
   "cell_type": "code",
   "source": "df_phone['Customer'].unique()",
   "id": "1128fe8d5d82bdbc",
   "outputs": [
    {
     "data": {
      "text/plain": [
       "array(['Bob', 'Alice', 'David'], dtype=object)"
      ]
     },
     "execution_count": 109,
     "metadata": {},
     "output_type": "execute_result"
    }
   ],
   "execution_count": 109
  },
  {
   "metadata": {},
   "cell_type": "markdown",
   "source": [
    "## Sorting a dataframe\n",
    "df.sort_values(column, asc, inplace)"
   ],
   "id": "ae68bdd9b78480de"
  },
  {
   "metadata": {
    "ExecuteTime": {
     "end_time": "2025-03-17T10:39:47.312540Z",
     "start_time": "2025-03-17T10:39:47.303965Z"
    }
   },
   "cell_type": "code",
   "source": "df.sort_values(by='Total', ascending=True).head(1)",
   "id": "855bdd81e9a56d3e",
   "outputs": [
    {
     "data": {
      "text/plain": [
       "   TransactionID Customer  Product Category  Quantity  Price  Total\n",
       "4              5     Emma  T-Shirt  Fashion         2     20     40"
      ],
      "text/html": [
       "<div>\n",
       "<style scoped>\n",
       "    .dataframe tbody tr th:only-of-type {\n",
       "        vertical-align: middle;\n",
       "    }\n",
       "\n",
       "    .dataframe tbody tr th {\n",
       "        vertical-align: top;\n",
       "    }\n",
       "\n",
       "    .dataframe thead th {\n",
       "        text-align: right;\n",
       "    }\n",
       "</style>\n",
       "<table border=\"1\" class=\"dataframe\">\n",
       "  <thead>\n",
       "    <tr style=\"text-align: right;\">\n",
       "      <th></th>\n",
       "      <th>TransactionID</th>\n",
       "      <th>Customer</th>\n",
       "      <th>Product</th>\n",
       "      <th>Category</th>\n",
       "      <th>Quantity</th>\n",
       "      <th>Price</th>\n",
       "      <th>Total</th>\n",
       "    </tr>\n",
       "  </thead>\n",
       "  <tbody>\n",
       "    <tr>\n",
       "      <th>4</th>\n",
       "      <td>5</td>\n",
       "      <td>Emma</td>\n",
       "      <td>T-Shirt</td>\n",
       "      <td>Fashion</td>\n",
       "      <td>2</td>\n",
       "      <td>20</td>\n",
       "      <td>40</td>\n",
       "    </tr>\n",
       "  </tbody>\n",
       "</table>\n",
       "</div>"
      ]
     },
     "execution_count": 114,
     "metadata": {},
     "output_type": "execute_result"
    }
   ],
   "execution_count": 114
  },
  {
   "metadata": {
    "ExecuteTime": {
     "end_time": "2025-03-17T10:37:58.751894Z",
     "start_time": "2025-03-17T10:37:58.744512Z"
    }
   },
   "cell_type": "code",
   "source": "df",
   "id": "227163688f4ddabf",
   "outputs": [
    {
     "data": {
      "text/plain": [
       "    TransactionID Customer  Product     Category  Quantity  Price  Total\n",
       "0               1    Alice   Laptop  Electronics         1   1000   1000\n",
       "1               2      Bob    Phone  Electronics         2    500   1000\n",
       "2               3  Charlie   Tablet  Electronics         1    300    300\n",
       "3               4    David    Shoes      Fashion         3     50    150\n",
       "4               5     Emma  T-Shirt      Fashion         2     20     40\n",
       "5               6    Alice    Phone  Electronics         1    500    500\n",
       "6               7      Bob   Tablet  Electronics         2    300    600\n",
       "7               8  Charlie   Laptop  Electronics         3   1000   3000\n",
       "8               9    David    Shoes      Fashion         1     50     50\n",
       "9              10     Emma  T-Shirt      Fashion         2     20     40\n",
       "10             11    Alice   Laptop  Electronics         1   1000   1000\n",
       "11             12      Bob    Shoes      Fashion         2     50    100\n",
       "12             13  Charlie  T-Shirt      Fashion         3     20     60\n",
       "13             14    David    Phone  Electronics         2    500   1000\n",
       "14             15     Emma   Tablet  Electronics         1    300    300\n",
       "15             16    Alice    Shoes      Fashion         3     50    150\n",
       "16             17      Bob  T-Shirt      Fashion         2     20     40\n",
       "17             18  Charlie   Laptop  Electronics         1   1000   1000\n",
       "18             19    David    Phone  Electronics         2    500   1000\n",
       "19             20     Emma   Tablet  Electronics         3    300    900"
      ],
      "text/html": [
       "<div>\n",
       "<style scoped>\n",
       "    .dataframe tbody tr th:only-of-type {\n",
       "        vertical-align: middle;\n",
       "    }\n",
       "\n",
       "    .dataframe tbody tr th {\n",
       "        vertical-align: top;\n",
       "    }\n",
       "\n",
       "    .dataframe thead th {\n",
       "        text-align: right;\n",
       "    }\n",
       "</style>\n",
       "<table border=\"1\" class=\"dataframe\">\n",
       "  <thead>\n",
       "    <tr style=\"text-align: right;\">\n",
       "      <th></th>\n",
       "      <th>TransactionID</th>\n",
       "      <th>Customer</th>\n",
       "      <th>Product</th>\n",
       "      <th>Category</th>\n",
       "      <th>Quantity</th>\n",
       "      <th>Price</th>\n",
       "      <th>Total</th>\n",
       "    </tr>\n",
       "  </thead>\n",
       "  <tbody>\n",
       "    <tr>\n",
       "      <th>0</th>\n",
       "      <td>1</td>\n",
       "      <td>Alice</td>\n",
       "      <td>Laptop</td>\n",
       "      <td>Electronics</td>\n",
       "      <td>1</td>\n",
       "      <td>1000</td>\n",
       "      <td>1000</td>\n",
       "    </tr>\n",
       "    <tr>\n",
       "      <th>1</th>\n",
       "      <td>2</td>\n",
       "      <td>Bob</td>\n",
       "      <td>Phone</td>\n",
       "      <td>Electronics</td>\n",
       "      <td>2</td>\n",
       "      <td>500</td>\n",
       "      <td>1000</td>\n",
       "    </tr>\n",
       "    <tr>\n",
       "      <th>2</th>\n",
       "      <td>3</td>\n",
       "      <td>Charlie</td>\n",
       "      <td>Tablet</td>\n",
       "      <td>Electronics</td>\n",
       "      <td>1</td>\n",
       "      <td>300</td>\n",
       "      <td>300</td>\n",
       "    </tr>\n",
       "    <tr>\n",
       "      <th>3</th>\n",
       "      <td>4</td>\n",
       "      <td>David</td>\n",
       "      <td>Shoes</td>\n",
       "      <td>Fashion</td>\n",
       "      <td>3</td>\n",
       "      <td>50</td>\n",
       "      <td>150</td>\n",
       "    </tr>\n",
       "    <tr>\n",
       "      <th>4</th>\n",
       "      <td>5</td>\n",
       "      <td>Emma</td>\n",
       "      <td>T-Shirt</td>\n",
       "      <td>Fashion</td>\n",
       "      <td>2</td>\n",
       "      <td>20</td>\n",
       "      <td>40</td>\n",
       "    </tr>\n",
       "    <tr>\n",
       "      <th>5</th>\n",
       "      <td>6</td>\n",
       "      <td>Alice</td>\n",
       "      <td>Phone</td>\n",
       "      <td>Electronics</td>\n",
       "      <td>1</td>\n",
       "      <td>500</td>\n",
       "      <td>500</td>\n",
       "    </tr>\n",
       "    <tr>\n",
       "      <th>6</th>\n",
       "      <td>7</td>\n",
       "      <td>Bob</td>\n",
       "      <td>Tablet</td>\n",
       "      <td>Electronics</td>\n",
       "      <td>2</td>\n",
       "      <td>300</td>\n",
       "      <td>600</td>\n",
       "    </tr>\n",
       "    <tr>\n",
       "      <th>7</th>\n",
       "      <td>8</td>\n",
       "      <td>Charlie</td>\n",
       "      <td>Laptop</td>\n",
       "      <td>Electronics</td>\n",
       "      <td>3</td>\n",
       "      <td>1000</td>\n",
       "      <td>3000</td>\n",
       "    </tr>\n",
       "    <tr>\n",
       "      <th>8</th>\n",
       "      <td>9</td>\n",
       "      <td>David</td>\n",
       "      <td>Shoes</td>\n",
       "      <td>Fashion</td>\n",
       "      <td>1</td>\n",
       "      <td>50</td>\n",
       "      <td>50</td>\n",
       "    </tr>\n",
       "    <tr>\n",
       "      <th>9</th>\n",
       "      <td>10</td>\n",
       "      <td>Emma</td>\n",
       "      <td>T-Shirt</td>\n",
       "      <td>Fashion</td>\n",
       "      <td>2</td>\n",
       "      <td>20</td>\n",
       "      <td>40</td>\n",
       "    </tr>\n",
       "    <tr>\n",
       "      <th>10</th>\n",
       "      <td>11</td>\n",
       "      <td>Alice</td>\n",
       "      <td>Laptop</td>\n",
       "      <td>Electronics</td>\n",
       "      <td>1</td>\n",
       "      <td>1000</td>\n",
       "      <td>1000</td>\n",
       "    </tr>\n",
       "    <tr>\n",
       "      <th>11</th>\n",
       "      <td>12</td>\n",
       "      <td>Bob</td>\n",
       "      <td>Shoes</td>\n",
       "      <td>Fashion</td>\n",
       "      <td>2</td>\n",
       "      <td>50</td>\n",
       "      <td>100</td>\n",
       "    </tr>\n",
       "    <tr>\n",
       "      <th>12</th>\n",
       "      <td>13</td>\n",
       "      <td>Charlie</td>\n",
       "      <td>T-Shirt</td>\n",
       "      <td>Fashion</td>\n",
       "      <td>3</td>\n",
       "      <td>20</td>\n",
       "      <td>60</td>\n",
       "    </tr>\n",
       "    <tr>\n",
       "      <th>13</th>\n",
       "      <td>14</td>\n",
       "      <td>David</td>\n",
       "      <td>Phone</td>\n",
       "      <td>Electronics</td>\n",
       "      <td>2</td>\n",
       "      <td>500</td>\n",
       "      <td>1000</td>\n",
       "    </tr>\n",
       "    <tr>\n",
       "      <th>14</th>\n",
       "      <td>15</td>\n",
       "      <td>Emma</td>\n",
       "      <td>Tablet</td>\n",
       "      <td>Electronics</td>\n",
       "      <td>1</td>\n",
       "      <td>300</td>\n",
       "      <td>300</td>\n",
       "    </tr>\n",
       "    <tr>\n",
       "      <th>15</th>\n",
       "      <td>16</td>\n",
       "      <td>Alice</td>\n",
       "      <td>Shoes</td>\n",
       "      <td>Fashion</td>\n",
       "      <td>3</td>\n",
       "      <td>50</td>\n",
       "      <td>150</td>\n",
       "    </tr>\n",
       "    <tr>\n",
       "      <th>16</th>\n",
       "      <td>17</td>\n",
       "      <td>Bob</td>\n",
       "      <td>T-Shirt</td>\n",
       "      <td>Fashion</td>\n",
       "      <td>2</td>\n",
       "      <td>20</td>\n",
       "      <td>40</td>\n",
       "    </tr>\n",
       "    <tr>\n",
       "      <th>17</th>\n",
       "      <td>18</td>\n",
       "      <td>Charlie</td>\n",
       "      <td>Laptop</td>\n",
       "      <td>Electronics</td>\n",
       "      <td>1</td>\n",
       "      <td>1000</td>\n",
       "      <td>1000</td>\n",
       "    </tr>\n",
       "    <tr>\n",
       "      <th>18</th>\n",
       "      <td>19</td>\n",
       "      <td>David</td>\n",
       "      <td>Phone</td>\n",
       "      <td>Electronics</td>\n",
       "      <td>2</td>\n",
       "      <td>500</td>\n",
       "      <td>1000</td>\n",
       "    </tr>\n",
       "    <tr>\n",
       "      <th>19</th>\n",
       "      <td>20</td>\n",
       "      <td>Emma</td>\n",
       "      <td>Tablet</td>\n",
       "      <td>Electronics</td>\n",
       "      <td>3</td>\n",
       "      <td>300</td>\n",
       "      <td>900</td>\n",
       "    </tr>\n",
       "  </tbody>\n",
       "</table>\n",
       "</div>"
      ]
     },
     "execution_count": 111,
     "metadata": {},
     "output_type": "execute_result"
    }
   ],
   "execution_count": 111
  },
  {
   "metadata": {},
   "cell_type": "markdown",
   "source": [
    "## Example 1:\n",
    "- Task 1: Create an excel file containing students grades\n",
    "- Task 2: Read that file using pandas\n",
    "- Task 3: Add new index columns 'StudId'\n",
    "- Task 4: Find the avg for each student and add as column\n",
    "- Task 5: Find the avg for each subject and add as row\n",
    "- Task 6: Select students with avg higher than 9.0"
   ],
   "id": "b03fe33a9a563ec2"
  },
  {
   "metadata": {
    "ExecuteTime": {
     "end_time": "2025-03-17T10:42:41.988934Z",
     "start_time": "2025-03-17T10:42:41.943343Z"
    }
   },
   "cell_type": "code",
   "source": "grades = pd.read_excel('grades.xlsx')",
   "id": "2cdd58e79afaeb1f",
   "outputs": [],
   "execution_count": 115
  },
  {
   "metadata": {
    "ExecuteTime": {
     "end_time": "2025-03-17T10:42:44.996706Z",
     "start_time": "2025-03-17T10:42:44.990410Z"
    }
   },
   "cell_type": "code",
   "source": "grades",
   "id": "25d000f15ddf0afe",
   "outputs": [
    {
     "data": {
      "text/plain": [
       "   Student  Math  Py  Alg\n",
       "0    Arber     7   8   10\n",
       "1     Anda    10  10    9\n",
       "2  Arijane    10   9   10"
      ],
      "text/html": [
       "<div>\n",
       "<style scoped>\n",
       "    .dataframe tbody tr th:only-of-type {\n",
       "        vertical-align: middle;\n",
       "    }\n",
       "\n",
       "    .dataframe tbody tr th {\n",
       "        vertical-align: top;\n",
       "    }\n",
       "\n",
       "    .dataframe thead th {\n",
       "        text-align: right;\n",
       "    }\n",
       "</style>\n",
       "<table border=\"1\" class=\"dataframe\">\n",
       "  <thead>\n",
       "    <tr style=\"text-align: right;\">\n",
       "      <th></th>\n",
       "      <th>Student</th>\n",
       "      <th>Math</th>\n",
       "      <th>Py</th>\n",
       "      <th>Alg</th>\n",
       "    </tr>\n",
       "  </thead>\n",
       "  <tbody>\n",
       "    <tr>\n",
       "      <th>0</th>\n",
       "      <td>Arber</td>\n",
       "      <td>7</td>\n",
       "      <td>8</td>\n",
       "      <td>10</td>\n",
       "    </tr>\n",
       "    <tr>\n",
       "      <th>1</th>\n",
       "      <td>Anda</td>\n",
       "      <td>10</td>\n",
       "      <td>10</td>\n",
       "      <td>9</td>\n",
       "    </tr>\n",
       "    <tr>\n",
       "      <th>2</th>\n",
       "      <td>Arijane</td>\n",
       "      <td>10</td>\n",
       "      <td>9</td>\n",
       "      <td>10</td>\n",
       "    </tr>\n",
       "  </tbody>\n",
       "</table>\n",
       "</div>"
      ]
     },
     "execution_count": 116,
     "metadata": {},
     "output_type": "execute_result"
    }
   ],
   "execution_count": 116
  },
  {
   "metadata": {
    "ExecuteTime": {
     "end_time": "2025-03-17T10:44:30.090857Z",
     "start_time": "2025-03-17T10:44:30.086020Z"
    }
   },
   "cell_type": "code",
   "source": "grades['StudId'] = list(range(1,4))",
   "id": "1c242bd4de7eab8f",
   "outputs": [],
   "execution_count": 118
  },
  {
   "metadata": {
    "ExecuteTime": {
     "end_time": "2025-03-17T10:46:56.343280Z",
     "start_time": "2025-03-17T10:46:56.339251Z"
    }
   },
   "cell_type": "code",
   "source": "grades.set_index('Student', inplace=True)",
   "id": "c47566c99bea1249",
   "outputs": [],
   "execution_count": 123
  },
  {
   "metadata": {
    "ExecuteTime": {
     "end_time": "2025-03-17T10:48:07.419566Z",
     "start_time": "2025-03-17T10:48:07.414270Z"
    }
   },
   "cell_type": "code",
   "source": "grades.reset_index(inplace=True)",
   "id": "115089828fad6e9f",
   "outputs": [],
   "execution_count": 133
  },
  {
   "metadata": {
    "ExecuteTime": {
     "end_time": "2025-03-17T10:48:38.499712Z",
     "start_time": "2025-03-17T10:48:38.493811Z"
    }
   },
   "cell_type": "code",
   "source": "grades.set_index('StudId', inplace=True)",
   "id": "2f3093f311fe2569",
   "outputs": [],
   "execution_count": 136
  },
  {
   "metadata": {
    "ExecuteTime": {
     "end_time": "2025-03-17T10:48:41.385571Z",
     "start_time": "2025-03-17T10:48:41.378874Z"
    }
   },
   "cell_type": "code",
   "source": "grades",
   "id": "f738dca7a7cbf994",
   "outputs": [
    {
     "data": {
      "text/plain": [
       "        Student  Math  Py  Alg\n",
       "StudId                        \n",
       "1         Arber     7   8   10\n",
       "2          Anda    10  10    9\n",
       "3       Arijane    10   9   10"
      ],
      "text/html": [
       "<div>\n",
       "<style scoped>\n",
       "    .dataframe tbody tr th:only-of-type {\n",
       "        vertical-align: middle;\n",
       "    }\n",
       "\n",
       "    .dataframe tbody tr th {\n",
       "        vertical-align: top;\n",
       "    }\n",
       "\n",
       "    .dataframe thead th {\n",
       "        text-align: right;\n",
       "    }\n",
       "</style>\n",
       "<table border=\"1\" class=\"dataframe\">\n",
       "  <thead>\n",
       "    <tr style=\"text-align: right;\">\n",
       "      <th></th>\n",
       "      <th>Student</th>\n",
       "      <th>Math</th>\n",
       "      <th>Py</th>\n",
       "      <th>Alg</th>\n",
       "    </tr>\n",
       "    <tr>\n",
       "      <th>StudId</th>\n",
       "      <th></th>\n",
       "      <th></th>\n",
       "      <th></th>\n",
       "      <th></th>\n",
       "    </tr>\n",
       "  </thead>\n",
       "  <tbody>\n",
       "    <tr>\n",
       "      <th>1</th>\n",
       "      <td>Arber</td>\n",
       "      <td>7</td>\n",
       "      <td>8</td>\n",
       "      <td>10</td>\n",
       "    </tr>\n",
       "    <tr>\n",
       "      <th>2</th>\n",
       "      <td>Anda</td>\n",
       "      <td>10</td>\n",
       "      <td>10</td>\n",
       "      <td>9</td>\n",
       "    </tr>\n",
       "    <tr>\n",
       "      <th>3</th>\n",
       "      <td>Arijane</td>\n",
       "      <td>10</td>\n",
       "      <td>9</td>\n",
       "      <td>10</td>\n",
       "    </tr>\n",
       "  </tbody>\n",
       "</table>\n",
       "</div>"
      ]
     },
     "execution_count": 137,
     "metadata": {},
     "output_type": "execute_result"
    }
   ],
   "execution_count": 137
  },
  {
   "metadata": {
    "ExecuteTime": {
     "end_time": "2025-03-17T10:51:19.719137Z",
     "start_time": "2025-03-17T10:51:19.713725Z"
    }
   },
   "cell_type": "code",
   "source": "mean = grades[ ['Math','Py','Alg'] ].mean(axis = 1).round(2)",
   "id": "4e27a0e22546bc7",
   "outputs": [],
   "execution_count": 141
  },
  {
   "metadata": {
    "ExecuteTime": {
     "end_time": "2025-03-17T10:51:48.651168Z",
     "start_time": "2025-03-17T10:51:48.646862Z"
    }
   },
   "cell_type": "code",
   "source": "mean.name = 'Mean'",
   "id": "206667f544636baf",
   "outputs": [],
   "execution_count": 143
  },
  {
   "metadata": {
    "ExecuteTime": {
     "end_time": "2025-03-17T10:51:51.570911Z",
     "start_time": "2025-03-17T10:51:51.565425Z"
    }
   },
   "cell_type": "code",
   "source": "mean\n",
   "id": "fc428d733a6e95dc",
   "outputs": [
    {
     "data": {
      "text/plain": [
       "StudId\n",
       "1    8.33\n",
       "2    9.67\n",
       "3    9.67\n",
       "Name: Mean, dtype: float64"
      ]
     },
     "execution_count": 144,
     "metadata": {},
     "output_type": "execute_result"
    }
   ],
   "execution_count": 144
  },
  {
   "metadata": {
    "ExecuteTime": {
     "end_time": "2025-03-17T10:52:12.526501Z",
     "start_time": "2025-03-17T10:52:12.521405Z"
    }
   },
   "cell_type": "code",
   "source": "grades['Mean'] = mean",
   "id": "a8b38f2c7536f9a0",
   "outputs": [],
   "execution_count": 145
  },
  {
   "metadata": {
    "ExecuteTime": {
     "end_time": "2025-03-17T10:52:15.003416Z",
     "start_time": "2025-03-17T10:52:14.997302Z"
    }
   },
   "cell_type": "code",
   "source": "grades",
   "id": "e6ab7772f6949d20",
   "outputs": [
    {
     "data": {
      "text/plain": [
       "        Student  Math  Py  Alg  Mean\n",
       "StudId                              \n",
       "1         Arber     7   8   10  8.33\n",
       "2          Anda    10  10    9  9.67\n",
       "3       Arijane    10   9   10  9.67"
      ],
      "text/html": [
       "<div>\n",
       "<style scoped>\n",
       "    .dataframe tbody tr th:only-of-type {\n",
       "        vertical-align: middle;\n",
       "    }\n",
       "\n",
       "    .dataframe tbody tr th {\n",
       "        vertical-align: top;\n",
       "    }\n",
       "\n",
       "    .dataframe thead th {\n",
       "        text-align: right;\n",
       "    }\n",
       "</style>\n",
       "<table border=\"1\" class=\"dataframe\">\n",
       "  <thead>\n",
       "    <tr style=\"text-align: right;\">\n",
       "      <th></th>\n",
       "      <th>Student</th>\n",
       "      <th>Math</th>\n",
       "      <th>Py</th>\n",
       "      <th>Alg</th>\n",
       "      <th>Mean</th>\n",
       "    </tr>\n",
       "    <tr>\n",
       "      <th>StudId</th>\n",
       "      <th></th>\n",
       "      <th></th>\n",
       "      <th></th>\n",
       "      <th></th>\n",
       "      <th></th>\n",
       "    </tr>\n",
       "  </thead>\n",
       "  <tbody>\n",
       "    <tr>\n",
       "      <th>1</th>\n",
       "      <td>Arber</td>\n",
       "      <td>7</td>\n",
       "      <td>8</td>\n",
       "      <td>10</td>\n",
       "      <td>8.33</td>\n",
       "    </tr>\n",
       "    <tr>\n",
       "      <th>2</th>\n",
       "      <td>Anda</td>\n",
       "      <td>10</td>\n",
       "      <td>10</td>\n",
       "      <td>9</td>\n",
       "      <td>9.67</td>\n",
       "    </tr>\n",
       "    <tr>\n",
       "      <th>3</th>\n",
       "      <td>Arijane</td>\n",
       "      <td>10</td>\n",
       "      <td>9</td>\n",
       "      <td>10</td>\n",
       "      <td>9.67</td>\n",
       "    </tr>\n",
       "  </tbody>\n",
       "</table>\n",
       "</div>"
      ]
     },
     "execution_count": 146,
     "metadata": {},
     "output_type": "execute_result"
    }
   ],
   "execution_count": 146
  },
  {
   "metadata": {
    "ExecuteTime": {
     "end_time": "2025-03-17T10:54:51.540119Z",
     "start_time": "2025-03-17T10:54:51.534158Z"
    }
   },
   "cell_type": "code",
   "source": "mean_by_sub = grades[['Math','Py','Alg']].mean(axis = 0).round(2)",
   "id": "e1934a6e7e869997",
   "outputs": [],
   "execution_count": 149
  },
  {
   "metadata": {
    "ExecuteTime": {
     "end_time": "2025-03-17T10:54:53.545487Z",
     "start_time": "2025-03-17T10:54:53.539675Z"
    }
   },
   "cell_type": "code",
   "source": "mean_by_sub",
   "id": "edce13311344db5e",
   "outputs": [
    {
     "data": {
      "text/plain": [
       "Math    9.00\n",
       "Py      9.00\n",
       "Alg     9.67\n",
       "dtype: float64"
      ]
     },
     "execution_count": 150,
     "metadata": {},
     "output_type": "execute_result"
    }
   ],
   "execution_count": 150
  },
  {
   "metadata": {
    "ExecuteTime": {
     "end_time": "2025-03-17T10:56:58.588761Z",
     "start_time": "2025-03-17T10:56:58.582311Z"
    }
   },
   "cell_type": "code",
   "source": "grades = grades._append(mean_by_sub, ignore_index=True)",
   "id": "a9b511abc82d5710",
   "outputs": [],
   "execution_count": 157
  },
  {
   "metadata": {
    "ExecuteTime": {
     "end_time": "2025-03-17T10:57:00.370299Z",
     "start_time": "2025-03-17T10:57:00.362685Z"
    }
   },
   "cell_type": "code",
   "source": "grades",
   "id": "8cb39834b31abd6f",
   "outputs": [
    {
     "data": {
      "text/plain": [
       "   Student  Math    Py    Alg  Mean\n",
       "0    Arber   7.0   8.0  10.00  8.33\n",
       "1     Anda  10.0  10.0   9.00  9.67\n",
       "2  Arijane  10.0   9.0  10.00  9.67\n",
       "3      NaN   9.0   9.0   9.67   NaN"
      ],
      "text/html": [
       "<div>\n",
       "<style scoped>\n",
       "    .dataframe tbody tr th:only-of-type {\n",
       "        vertical-align: middle;\n",
       "    }\n",
       "\n",
       "    .dataframe tbody tr th {\n",
       "        vertical-align: top;\n",
       "    }\n",
       "\n",
       "    .dataframe thead th {\n",
       "        text-align: right;\n",
       "    }\n",
       "</style>\n",
       "<table border=\"1\" class=\"dataframe\">\n",
       "  <thead>\n",
       "    <tr style=\"text-align: right;\">\n",
       "      <th></th>\n",
       "      <th>Student</th>\n",
       "      <th>Math</th>\n",
       "      <th>Py</th>\n",
       "      <th>Alg</th>\n",
       "      <th>Mean</th>\n",
       "    </tr>\n",
       "  </thead>\n",
       "  <tbody>\n",
       "    <tr>\n",
       "      <th>0</th>\n",
       "      <td>Arber</td>\n",
       "      <td>7.0</td>\n",
       "      <td>8.0</td>\n",
       "      <td>10.00</td>\n",
       "      <td>8.33</td>\n",
       "    </tr>\n",
       "    <tr>\n",
       "      <th>1</th>\n",
       "      <td>Anda</td>\n",
       "      <td>10.0</td>\n",
       "      <td>10.0</td>\n",
       "      <td>9.00</td>\n",
       "      <td>9.67</td>\n",
       "    </tr>\n",
       "    <tr>\n",
       "      <th>2</th>\n",
       "      <td>Arijane</td>\n",
       "      <td>10.0</td>\n",
       "      <td>9.0</td>\n",
       "      <td>10.00</td>\n",
       "      <td>9.67</td>\n",
       "    </tr>\n",
       "    <tr>\n",
       "      <th>3</th>\n",
       "      <td>NaN</td>\n",
       "      <td>9.0</td>\n",
       "      <td>9.0</td>\n",
       "      <td>9.67</td>\n",
       "      <td>NaN</td>\n",
       "    </tr>\n",
       "  </tbody>\n",
       "</table>\n",
       "</div>"
      ]
     },
     "execution_count": 158,
     "metadata": {},
     "output_type": "execute_result"
    }
   ],
   "execution_count": 158
  },
  {
   "metadata": {
    "ExecuteTime": {
     "end_time": "2025-03-17T10:57:49.860006Z",
     "start_time": "2025-03-17T10:57:49.852288Z"
    }
   },
   "cell_type": "code",
   "source": "grades[ grades['Mean'] >9.0 ]",
   "id": "656b5d8a5207233f",
   "outputs": [
    {
     "data": {
      "text/plain": [
       "   Student  Math    Py   Alg  Mean\n",
       "1     Anda  10.0  10.0   9.0  9.67\n",
       "2  Arijane  10.0   9.0  10.0  9.67"
      ],
      "text/html": [
       "<div>\n",
       "<style scoped>\n",
       "    .dataframe tbody tr th:only-of-type {\n",
       "        vertical-align: middle;\n",
       "    }\n",
       "\n",
       "    .dataframe tbody tr th {\n",
       "        vertical-align: top;\n",
       "    }\n",
       "\n",
       "    .dataframe thead th {\n",
       "        text-align: right;\n",
       "    }\n",
       "</style>\n",
       "<table border=\"1\" class=\"dataframe\">\n",
       "  <thead>\n",
       "    <tr style=\"text-align: right;\">\n",
       "      <th></th>\n",
       "      <th>Student</th>\n",
       "      <th>Math</th>\n",
       "      <th>Py</th>\n",
       "      <th>Alg</th>\n",
       "      <th>Mean</th>\n",
       "    </tr>\n",
       "  </thead>\n",
       "  <tbody>\n",
       "    <tr>\n",
       "      <th>1</th>\n",
       "      <td>Anda</td>\n",
       "      <td>10.0</td>\n",
       "      <td>10.0</td>\n",
       "      <td>9.0</td>\n",
       "      <td>9.67</td>\n",
       "    </tr>\n",
       "    <tr>\n",
       "      <th>2</th>\n",
       "      <td>Arijane</td>\n",
       "      <td>10.0</td>\n",
       "      <td>9.0</td>\n",
       "      <td>10.0</td>\n",
       "      <td>9.67</td>\n",
       "    </tr>\n",
       "  </tbody>\n",
       "</table>\n",
       "</div>"
      ]
     },
     "execution_count": 159,
     "metadata": {},
     "output_type": "execute_result"
    }
   ],
   "execution_count": 159
  },
  {
   "metadata": {
    "ExecuteTime": {
     "end_time": "2025-03-17T10:58:22.003674Z",
     "start_time": "2025-03-17T10:58:21.975577Z"
    }
   },
   "cell_type": "code",
   "source": "grades.to_excel('Test.xlsx')",
   "id": "e8f59babd4da8e5d",
   "outputs": [],
   "execution_count": 161
  },
  {
   "metadata": {},
   "cell_type": "markdown",
   "source": [
    "# Missing Data\n",
    "\n",
    "Let's show a few convenient methods to deal with Missing Data in pandas:\n",
    "- df.dropna()\n",
    "- df.fillna(value = )\n",
    "-"
   ],
   "id": "3b131d27804a12e4"
  },
  {
   "metadata": {},
   "cell_type": "code",
   "outputs": [],
   "execution_count": null,
   "source": [
    "df = pd.DataFrame({'A':[1,2,np.nan],\n",
    "                  'B':[5,np.nan,np.nan],\n",
    "                  'C':[1,2,3]})"
   ],
   "id": "ce3d692053c688ac"
  },
  {
   "metadata": {
    "ExecuteTime": {
     "end_time": "2025-03-16T23:33:26.866468Z",
     "start_time": "2025-03-16T23:33:26.859787Z"
    }
   },
   "cell_type": "code",
   "source": "# drop rows where there is a null value",
   "id": "2cbb4a77fef22454",
   "outputs": [],
   "execution_count": 1
  },
  {
   "metadata": {
    "ExecuteTime": {
     "end_time": "2025-03-16T23:33:33.220890Z",
     "start_time": "2025-03-16T23:33:33.215871Z"
    }
   },
   "cell_type": "code",
   "source": "# drop cols where there is a null value",
   "id": "c2d4fea874dd509d",
   "outputs": [],
   "execution_count": 2
  },
  {
   "metadata": {
    "ExecuteTime": {
     "end_time": "2025-03-16T23:33:54.601303Z",
     "start_time": "2025-03-16T23:33:54.595615Z"
    }
   },
   "cell_type": "code",
   "source": "# drop if there are more than 1 null values",
   "id": "166916b550236643",
   "outputs": [],
   "execution_count": 3
  },
  {
   "metadata": {},
   "cell_type": "code",
   "outputs": [],
   "execution_count": null,
   "source": "# fill null values of 'A' columns with mean values",
   "id": "ece65d8a5bdd03f"
  }
 ],
 "metadata": {
  "kernelspec": {
   "display_name": "Python 3",
   "language": "python",
   "name": "python3"
  },
  "language_info": {
   "codemirror_mode": {
    "name": "ipython",
    "version": 2
   },
   "file_extension": ".py",
   "mimetype": "text/x-python",
   "name": "python",
   "nbconvert_exporter": "python",
   "pygments_lexer": "ipython2",
   "version": "2.7.6"
  }
 },
 "nbformat": 4,
 "nbformat_minor": 5
}
